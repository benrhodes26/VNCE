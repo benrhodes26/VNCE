{
 "cells": [
  {
   "cell_type": "code",
   "execution_count": 1,
   "metadata": {
    "collapsed": true
   },
   "outputs": [],
   "source": [
    "importos\n",
    "import sys\n",
    "nb_dir = os.path.split(os.getcwd())[0]\n",
    "if nb_dir not in sys.path:\n",
    "    sys.path.append(nb_dir)"
   ]
  },
  {
   "cell_type": "code",
   "execution_count": 2,
   "metadata": {
    "collapsed": true
   },
   "outputs": [],
   "source": [
    "import numpy as np\n",
    "import pdb\n",
    "\n",
    "# my code\n",
    "from distribution import RBMLatentPosterior, MultivariateBernoulliNoise\n",
    "from latent_nce_optimiser import LatentNCEOptimiser\n",
    "from latent_variable_model import RestrictedBoltzmannMachine\n",
    "\n",
    "from matplotlib import pyplot as plt\n",
    "from matplotlib import rc\n",
    "from numpy import random as rnd\n",
    "\n",
    "%matplotlib inline\n",
    "rc('lines', linewidth=3)\n",
    "rc('font', size=18)\n",
    "rc('legend', fontsize=18)\n",
    "\n",
    "# For reproducibility\n",
    "rng = rnd.RandomState(1083463236)"
   ]
  },
  {
   "cell_type": "code",
   "execution_count": 22,
   "metadata": {},
   "outputs": [],
   "source": [
    "n = 100000 # number of datapoints\n",
    "nz = 5  # number latent samples per datapoint\n",
    "nu = 5\n",
    "\n",
    "d = 3  # visible dimension\n",
    "m = 2  # latent dimension\n",
    "true_W = np.array([[0, 0, 0],\n",
    "                  [-1, -0.3, 0.3],\n",
    "                  [1, -0.4, 0.4], \n",
    "                  [0, -0.5, 0.5]])\n",
    "theta0 = rnd.uniform(-0.1, 0.1, (d+1, m+1))"
   ]
  },
  {
   "cell_type": "code",
   "execution_count": 4,
   "metadata": {
    "collapsed": true
   },
   "outputs": [],
   "source": [
    "true_data_dist = RestrictedBoltzmannMachine(true_W)\n",
    "X, Z = true_data_dist.sample(n)"
   ]
  },
  {
   "cell_type": "code",
   "execution_count": 5,
   "metadata": {
    "collapsed": true
   },
   "outputs": [],
   "source": [
    "X_mean = np.mean(X, axis=0)\n",
    "X_centred = X - X_mean\n",
    "X_cov = (1/n)*np.dot(X_centred.T, X_centred)"
   ]
  },
  {
   "cell_type": "code",
   "execution_count": 6,
   "metadata": {
    "collapsed": true
   },
   "outputs": [],
   "source": [
    "model = RestrictedBoltzmannMachine(theta0)"
   ]
  },
  {
   "cell_type": "code",
   "execution_count": 7,
   "metadata": {},
   "outputs": [],
   "source": [
    "noise = MultivariateBernoulliNoise(d)  # uniform dist over binary vectors i.e p(u) = 2**-d\n",
    "var_dist = RBMLatentPosterior(theta0)"
   ]
  },
  {
   "cell_type": "code",
   "execution_count": 8,
   "metadata": {
    "collapsed": true
   },
   "outputs": [],
   "source": [
    "optimiser = LatentNCEOptimiser(model, noise, var_dist, n, nu=nu, latent_samples_per_datapoint=nz)"
   ]
  },
  {
   "cell_type": "code",
   "execution_count": 9,
   "metadata": {},
   "outputs": [
    {
     "name": "stdout",
     "output_type": "stream",
     "text": [
      "Warning: Desired error not necessarily achieved due to precision loss.\n",
      "         Current function value: 2.589760\n",
      "         Iterations: 5\n",
      "         Function evaluations: 107\n",
      "         Gradient evaluations: 95\n",
      "Warning: Desired error not necessarily achieved due to precision loss.\n",
      "         Current function value: 2.532291\n",
      "         Iterations: 0\n",
      "         Function evaluations: 95\n",
      "         Gradient evaluations: 83\n"
     ]
    },
    {
     "data": {
      "image/png": "[encoded data removed]",
      "text/plain": [
       "<matplotlib.figure.Figure at 0x7fa3585caba8>"
      ]
     },
     "metadata": {},
     "output_type": "display_data"
    }
   ],
   "source": [
    "thetas_after_EM_step, J1s, J1_grads = optimiser.fit_using_analytic_q(X, theta0=theta0.reshape(-1), stop_threshold=10**-5)"
   ]
  },
  {
   "cell_type": "code",
   "execution_count": 10,
   "metadata": {},
   "outputs": [
    {
     "data": {
      "text/plain": [
       "array([[-3.54596802, -1.27650885, -0.21366998],\n",
       "       [-1.40764567,  0.28696435,  0.30522883],\n",
       "       [ 1.00883711,  0.3349229 ,  0.16509889],\n",
       "       [-0.06146694,  1.11785883,  0.27064361]])"
      ]
     },
     "execution_count": 10,
     "metadata": {},
     "output_type": "execute_result"
    }
   ],
   "source": [
    "model.theta.reshape(d+1, m+1)"
   ]
  },
  {
   "cell_type": "code",
   "execution_count": 11,
   "metadata": {},
   "outputs": [
    {
     "data": {
      "text/plain": [
       "array([[ 0. ,  0. ,  0. ],\n",
       "       [-1. , -0.3,  0.3],\n",
       "       [ 1. , -0.4,  0.4],\n",
       "       [ 0. , -0.5,  0.5]])"
      ]
     },
     "execution_count": 11,
     "metadata": {},
     "output_type": "execute_result"
    }
   ],
   "source": [
    "true_W"
   ]
  },
  {
   "cell_type": "code",
   "execution_count": 12,
   "metadata": {},
   "outputs": [
    {
     "name": "stdout",
     "output_type": "stream",
     "text": [
      "    ---DATA FROM TRUE DISTRIBUTION---         \n",
      "\n",
      "empirical prob of x_0 being 1 is 0.29154.\n",
      "empirical prob of x_1 being 1 is 0.75329.\n",
      "empirical prob of x_2 being 1 is 0.54252.\n",
      "\n",
      "\n",
      "empirical prob of z_0 being 1 is 0.33267.\n",
      "empirical prob of z_1 being 1 is 0.66643.\n"
     ]
    }
   ],
   "source": [
    "print('    ---DATA FROM TRUE DISTRIBUTION---         \\n')\n",
    "for i in range(d):\n",
    "    print('empirical prob of x_{} being 1 is {}.'.format(i, np.mean(X[:, i])))\n",
    "print('\\n')\n",
    "for i in range(m):\n",
    "    print('empirical prob of z_{} being 1 is {}.'.format(i, np.mean(Z[:, i])))"
   ]
  },
  {
   "cell_type": "code",
   "execution_count": 17,
   "metadata": {},
   "outputs": [
    {
     "name": "stdout",
     "output_type": "stream",
     "text": [
      "         ---DATA FROM MODEL---         \n",
      "\n",
      "empirical prob of x_0 being 1 is 0.24781.\n",
      "empirical prob of x_1 being 1 is 0.77309.\n",
      "empirical prob of x_2 being 1 is 0.61244.\n",
      "\n",
      "\n",
      "empirical prob of z_0 being 1 is 0.33263.\n",
      "empirical prob of z_1 being 1 is 0.66482.\n"
     ]
    }
   ],
   "source": [
    "model_X, model_Z = model.sample(n)\n",
    "print('         ---DATA FROM MODEL---         \\n')\n",
    "for i in range(d):\n",
    "    print('empirical prob of x_{} being 1 is {}.'.format(i, np.mean(model_X[:, i])))\n",
    "print('\\n')\n",
    "for i in range(m):\n",
    "    print('empirical prob of z_{} being 1 is {}.'.format(i, np.mean(model_Z[:, i])))"
   ]
  },
  {
   "cell_type": "code",
   "execution_count": 19,
   "metadata": {},
   "outputs": [
    {
     "name": "stdout",
     "output_type": "stream",
     "text": [
      "average value of model on true data: 0.05116428366888699 \n",
      "average value of model on model data: 0.05922475080054293\n"
     ]
    }
   ],
   "source": [
    "print('average value of model on true data: {} \\n'\n",
    "'average value of model on model data: {}'.format(\n",
    "      np.mean(model(X, Z.reshape(1, n, -1))), \n",
    "      np.mean(model(model_X, model_Z.reshape(1, n, -1)))))"
   ]
  },
  {
   "cell_type": "code",
   "execution_count": 20,
   "metadata": {},
   "outputs": [
    {
     "name": "stdout",
     "output_type": "stream",
     "text": [
      "average value of true dist on true data: 2.747899390014382 \n",
      "average value of true dist on model data: 2.7480562977314698\n"
     ]
    }
   ],
   "source": [
    "print('average value of true dist on true data: {} \\n'\n",
    "'average value of true dist on model data: {}'.format(\n",
    "      np.mean(true_data_dist(X, Z.reshape(1, n, -1))), \n",
    "      np.mean(true_data_dist(model_X, model_Z.reshape(1, n, -1)))))"
   ]
  },
  {
   "cell_type": "code",
   "execution_count": 21,
   "metadata": {},
   "outputs": [
    {
     "data": {
      "text/plain": [
       "-9.3456895768323793"
      ]
     },
     "execution_count": 21,
     "metadata": {},
     "output_type": "execute_result"
    }
   ],
   "source": [
    "Y = optimiser.Y\n",
    "model.theta = theta0.reshape(-1)\n",
    "var_dist.alpha = theta0.reshape(-1)\n",
    "ZX, ZY = var_dist.sample(nz, X), var_dist.sample(nz, Y)\n",
    "optimiser.compute_J1(X, ZX, ZY)"
   ]
  },
  {
   "cell_type": "code",
   "execution_count": null,
   "metadata": {
    "collapsed": true
   },
   "outputs": [],
   "source": []
  },
  {
   "cell_type": "code",
   "execution_count": null,
   "metadata": {
    "collapsed": true
   },
   "outputs": [],
   "source": []
  }
 ],
 "metadata": {
  "kernelspec": {
   "display_name": "Python 3",
   "language": "python",
   "name": "python3"
  },
  "language_info": {
   "codemirror_mode": {
    "name": "ipython",
    "version": 3
   },
   "file_extension": ".py",
   "mimetype": "text/x-python",
   "name": "python",
   "nbconvert_exporter": "python",
   "pygments_lexer": "ipython3",
   "version": "3.6.3"
  }
 },
 "nbformat": 4,
 "nbformat_minor": 2
}
