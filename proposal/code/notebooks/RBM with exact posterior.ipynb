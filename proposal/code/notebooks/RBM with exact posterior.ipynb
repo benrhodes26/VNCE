{
 "cells": [
  {
   "cell_type": "code",
   "execution_count": 1,
   "metadata": {},
   "outputs": [],
   "source": [
    "import os\n",
    "import sys\n",
    "nb_dir = os.path.split(os.getcwd())[0]\n",
    "if nb_dir not in sys.path:\n",
    "    sys.path.append(nb_dir)"
   ]
  },
  {
   "cell_type": "code",
   "execution_count": 2,
   "metadata": {},
   "outputs": [],
   "source": [
    "import numpy as np\n",
    "import pdb\n",
    "\n",
    "# my code\n",
    "from distribution import RBMLatentPosterior, MultivariateBernoulliNoise\n",
    "from latent_nce_optimiser import LatentNCEOptimiser\n",
    "from latent_variable_model import RestrictedBoltzmannMachine\n",
    "\n",
    "from matplotlib import pyplot as plt\n",
    "from matplotlib import rc\n",
    "from numpy import random as rnd\n",
    "\n",
    "%matplotlib inline\n",
    "rc('lines', linewidth=3)\n",
    "rc('font', size=18)\n",
    "rc('legend', fontsize=18)\n",
    "\n",
    "# For reproducibility\n",
    "rng = rnd.RandomState(1083463236)"
   ]
  },
  {
   "cell_type": "markdown",
   "metadata": {},
   "source": [
    "# Model definition"
   ]
  },
  {
   "cell_type": "code",
   "execution_count": 3,
   "metadata": {},
   "outputs": [],
   "source": [
    "n = 100000 # number of datapoints\n",
    "nz = 1  # number latent samples per datapoint\n",
    "nu = 1\n",
    "\n",
    "d = 3  # visible dimension\n",
    "m = 2  # latent dimension\n",
    "\n",
    "\"\"\"true_W = np.array([[0, 0],\n",
    "                   [1, -0.5], \n",
    "                   [-1, 0.5]])\"\"\"\n",
    "true_W = rnd.uniform(-0.1, 0.5, (d+1, m+1))\n",
    "#theta0 = rnd.uniform(-0.5, 0.5, (d+1, m+1))\n",
    "theta0 = np.ones((d+1, m+1))*2"
   ]
  },
  {
   "cell_type": "code",
   "execution_count": 4,
   "metadata": {},
   "outputs": [
    {
     "data": {
      "text/plain": [
       "array([[2., 2., 2.],\n",
       "       [2., 2., 2.],\n",
       "       [2., 2., 2.],\n",
       "       [2., 2., 2.]])"
      ]
     },
     "execution_count": 4,
     "metadata": {},
     "output_type": "execute_result"
    }
   ],
   "source": [
    "theta0"
   ]
  },
  {
   "cell_type": "code",
   "execution_count": 5,
   "metadata": {},
   "outputs": [],
   "source": [
    "true_data_dist = RestrictedBoltzmannMachine(true_W)\n",
    "X, Z = true_data_dist.sample(n, num_iter=1000)"
   ]
  },
  {
   "cell_type": "code",
   "execution_count": 6,
   "metadata": {},
   "outputs": [],
   "source": [
    "X_mean = np.mean(X, axis=0)\n",
    "# X_centred = X - X_mean\n",
    "# X_cov = (1/n)*np.dot(X_centred.T, X_centred)"
   ]
  },
  {
   "cell_type": "code",
   "execution_count": 7,
   "metadata": {},
   "outputs": [],
   "source": [
    "model = RestrictedBoltzmannMachine(theta0)"
   ]
  },
  {
   "cell_type": "code",
   "execution_count": 8,
   "metadata": {},
   "outputs": [],
   "source": [
    "noise = MultivariateBernoulliNoise(X_mean)  # uniform dist over binary vectors i.e p(u) = 2**-d\n",
    "var_dist = RBMLatentPosterior(theta0)"
   ]
  },
  {
   "cell_type": "code",
   "execution_count": 9,
   "metadata": {},
   "outputs": [],
   "source": [
    "optimiser = LatentNCEOptimiser(model, noise, var_dist, n, nu=nu, latent_samples_per_datapoint=nz)"
   ]
  },
  {
   "cell_type": "markdown",
   "metadata": {},
   "source": [
    "# Validation"
   ]
  },
  {
   "cell_type": "code",
   "execution_count": 10,
   "metadata": {},
   "outputs": [],
   "source": [
    "all_visibles = true_data_dist.get_all_binary_vectors(d)\n",
    "visible_probs, norm_const = true_data_dist.normalised_and_marginalised_over_z(all_visibles)"
   ]
  },
  {
   "cell_type": "code",
   "execution_count": 11,
   "metadata": {},
   "outputs": [
    {
     "name": "stdout",
     "output_type": "stream",
     "text": [
      "Sum over all visible probabilities should equal 1. We got: 1.0\n"
     ]
    }
   ],
   "source": [
    "print('Sum over all visible probabilities should equal 1. We got: {}'.format(sum(visible_probs)))"
   ]
  },
  {
   "cell_type": "code",
   "execution_count": 12,
   "metadata": {
    "scrolled": true
   },
   "outputs": [
    {
     "name": "stdout",
     "output_type": "stream",
     "text": [
      "-------------------------Visible probability checks--------------------------------------\n",
      "[0 0 0]:  Empirical frequency is 0.0603. True frequency is 0.06023848877597153\n",
      "[0 0 1]:  Empirical frequency is 0.09238. True frequency is 0.09148426983169318\n",
      "[0 1 0]:  Empirical frequency is 0.06964. True frequency is 0.0694936357183725\n",
      "[0 1 1]:  Empirical frequency is 0.10589. True frequency is 0.10707481350689237\n",
      "[1 0 0]:  Empirical frequency is 0.11913. True frequency is 0.11852850881226741\n",
      "[1 0 1]:  Empirical frequency is 0.18829. True frequency is 0.189868688873488\n",
      "[1 1 0]:  Empirical frequency is 0.14011. True frequency is 0.13859455472378657\n",
      "[1 1 1]:  Empirical frequency is 0.22426. True frequency is 0.22471703975752844\n"
     ]
    }
   ],
   "source": [
    "print('-------------------------Visible probability checks--------------------------------------')\n",
    "for i in range(2**d):\n",
    "    freq = np.sum(np.product((X == all_visibles[i]), axis=-1))/ len(X)\n",
    "    print('{}:  Empirical frequency is {}. True frequency is {}'.format(all_visibles[i], \n",
    "                                                                         freq, visible_probs[i]))"
   ]
  },
  {
   "cell_type": "code",
   "execution_count": 13,
   "metadata": {},
   "outputs": [
    {
     "name": "stdout",
     "output_type": "stream",
     "text": [
      "normalisation constant is: 120.81060796465864\n"
     ]
    }
   ],
   "source": [
    "print('normalisation constant is: {}'.format(norm_const))"
   ]
  },
  {
   "cell_type": "code",
   "execution_count": 14,
   "metadata": {},
   "outputs": [],
   "source": [
    "all_hiddens = true_data_dist.get_all_binary_vectors(m)\n",
    "hidden_probs, norm_const = true_data_dist.normalised_and_marginalised_over_u(all_hiddens)"
   ]
  },
  {
   "cell_type": "code",
   "execution_count": 15,
   "metadata": {},
   "outputs": [
    {
     "name": "stdout",
     "output_type": "stream",
     "text": [
      "Sum over all hidden probabilities should equal 1. We got: 1.0\n"
     ]
    }
   ],
   "source": [
    "print('Sum over all hidden probabilities should equal 1. We got: {}'.format(sum(hidden_probs)))"
   ]
  },
  {
   "cell_type": "code",
   "execution_count": 16,
   "metadata": {},
   "outputs": [],
   "source": [
    "var_dist.alpha = true_W.reshape(-1)\n",
    "Z_from_posterior_class = var_dist.sample(1000, X)"
   ]
  },
  {
   "cell_type": "code",
   "execution_count": 17,
   "metadata": {},
   "outputs": [
    {
     "name": "stdout",
     "output_type": "stream",
     "text": [
      "-------------------------Hidden probability checks--------------------------------------\n",
      "[0 0]:  Empirical frequency is 0.1198637. True frequency is 0.11977461458974974\n",
      "[0 1]:  Empirical frequency is 0.31535795. True frequency is 0.31539449951783555\n",
      "[1 0]:  Empirical frequency is 0.15377779. True frequency is 0.15362243217383634\n",
      "[1 1]:  Empirical frequency is 0.41100056. True frequency is 0.41120845371857845\n"
     ]
    }
   ],
   "source": [
    "print('-------------------------Hidden probability checks--------------------------------------')\n",
    "for i in range(2**m):\n",
    "    freq = np.mean(np.product((Z_from_posterior_class == all_hiddens[i]), axis=(-1)))\n",
    "    print('{}:  Empirical frequency is {}. True frequency is {}'.format(all_hiddens[i], \n",
    "                                                                         freq, hidden_probs[i]))"
   ]
  },
  {
   "cell_type": "code",
   "execution_count": 18,
   "metadata": {},
   "outputs": [
    {
     "name": "stdout",
     "output_type": "stream",
     "text": [
      "normalisation constant is: 120.81060796465864\n"
     ]
    }
   ],
   "source": [
    "print('normalisation constant is: {}'.format(norm_const))"
   ]
  },
  {
   "cell_type": "markdown",
   "metadata": {},
   "source": [
    "# Optimisation"
   ]
  },
  {
   "cell_type": "code",
   "execution_count": 19,
   "metadata": {
    "scrolled": true
   },
   "outputs": [
    {
     "name": "stdout",
     "output_type": "stream",
     "text": [
      "Optimization terminated successfully.\n",
      "         Current function value: 1.386458\n",
      "         Iterations: 85\n",
      "         Function evaluations: 90\n",
      "         Gradient evaluations: 90\n",
      "Optimization terminated successfully.\n",
      "         Current function value: 1.386369\n",
      "         Iterations: 50\n",
      "         Function evaluations: 52\n",
      "         Gradient evaluations: 52\n",
      "Optimization terminated successfully.\n",
      "         Current function value: 1.386383\n",
      "         Iterations: 50\n",
      "         Function evaluations: 51\n",
      "         Gradient evaluations: 51\n",
      "Optimization terminated successfully.\n",
      "         Current function value: 1.386297\n",
      "         Iterations: 65\n",
      "         Function evaluations: 66\n",
      "         Gradient evaluations: 66\n",
      "Optimization terminated successfully.\n",
      "         Current function value: 1.386251\n",
      "         Iterations: 65\n",
      "         Function evaluations: 66\n",
      "         Gradient evaluations: 66\n",
      "Optimization terminated successfully.\n",
      "         Current function value: 1.386294\n",
      "         Iterations: 51\n",
      "         Function evaluations: 52\n",
      "         Gradient evaluations: 52\n",
      "Optimization terminated successfully.\n",
      "         Current function value: 1.386303\n",
      "         Iterations: 48\n",
      "         Function evaluations: 50\n",
      "         Gradient evaluations: 50\n",
      "Optimization terminated successfully.\n",
      "         Current function value: 1.386302\n",
      "         Iterations: 48\n",
      "         Function evaluations: 51\n",
      "         Gradient evaluations: 51\n",
      "Optimization terminated successfully.\n",
      "         Current function value: 1.386253\n",
      "         Iterations: 48\n",
      "         Function evaluations: 50\n",
      "         Gradient evaluations: 50\n",
      "Optimization terminated successfully.\n",
      "         Current function value: 1.386241\n",
      "         Iterations: 62\n",
      "         Function evaluations: 64\n",
      "         Gradient evaluations: 64\n",
      "Optimization terminated successfully.\n",
      "         Current function value: 1.386237\n",
      "         Iterations: 51\n",
      "         Function evaluations: 52\n",
      "         Gradient evaluations: 52\n",
      "Optimization terminated successfully.\n",
      "         Current function value: 1.386271\n",
      "         Iterations: 48\n",
      "         Function evaluations: 50\n",
      "         Gradient evaluations: 50\n",
      "Optimization terminated successfully.\n",
      "         Current function value: 1.386236\n",
      "         Iterations: 65\n",
      "         Function evaluations: 66\n",
      "         Gradient evaluations: 66\n",
      "Optimization terminated successfully.\n",
      "         Current function value: 1.386239\n",
      "         Iterations: 64\n",
      "         Function evaluations: 65\n",
      "         Gradient evaluations: 65\n",
      "Optimization terminated successfully.\n",
      "         Current function value: 1.386258\n",
      "         Iterations: 51\n",
      "         Function evaluations: 52\n",
      "         Gradient evaluations: 52\n",
      "Optimization terminated successfully.\n",
      "         Current function value: 1.386265\n",
      "         Iterations: 49\n",
      "         Function evaluations: 51\n",
      "         Gradient evaluations: 51\n",
      "Optimization terminated successfully.\n",
      "         Current function value: 1.386217\n",
      "         Iterations: 51\n",
      "         Function evaluations: 52\n",
      "         Gradient evaluations: 52\n",
      "Optimization terminated successfully.\n",
      "         Current function value: 1.386243\n",
      "         Iterations: 54\n",
      "         Function evaluations: 55\n",
      "         Gradient evaluations: 55\n",
      "Optimization terminated successfully.\n",
      "         Current function value: 1.386238\n",
      "         Iterations: 62\n",
      "         Function evaluations: 64\n",
      "         Gradient evaluations: 64\n",
      "Optimization terminated successfully.\n",
      "         Current function value: 1.386254\n",
      "         Iterations: 57\n",
      "         Function evaluations: 59\n",
      "         Gradient evaluations: 59\n"
     ]
    },
    {
     "data": {
      "image/png": "[encoded data removed]",
      "text/plain": [
       "<matplotlib.figure.Figure at 0x7f15942bb278>"
      ]
     },
     "metadata": {},
     "output_type": "display_data"
    }
   ],
   "source": [
    "thetas_after_EM_step, J1s, J1_grads = optimiser.fit_using_analytic_q(X, theta0=theta0.reshape(-1), stop_threshold=1e-06)"
   ]
  },
  {
   "cell_type": "markdown",
   "metadata": {},
   "source": [
    "# Learnt parameters compared with true parameters"
   ]
  },
  {
   "cell_type": "code",
   "execution_count": 20,
   "metadata": {
    "scrolled": true
   },
   "outputs": [
    {
     "name": "stdout",
     "output_type": "stream",
     "text": [
      "Parameters learnt by the model.\n",
      "First element of matrix (scaling param) should equal -4.794224095922242\n"
     ]
    },
    {
     "data": {
      "text/plain": [
       "array([[-8.49762344,  2.78962422,  2.80338641],\n",
       "       [-3.31588912,  1.90353443,  2.1694497 ],\n",
       "       [-2.01960286,  1.29945583,  0.90020962],\n",
       "       [-1.45677951,  1.45115322,  0.47468773]])"
      ]
     },
     "execution_count": 20,
     "metadata": {},
     "output_type": "execute_result"
    }
   ],
   "source": [
    "print('Parameters learnt by the model.')\n",
    "print('First element of matrix (scaling param) should equal {}'.format(-np.log(norm_const)))\n",
    "model.theta.reshape(d+1, m+1)"
   ]
  },
  {
   "cell_type": "code",
   "execution_count": 21,
   "metadata": {
    "scrolled": true
   },
   "outputs": [
    {
     "name": "stdout",
     "output_type": "stream",
     "text": [
      "True parameters.\n"
     ]
    },
    {
     "data": {
      "text/plain": [
       "array([[0.35910033, 0.14837761, 0.30215639],\n",
       "       [0.34452915, 0.02929255, 0.4992481 ],\n",
       "       [0.03943207, 0.06609753, 0.11454542],\n",
       "       [0.05250884, 0.0933997 , 0.4958152 ]])"
      ]
     },
     "execution_count": 21,
     "metadata": {},
     "output_type": "execute_result"
    }
   ],
   "source": [
    "print('True parameters.')\n",
    "true_W"
   ]
  },
  {
   "cell_type": "markdown",
   "metadata": {},
   "source": [
    "# Visible marginal of model"
   ]
  },
  {
   "cell_type": "code",
   "execution_count": 45,
   "metadata": {},
   "outputs": [],
   "source": [
    "all_visibles = model.get_all_binary_vectors(d)\n",
    "model_visible_probs, model_norm_const = model.normalised_and_marginalised_over_z(all_visibles)"
   ]
  },
  {
   "cell_type": "code",
   "execution_count": 46,
   "metadata": {},
   "outputs": [
    {
     "name": "stdout",
     "output_type": "stream",
     "text": [
      "Sum over all visible probabilities should equal 1. We got: 1.0000000000000002\n"
     ]
    }
   ],
   "source": [
    "print('Sum over all visible probabilities should equal 1. We got: {}'.format(sum(model_visible_probs)))"
   ]
  },
  {
   "cell_type": "code",
   "execution_count": 47,
   "metadata": {
    "scrolled": true
   },
   "outputs": [
    {
     "name": "stdout",
     "output_type": "stream",
     "text": [
      "-------------------------Visible probability checks--------------------------------------\n",
      "[0 0 0]:  Data frequency is 0.0603. Model frequency is 0.061654002685034584\n",
      "[0 0 1]:  Data frequency is 0.09238. Model frequency is 0.0921512549102745\n",
      "[0 1 0]:  Data frequency is 0.06964. Model frequency is 0.06831185073936051\n",
      "[0 1 1]:  Data frequency is 0.10589. Model frequency is 0.10683858205134672\n",
      "[1 0 0]:  Data frequency is 0.11913. Model frequency is 0.11865015522265274\n",
      "[1 0 1]:  Data frequency is 0.18829. Model frequency is 0.18785420103326064\n",
      "[1 1 0]:  Data frequency is 0.14011. Model frequency is 0.1405453987308945\n",
      "[1 1 1]:  Data frequency is 0.22426. Model frequency is 0.22399455462717602\n"
     ]
    }
   ],
   "source": [
    "print('-------------------------Visible probability checks--------------------------------------')\n",
    "for i in range(2**d):\n",
    "    freq = np.sum(np.product((X == all_visibles[i]), axis=-1))/ len(X)\n",
    "    print('{}:  Data frequency is {}. Model frequency is {}'.format(all_visibles[i], \n",
    "                                                                    freq, model_visible_probs[i]))"
   ]
  },
  {
   "cell_type": "code",
   "execution_count": 48,
   "metadata": {},
   "outputs": [
    {
     "name": "stdout",
     "output_type": "stream",
     "text": [
      "normalisation constant is: 1.0000738583037283\n"
     ]
    }
   ],
   "source": [
    "print('normalisation constant is: {}.'.format(model_norm_const))"
   ]
  },
  {
   "cell_type": "markdown",
   "metadata": {},
   "source": [
    "# Latent marginal of model"
   ]
  },
  {
   "cell_type": "code",
   "execution_count": 49,
   "metadata": {},
   "outputs": [],
   "source": [
    "all_hiddens = true_data_dist.get_all_binary_vectors(m)\n",
    "model_hidden_probs, model_norm_const = model.normalised_and_marginalised_over_u(all_hiddens)"
   ]
  },
  {
   "cell_type": "code",
   "execution_count": 50,
   "metadata": {},
   "outputs": [
    {
     "name": "stdout",
     "output_type": "stream",
     "text": [
      "Sum over all hidden probabilities should equal 1. We got: 1.0\n"
     ]
    }
   ],
   "source": [
    "print('Sum over all hidden probabilities should equal 1. We got: {}'.format(sum(model_hidden_probs)))"
   ]
  },
  {
   "cell_type": "code",
   "execution_count": 51,
   "metadata": {},
   "outputs": [
    {
     "name": "stdout",
     "output_type": "stream",
     "text": [
      "-------------------------Hidden probability checks--------------------------------------\n",
      "[0 0]:  Data frequency is 0.1198637. Model frequency is 0.0002951611203407472\n",
      "[0 1]:  Data frequency is 0.31535795. Model frequency is 0.008085070077869334\n",
      "[1 0]:  Data frequency is 0.15377779. Model frequency is 0.012238070686202132\n",
      "[1 1]:  Data frequency is 0.41100056. Model frequency is 0.9793816981155878\n"
     ]
    }
   ],
   "source": [
    "print('-------------------------Hidden probability checks--------------------------------------')\n",
    "for i in range(2**m):\n",
    "    freq = np.mean(np.product((Z_from_posterior_class == all_hiddens[i]), axis=(-1)))\n",
    "    print('{}:  Data frequency is {}. Model frequency is {}'.format(all_hiddens[i], \n",
    "                                                                    freq, model_hidden_probs[i]))"
   ]
  },
  {
   "cell_type": "code",
   "execution_count": 52,
   "metadata": {},
   "outputs": [
    {
     "name": "stdout",
     "output_type": "stream",
     "text": [
      "normalisation constant is: 1.0000738583037287\n"
     ]
    }
   ],
   "source": [
    "print('normalisation constant is: {}'.format(model_norm_const))"
   ]
  },
  {
   "cell_type": "markdown",
   "metadata": {},
   "source": [
    "# Average log probabilities"
   ]
  },
  {
   "cell_type": "markdown",
   "metadata": {},
   "source": [
    "$ \\mathbb{E}_{x, z \\sim P_{data}} \\log(P_{model}(x, z)) \\ \\ \\ \\ \\text{and} \\ \\ \\ \\ \\mathbb{E}_{x, z \\sim P_{model}} \\log(P_{model}(x, z))$"
   ]
  },
  {
   "cell_type": "code",
   "execution_count": 53,
   "metadata": {
    "scrolled": true
   },
   "outputs": [
    {
     "name": "stdout",
     "output_type": "stream",
     "text": [
      "average log probability of P_model on true data: -5.77958386198443 \n",
      "average log probability of P_model on model data: -2.0948184821600178\n"
     ]
    }
   ],
   "source": [
    "model_X, model_Z = model.sample(n, num_iter=1000)\n",
    "print('average log probability of P_model on true data: {} \\n'\n",
    "'average log probability of P_model on model data: {}'.format(\n",
    "      np.mean(np.log(model(X, Z.reshape(1, n, -1)))), \n",
    "      np.mean(np.log(model(model_X, model_Z.reshape(1, n, -1))))))"
   ]
  },
  {
   "cell_type": "markdown",
   "metadata": {},
   "source": [
    "$ \\mathbb{E}_{x, z \\sim P_{data}} \\log(P_{data}(x, z)) \\ \\ \\ \\ \\text{and} \\ \\ \\ \\ \\mathbb{E}_{x, z \\sim P_{model}} \\log(P_{data}(x, z))$"
   ]
  },
  {
   "cell_type": "code",
   "execution_count": 54,
   "metadata": {},
   "outputs": [
    {
     "name": "stdout",
     "output_type": "stream",
     "text": [
      "average log probability of P_data on true data: -3.2506030394327996 \n",
      "average log probability of P_data on model data: -2.8986830659822322\n"
     ]
    }
   ],
   "source": [
    "print('average log probability of P_data on true data: {} \\n'\n",
    "'average log probability of P_data on model data: {}'.format(\n",
    "      np.mean(np.log(true_data_dist(X, Z.reshape(1, n, -1))/norm_const)), \n",
    "      np.mean(np.log(true_data_dist(model_X, model_Z.reshape(1, n, -1))/norm_const))))"
   ]
  },
  {
   "cell_type": "markdown",
   "metadata": {},
   "source": [
    "$ \\mathbb{E}_{x \\sim P_{data}} \\log(P_{model}(x)) \\ \\ \\ \\ \\text{and} \\ \\ \\ \\ \\mathbb{E}_{x \\sim P_{model}} \\log(P_{model}(x))$"
   ]
  },
  {
   "cell_type": "code",
   "execution_count": 68,
   "metadata": {},
   "outputs": [
    {
     "name": "stdout",
     "output_type": "stream",
     "text": [
      "average log probability of P_model x-marginal on true data: -1.9912024109631352 \n",
      "average log probability of P_model x-marginal on model data: -1.9917980172281433\n"
     ]
    }
   ],
   "source": [
    "model_probs_of_true_data, norm_const = model.normalised_and_marginalised_over_z(X)\n",
    "model_probs_of_model_data, _ = model.normalised_and_marginalised_over_z(model_X)\n",
    "print('average log probability of P_model x-marginal on true data: {} \\n'\n",
    "'average log probability of P_model x-marginal on model data: {}'.format(\n",
    "      np.mean(np.log(model_probs_of_true_data)), \n",
    "      np.mean(np.log(model_probs_of_model_data))))"
   ]
  },
  {
   "cell_type": "markdown",
   "metadata": {},
   "source": [
    "$ \\mathbb{E}_{x \\sim P_{data}} \\log(P_{data}(x)) \\ \\ \\ \\ \\text{and} \\ \\ \\ \\ \\mathbb{E}_{x \\sim P_{model}} \\log(P_{data}(x))$"
   ]
  },
  {
   "cell_type": "code",
   "execution_count": 69,
   "metadata": {},
   "outputs": [
    {
     "name": "stdout",
     "output_type": "stream",
     "text": [
      "average log probability of P_data x-marginal on true data: -1.991195752019668 \n",
      "average log probability of P_data x-marginal on model data: -1.9919055139361312\n"
     ]
    }
   ],
   "source": [
    "true_dist_probs_of_true_data, norm_const = true_data_dist.normalised_and_marginalised_over_z(X)\n",
    "true_dist_probs_of_model_data, _ = true_data_dist.normalised_and_marginalised_over_z(model_X)\n",
    "print('average log probability of P_data x-marginal on true data: {} \\n'\n",
    "'average log probability of P_data x-marginal on model data: {}'.format(\n",
    "      np.mean(np.log(true_dist_probs_of_true_data)), \n",
    "      np.mean(np.log(true_dist_probs_of_model_data))))"
   ]
  },
  {
   "cell_type": "code",
   "execution_count": null,
   "metadata": {},
   "outputs": [],
   "source": []
  }
 ],
 "metadata": {
  "kernelspec": {
   "display_name": "Python 3",
   "language": "python",
   "name": "python3"
  },
  "language_info": {
   "codemirror_mode": {
    "name": "ipython",
    "version": 3
   },
   "file_extension": ".py",
   "mimetype": "text/x-python",
   "name": "python",
   "nbconvert_exporter": "python",
   "pygments_lexer": "ipython3",
   "version": "3.6.4"
  }
 },
 "nbformat": 4,
 "nbformat_minor": 2
}
