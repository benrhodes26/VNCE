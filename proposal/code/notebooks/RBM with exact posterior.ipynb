{
 "cells": [
  {
   "cell_type": "code",
   "execution_count": 1,
   "metadata": {
    "collapsed": true
   },
   "outputs": [],
   "source": [
    "import os\n",
    "import sys\n",
    "nb_dir = os.path.split(os.getcwd())[0]\n",
    "if nb_dir not in sys.path:\n",
    "    sys.path.append(nb_dir)"
   ]
  },
  {
   "cell_type": "code",
   "execution_count": 2,
   "metadata": {
    "collapsed": true
   },
   "outputs": [],
   "source": [
    "import numpy as np\n",
    "import pdb\n",
    "\n",
    "# my code\n",
    "from distribution import RBMLatentPosterior, MultivariateBernoulliNoise\n",
    "from latent_nce_optimiser import LatentNCEOptimiser\n",
    "from latent_variable_model import RestrictedBoltzmannMachine\n",
    "\n",
    "from matplotlib import pyplot as plt\n",
    "from matplotlib import rc\n",
    "from numpy import random as rnd\n",
    "\n",
    "%matplotlib inline\n",
    "rc('lines', linewidth=3)\n",
    "rc('font', size=18)\n",
    "rc('legend', fontsize=18)\n",
    "\n",
    "# For reproducibility\n",
    "rng = rnd.RandomState(1083463236)"
   ]
  },
  {
   "cell_type": "markdown",
   "metadata": {},
   "source": [
    "# Model definition"
   ]
  },
  {
   "cell_type": "code",
   "execution_count": 3,
   "metadata": {
    "collapsed": true
   },
   "outputs": [],
   "source": [
    "n = 10000 # number of datapoints\n",
    "nz = 1  # number latent samples per datapoint\n",
    "nu = 1\n",
    "\n",
    "d = 2  # visible dimension\n",
    "m = 1  # latent dimension\n",
    "\"\"\"true_W = np.array([[0, 0.1, 0.2],\n",
    "                  [-1, -0.3, 0.4],\n",
    "                  [1, -0.5, 0.6], \n",
    "                  [0, -0.7, 0.8]])\"\"\"\n",
    "\n",
    "true_W = np.array([[0, 0],\n",
    "                   [1, -0.5], \n",
    "                   [-1, 0.5]])\n",
    "#theta0 = true_W\n",
    "theta0 = rnd.uniform(-0.1, 0.1, (d+1, m+1))"
   ]
  },
  {
   "cell_type": "code",
   "execution_count": 4,
   "metadata": {
    "collapsed": true
   },
   "outputs": [],
   "source": [
    "true_data_dist = RestrictedBoltzmannMachine(true_W)\n",
    "X, Z = true_data_dist.sample(n, num_iter=1000)"
   ]
  },
  {
   "cell_type": "code",
   "execution_count": 5,
   "metadata": {
    "collapsed": true
   },
   "outputs": [],
   "source": [
    "X_mean = np.mean(X, axis=0)\n",
    "# X_centred = X - X_mean\n",
    "# X_cov = (1/n)*np.dot(X_centred.T, X_centred)"
   ]
  },
  {
   "cell_type": "code",
   "execution_count": 6,
   "metadata": {
    "collapsed": true
   },
   "outputs": [],
   "source": [
    "model = RestrictedBoltzmannMachine(theta0)"
   ]
  },
  {
   "cell_type": "code",
   "execution_count": 7,
   "metadata": {
    "collapsed": true
   },
   "outputs": [],
   "source": [
    "noise = MultivariateBernoulliNoise(X_mean)  # uniform dist over binary vectors i.e p(u) = 2**-d\n",
    "var_dist = RBMLatentPosterior(theta0)"
   ]
  },
  {
   "cell_type": "code",
   "execution_count": 8,
   "metadata": {
    "collapsed": true
   },
   "outputs": [],
   "source": [
    "optimiser = LatentNCEOptimiser(model, noise, var_dist, n, nu=nu, latent_samples_per_datapoint=nz)"
   ]
  },
  {
   "cell_type": "markdown",
   "metadata": {},
   "source": [
    "# Validation"
   ]
  },
  {
   "cell_type": "code",
   "execution_count": 9,
   "metadata": {
    "collapsed": true
   },
   "outputs": [],
   "source": [
    "all_visibles = true_data_dist.get_all_binary_vectors(d)\n",
    "visible_probs, norm_const = true_data_dist.normalised_and_marginalised_over_z(all_visibles)"
   ]
  },
  {
   "cell_type": "code",
   "execution_count": 10,
   "metadata": {},
   "outputs": [
    {
     "name": "stdout",
     "output_type": "stream",
     "text": [
      "Sum over all visible probabilities should equal 1. We got: 1.0\n"
     ]
    }
   ],
   "source": [
    "print('Sum over all visible probabilities should equal 1. We got: {}'.format(sum(visible_probs)))"
   ]
  },
  {
   "cell_type": "code",
   "execution_count": 11,
   "metadata": {
    "scrolled": true
   },
   "outputs": [
    {
     "name": "stdout",
     "output_type": "stream",
     "text": [
      "-------------------------Visible probability checks--------------------------------------\n",
      "[0 0]:  Empirical frequency is 0.2117. True frequency is 0.2141003675964939\n",
      "[0 1]:  Empirical frequency is 0.1099. True frequency is 0.10431078039450867\n",
      "[1 0]:  Empirical frequency is 0.4722. True frequency is 0.4674884844125036\n",
      "[1 1]:  Empirical frequency is 0.2062. True frequency is 0.2141003675964939\n"
     ]
    }
   ],
   "source": [
    "print('-------------------------Visible probability checks--------------------------------------')\n",
    "for i in range(2**d):\n",
    "    freq = np.sum(np.product((X == all_visibles[i]), axis=-1))/ len(X)\n",
    "    print('{}:  Empirical frequency is {}. True frequency is {}'.format(all_visibles[i], \n",
    "                                                                         freq, visible_probs[i]))"
   ]
  },
  {
   "cell_type": "code",
   "execution_count": 12,
   "metadata": {},
   "outputs": [
    {
     "name": "stdout",
     "output_type": "stream",
     "text": [
      "normalisation constant is: 9.341413200043249\n"
     ]
    }
   ],
   "source": [
    "print('normalisation constant is: {}'.format(norm_const))"
   ]
  },
  {
   "cell_type": "code",
   "execution_count": 13,
   "metadata": {},
   "outputs": [],
   "source": [
    "all_hiddens = true_data_dist.get_all_binary_vectors(m)\n",
    "hidden_probs, norm_const = true_data_dist.normalised_and_marginalised_over_u(all_hiddens)"
   ]
  },
  {
   "cell_type": "code",
   "execution_count": 14,
   "metadata": {},
   "outputs": [
    {
     "name": "stdout",
     "output_type": "stream",
     "text": [
      "Sum over all hidden probabilities should equal 1. We got: 1.0\n"
     ]
    }
   ],
   "source": [
    "print('Sum over all hidden probabilities should equal 1. We got: {}'.format(sum(hidden_probs)))"
   ]
  },
  {
   "cell_type": "code",
   "execution_count": 19,
   "metadata": {
    "collapsed": true
   },
   "outputs": [],
   "source": [
    "var_dist.alpha = true_W.reshape(-1)\n",
    "Z = var_dist.sample(1000, X)"
   ]
  },
  {
   "cell_type": "code",
   "execution_count": 20,
   "metadata": {},
   "outputs": [
    {
     "data": {
      "text/plain": [
       "(1000, 10000, 1)"
      ]
     },
     "execution_count": 20,
     "metadata": {},
     "output_type": "execute_result"
    }
   ],
   "source": [
    "Z.shape"
   ]
  },
  {
   "cell_type": "code",
   "execution_count": 21,
   "metadata": {},
   "outputs": [
    {
     "name": "stdout",
     "output_type": "stream",
     "text": [
      "-------------------------Hidden probability checks--------------------------------------\n",
      "[0]:  Empirical frequency is 0.5443732. True frequency is 0.5444744987414687\n",
      "[1]:  Empirical frequency is 0.4556268. True frequency is 0.45552550125853125\n"
     ]
    }
   ],
   "source": [
    "print('-------------------------Hidden probability checks--------------------------------------')\n",
    "for i in range(2**m):\n",
    "    freq = np.mean(np.product((Z == all_hiddens[i]), axis=(-1)))\n",
    "    print('{}:  Empirical frequency is {}. True frequency is {}'.format(all_hiddens[i], \n",
    "                                                                         freq, hidden_probs[i]))"
   ]
  },
  {
   "cell_type": "code",
   "execution_count": 22,
   "metadata": {},
   "outputs": [
    {
     "name": "stdout",
     "output_type": "stream",
     "text": [
      "normalisation constant is: 9.341413200043249\n"
     ]
    }
   ],
   "source": [
    "print('normalisation constant is: {}'.format(norm_const))"
   ]
  },
  {
   "cell_type": "markdown",
   "metadata": {},
   "source": [
    "## Optimisation"
   ]
  },
  {
   "cell_type": "code",
   "execution_count": 12,
   "metadata": {},
   "outputs": [
    {
     "name": "stdout",
     "output_type": "stream",
     "text": [
      "Warning: Desired error not necessarily achieved due to precision loss.\n",
      "         Current function value: 1.567470\n",
      "         Iterations: 2\n",
      "         Function evaluations: 79\n",
      "         Gradient evaluations: 67\n",
      "Warning: Desired error not necessarily achieved due to precision loss.\n",
      "         Current function value: 1.516330\n",
      "         Iterations: 0\n",
      "         Function evaluations: 110\n",
      "         Gradient evaluations: 98\n"
     ]
    },
    {
     "data": {
      "image/png": "[encoded data removed]",
      "text/plain": [
       "<matplotlib.figure.Figure at 0x7f5cdc18afd0>"
      ]
     },
     "metadata": {},
     "output_type": "display_data"
    }
   ],
   "source": [
    "thetas_after_EM_step, J1s, J1_grads = optimiser.fit_using_analytic_q(X, theta0=theta0.reshape(-1), stop_threshold=10**-3)"
   ]
  },
  {
   "cell_type": "code",
   "execution_count": 13,
   "metadata": {},
   "outputs": [
    {
     "data": {
      "text/plain": [
       "array([[-1.09015727, -0.48316575],\n",
       "       [-0.52900072, -0.40841448],\n",
       "       [-0.05509444, -0.26461797]])"
      ]
     },
     "execution_count": 13,
     "metadata": {},
     "output_type": "execute_result"
    }
   ],
   "source": [
    "model.theta.reshape(d+1, m+1)"
   ]
  },
  {
   "cell_type": "code",
   "execution_count": 14,
   "metadata": {},
   "outputs": [
    {
     "name": "stdout",
     "output_type": "stream",
     "text": [
      "scaling parameter should equal -2.234457547009601\n"
     ]
    },
    {
     "data": {
      "text/plain": [
       "(array([[ 0. ,  0. ],\n",
       "        [ 1. , -0.5],\n",
       "        [-1. ,  0.5]]), None)"
      ]
     },
     "execution_count": 14,
     "metadata": {},
     "output_type": "execute_result"
    }
   ],
   "source": [
    "true_W, print('scaling parameter should equal {}'.format(-np.log(norm_const)))"
   ]
  },
  {
   "cell_type": "code",
   "execution_count": 15,
   "metadata": {},
   "outputs": [
    {
     "name": "stdout",
     "output_type": "stream",
     "text": [
      "    ---DATA FROM TRUE DISTRIBUTION---         \n",
      "\n",
      "empirical prob of x_0 being 1 is 0.6858.\n",
      "empirical prob of x_1 being 1 is 0.3202.\n",
      "\n",
      "\n",
      "empirical prob of z_0 being 1 is 0.4435.\n"
     ]
    }
   ],
   "source": [
    "print('    ---DATA FROM TRUE DISTRIBUTION---         \\n')\n",
    "for i in range(d):\n",
    "    print('empirical prob of x_{} being 1 is {}.'.format(i, np.mean(X[:, i])))\n",
    "print('\\n')\n",
    "for i in range(m):\n",
    "    print('empirical prob of z_{} being 1 is {}.'.format(i, np.mean(Z[:, i])))"
   ]
  },
  {
   "cell_type": "code",
   "execution_count": 16,
   "metadata": {},
   "outputs": [
    {
     "name": "stdout",
     "output_type": "stream",
     "text": [
      "         ---DATA FROM MODEL---         \n",
      "\n",
      "empirical prob of x_0 being 1 is 0.3446.\n",
      "empirical prob of x_1 being 1 is 0.4672.\n",
      "\n",
      "\n",
      "empirical prob of z_0 being 1 is 0.3274.\n"
     ]
    }
   ],
   "source": [
    "model_X, model_Z = model.sample(n, num_iter=10000)\n",
    "print('         ---DATA FROM MODEL---         \\n')\n",
    "for i in range(d):\n",
    "    print('empirical prob of x_{} being 1 is {}.'.format(i, np.mean(model_X[:, i])))\n",
    "print('\\n')\n",
    "for i in range(m):\n",
    "    print('empirical prob of z_{} being 1 is {}.'.format(i, np.mean(model_Z[:, i])))"
   ]
  },
  {
   "cell_type": "code",
   "execution_count": 17,
   "metadata": {},
   "outputs": [
    {
     "name": "stdout",
     "output_type": "stream",
     "text": [
      "average value of model on true data: 0.17992333834179686 \n",
      "average value of model on model data: 0.23595592665761098\n"
     ]
    }
   ],
   "source": [
    "print('average value of model on true data: {} \\n'\n",
    "'average value of model on model data: {}'.format(\n",
    "      np.mean(model(X, Z.reshape(1, n, -1))), \n",
    "      np.mean(model(model_X, model_Z.reshape(1, n, -1)))))"
   ]
  },
  {
   "cell_type": "code",
   "execution_count": 18,
   "metadata": {},
   "outputs": [
    {
     "name": "stdout",
     "output_type": "stream",
     "text": [
      "average value of true dist on true data: 1.5712023418044159 \n",
      "average value of true dist on model data: 1.0882661974891328\n"
     ]
    }
   ],
   "source": [
    "print('average value of true dist on true data: {} \\n'\n",
    "'average value of true dist on model data: {}'.format(\n",
    "      np.mean(true_data_dist(X, Z.reshape(1, n, -1))), \n",
    "      np.mean(true_data_dist(model_X, model_Z.reshape(1, n, -1)))))"
   ]
  },
  {
   "cell_type": "code",
   "execution_count": 19,
   "metadata": {},
   "outputs": [
    {
     "data": {
      "text/plain": [
       "-2.1562794712344875"
      ]
     },
     "execution_count": 19,
     "metadata": {},
     "output_type": "execute_result"
    }
   ],
   "source": [
    "Y = optimiser.Y\n",
    "model.theta = theta0.reshape(-1)\n",
    "var_dist.alpha = theta0.reshape(-1)\n",
    "ZX, ZY = var_dist.sample(nz, X), var_dist.sample(nz, Y)\n",
    "optimiser.compute_J1(X, ZX, ZY)"
   ]
  },
  {
   "cell_type": "code",
   "execution_count": null,
   "metadata": {
    "collapsed": true
   },
   "outputs": [],
   "source": []
  }
 ],
 "metadata": {
  "kernelspec": {
   "display_name": "Python 3",
   "language": "python",
   "name": "python3"
  },
  "language_info": {
   "codemirror_mode": {
    "name": "ipython",
    "version": 3
   },
   "file_extension": ".py",
   "mimetype": "text/x-python",
   "name": "python",
   "nbconvert_exporter": "python",
   "pygments_lexer": "ipython3",
   "version": "3.6.3"
  }
 },
 "nbformat": 4,
 "nbformat_minor": 2
}
