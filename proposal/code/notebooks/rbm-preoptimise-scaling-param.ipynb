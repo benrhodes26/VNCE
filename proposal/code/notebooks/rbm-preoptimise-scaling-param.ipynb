{
 "cells": [
  {
   "cell_type": "code",
   "execution_count": 1,
   "metadata": {},
   "outputs": [],
   "source": [
    "import os\n",
    "import sys\n",
    "nb_dir = os.path.split(os.getcwd())[0]\n",
    "pybn_dir = '/afs/inf.ed.ac.uk/user/s17/s1771906/masters-project/pyBN-master'\n",
    "if nb_dir not in sys.path:\n",
    "    sys.path.append(nb_dir)\n",
    "if pybn_dir not in sys.path:\n",
    "    sys.path.append(pybn_dir)"
   ]
  },
  {
   "cell_type": "code",
   "execution_count": 2,
   "metadata": {},
   "outputs": [],
   "source": [
    "import numpy as np\n",
    "import pdb\n",
    "\n",
    "# my code\n",
    "from distribution import RBMLatentPosterior, MultivariateBernoulliNoise, ChowLiuTree\n",
    "from latent_nce_optimiser import LatentNCEOptimiser, CDOptimiser\n",
    "from latent_variable_model import RestrictedBoltzmannMachine\n",
    "from utils import get_true_weights\n",
    "\n",
    "from matplotlib import pyplot as plt\n",
    "from matplotlib import rc\n",
    "from numpy import random as rnd\n",
    "\n",
    "%matplotlib inline\n",
    "rc('lines', linewidth=3)\n",
    "rc('font', size=18)\n",
    "rc('legend', fontsize=18)\n",
    "\n",
    "# For reproducibility\n",
    "rng = rnd.RandomState(1083463236)\n",
    "\n",
    "float_formatter = lambda x: \"%.2f\" % x\n",
    "np.set_printoptions(formatter={'float_kind':float_formatter})"
   ]
  },
  {
   "cell_type": "markdown",
   "metadata": {},
   "source": [
    "# Setup"
   ]
  },
  {
   "cell_type": "markdown",
   "metadata": {},
   "source": [
    "#### data"
   ]
  },
  {
   "cell_type": "code",
   "execution_count": 3,
   "metadata": {},
   "outputs": [],
   "source": [
    "n = 10000 # number of datapoints\n",
    "nz = 5  # number latent samples per datapoint\n",
    "nu = 1  # ratio of noise to data samples for NCE\n",
    "num_gibbs_steps_for_synthetic_data = 200"
   ]
  },
  {
   "cell_type": "markdown",
   "metadata": {},
   "source": [
    "#### model"
   ]
  },
  {
   "cell_type": "code",
   "execution_count": 4,
   "metadata": {},
   "outputs": [],
   "source": [
    "d = 20  # visible dimension\n",
    "m = 15  # latent dimension\n",
    "\n",
    "# true_W = get_true_weights(d, m)\n",
    "true_W = rnd.randn(d+1, m+1)*0.5 # true setting of the weights, that we are trying to learn\n",
    "true_W[0, 0] = 0\n",
    "\n",
    "# theta0 = np.array(true_W)\n",
    "theta0 = rnd.randn(d+1, m+1)*0.01  # random initialisation of weights\n",
    "#theta0[0, 0] = -np.log(2) * (d + m)"
   ]
  },
  {
   "cell_type": "markdown",
   "metadata": {},
   "source": [
    "#### optimisation"
   ]
  },
  {
   "cell_type": "code",
   "execution_count": 5,
   "metadata": {},
   "outputs": [],
   "source": [
    "# tolerances used to determine when iterations stop in scipy minimize (used in LatentNCEOptimiser)\n",
    "gtol = 1e-4\n",
    "ftol = 1e-4\n",
    "# threshold for stopping EM outer loop of optimisation in LatentNCEOptimiser\n",
    "stop_threshold =  1e-02\n",
    "# maximum number of EM steps\n",
    "max_num_em_steps = 20\n",
    "\n",
    "# hyperparameters used in CDOptimiser (contrastive divergence optimiser)\n",
    "cd_num_steps = 1\n",
    "cd_learn_rate = 0.001\n",
    "cd_batch_size = 10"
   ]
  },
  {
   "cell_type": "markdown",
   "metadata": {},
   "source": [
    "#### boolean switches"
   ]
  },
  {
   "cell_type": "code",
   "execution_count": 6,
   "metadata": {},
   "outputs": [],
   "source": [
    "init_scaling_param_at_data_dist_scale = False\n",
    "init_scaling_param_at_rnd_init_scale = False\n",
    "init_visible_biases_with_entropy = False\n",
    "\n",
    "optimise_scaling_param_separately = True\n",
    "\n",
    "use_chow_liu = False\n",
    "use_marginals = True\n",
    "\n",
    "assert use_chow_liu != use_marginals\n",
    "assert not( init_scaling_param_at_data_dist_scale and init_scaling_param_at_rnd_init_scale)"
   ]
  },
  {
   "cell_type": "markdown",
   "metadata": {},
   "source": [
    "# Data, Model & Optimiser definition"
   ]
  },
  {
   "cell_type": "markdown",
   "metadata": {},
   "source": [
    "#### sample a synthetic dataset"
   ]
  },
  {
   "cell_type": "code",
   "execution_count": 7,
   "metadata": {},
   "outputs": [
    {
     "name": "stdout",
     "output_type": "stream",
     "text": [
      "CPU times: user 2.09 s, sys: 138 ms, total: 2.23 s\n",
      "Wall time: 2.22 s\n"
     ]
    }
   ],
   "source": [
    "%%time\n",
    "true_data_dist = RestrictedBoltzmannMachine(true_W)\n",
    "X, Z = true_data_dist.sample(n, num_iter=num_gibbs_steps_for_synthetic_data)"
   ]
  },
  {
   "cell_type": "code",
   "execution_count": 8,
   "metadata": {},
   "outputs": [],
   "source": [
    "# initialise visible biases as recommended by Hinton\n",
    "X_mean = np.mean(X, axis=0)\n",
    "if init_visible_biases_with_entropy:\n",
    "    theta0[1:, 0] = np.log(X_mean / (1 - X_mean))"
   ]
  },
  {
   "cell_type": "markdown",
   "metadata": {},
   "source": [
    "#### initialise three models for comparison"
   ]
  },
  {
   "cell_type": "code",
   "execution_count": 9,
   "metadata": {},
   "outputs": [],
   "source": [
    "model = RestrictedBoltzmannMachine(theta0)\n",
    "cd_model = RestrictedBoltzmannMachine(theta0)\n",
    "random_init_model = RestrictedBoltzmannMachine(theta0)"
   ]
  },
  {
   "cell_type": "markdown",
   "metadata": {},
   "source": [
    "#### Specify noise distribution"
   ]
  },
  {
   "cell_type": "code",
   "execution_count": 10,
   "metadata": {},
   "outputs": [],
   "source": [
    "if use_chow_liu:\n",
    "    noise = ChowLiuTree(X)\n",
    "if use_marginals:\n",
    "    noise = MultivariateBernoulliNoise(X_mean)"
   ]
  },
  {
   "cell_type": "code",
   "execution_count": 11,
   "metadata": {},
   "outputs": [
    {
     "name": "stdout",
     "output_type": "stream",
     "text": [
      "log likelihood of chow liu-tree noise: -9.289845403290487\n",
      "log likelihood of marginal noise: -9.317275893392916\n",
      "average prob of data under chow liu-tree noise: 0.0005340328723634383\n",
      "average prob of data under marginal noise: 0.0005054783829607217\n"
     ]
    }
   ],
   "source": [
    "marginal_noise = MultivariateBernoulliNoise(X_mean)\n",
    "chow_liu_noise = ChowLiuTree(X)\n",
    "print('log likelihood of chow liu-tree noise: {}'.format(np.mean(np.log(chow_liu_noise(X)))))\n",
    "print('log likelihood of marginal noise: {}'.format(np.mean(np.log(marginal_noise(X)))))\n",
    "print('average prob of data under chow liu-tree noise: {}'.format(np.mean(chow_liu_noise(X))))\n",
    "print('average prob of data under marginal noise: {}'.format(np.mean(marginal_noise(X))))"
   ]
  },
  {
   "cell_type": "markdown",
   "metadata": {},
   "source": [
    "#### specify exact posterior distribution"
   ]
  },
  {
   "cell_type": "code",
   "execution_count": 12,
   "metadata": {},
   "outputs": [],
   "source": [
    "var_dist = RBMLatentPosterior(theta0)  # true posterior, which has an analytic expression"
   ]
  },
  {
   "cell_type": "markdown",
   "metadata": {},
   "source": [
    "#### construct optimiser"
   ]
  },
  {
   "cell_type": "code",
   "execution_count": 13,
   "metadata": {
    "scrolled": false
   },
   "outputs": [
    {
     "name": "stdout",
     "output_type": "stream",
     "text": [
      "CPU times: user 2.68 ms, sys: 54 µs, total: 2.73 ms\n",
      "Wall time: 2.24 ms\n"
     ]
    }
   ],
   "source": [
    "%%time\n",
    "optimiser = LatentNCEOptimiser(model, noise, var_dist, n, nu=nu, latent_samples_per_datapoint=nz)\n",
    "cd_optimiser = CDOptimiser(cd_model)"
   ]
  },
  {
   "cell_type": "markdown",
   "metadata": {},
   "source": [
    "#### log of true normalisation constant"
   ]
  },
  {
   "cell_type": "code",
   "execution_count": 14,
   "metadata": {
    "scrolled": true
   },
   "outputs": [
    {
     "name": "stdout",
     "output_type": "stream",
     "text": [
      "-33.4140\n"
     ]
    }
   ],
   "source": [
    "true_data_dist.reset_norm_const()\n",
    "true_norm_const = true_data_dist.norm_const\n",
    "true_W[0, 0] = -np.log(true_norm_const)\n",
    "print('{:.4f}'.format(-np.log(true_norm_const)))"
   ]
  },
  {
   "cell_type": "markdown",
   "metadata": {},
   "source": [
    "#### log of normalising constant for random initialisation"
   ]
  },
  {
   "cell_type": "code",
   "execution_count": 15,
   "metadata": {},
   "outputs": [
    {
     "name": "stdout",
     "output_type": "stream",
     "text": [
      "24.2969\n"
     ]
    }
   ],
   "source": [
    "random_init_model.reset_norm_const()\n",
    "rnd_norm_const = random_init_model.norm_const\n",
    "print('{:.4f}'.format(np.log((np.exp(theta0[0,0])*rnd_norm_const))))"
   ]
  },
  {
   "cell_type": "markdown",
   "metadata": {},
   "source": [
    "#### starting value of scaling parameter"
   ]
  },
  {
   "cell_type": "code",
   "execution_count": 16,
   "metadata": {},
   "outputs": [
    {
     "name": "stdout",
     "output_type": "stream",
     "text": [
      "-0.014981941120072244\n"
     ]
    }
   ],
   "source": [
    "print(theta0[0,0])"
   ]
  },
  {
   "cell_type": "markdown",
   "metadata": {},
   "source": [
    "# Optimisation"
   ]
  },
  {
   "cell_type": "code",
   "execution_count": 17,
   "metadata": {},
   "outputs": [],
   "source": [
    "if init_scaling_param_at_data_dist_scale:\n",
    "    theta0[0, 0] = -np.log(true_norm_const)\n",
    "if init_scaling_param_at_rnd_init_scale:\n",
    "    theta0[0, 0] = -np.log(rnd_norm_const)"
   ]
  },
  {
   "cell_type": "code",
   "execution_count": 18,
   "metadata": {},
   "outputs": [],
   "source": [
    "scaling_param_ind = np.array([0])\n",
    "other_param_inds = np.arange(1, len(model.theta))\n",
    "all_inds = np.arange(len(model.theta))"
   ]
  },
  {
   "cell_type": "markdown",
   "metadata": {},
   "source": [
    "#### optimise with respect to scaling parameter, if switch is on"
   ]
  },
  {
   "cell_type": "code",
   "execution_count": 19,
   "metadata": {},
   "outputs": [
    {
     "name": "stderr",
     "output_type": "stream",
     "text": [
      "/afs/inf.ed.ac.uk/user/s17/s1771906/masters-project/ben-rhodes-masters-project/proposal/code/latent_nce_optimiser.py:286: OptimizeWarning: Unknown solver options: ftol\n",
      "  options={'gtol': gtol, 'ftol': ftol, 'disp': disp})\n"
     ]
    },
    {
     "name": "stdout",
     "output_type": "stream",
     "text": [
      "Warning: Desired error not necessarily achieved due to precision loss.\n",
      "         Current function value: 2.323144\n",
      "         Iterations: 2\n",
      "         Function evaluations: 33\n",
      "         Gradient evaluations: 22\n"
     ]
    },
    {
     "name": "stderr",
     "output_type": "stream",
     "text": [
      "/afs/inf.ed.ac.uk/user/s17/s1771906/masters-project/ben-rhodes-masters-project/proposal/code/latent_nce_optimiser.py:286: OptimizeWarning: Unknown solver options: ftol\n",
      "  options={'gtol': gtol, 'ftol': ftol, 'disp': disp})\n"
     ]
    },
    {
     "name": "stdout",
     "output_type": "stream",
     "text": [
      "Optimization terminated successfully.\n",
      "         Current function value: 2.323144\n",
      "         Iterations: 1\n",
      "         Function evaluations: 3\n",
      "         Gradient evaluations: 3\n",
      "CPU times: user 7.28 s, sys: 1.21 s, total: 8.49 s\n",
      "Wall time: 8.46 s\n"
     ]
    }
   ],
   "source": [
    "%%time\n",
    "if optimise_scaling_param_separately:\n",
    "    thetas_after_em_step_scale_param, J1s_scale, J1_grads_scale = optimiser.fit_using_analytic_q(X, \n",
    "                                                                                     scaling_param_ind, \n",
    "                                                                                     theta0=theta0.reshape(-1), \n",
    "                                                                                     stop_threshold=stop_threshold, \n",
    "                                                                                     max_num_em_steps=max_num_em_steps,\n",
    "                                                                                     gtol=gtol, \n",
    "                                                                                     ftol=ftol, \n",
    "                                                                                     plot=False, \n",
    "                                                                                     disp=True)"
   ]
  },
  {
   "cell_type": "code",
   "execution_count": 20,
   "metadata": {},
   "outputs": [
    {
     "data": {
      "image/png": "[encoded data removed]",
      "text/plain": [
       "<matplotlib.figure.Figure at 0x7f45a3c8bf98>"
      ]
     },
     "metadata": {},
     "output_type": "display_data"
    }
   ],
   "source": [
    "if optimise_scaling_param_separately:\n",
    "    fig, ax = optimiser.plot_loss_curve(J1s_scale, plot_reset_points=False, true_theta = true_W.reshape(-1), X=X)"
   ]
  },
  {
   "cell_type": "markdown",
   "metadata": {},
   "source": [
    "#### optimise with respect to all parameters"
   ]
  },
  {
   "cell_type": "code",
   "execution_count": 21,
   "metadata": {
    "scrolled": false
   },
   "outputs": [
    {
     "name": "stderr",
     "output_type": "stream",
     "text": [
      "/afs/inf.ed.ac.uk/user/s17/s1771906/masters-project/ben-rhodes-masters-project/proposal/code/latent_nce_optimiser.py:286: OptimizeWarning: Unknown solver options: ftol\n",
      "  options={'gtol': gtol, 'ftol': ftol, 'disp': disp})\n"
     ]
    },
    {
     "name": "stdout",
     "output_type": "stream",
     "text": [
      "Warning: Desired error not necessarily achieved due to precision loss.\n",
      "         Current function value: 1.385059\n",
      "         Iterations: 65\n",
      "         Function evaluations: 168\n",
      "         Gradient evaluations: 156\n"
     ]
    },
    {
     "name": "stderr",
     "output_type": "stream",
     "text": [
      "/afs/inf.ed.ac.uk/user/s17/s1771906/masters-project/ben-rhodes-masters-project/proposal/code/latent_nce_optimiser.py:286: OptimizeWarning: Unknown solver options: ftol\n",
      "  options={'gtol': gtol, 'ftol': ftol, 'disp': disp})\n"
     ]
    },
    {
     "name": "stdout",
     "output_type": "stream",
     "text": [
      "Warning: Desired error not necessarily achieved due to precision loss.\n",
      "         Current function value: 1.385031\n",
      "         Iterations: 5\n",
      "         Function evaluations: 48\n",
      "         Gradient evaluations: 38\n",
      "CPU times: user 50.4 s, sys: 9.36 s, total: 59.8 s\n",
      "Wall time: 59.7 s\n"
     ]
    }
   ],
   "source": [
    "%%time\n",
    "thetas_after_em_step, J1s, J1_grads = optimiser.fit_using_analytic_q(X, \n",
    "                                                                     theta0=model.theta,\n",
    "                                                                     disp=True,\n",
    "                                                                     stop_threshold=stop_threshold, \n",
    "                                                                     max_num_em_steps=max_num_em_steps,\n",
    "                                                                     gtol=gtol, \n",
    "                                                                     ftol=ftol, \n",
    "                                                                     plot=False)\n",
    "latent_nce_estimate = model.theta"
   ]
  },
  {
   "cell_type": "code",
   "execution_count": 22,
   "metadata": {
    "scrolled": false
   },
   "outputs": [
    {
     "data": {
      "image/png": "[encoded data removed]",
      "text/plain": [
       "<matplotlib.figure.Figure at 0x7f45a3c13400>"
      ]
     },
     "metadata": {},
     "output_type": "display_data"
    }
   ],
   "source": [
    "fig, ax = optimiser.plot_loss_curve(J1s, plot_reset_points=False, endpoints=None, \n",
    "                                    true_theta = true_W.reshape(-1), X=X)"
   ]
  },
  {
   "cell_type": "code",
   "execution_count": 23,
   "metadata": {},
   "outputs": [],
   "source": [
    "J1_len = sum([len(i) for i in J1s])\n",
    "#fig, ax = optimiser.plot_loss_curve(J1s, endpoints=(5, J1_len), true_theta = true_W.reshape(-1), X=X)"
   ]
  },
  {
   "cell_type": "markdown",
   "metadata": {},
   "source": [
    "#### learn parameters using contrastive divergence"
   ]
  },
  {
   "cell_type": "code",
   "execution_count": 24,
   "metadata": {},
   "outputs": [
    {
     "name": "stdout",
     "output_type": "stream",
     "text": [
      "CPU times: user 1.77 s, sys: 13.6 ms, total: 1.78 s\n",
      "Wall time: 1.77 s\n"
     ]
    }
   ],
   "source": [
    "%%time\n",
    "thetas_after_each_minibatch = cd_optimiser.fit(X, theta0=theta0.reshape(-1), num_gibbs_steps=cd_num_steps,\n",
    "                                               learning_rate=cd_learn_rate, batch_size=cd_batch_size)\n",
    "cd_estimate =  cd_model.theta"
   ]
  },
  {
   "cell_type": "markdown",
   "metadata": {},
   "source": [
    "# Results"
   ]
  },
  {
   "cell_type": "markdown",
   "metadata": {},
   "source": [
    "## Log-likelihood on training set"
   ]
  },
  {
   "cell_type": "markdown",
   "metadata": {},
   "source": [
    "### $ \\mathbb{E}_{x \\sim P_{data}} \\log(P_{data}(x)) \\ \\ \\text{and} \\ \\ \\mathbb{E}_{x \\sim P_{data}} \\log(P_{lnce}(x)) \\ \\ \\text{and} \\ \\ \\mathbb{E}_{x \\sim P_{data}} \\log(P_{cd}(x))  $"
   ]
  },
  {
   "cell_type": "code",
   "execution_count": 25,
   "metadata": {
    "scrolled": false
   },
   "outputs": [
    {
     "name": "stdout",
     "output_type": "stream",
     "text": [
      "True:       -9.2683 \n",
      "Latent NCE: -9.3179 \n",
      "CD:         -9.3146\n",
      "Random init:-13.8459 \n",
      "Noise:      -9.3173\n"
     ]
    }
   ],
   "source": [
    "true_dist_probs_of_true_data, _ = true_data_dist.normalised_and_marginalised_over_z(X)\n",
    "latent_nce_probs_of_true_data, _ = model.normalised_and_marginalised_over_z(X)\n",
    "cd_probs_of_true_data, _ = cd_model.normalised_and_marginalised_over_z(X)\n",
    "random_probs_of_true_data, _ = random_init_model.normalised_and_marginalised_over_z(X)\n",
    "print('True:       {:.4f} \\nLatent NCE: {:.4f} \\nCD:         {:.4f}\\nRandom init:{:.4f} \\nNoise:      {:.4f}'.format(\n",
    "    np.mean(np.log(true_dist_probs_of_true_data)), \n",
    "    np.mean(np.log(latent_nce_probs_of_true_data)),\n",
    "    np.mean(np.log(cd_probs_of_true_data)),\n",
    "    np.mean(np.log(random_probs_of_true_data)),\n",
    "    np.mean(np.log(noise(X)))\n",
    "))"
   ]
  },
  {
   "cell_type": "markdown",
   "metadata": {},
   "source": [
    "## Frobenius norm of true parameters minus model parameters"
   ]
  },
  {
   "cell_type": "code",
   "execution_count": 26,
   "metadata": {},
   "outputs": [
    {
     "name": "stdout",
     "output_type": "stream",
     "text": [
      "true vs latent nce:   9.7874\n",
      "true vs cd:           8.1917\n",
      "true vs random init:  8.6577\n",
      "nce vs cd:            5.1590\n"
     ]
    }
   ],
   "source": [
    "# NOTE: we exclude the scaling parameter in all comparisons\n",
    "\n",
    "random_true_param_diff = (true_W - theta0).reshape(-1)[1:]\n",
    "sq_diff_rand_true = np.dot(random_true_param_diff, random_true_param_diff)**0.5\n",
    "nce_true_param_diff = (true_W - latent_nce_estimate.reshape(d+1, m+1)).reshape(-1)[1:]\n",
    "sq_diff_nce_true = np.dot(nce_true_param_diff, nce_true_param_diff)**0.5\n",
    "cd_true_param_diff = (true_W - cd_estimate.reshape(d+1, m+1)).reshape(-1)[1:]\n",
    "sq_diff_cd_true = np.dot(cd_true_param_diff, cd_true_param_diff)**0.5\n",
    "nce_cd_param_diff = (latent_nce_estimate - cd_estimate)[1:]\n",
    "sq_diff_nce_cd = np.dot(nce_cd_param_diff, nce_cd_param_diff)**0.5\n",
    "print('true vs latent nce:   {:.4f}'.format(sq_diff_nce_true))\n",
    "print('true vs cd:           {:.4f}'.format(sq_diff_cd_true))\n",
    "print('true vs random init:  {:.4f}'.format(sq_diff_rand_true))\n",
    "print('nce vs cd:            {:.4f}'.format(sq_diff_nce_cd))"
   ]
  },
  {
   "cell_type": "markdown",
   "metadata": {},
   "source": [
    "### Scaling parameter"
   ]
  },
  {
   "cell_type": "code",
   "execution_count": 27,
   "metadata": {
    "scrolled": false
   },
   "outputs": [
    {
     "name": "stdout",
     "output_type": "stream",
     "text": [
      "Learnt Scaling param is:              -22.1780\n",
      "log of norm const of data distribution is:   -33.4140\n"
     ]
    }
   ],
   "source": [
    "print('Learnt Scaling param is:              {:.4f}'.format(latent_nce_estimate[0]))\n",
    "print('log of norm const of data distribution is:   {:.4f}'.format(-np.log(true_norm_const)))"
   ]
  },
  {
   "cell_type": "code",
   "execution_count": 28,
   "metadata": {},
   "outputs": [
    {
     "name": "stdout",
     "output_type": "stream",
     "text": [
      "We hope that the normalisation constant of the learnt model is 1. In reality it is: 1.015379812055871 \n"
     ]
    }
   ],
   "source": [
    "model.reset_norm_const()\n",
    "print('We hope that the normalisation constant of the learnt model is 1. In reality it is: {} '.format(\n",
    "    model.norm_const))"
   ]
  },
  {
   "cell_type": "markdown",
   "metadata": {},
   "source": [
    "## Visualisations of parameters"
   ]
  },
  {
   "cell_type": "code",
   "execution_count": 29,
   "metadata": {},
   "outputs": [],
   "source": [
    "def plot_parameters(params, title):\n",
    "    fig, axs = plt.subplots(1, 2, figsize=(15, 5))\n",
    "    axs = axs.ravel()\n",
    "    axs[0].imshow(params, cmap='Blues')\n",
    "    axs[1].imshow(params[1:, 1:], cmap='Blues')\n",
    "    axs[0].set_title('with biases', fontsize=16)\n",
    "    axs[1].set_title('without biases', fontsize=16)\n",
    "    axs[0].set_xlabel('visible weights', fontsize=16)\n",
    "    axs[0].set_ylabel('hidden weights', fontsize=16)\n",
    "    axs[1].set_xlabel('visible weights', fontsize=16)\n",
    "    axs[1].set_ylabel('hidden weights', fontsize=16)\n",
    "    fig.suptitle('{}'.format(title), fontsize=20)\n",
    "    #plt.tight_layout()"
   ]
  },
  {
   "cell_type": "code",
   "execution_count": 30,
   "metadata": {},
   "outputs": [
    {
     "data": {
      "image/png": "[encoded data removed]",
      "text/plain": [
       "<matplotlib.figure.Figure at 0x7f45a39570f0>"
      ]
     },
     "metadata": {},
     "output_type": "display_data"
    }
   ],
   "source": [
    "true_params = np.array(true_data_dist.theta.reshape(d+1, m+1).T)\n",
    "true_params[0,0] = 0\n",
    "plot_parameters(true_params, 'True parameters')"
   ]
  },
  {
   "cell_type": "code",
   "execution_count": 31,
   "metadata": {
    "scrolled": false
   },
   "outputs": [
    {
     "data": {
      "image/png": "[encoded data removed]",
      "text/plain": [
       "<matplotlib.figure.Figure at 0x7f45ac455f98>"
      ]
     },
     "metadata": {},
     "output_type": "display_data"
    }
   ],
   "source": [
    "nce_params = np.array(model.theta.reshape(d+1, m+1).T)\n",
    "nce_params[0,0] = 0\n",
    "plot_parameters(nce_params, 'Latent NCE parameters')"
   ]
  },
  {
   "cell_type": "code",
   "execution_count": 32,
   "metadata": {},
   "outputs": [
    {
     "data": {
      "image/png": "[encoded data removed]",
      "text/plain": [
       "<matplotlib.figure.Figure at 0x7f45e3bd49e8>"
      ]
     },
     "metadata": {},
     "output_type": "display_data"
    }
   ],
   "source": [
    "cd_params = np.array(cd_model.theta.reshape(d+1, m+1).T)\n",
    "cd_params[0,0] = 0\n",
    "plot_parameters(cd_params, 'Contrastive divergence parameters')"
   ]
  },
  {
   "cell_type": "code",
   "execution_count": 33,
   "metadata": {},
   "outputs": [
    {
     "data": {
      "image/png": "[encoded data removed]",
      "text/plain": [
       "<matplotlib.figure.Figure at 0x7f45ac4a50b8>"
      ]
     },
     "metadata": {},
     "output_type": "display_data"
    }
   ],
   "source": [
    "rnd_params = np.array(random_init_model.theta.reshape(d+1, m+1).T)\n",
    "rnd_params[0,0] = 0\n",
    "plot_parameters(rnd_params, 'Randomly initialised parameters')"
   ]
  },
  {
   "cell_type": "markdown",
   "metadata": {},
   "source": [
    "#### values of hidden biases"
   ]
  },
  {
   "cell_type": "code",
   "execution_count": 34,
   "metadata": {
    "scrolled": true
   },
   "outputs": [
    {
     "name": "stdout",
     "output_type": "stream",
     "text": [
      "true hidden bias: [0.35 0.27 0.28 0.34 -0.03 -0.09 1.26 0.08 -0.54 -0.02 -0.18 0.07 -0.01\n",
      " -0.26 -0.72] \n",
      "nce hidden bias:  [-1.12 -1.00 -1.14 -1.21 -1.06 -1.11 -1.13 -1.11 -1.12 -1.02 -1.03 -1.02\n",
      " -1.17 -1.02 -1.12] \n",
      "cd_hidden bias:   [0.04 0.08 0.08 0.05 0.08 0.08 0.07 0.06 0.06 0.07 0.06 0.07 0.07 0.07\n",
      " 0.06] \n",
      "rnd_hidden bias:   [-0.01 0.02 0.01 -0.00 0.02 0.02 0.01 0.00 -0.00 0.00 0.00 0.01 0.01 0.01\n",
      " -0.00]\n"
     ]
    }
   ],
   "source": [
    "print('true hidden bias: {} \\nnce hidden bias:  {} '\n",
    "      '\\ncd_hidden bias:   {} \\nrnd_hidden bias:   {}'.format(true_params[1:,0], \n",
    "                                                              nce_params[1:, 0],\n",
    "                                                              cd_params[1:, 0], \n",
    "                                                              rnd_params[1:, 0]))"
   ]
  },
  {
   "cell_type": "markdown",
   "metadata": {},
   "source": [
    "#### values of visible biases"
   ]
  },
  {
   "cell_type": "code",
   "execution_count": 35,
   "metadata": {},
   "outputs": [
    {
     "name": "stdout",
     "output_type": "stream",
     "text": [
      "true hidden bias: [0.17 -0.92 -0.02 0.22 -0.56 0.01 0.10 -0.07 0.69 0.24 -0.21 1.04 -0.26\n",
      " -0.21 0.50 0.17 0.11 -0.23 -0.13 0.99] \n",
      "nce hidden bias:  [-0.28 -0.49 -0.35 0.22 -0.71 -0.66 0.03 0.27 0.21 -0.17 -0.34 0.29 -0.37\n",
      " 0.03 0.08 -0.34 0.15 -0.56 -0.20 -0.43] \n",
      "cd_hidden bias:   [-0.13 -0.24 -0.07 0.22 -0.37 -0.37 0.15 0.21 0.41 -0.05 -0.02 0.26 -0.20\n",
      " 0.11 0.10 -0.06 0.15 -0.29 -0.04 -0.15] \n",
      "rnd_hidden bias:   [0.01 0.01 -0.00 0.01 -0.00 0.00 0.00 0.00 -0.01 0.01 0.00 -0.01 0.00\n",
      " -0.01 0.01 -0.00 0.01 -0.01 0.00 0.02]\n"
     ]
    }
   ],
   "source": [
    "print('true hidden bias: {} \\nnce hidden bias:  {} '\n",
    "      '\\ncd_hidden bias:   {} \\nrnd_hidden bias:   {}'.format(true_params[0, 1:], \n",
    "                                                              nce_params[0, 1:],\n",
    "                                                              cd_params[0, 1:], \n",
    "                                                              rnd_params[0, 1:]))"
   ]
  },
  {
   "cell_type": "markdown",
   "metadata": {},
   "source": [
    "#### values of weights (not including biases)"
   ]
  },
  {
   "cell_type": "code",
   "execution_count": 36,
   "metadata": {
    "scrolled": false
   },
   "outputs": [
    {
     "name": "stdout",
     "output_type": "stream",
     "text": [
      "[[-0.19 -0.26 -0.15 -0.06 -0.29 -0.33 -0.08 -0.04 -0.07 -0.25 -0.20 -0.02\n",
      "  -0.18 -0.08 -0.13 0.01 -0.04 -0.26 -0.22 -0.11]\n",
      " [-0.11 -0.25 0.02 0.25 -0.32 -0.32 0.26 0.28 0.44 0.03 0.07 0.30 -0.18\n",
      "  0.12 0.12 0.06 0.25 -0.27 -0.03 -0.07]\n",
      " [-0.11 -0.24 -0.08 0.08 -0.32 -0.35 0.05 0.06 0.19 -0.08 -0.03 0.11\n",
      "  -0.18 0.03 0.02 -0.04 -0.00 -0.23 -0.07 -0.16]\n",
      " [-0.14 -0.23 -0.09 0.01 -0.30 -0.32 -0.06 -0.04 0.11 -0.16 -0.08 0.06\n",
      "  -0.22 -0.03 -0.11 -0.10 -0.06 -0.23 -0.11 -0.15]\n",
      " [-0.18 -0.26 -0.14 -0.07 -0.33 -0.35 -0.05 -0.07 -0.09 -0.14 -0.10 -0.04\n",
      "  -0.24 -0.15 -0.08 -0.09 -0.02 -0.26 -0.17 -0.16]\n",
      " [-0.19 -0.24 -0.07 -0.03 -0.30 -0.35 -0.01 0.01 0.07 -0.14 -0.11 0.01\n",
      "  -0.20 -0.09 -0.10 -0.00 -0.04 -0.30 -0.15 -0.14]\n",
      " [-0.03 -0.16 0.10 0.43 -0.30 -0.31 0.36 0.45 0.83 0.10 0.09 0.52 -0.17\n",
      "  0.38 0.25 0.06 0.31 -0.19 0.09 -0.11]\n",
      " [-0.18 -0.14 -0.03 0.20 -0.33 -0.31 0.18 0.17 0.42 -0.15 -0.02 0.28\n",
      "  -0.17 0.11 0.13 -0.03 0.17 -0.22 -0.02 -0.11]\n",
      " [-0.06 -0.15 0.08 0.41 -0.29 -0.30 0.33 0.37 0.66 -0.01 0.15 0.50 -0.13\n",
      "  0.30 0.25 -0.01 0.22 -0.20 0.13 -0.06]\n",
      " [-0.06 -0.18 -0.01 0.29 -0.25 -0.31 0.27 0.31 0.60 0.06 0.12 0.40 -0.21\n",
      "  0.16 0.15 0.07 0.26 -0.24 -0.01 -0.11]\n",
      " [-0.13 -0.24 -0.01 0.04 -0.32 -0.34 0.06 0.01 0.12 -0.11 -0.09 0.06\n",
      "  -0.19 0.01 -0.06 -0.08 0.04 -0.24 -0.12 -0.11]\n",
      " [-0.13 -0.15 0.12 0.30 -0.25 -0.31 0.26 0.31 0.61 0.09 0.15 0.41 -0.14\n",
      "  0.25 0.23 -0.03 0.22 -0.26 0.07 -0.10]\n",
      " [-0.11 -0.17 -0.03 0.22 -0.30 -0.33 0.13 0.18 0.47 -0.09 -0.03 0.24\n",
      "  -0.10 0.06 0.09 0.02 0.12 -0.21 -0.03 -0.17]\n",
      " [-0.18 -0.21 -0.13 -0.01 -0.35 -0.34 -0.03 0.02 -0.00 -0.19 -0.07 0.03\n",
      "  -0.24 -0.07 -0.07 0.02 -0.01 -0.29 -0.13 -0.16]\n",
      " [0.02 -0.18 0.05 0.40 -0.30 -0.33 0.32 0.45 0.78 0.11 0.16 0.52 -0.13\n",
      "  0.25 0.27 0.05 0.35 -0.17 0.07 -0.10]]\n"
     ]
    }
   ],
   "source": [
    "print(nce_params[1:,1:])"
   ]
  },
  {
   "cell_type": "markdown",
   "metadata": {},
   "source": [
    "## Histograms of posterior distribution during learning"
   ]
  },
  {
   "cell_type": "code",
   "execution_count": 37,
   "metadata": {},
   "outputs": [],
   "source": [
    "thetas = []\n",
    "if optimise_scaling_param_separately:\n",
    "    thetas = list(thetas_after_em_step_scale_param)\n",
    "    thetas.extend(list(thetas_after_em_step))\n",
    "else:\n",
    "    thetas = list(thetas_after_em_step)\n",
    "\n",
    "thetas = thetas[::10]\n",
    "thetas.append(true_W.reshape(-1))\n",
    "num_thetas = len(thetas)"
   ]
  },
  {
   "cell_type": "code",
   "execution_count": 38,
   "metadata": {},
   "outputs": [],
   "source": [
    "if m <= 5:    \n",
    "    all_latents = model.get_all_binary_vectors(m)\n",
    "    all_latents_tiled = np.repeat(all_latents, len(X)).reshape(len(all_latents), len(X), m)\n",
    "    fig, axs = plt.subplots(int(np.ceil(num_thetas/4)), 4, figsize=(15, 7))\n",
    "    axs = axs.ravel()\n",
    "    for i, ax in enumerate(axs):\n",
    "        if i == num_thetas:\n",
    "            break\n",
    "        theta_i = thetas[i]\n",
    "        var_dist.alpha = theta_i.reshape(-1)\n",
    "        var_dist_probs = var_dist(all_latents_tiled, X)\n",
    "        ax.hist(var_dist_probs.reshape(-1), bins=int(0.1*var_dist_probs.size**0.5))\n",
    "        ax.set_yticks([])"
   ]
  },
  {
   "cell_type": "markdown",
   "metadata": {},
   "source": [
    "## L1 norm between model joint & true joint"
   ]
  },
  {
   "cell_type": "markdown",
   "metadata": {},
   "source": [
    "$$ \\| \\phi - p_{data} \\|_1 = \\sum_{\\textbf{v} \\in \\{0,1\\}^{d}} \\sum_{\\textbf{h} \\in \\{0,1\\}^{m}} |\\phi(\\textbf{v}, \\textbf{h}) - p_{data}(\\textbf{v}, \\textbf{h}) | $$"
   ]
  },
  {
   "cell_type": "code",
   "execution_count": 39,
   "metadata": {
    "scrolled": true
   },
   "outputs": [
    {
     "ename": "AssertionError",
     "evalue": "Evaluating over the whole domain has O(2**(m+d)) cost. Assertion raised since m+d is equal to 35, which exceeds the current limit of 20",
     "output_type": "error",
     "traceback": [
      "\u001b[0;31m---------------------------------------------------------------------------\u001b[0m",
      "\u001b[0;31mAssertionError\u001b[0m                            Traceback (most recent call last)",
      "\u001b[0;32m<ipython-input-39-fc91a6f3092e>\u001b[0m in \u001b[0;36m<module>\u001b[0;34m()\u001b[0m\n\u001b[0;32m----> 1\u001b[0;31m \u001b[0mtrue_model_vals\u001b[0m \u001b[0;34m=\u001b[0m \u001b[0mtrue_data_dist\u001b[0m\u001b[0;34m.\u001b[0m\u001b[0mevaluate_on_entire_domain\u001b[0m\u001b[0;34m(\u001b[0m\u001b[0mnormalise\u001b[0m\u001b[0;34m=\u001b[0m\u001b[0;32mTrue\u001b[0m\u001b[0;34m)\u001b[0m\u001b[0;34m\u001b[0m\u001b[0m\n\u001b[0m\u001b[1;32m      2\u001b[0m \u001b[0mlatent_nce_vals\u001b[0m \u001b[0;34m=\u001b[0m \u001b[0mmodel\u001b[0m\u001b[0;34m.\u001b[0m\u001b[0mevaluate_on_entire_domain\u001b[0m\u001b[0;34m(\u001b[0m\u001b[0mnormalise\u001b[0m\u001b[0;34m=\u001b[0m\u001b[0;32mFalse\u001b[0m\u001b[0;34m)\u001b[0m\u001b[0;34m\u001b[0m\u001b[0m\n\u001b[1;32m      3\u001b[0m \u001b[0mcd_vals\u001b[0m \u001b[0;34m=\u001b[0m \u001b[0mcd_model\u001b[0m\u001b[0;34m.\u001b[0m\u001b[0mevaluate_on_entire_domain\u001b[0m\u001b[0;34m(\u001b[0m\u001b[0mnormalise\u001b[0m\u001b[0;34m=\u001b[0m\u001b[0;32mTrue\u001b[0m\u001b[0;34m)\u001b[0m\u001b[0;34m\u001b[0m\u001b[0m\n\u001b[1;32m      4\u001b[0m \u001b[0mrnd_init_vals\u001b[0m \u001b[0;34m=\u001b[0m \u001b[0mrandom_init_model\u001b[0m\u001b[0;34m.\u001b[0m\u001b[0mevaluate_on_entire_domain\u001b[0m\u001b[0;34m(\u001b[0m\u001b[0mnormalise\u001b[0m\u001b[0;34m=\u001b[0m\u001b[0;32mTrue\u001b[0m\u001b[0;34m)\u001b[0m\u001b[0;34m\u001b[0m\u001b[0m\n\u001b[1;32m      5\u001b[0m \u001b[0;34m\u001b[0m\u001b[0m\n",
      "\u001b[0;32m~/masters-project/ben-rhodes-masters-project/proposal/code/latent_variable_model.py\u001b[0m in \u001b[0;36mevaluate_on_entire_domain\u001b[0;34m(self, normalise, reset_norm_const)\u001b[0m\n\u001b[1;32m    697\u001b[0m         \u001b[0;32massert\u001b[0m \u001b[0md\u001b[0m \u001b[0;34m+\u001b[0m \u001b[0mm\u001b[0m \u001b[0;34m<=\u001b[0m \u001b[0;36m20\u001b[0m\u001b[0;34m,\u001b[0m \u001b[0;34m\"Evaluating over the whole domain \"\u001b[0m\u001b[0;31m \u001b[0m\u001b[0;31m\\\u001b[0m\u001b[0;34m\u001b[0m\u001b[0m\n\u001b[1;32m    698\u001b[0m             \u001b[0;34m\"has O(2**(m+d)) cost. Assertion raised since m+d is \"\u001b[0m\u001b[0;31m \u001b[0m\u001b[0;31m\\\u001b[0m\u001b[0;34m\u001b[0m\u001b[0m\n\u001b[0;32m--> 699\u001b[0;31m             \u001b[0;34m\"equal to {}, which exceeds the current limit of 20\"\u001b[0m\u001b[0;34m.\u001b[0m\u001b[0mformat\u001b[0m\u001b[0;34m(\u001b[0m\u001b[0md\u001b[0m\u001b[0;34m+\u001b[0m\u001b[0mm\u001b[0m\u001b[0;34m)\u001b[0m\u001b[0;34m\u001b[0m\u001b[0m\n\u001b[0m\u001b[1;32m    700\u001b[0m \u001b[0;34m\u001b[0m\u001b[0m\n\u001b[1;32m    701\u001b[0m         \u001b[0mU\u001b[0m \u001b[0;34m=\u001b[0m \u001b[0mself\u001b[0m\u001b[0;34m.\u001b[0m\u001b[0mget_all_binary_vectors\u001b[0m\u001b[0;34m(\u001b[0m\u001b[0md\u001b[0m\u001b[0;34m)\u001b[0m  \u001b[0;31m# (2**d, d)\u001b[0m\u001b[0;34m\u001b[0m\u001b[0m\n",
      "\u001b[0;31mAssertionError\u001b[0m: Evaluating over the whole domain has O(2**(m+d)) cost. Assertion raised since m+d is equal to 35, which exceeds the current limit of 20"
     ]
    }
   ],
   "source": [
    "true_model_vals = true_data_dist.evaluate_on_entire_domain(normalise=True)\n",
    "latent_nce_vals = model.evaluate_on_entire_domain(normalise=False)\n",
    "cd_vals = cd_model.evaluate_on_entire_domain(normalise=True)\n",
    "rnd_init_vals = random_init_model.evaluate_on_entire_domain(normalise=True)\n",
    "\n",
    "l1_norm_diff_true_nce = np.sum(np.abs(true_model_vals - latent_nce_vals))\n",
    "l1_norm_diff_true_cd = np.sum(np.abs(true_model_vals - cd_vals))\n",
    "l1_norm_diff_true_rnd_init = np.sum(np.abs(true_model_vals - rnd_init_vals))\n",
    "\n",
    "print('||true - latent nce||:   {:.4f}'.format(l1_norm_diff_true_nce))\n",
    "print('||true - cd||:           {:.4f}'.format(l1_norm_diff_true_cd))\n",
    "print('||true - random init||:  {:.4f}'.format(l1_norm_diff_true_rnd_init))"
   ]
  },
  {
   "cell_type": "markdown",
   "metadata": {},
   "source": [
    "### log-likelihood assigned to noise"
   ]
  },
  {
   "cell_type": "code",
   "execution_count": null,
   "metadata": {},
   "outputs": [],
   "source": [
    "print(\n",
    "'Under noise dist:   {} '\n",
    "'\\nUnder true dist:    {} '\n",
    "'\\nUnder learnt model: {}'.format(\n",
    "    np.mean(np.log(noise(optimiser.Y))), \n",
    "    np.mean(np.log(true_data_dist.normalised_and_marginalised_over_z(optimiser.Y)[0])),\n",
    "    np.mean(np.log(model.normalised_and_marginalised_over_z(optimiser.Y)[0]))                  \n",
    "    )\n",
    ")"
   ]
  },
  {
   "cell_type": "markdown",
   "metadata": {},
   "source": [
    "# Validation of synthetic dataset"
   ]
  },
  {
   "cell_type": "code",
   "execution_count": null,
   "metadata": {},
   "outputs": [],
   "source": [
    "\"\"\"all_visibles = true_data_dist.get_all_binary_vectors(d)\n",
    "visible_probs, true_dist_norm_const = true_data_dist.normalised_and_marginalised_over_z(all_visibles)\n",
    "print('Sum over all visible probabilities should equal 1. We got: {}'.format(sum(visible_probs)))\n",
    "\n",
    "print('-------------------------Visible probability checks--------------------------------------')\n",
    "for i in range(2**d):\n",
    "    freq = np.sum(np.product((X == all_visibles[i]), axis=-1))/ len(X)\n",
    "    print('{}:  Empirical frequency is {}. True probability is {}'.format(all_visibles[i], \n",
    "                                                                         freq, visible_probs[i]))\n",
    "print('normalisation constant is: {}'.format(true_dist_norm_const))\n",
    "\n",
    "all_hiddens = true_data_dist.get_all_binary_vectors(m)\n",
    "hidden_probs, _ = true_data_dist.normalised_and_marginalised_over_u(all_hiddens)\n",
    "\n",
    "print('Sum over all hidden probabilities should equal 1. We got: {}'.format(sum(hidden_probs)))\n",
    "\n",
    "var_dist.alpha = true_W.reshape(-1)\n",
    "Z_from_posterior_class = var_dist.sample(1000, X)\n",
    "\n",
    "print('-------------------------Hidden probability checks--------------------------------------')\n",
    "for i in range(2**m):\n",
    "    freq = np.mean(np.product((Z_from_posterior_class == all_hiddens[i]), axis=(-1)))\n",
    "    print('{}:  Empirical frequency is {}. True probability is {}'.format(all_hiddens[i], \n",
    "                                                                         freq, hidden_probs[i]))\"\"\""
   ]
  }
 ],
 "metadata": {
  "kernelspec": {
   "display_name": "Python 3",
   "language": "python",
   "name": "python3"
  },
  "language_info": {
   "codemirror_mode": {
    "name": "ipython",
    "version": 3
   },
   "file_extension": ".py",
   "mimetype": "text/x-python",
   "name": "python",
   "nbconvert_exporter": "python",
   "pygments_lexer": "ipython3",
   "version": "3.6.4"
  }
 },
 "nbformat": 4,
 "nbformat_minor": 2
}
