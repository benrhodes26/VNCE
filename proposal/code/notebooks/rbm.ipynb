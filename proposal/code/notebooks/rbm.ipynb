{
 "cells": [
  {
   "cell_type": "code",
   "execution_count": 4,
   "metadata": {},
   "outputs": [],
   "source": [
    "import os\n",
    "import sys\n",
    "nb_dir = os.path.split(os.getcwd())[0]\n",
    "if nb_dir not in sys.path:\n",
    "    sys.path.append(nb_dir)"
   ]
  },
  {
   "cell_type": "code",
   "execution_count": 7,
   "metadata": {},
   "outputs": [],
   "source": [
    "import numpy as np\n",
    "import pdb\n",
    "\n",
    "# my code\n",
    "from distribution import RBMLatentPosterior, MultivariateBernoulliNoise, ChowLiuTree\n",
    "from contrastive_divergence_optimiser import CDOptimiser\n",
    "from fully_observed_models import VisibleRestrictedBoltzmannMachine\n",
    "from latent_nce_optimiser import LatentNCEOptimiser\n",
    "from latent_variable_model import RestrictedBoltzmannMachine\n",
    "from nce_optimiser import NCEOptimiser\n",
    "from utils import get_true_weights, plot_rbm_parameters, plot_log_likelihood_training_curves, \\\n",
    "rescale_times, average_log_likelihood\n",
    "\n",
    "from copy import deepcopy\n",
    "from matplotlib import pyplot as plt\n",
    "from matplotlib import rc\n",
    "from numpy import random as rnd\n",
    "\n",
    "%matplotlib inline\n",
    "rc('lines', linewidth=1)\n",
    "rc('font', size=18)\n",
    "rc('legend', fontsize=18)\n",
    "\n",
    "# For reproducibility\n",
    "rng = rnd.RandomState(1083463236)\n",
    "\n",
    "float_formatter = lambda x: \"%.2f\" % x\n",
    "np.set_printoptions(formatter={'float_kind':float_formatter})"
   ]
  },
  {
   "cell_type": "markdown",
   "metadata": {},
   "source": [
    "# Setup"
   ]
  },
  {
   "cell_type": "markdown",
   "metadata": {},
   "source": [
    "#### data"
   ]
  },
  {
   "cell_type": "code",
   "execution_count": 3,
   "metadata": {},
   "outputs": [],
   "source": [
    "n = 10000 # number of datapoints\n",
    "nz = 1  # number latent samples per datapoint\n",
    "nu = 1  # ratio of noise to data samples for NCE\n",
    "num_gibbs_steps_for_synthetic_data = 200"
   ]
  },
  {
   "cell_type": "markdown",
   "metadata": {},
   "source": [
    "#### model"
   ]
  },
  {
   "cell_type": "code",
   "execution_count": 45,
   "metadata": {},
   "outputs": [],
   "source": [
    "d = 20  # visible dimension\n",
    "m = 15  # latent dimension\n",
    "\n",
    "# true_W = get_true_weights(d, m)\n",
    "true_W = rng.randn(d+1, m+1)*1 # true setting of the weights, that we are trying to learn\n",
    "\"\"\"true_W = np.array([[0, 0],\n",
    "                   [-3, 6],\n",
    "                   [3, -6]], dtype=np.float32)\"\"\"\n",
    "true_W[0, 0] = 0\n",
    "# theta0 = np.array(true_W)"
   ]
  },
  {
   "cell_type": "markdown",
   "metadata": {},
   "source": [
    "#### optimisation"
   ]
  },
  {
   "cell_type": "code",
   "execution_count": 46,
   "metadata": {},
   "outputs": [],
   "source": [
    "# tolerances used to determine when iterations stop in scipy minimize (used in LatentNCEOptimiser)\n",
    "ftol = 1e-5\n",
    "maxiter = 20\n",
    "stop_threshold = 1e-5\n",
    "max_num_em_steps = 40\n",
    "opt_method='L-BFGS-B'\n",
    "\n",
    "# hyperparameters used in CDOptimiser (contrastive divergence optimiser)\n",
    "cd_num_steps = 1\n",
    "cd_learn_rate = 0.01\n",
    "cd_batch_size = 10\n",
    "cd_num_epochs = 100\n",
    "\n",
    "time_step_size = 3  # determines how frequently we calculate log-likelihood for plotting optimisation curves"
   ]
  },
  {
   "cell_type": "markdown",
   "metadata": {},
   "source": [
    "#### boolean switches"
   ]
  },
  {
   "cell_type": "code",
   "execution_count": 47,
   "metadata": {},
   "outputs": [],
   "source": [
    "optimise_scaling_param_separately = False\n",
    "\n",
    "use_chow_liu = False\n",
    "use_marginals = True\n",
    "\n",
    "assert use_chow_liu != use_marginals"
   ]
  },
  {
   "cell_type": "markdown",
   "metadata": {},
   "source": [
    "# Data, Model & Optimiser definition"
   ]
  },
  {
   "cell_type": "markdown",
   "metadata": {},
   "source": [
    "#### sample a synthetic dataset"
   ]
  },
  {
   "cell_type": "code",
   "execution_count": 48,
   "metadata": {},
   "outputs": [
    {
     "name": "stdout",
     "output_type": "stream",
     "text": [
      "CPU times: user 2.1 s, sys: 11.9 ms, total: 2.11 s\n",
      "Wall time: 2.09 s\n"
     ]
    }
   ],
   "source": [
    "%%time\n",
    "true_data_dist = RestrictedBoltzmannMachine(true_W)\n",
    "X, Z = true_data_dist.sample(n, num_iter=num_gibbs_steps_for_synthetic_data)"
   ]
  },
  {
   "cell_type": "code",
   "execution_count": 49,
   "metadata": {},
   "outputs": [],
   "source": [
    "# initialise visible biases as recommended by Hinton\n",
    "X_mean = np.mean(X, axis=0)"
   ]
  },
  {
   "cell_type": "code",
   "execution_count": 50,
   "metadata": {},
   "outputs": [],
   "source": [
    "theta0 = np.asarray(\n",
    "    rng.uniform(\n",
    "        low=-4 * np.sqrt(6. / (d + m)),\n",
    "        high=4 * np.sqrt(6. / (d + m)),\n",
    "        size=(d+1, m+1)\n",
    "    ))\n",
    "theta0[1:, 0] = np.log(X_mean / (1 - X_mean) + 1e-15)  # visible biases\n",
    "theta0[0, 0] = -m * np.log(2) + np.sum(np.log(1 - X_mean + 1e-15))  # scaling parameter\n",
    "theta0[0, 1:] = 0  # hidden biases"
   ]
  },
  {
   "cell_type": "markdown",
   "metadata": {},
   "source": [
    "#### initialise three models for comparison"
   ]
  },
  {
   "cell_type": "code",
   "execution_count": 51,
   "metadata": {},
   "outputs": [],
   "source": [
    "model = RestrictedBoltzmannMachine(deepcopy(theta0))\n",
    "cd_model = RestrictedBoltzmannMachine(deepcopy(theta0))\n",
    "nce_model = VisibleRestrictedBoltzmannMachine(deepcopy(theta0))\n",
    "random_init_model = RestrictedBoltzmannMachine(deepcopy(theta0))"
   ]
  },
  {
   "cell_type": "markdown",
   "metadata": {},
   "source": [
    "#### specify noise distribution"
   ]
  },
  {
   "cell_type": "code",
   "execution_count": 52,
   "metadata": {},
   "outputs": [],
   "source": [
    "if use_chow_liu:\n",
    "    noise = ChowLiuTree(X)\n",
    "if use_marginals:\n",
    "    noise = MultivariateBernoulliNoise(X_mean)"
   ]
  },
  {
   "cell_type": "code",
   "execution_count": 53,
   "metadata": {},
   "outputs": [
    {
     "name": "stdout",
     "output_type": "stream",
     "text": [
      "log likelihood of chow liu-tree noise: -7.430443111601639\n",
      "log likelihood of marginal noise: -7.5618032841041805\n",
      "average prob of data under chow liu-tree noise: 0.0034204127376834927\n",
      "average prob of data under marginal noise: 0.003001757544732919\n"
     ]
    }
   ],
   "source": [
    "marginal_noise = MultivariateBernoulliNoise(X_mean)\n",
    "chow_liu_noise = ChowLiuTree(X)\n",
    "print('log likelihood of chow liu-tree noise: {}'.format(np.mean(np.log(chow_liu_noise(X)))))\n",
    "print('log likelihood of marginal noise: {}'.format(np.mean(np.log(marginal_noise(X)))))\n",
    "print('average prob of data under chow liu-tree noise: {}'.format(np.mean(chow_liu_noise(X))))\n",
    "print('average prob of data under marginal noise: {}'.format(np.mean(marginal_noise(X))))"
   ]
  },
  {
   "cell_type": "markdown",
   "metadata": {},
   "source": [
    "#### specify exact posterior distribution"
   ]
  },
  {
   "cell_type": "code",
   "execution_count": 54,
   "metadata": {},
   "outputs": [],
   "source": [
    "var_dist = RBMLatentPosterior(theta0)  # true posterior, which has an analytic expression"
   ]
  },
  {
   "cell_type": "markdown",
   "metadata": {},
   "source": [
    "#### construct optimisers"
   ]
  },
  {
   "cell_type": "code",
   "execution_count": 55,
   "metadata": {
    "scrolled": false
   },
   "outputs": [
    {
     "name": "stdout",
     "output_type": "stream",
     "text": [
      "CPU times: user 4.39 ms, sys: 1.09 ms, total: 5.48 ms\n",
      "Wall time: 4.5 ms\n"
     ]
    }
   ],
   "source": [
    "%%time\n",
    "optimiser = LatentNCEOptimiser(model, noise, var_dist, n, nu=nu, latent_samples_per_datapoint=nz)\n",
    "cd_optimiser = CDOptimiser(cd_model)\n",
    "nce_optimiser = NCEOptimiser(nce_model, noise, n, nu=nu)"
   ]
  },
  {
   "cell_type": "markdown",
   "metadata": {},
   "source": [
    "#### log of true normalisation constant"
   ]
  },
  {
   "cell_type": "code",
   "execution_count": 56,
   "metadata": {
    "scrolled": true
   },
   "outputs": [
    {
     "name": "stdout",
     "output_type": "stream",
     "text": [
      "-44.8952\n"
     ]
    }
   ],
   "source": [
    "true_data_dist.reset_norm_const()\n",
    "true_norm_const = true_data_dist.norm_const\n",
    "true_W[0, 0] = -np.log(true_norm_const)\n",
    "print('{:.4f}'.format(-np.log(true_norm_const)))"
   ]
  },
  {
   "cell_type": "markdown",
   "metadata": {},
   "source": [
    "#### log of normalising constant for random initialisation"
   ]
  },
  {
   "cell_type": "code",
   "execution_count": 57,
   "metadata": {},
   "outputs": [
    {
     "name": "stdout",
     "output_type": "stream",
     "text": [
      "should be reasonably close to 0: 13.2977\n"
     ]
    }
   ],
   "source": [
    "random_init_model.reset_norm_const()\n",
    "rnd_norm_const = random_init_model.norm_const\n",
    "print('should be reasonably close to 0: {:.4f}'.format(np.log(rnd_norm_const)))"
   ]
  },
  {
   "cell_type": "markdown",
   "metadata": {},
   "source": [
    "#### starting value of scaling parameter"
   ]
  },
  {
   "cell_type": "code",
   "execution_count": 58,
   "metadata": {},
   "outputs": [
    {
     "name": "stdout",
     "output_type": "stream",
     "text": [
      "-42.22269065585287\n"
     ]
    }
   ],
   "source": [
    "print(theta0[0,0])"
   ]
  },
  {
   "cell_type": "markdown",
   "metadata": {},
   "source": [
    "# Optimisation"
   ]
  },
  {
   "cell_type": "code",
   "execution_count": 18,
   "metadata": {},
   "outputs": [],
   "source": [
    "scaling_param_ind = np.array([0])\n",
    "other_param_inds = np.arange(1, len(model.theta))\n",
    "all_inds = np.arange(len(model.theta))"
   ]
  },
  {
   "cell_type": "markdown",
   "metadata": {},
   "source": [
    "#### optimise with respect to scaling parameter, if switch is on"
   ]
  },
  {
   "cell_type": "code",
   "execution_count": 19,
   "metadata": {},
   "outputs": [
    {
     "name": "stdout",
     "output_type": "stream",
     "text": [
      "CPU times: user 2 µs, sys: 1 µs, total: 3 µs\n",
      "Wall time: 7.15 µs\n"
     ]
    }
   ],
   "source": [
    "%%time\n",
    "if optimise_scaling_param_separately:\n",
    "    thetas_after_em_step_scale_param, J1s_scale, nce_times_scale = \\\n",
    "    optimiser.fit_using_analytic_q(X,\n",
    "                                   scaling_param_ind, \n",
    "                                   theta0=theta0.reshape(-1),\n",
    "                                   ftol=ftol, \n",
    "                                   opt_method=opt_method,\n",
    "                                   plot=False, \n",
    "                                   disp=True)"
   ]
  },
  {
   "cell_type": "code",
   "execution_count": 20,
   "metadata": {},
   "outputs": [],
   "source": [
    "if optimise_scaling_param_separately:\n",
    "    fig = optimiser.plot_loss_curve(J1s_scale, true_theta = true_W.reshape(-1), X=X)"
   ]
  },
  {
   "cell_type": "markdown",
   "metadata": {},
   "source": [
    "#### optimise with respect to all parameters"
   ]
  },
  {
   "cell_type": "code",
   "execution_count": 21,
   "metadata": {
    "scrolled": false
   },
   "outputs": [
    {
     "name": "stdout",
     "output_type": "stream",
     "text": [
      "1 EM step: J1 = -1.4797173754696513\n",
      "2 EM step: J1 = -1.3815109593030728\n",
      "3 EM step: J1 = -1.362952096882444\n",
      "4 EM step: J1 = -1.3517776112218822\n",
      "5 EM step: J1 = -1.3463050408834487\n",
      "6 EM step: J1 = -1.3421660411176153\n",
      "7 EM step: J1 = -1.3392382275932952\n",
      "8 EM step: J1 = -1.3366105699210769\n",
      "9 EM step: J1 = -1.33526611016321\n",
      "10 EM step: J1 = -1.3341354231486822\n",
      "11 EM step: J1 = -1.3326799483865677\n",
      "12 EM step: J1 = -1.3311950408270077\n",
      "13 EM step: J1 = -1.3308316991026399\n",
      "14 EM step: J1 = -1.330396493202466\n",
      "15 EM step: J1 = -1.3300820773923006\n",
      "16 EM step: J1 = -1.3291141396418809\n",
      "17 EM step: J1 = -1.3288550185609735\n",
      "18 EM step: J1 = -1.328695867525036\n",
      "19 EM step: J1 = -1.3285935461644538\n",
      "20 EM step: J1 = -1.32780428469894\n",
      "21 EM step: J1 = -1.3272566669180472\n",
      "22 EM step: J1 = -1.327179910419841\n",
      "23 EM step: J1 = -1.3267188526311124\n",
      "24 EM step: J1 = -1.3266458877856784\n",
      "25 EM step: J1 = -1.3265778492796927\n",
      "26 EM step: J1 = -1.3266405793511387\n",
      "27 EM step: J1 = -1.3264275553268743\n",
      "28 EM step: J1 = -1.3262655571659447\n",
      "29 EM step: J1 = -1.3259642226805963\n",
      "30 EM step: J1 = -1.326157623310173\n",
      "31 EM step: J1 = -1.3255101775610454\n",
      "32 EM step: J1 = -1.3256148502699623\n",
      "33 EM step: J1 = -1.325514137892549\n",
      "34 EM step: J1 = -1.325285527458027\n",
      "35 EM step: J1 = -1.3252319235546057\n",
      "36 EM step: J1 = -1.3252938299887824\n",
      "37 EM step: J1 = -1.3249975393147129\n",
      "38 EM step: J1 = -1.3249268930804683\n",
      "39 EM step: J1 = -1.3246797974940192\n",
      "40 EM step: J1 = -1.3250757245425508\n",
      "CPU times: user 1min 14s, sys: 16.2 s, total: 1min 30s\n",
      "Wall time: 1min 30s\n"
     ]
    }
   ],
   "source": [
    "%%time\n",
    "thetas_after_em_step, J1s, nce_times = optimiser.fit_using_analytic_q(X, \n",
    "                                                                      theta0=model.theta,\n",
    "                                                                      ftol=ftol, \n",
    "                                                                      maxiter=maxiter,\n",
    "                                                                      stop_threshold=stop_threshold,\n",
    "                                                                      max_num_em_steps=max_num_em_steps,\n",
    "                                                                      opt_method=opt_method,\n",
    "                                                                      disp=True, \n",
    "                                                                      plot=False)\n",
    "latent_nce_estimate = deepcopy(model.theta)"
   ]
  },
  {
   "cell_type": "code",
   "execution_count": 22,
   "metadata": {
    "scrolled": false
   },
   "outputs": [
    {
     "data": {
      "image/png": "[encoded data removed]",
      "text/plain": [
       "<matplotlib.figure.Figure at 0x7ff35e41e710>"
      ]
     },
     "metadata": {},
     "output_type": "display_data"
    }
   ],
   "source": [
    "optimal_J1 = optimiser.evaluate_J1_at_param(theta=true_W.reshape(-1), X=X)\n",
    "fig = optimiser.plot_loss_curve(maxiter=None, optimal_J1=optimal_J1)"
   ]
  },
  {
   "cell_type": "markdown",
   "metadata": {},
   "source": [
    "#### learn parameters using standard NCE"
   ]
  },
  {
   "cell_type": "code",
   "execution_count": 59,
   "metadata": {
    "scrolled": false
   },
   "outputs": [
    {
     "name": "stdout",
     "output_type": "stream",
     "text": [
      "CPU times: user 3min 41s, sys: 34.2 ms, total: 3min 41s\n",
      "Wall time: 3min 41s\n"
     ]
    },
    {
     "data": {
      "image/png": "[encoded data removed]",
      "text/plain": [
       "<matplotlib.figure.Figure at 0x7ff355d5a080>"
      ]
     },
     "metadata": {},
     "output_type": "display_data"
    }
   ],
   "source": [
    "%%time\n",
    "nce_thetas, nce_Js, nce_times = nce_optimiser.fit(X, theta0=theta0.reshape(-1))\n",
    "nce_estimate = deepcopy(nce_model.theta)"
   ]
  },
  {
   "cell_type": "markdown",
   "metadata": {},
   "source": [
    "#### learn parameters using contrastive divergence"
   ]
  },
  {
   "cell_type": "code",
   "execution_count": 24,
   "metadata": {},
   "outputs": [
    {
     "name": "stdout",
     "output_type": "stream",
     "text": [
      "CPU times: user 18 s, sys: 108 ms, total: 18.1 s\n",
      "Wall time: 18.1 s\n"
     ]
    }
   ],
   "source": [
    "%%time\n",
    "thetas_after_each_minibatch, cd_times = cd_optimiser.fit(X, \n",
    "                                                         theta0=theta0.reshape(-1), \n",
    "                                                         num_gibbs_steps=cd_num_steps,\n",
    "                                                         learning_rate=cd_learn_rate, \n",
    "                                                         batch_size=cd_batch_size, \n",
    "                                                         num_epochs=cd_num_epochs)\n",
    "cd_estimate =  deepcopy(cd_model.theta)"
   ]
  },
  {
   "cell_type": "markdown",
   "metadata": {},
   "source": [
    "# Results"
   ]
  },
  {
   "cell_type": "markdown",
   "metadata": {},
   "source": [
    "## Log-likelihood on training set"
   ]
  },
  {
   "cell_type": "markdown",
   "metadata": {},
   "source": [
    "### $ \\mathbb{E}_{x \\sim P_{data}} \\log(P_{data}(x)) \\ \\ \\text{and} \\ \\ \\mathbb{E}_{x \\sim P_{data}} \\log(P_{lnce}(x)) \\ \\ \\text{and} \\ \\ \\mathbb{E}_{x \\sim P_{data}} \\log(P_{cd}(x))  $"
   ]
  },
  {
   "cell_type": "code",
   "execution_count": 25,
   "metadata": {
    "scrolled": true
   },
   "outputs": [
    {
     "name": "stdout",
     "output_type": "stream",
     "text": [
      "True:       -6.5184 \n",
      "Latent NCE: -6.5340 \n",
      "CD:         -6.5321\n",
      "NCE:         -8.1835\n",
      "Random init:-17.0687 \n",
      "Noise:      -6.6532\n",
      "CPU times: user 737 ms, sys: 99.6 ms, total: 837 ms\n",
      "Wall time: 821 ms\n"
     ]
    }
   ],
   "source": [
    "%%time\n",
    "true_dist_probs_of_true_data, _ = true_data_dist.normalised_and_marginalised_over_z(X)\n",
    "latent_nce_probs_of_true_data, _ = model.normalised_and_marginalised_over_z(X)\n",
    "cd_probs_of_true_data, _ = cd_model.normalised_and_marginalised_over_z(X)\n",
    "nce_probs_of_true_data = nce_model(X, normalise=True)\n",
    "random_probs_of_true_data, _ = random_init_model.normalised_and_marginalised_over_z(X)\n",
    "print('True:       {:.4f} \\nLatent NCE: {:.4f} \\nCD:         {:.4f}'\n",
    "      '\\nNCE:         {:.4f}\\nRandom init:{:.4f} \\nNoise:      {:.4f}'.format(\n",
    "    np.mean(np.log(true_dist_probs_of_true_data)), \n",
    "    np.mean(np.log(latent_nce_probs_of_true_data)),\n",
    "    np.mean(np.log(cd_probs_of_true_data)),\n",
    "    np.mean(np.log(nce_probs_of_true_data)),\n",
    "    np.mean(np.log(random_probs_of_true_data)),\n",
    "    np.mean(np.log(noise(X)))\n",
    "))"
   ]
  },
  {
   "cell_type": "code",
   "execution_count": 26,
   "metadata": {},
   "outputs": [],
   "source": [
    "optimiser.times = optimiser.times[::time_step_size]\n",
    "optimiser.J1s = optimiser.J1s[::time_step_size]\n",
    "optimiser.thetas = optimiser.thetas[::time_step_size]\n",
    "\n",
    "# rescale cd timings so they are comparable to lnce timings\n",
    "cd_optimiser.times, cd_time_ids = rescale_cd_times(deepcopy(optimiser.times),\n",
    "                                                   deepcopy(cd_optimiser.times))\n",
    "cd_optimiser.thetas = cd_optimiser.thetas[cd_time_ids]\n",
    "\n",
    "nce_optimiser.times = nce_optimiser.times[::time_step_size]\n",
    "nce_optimiser.Js = nce_optimiser.Js[::time_step_size]\n",
    "nce_optimiser.thetas = nce_optimiser.thetas[::time_step_size]"
   ]
  },
  {
   "cell_type": "code",
   "execution_count": 27,
   "metadata": {
    "scrolled": true
   },
   "outputs": [],
   "source": [
    "av_log_like_lnce = optimiser.av_log_like_for_each_iter(X)\n",
    "av_log_like_cd = cd_optimiser.av_log_like_for_each_iter(X)\n",
    "av_log_like_nce = nce_optimiser.av_log_like_for_each_iter(X)\n",
    "true_log_like = average_log_likelihood(true_data_dist, X)\n",
    "init_log_like = average_log_likelihood(random_init_model, X)\n",
    "noise_log_like = np.mean(np.log(noise(X)))"
   ]
  },
  {
   "cell_type": "code",
   "execution_count": 28,
   "metadata": {},
   "outputs": [],
   "source": [
    "training_curves = [(optimiser.times, av_log_like_lnce, 'lnce'), \n",
    "                  (cd_optimiser.times, av_log_like_cd, 'cd'), \n",
    "                  (nce_optimiser.times, av_log_like_nce, 'nce')]\n",
    "static_lines = [(true_log_like, 'true'),\n",
    "               (init_log_like, 'initial'),\n",
    "               (noise_log_like, 'noise')]"
   ]
  },
  {
   "cell_type": "code",
   "execution_count": 43,
   "metadata": {},
   "outputs": [
    {
     "data": {
      "text/plain": [
       "<matplotlib.legend.Legend at 0x7ff3559733c8>"
      ]
     },
     "execution_count": 43,
     "metadata": {},
     "output_type": "execute_result"
    },
    {
     "data": {
      "image/png": "[encoded data removed]",
      "text/plain": [
       "<matplotlib.figure.Figure at 0x7ff355973978>"
      ]
     },
     "metadata": {},
     "output_type": "display_data"
    }
   ],
   "source": [
    "fig = plot_log_likelihood_training_curves(training_curves, static_lines)\n",
    "ax = fig.gca()\n",
    "ax.set_ylim(-6.7, -6.5)\n",
    "ax.legend(loc='lower right')"
   ]
  },
  {
   "cell_type": "markdown",
   "metadata": {},
   "source": [
    "### Scaling parameter"
   ]
  },
  {
   "cell_type": "code",
   "execution_count": 30,
   "metadata": {
    "scrolled": false
   },
   "outputs": [
    {
     "name": "stdout",
     "output_type": "stream",
     "text": [
      "Learnt Scaling param is:              -27.3175\n",
      "log of norm const of data distribution is:   -29.0998\n"
     ]
    }
   ],
   "source": [
    "print('Learnt Scaling param is:              {:.4f}'.format(latent_nce_estimate[0]))\n",
    "print('log of norm const of data distribution is:   {:.4f}'.format(-np.log(true_norm_const)))"
   ]
  },
  {
   "cell_type": "code",
   "execution_count": 31,
   "metadata": {},
   "outputs": [
    {
     "name": "stdout",
     "output_type": "stream",
     "text": [
      "We hope that the normalisation constant of the learnt model is 1. In reality it is: 1.0250635645870454 \n"
     ]
    }
   ],
   "source": [
    "model.reset_norm_const()\n",
    "print('We hope that the normalisation constant of the learnt model is 1. In reality it is: {} '.format(\n",
    "    model.norm_const))"
   ]
  },
  {
   "cell_type": "markdown",
   "metadata": {},
   "source": [
    "## Visualisations of parameters"
   ]
  },
  {
   "cell_type": "code",
   "execution_count": 32,
   "metadata": {},
   "outputs": [],
   "source": [
    "params = [true_data_dist.theta, model.theta, cd_model.theta, random_init_model.theta]\n",
    "titles = ['True parameters', 'Latent NCE parameters',  \n",
    "          'Contrastive divergence parameters', 'Randomly initialised parameters']"
   ]
  },
  {
   "cell_type": "code",
   "execution_count": 33,
   "metadata": {
    "scrolled": false
   },
   "outputs": [
    {
     "data": {
      "image/png": "[encoded data removed]",
      "text/plain": [
       "<matplotlib.figure.Figure at 0x7ff355321b38>"
      ]
     },
     "metadata": {},
     "output_type": "display_data"
    }
   ],
   "source": [
    "fig = plot_rbm_parameters(params, titles, d, m, with_bias=False, figsize=(10, 15))"
   ]
  },
  {
   "cell_type": "markdown",
   "metadata": {},
   "source": [
    "## Frobenius norm of true parameters minus model parameters"
   ]
  },
  {
   "cell_type": "code",
   "execution_count": 34,
   "metadata": {},
   "outputs": [
    {
     "name": "stdout",
     "output_type": "stream",
     "text": [
      "true vs latent nce:   19.9346\n",
      "true vs cd:           19.4924\n",
      "true vs random init:  21.2803\n",
      "nce vs cd:            9.8361\n"
     ]
    }
   ],
   "source": [
    "# NOTE: we exclude the scaling parameter in all comparisons\n",
    "\n",
    "nce_true_param_diff = (true_W - latent_nce_estimate.reshape(d+1, m+1)).reshape(-1)[1:]\n",
    "sq_diff_nce_true = np.dot(nce_true_param_diff, nce_true_param_diff)**0.5\n",
    "\n",
    "cd_true_param_diff = (true_W - cd_estimate.reshape(d+1, m+1)).reshape(-1)[1:]\n",
    "sq_diff_cd_true = np.dot(cd_true_param_diff, cd_true_param_diff)**0.5\n",
    "\n",
    "random_true_param_diff = (true_W - theta0).reshape(-1)[1:]\n",
    "sq_diff_rand_true = np.dot(random_true_param_diff, random_true_param_diff)**0.5\n",
    "\n",
    "nce_cd_param_diff = (latent_nce_estimate - cd_estimate)[1:]\n",
    "sq_diff_nce_cd = np.dot(nce_cd_param_diff, nce_cd_param_diff)**0.5\n",
    "\n",
    "print('true vs latent nce:   {:.4f}'.format(sq_diff_nce_true))\n",
    "print('true vs cd:           {:.4f}'.format(sq_diff_cd_true))\n",
    "print('true vs random init:  {:.4f}'.format(sq_diff_rand_true))\n",
    "print('nce vs cd:            {:.4f}'.format(sq_diff_nce_cd))"
   ]
  },
  {
   "cell_type": "markdown",
   "metadata": {},
   "source": [
    "## Histograms of posterior distribution during learning"
   ]
  },
  {
   "cell_type": "code",
   "execution_count": 35,
   "metadata": {},
   "outputs": [],
   "source": [
    "thetas = list(thetas_after_em_step)\n",
    "thetas.append(true_W.reshape(-1))\n",
    "num_thetas = len(thetas)"
   ]
  },
  {
   "cell_type": "code",
   "execution_count": 36,
   "metadata": {},
   "outputs": [],
   "source": [
    "if m <= 5:    \n",
    "    all_latents = model.get_all_binary_vectors(m)\n",
    "    all_latents_tiled = np.repeat(all_latents, len(X)).reshape(len(all_latents), len(X), m)\n",
    "    fig, axs = plt.subplots(int(np.ceil(num_thetas/4)), 4, figsize=(15, 7))\n",
    "    axs = axs.ravel()\n",
    "    for i, ax in enumerate(axs):\n",
    "        if i == num_thetas:\n",
    "            break\n",
    "        theta_i = thetas[i]\n",
    "        var_dist.alpha = theta_i.reshape(-1)\n",
    "        var_dist_probs = var_dist(all_latents_tiled, X)\n",
    "        ax.hist(var_dist_probs.reshape(-1), bins=int(0.1*var_dist_probs.size**0.5))\n",
    "        ax.set_yticks([])"
   ]
  },
  {
   "cell_type": "markdown",
   "metadata": {},
   "source": [
    "## L1 norm between model joint & true joint"
   ]
  },
  {
   "cell_type": "markdown",
   "metadata": {},
   "source": [
    "$$ \\| \\phi - p_{data} \\|_1 = \\sum_{\\textbf{v} \\in \\{0,1\\}^{d}} \\sum_{\\textbf{h} \\in \\{0,1\\}^{m}} |\\phi(\\textbf{v}, \\textbf{h}) - p_{data}(\\textbf{v}, \\textbf{h}) | $$"
   ]
  },
  {
   "cell_type": "code",
   "execution_count": 37,
   "metadata": {
    "scrolled": true
   },
   "outputs": [
    {
     "ename": "AssertionError",
     "evalue": "Evaluating over the whole domain has O(2**(m+d)) cost. Assertion raised since m+d is equal to 25, which exceeds the current limit of 20",
     "output_type": "error",
     "traceback": [
      "\u001b[0;31m---------------------------------------------------------------------------\u001b[0m",
      "\u001b[0;31mAssertionError\u001b[0m                            Traceback (most recent call last)",
      "\u001b[0;32m<ipython-input-37-fc91a6f3092e>\u001b[0m in \u001b[0;36m<module>\u001b[0;34m()\u001b[0m\n\u001b[0;32m----> 1\u001b[0;31m \u001b[0mtrue_model_vals\u001b[0m \u001b[0;34m=\u001b[0m \u001b[0mtrue_data_dist\u001b[0m\u001b[0;34m.\u001b[0m\u001b[0mevaluate_on_entire_domain\u001b[0m\u001b[0;34m(\u001b[0m\u001b[0mnormalise\u001b[0m\u001b[0;34m=\u001b[0m\u001b[0;32mTrue\u001b[0m\u001b[0;34m)\u001b[0m\u001b[0;34m\u001b[0m\u001b[0m\n\u001b[0m\u001b[1;32m      2\u001b[0m \u001b[0mlatent_nce_vals\u001b[0m \u001b[0;34m=\u001b[0m \u001b[0mmodel\u001b[0m\u001b[0;34m.\u001b[0m\u001b[0mevaluate_on_entire_domain\u001b[0m\u001b[0;34m(\u001b[0m\u001b[0mnormalise\u001b[0m\u001b[0;34m=\u001b[0m\u001b[0;32mFalse\u001b[0m\u001b[0;34m)\u001b[0m\u001b[0;34m\u001b[0m\u001b[0m\n\u001b[1;32m      3\u001b[0m \u001b[0mcd_vals\u001b[0m \u001b[0;34m=\u001b[0m \u001b[0mcd_model\u001b[0m\u001b[0;34m.\u001b[0m\u001b[0mevaluate_on_entire_domain\u001b[0m\u001b[0;34m(\u001b[0m\u001b[0mnormalise\u001b[0m\u001b[0;34m=\u001b[0m\u001b[0;32mTrue\u001b[0m\u001b[0;34m)\u001b[0m\u001b[0;34m\u001b[0m\u001b[0m\n\u001b[1;32m      4\u001b[0m \u001b[0mrnd_init_vals\u001b[0m \u001b[0;34m=\u001b[0m \u001b[0mrandom_init_model\u001b[0m\u001b[0;34m.\u001b[0m\u001b[0mevaluate_on_entire_domain\u001b[0m\u001b[0;34m(\u001b[0m\u001b[0mnormalise\u001b[0m\u001b[0;34m=\u001b[0m\u001b[0;32mTrue\u001b[0m\u001b[0;34m)\u001b[0m\u001b[0;34m\u001b[0m\u001b[0m\n\u001b[1;32m      5\u001b[0m \u001b[0;34m\u001b[0m\u001b[0m\n",
      "\u001b[0;32m~/masters-project/ben-rhodes-masters-project/proposal/code/latent_variable_model.py\u001b[0m in \u001b[0;36mevaluate_on_entire_domain\u001b[0;34m(self, normalise, reset_norm_const)\u001b[0m\n\u001b[1;32m    703\u001b[0m         \u001b[0;32massert\u001b[0m \u001b[0md\u001b[0m \u001b[0;34m+\u001b[0m \u001b[0mm\u001b[0m \u001b[0;34m<=\u001b[0m \u001b[0;36m20\u001b[0m\u001b[0;34m,\u001b[0m \u001b[0;34m\"Evaluating over the whole domain \"\u001b[0m\u001b[0;31m \u001b[0m\u001b[0;31m\\\u001b[0m\u001b[0;34m\u001b[0m\u001b[0m\n\u001b[1;32m    704\u001b[0m             \u001b[0;34m\"has O(2**(m+d)) cost. Assertion raised since m+d is \"\u001b[0m\u001b[0;31m \u001b[0m\u001b[0;31m\\\u001b[0m\u001b[0;34m\u001b[0m\u001b[0m\n\u001b[0;32m--> 705\u001b[0;31m             \u001b[0;34m\"equal to {}, which exceeds the current limit of 20\"\u001b[0m\u001b[0;34m.\u001b[0m\u001b[0mformat\u001b[0m\u001b[0;34m(\u001b[0m\u001b[0md\u001b[0m\u001b[0;34m+\u001b[0m\u001b[0mm\u001b[0m\u001b[0;34m)\u001b[0m\u001b[0;34m\u001b[0m\u001b[0m\n\u001b[0m\u001b[1;32m    706\u001b[0m \u001b[0;34m\u001b[0m\u001b[0m\n\u001b[1;32m    707\u001b[0m         \u001b[0mU\u001b[0m \u001b[0;34m=\u001b[0m \u001b[0mself\u001b[0m\u001b[0;34m.\u001b[0m\u001b[0mget_all_binary_vectors\u001b[0m\u001b[0;34m(\u001b[0m\u001b[0md\u001b[0m\u001b[0;34m)\u001b[0m  \u001b[0;31m# (2**d, d)\u001b[0m\u001b[0;34m\u001b[0m\u001b[0m\n",
      "\u001b[0;31mAssertionError\u001b[0m: Evaluating over the whole domain has O(2**(m+d)) cost. Assertion raised since m+d is equal to 25, which exceeds the current limit of 20"
     ]
    }
   ],
   "source": [
    "true_model_vals = true_data_dist.evaluate_on_entire_domain(normalise=True)\n",
    "latent_nce_vals = model.evaluate_on_entire_domain(normalise=False)\n",
    "cd_vals = cd_model.evaluate_on_entire_domain(normalise=True)\n",
    "rnd_init_vals = random_init_model.evaluate_on_entire_domain(normalise=True)\n",
    "\n",
    "l1_norm_diff_true_nce = np.sum(np.abs(true_model_vals - latent_nce_vals))\n",
    "l1_norm_diff_true_cd = np.sum(np.abs(true_model_vals - cd_vals))\n",
    "l1_norm_diff_true_rnd_init = np.sum(np.abs(true_model_vals - rnd_init_vals))\n",
    "\n",
    "print('||true - latent nce||:   {:.4f}'.format(l1_norm_diff_true_nce))\n",
    "print('||true - cd||:           {:.4f}'.format(l1_norm_diff_true_cd))\n",
    "print('||true - random init||:  {:.4f}'.format(l1_norm_diff_true_rnd_init))"
   ]
  },
  {
   "cell_type": "markdown",
   "metadata": {},
   "source": [
    "### log-likelihood assigned to noise"
   ]
  },
  {
   "cell_type": "code",
   "execution_count": null,
   "metadata": {},
   "outputs": [],
   "source": [
    "print(\n",
    "'Under noise dist:   {} '\n",
    "'\\nUnder true dist:    {} '\n",
    "'\\nUnder learnt model: {}'.format(\n",
    "    np.mean(np.log(noise(optimiser.Y))), \n",
    "    np.mean(np.log(true_data_dist.normalised_and_marginalised_over_z(optimiser.Y)[0])),\n",
    "    np.mean(np.log(model.normalised_and_marginalised_over_z(optimiser.Y)[0]))                  \n",
    "    )\n",
    ")"
   ]
  },
  {
   "cell_type": "markdown",
   "metadata": {},
   "source": [
    "# Validation of synthetic dataset"
   ]
  },
  {
   "cell_type": "code",
   "execution_count": null,
   "metadata": {},
   "outputs": [],
   "source": [
    "\"\"\"all_visibles = true_data_dist.get_all_binary_vectors(d)\n",
    "visible_probs, true_dist_norm_const = true_data_dist.normalised_and_marginalised_over_z(all_visibles)\n",
    "print('Sum over all visible probabilities should equal 1. We got: {}'.format(sum(visible_probs)))\n",
    "\n",
    "print('-------------------------Visible probability checks--------------------------------------')\n",
    "for i in range(2**d):\n",
    "    freq = np.sum(np.product((X == all_visibles[i]), axis=-1))/ len(X)\n",
    "    print('{}:  Empirical frequency is {}. True probability is {}'.format(all_visibles[i], \n",
    "                                                                         freq, visible_probs[i]))\n",
    "print('normalisation constant is: {}'.format(true_dist_norm_const))\n",
    "\n",
    "all_hiddens = true_data_dist.get_all_binary_vectors(m)\n",
    "hidden_probs, _ = true_data_dist.normalised_and_marginalised_over_u(all_hiddens)\n",
    "\n",
    "print('Sum over all hidden probabilities should equal 1. We got: {}'.format(sum(hidden_probs)))\n",
    "\n",
    "var_dist.alpha = true_W.reshape(-1)\n",
    "Z_from_posterior_class = var_dist.sample(1000, X)\n",
    "\n",
    "print('-------------------------Hidden probability checks--------------------------------------')\n",
    "for i in range(2**m):\n",
    "    freq = np.mean(np.product((Z_from_posterior_class == all_hiddens[i]), axis=(-1)))\n",
    "    print('{}:  Empirical frequency is {}. True probability is {}'.format(all_hiddens[i], \n",
    "                                                                         freq, hidden_probs[i]))\"\"\""
   ]
  }
 ],
 "metadata": {
  "kernelspec": {
   "display_name": "Python 3",
   "language": "python",
   "name": "python3"
  },
  "language_info": {
   "codemirror_mode": {
    "name": "ipython",
    "version": 3
   },
   "file_extension": ".py",
   "mimetype": "text/x-python",
   "name": "python",
   "nbconvert_exporter": "python",
   "pygments_lexer": "ipython3",
   "version": "3.6.4"
  }
 },
 "nbformat": 4,
 "nbformat_minor": 2
}
