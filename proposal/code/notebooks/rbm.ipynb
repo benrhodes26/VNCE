{
 "cells": [
  {
   "cell_type": "code",
   "execution_count": 1,
   "metadata": {},
   "outputs": [],
   "source": [
    "import os\n",
    "import sys\n",
    "nb_dir = os.path.split(os.getcwd())[0]\n",
    "if nb_dir not in sys.path:\n",
    "    sys.path.append(nb_dir)"
   ]
  },
  {
   "cell_type": "code",
   "execution_count": 2,
   "metadata": {},
   "outputs": [],
   "source": [
    "from distribution import RBMLatentPosterior, MultivariateBernoulliNoise, ChowLiuTree"
   ]
  },
  {
   "cell_type": "code",
   "execution_count": 3,
   "metadata": {},
   "outputs": [],
   "source": [
    "import numpy as np\n",
    "import pdb\n",
    "\n",
    "# my code\n",
    "from distribution import RBMLatentPosterior, MultivariateBernoulliNoise, ChowLiuTree\n",
    "from contrastive_divergence_optimiser import CDOptimiser\n",
    "from latent_nce_optimiser import LatentNCEOptimiser\n",
    "from latent_variable_model import RestrictedBoltzmannMachine\n",
    "from utils import get_true_weights, plot_rbm_parameters, plot_rbm_log_likelihood_training_curves\n",
    "\n",
    "from matplotlib import pyplot as plt\n",
    "from matplotlib import rc\n",
    "from numpy import random as rnd\n",
    "\n",
    "%matplotlib inline\n",
    "rc('lines', linewidth=3)\n",
    "rc('font', size=18)\n",
    "rc('legend', fontsize=18)\n",
    "\n",
    "# For reproducibility\n",
    "rng = rnd.RandomState(1083463236)\n",
    "\n",
    "float_formatter = lambda x: \"%.2f\" % x\n",
    "np.set_printoptions(formatter={'float_kind':float_formatter})"
   ]
  },
  {
   "cell_type": "markdown",
   "metadata": {},
   "source": [
    "# Setup"
   ]
  },
  {
   "cell_type": "markdown",
   "metadata": {},
   "source": [
    "#### data"
   ]
  },
  {
   "cell_type": "code",
   "execution_count": 4,
   "metadata": {},
   "outputs": [],
   "source": [
    "n = 10000 # number of datapoints\n",
    "nz = 1  # number latent samples per datapoint\n",
    "nu = 1  # ratio of noise to data samples for NCE\n",
    "num_gibbs_steps_for_synthetic_data = 200"
   ]
  },
  {
   "cell_type": "markdown",
   "metadata": {},
   "source": [
    "#### model"
   ]
  },
  {
   "cell_type": "code",
   "execution_count": 5,
   "metadata": {},
   "outputs": [],
   "source": [
    "d = 16  # visible dimension\n",
    "m = 15  # latent dimension\n",
    "\n",
    "# true_W = get_true_weights(d, m)\n",
    "true_W = rnd.randn(d+1, m+1)*1 # true setting of the weights, that we are trying to learn\n",
    "\"\"\"true_W = np.array([[0, 0],\n",
    "                   [-3, 6],\n",
    "                   [3, -6]], dtype=np.float32)\n",
    "\"\"\"\n",
    "true_W[0, 0] = 0\n",
    "\n",
    "# theta0 = np.array(true_W)\n",
    "theta0 = rnd.uniform(-0.5, 0.5, (d+1, m+1))  # random initialisation of weights\n",
    "theta0[0, 0] = -(d+m)*np.log(2)"
   ]
  },
  {
   "cell_type": "markdown",
   "metadata": {},
   "source": [
    "#### optimisation"
   ]
  },
  {
   "cell_type": "code",
   "execution_count": 6,
   "metadata": {},
   "outputs": [],
   "source": [
    "# tolerances used to determine when iterations stop in scipy minimize (used in LatentNCEOptimiser)\n",
    "ftol = 1e-5\n",
    "maxiter = 10\n",
    "stop_threshold = 1e-5\n",
    "max_num_em_steps = 25\n",
    "\n",
    "# hyperparameters used in CDOptimiser (contrastive divergence optimiser)\n",
    "cd_num_steps = 1\n",
    "cd_learn_rate = 0.01\n",
    "cd_batch_size = 10\n",
    "cd_num_epochs = 100"
   ]
  },
  {
   "cell_type": "markdown",
   "metadata": {},
   "source": [
    "#### boolean switches"
   ]
  },
  {
   "cell_type": "code",
   "execution_count": 7,
   "metadata": {},
   "outputs": [],
   "source": [
    "init_visible_biases_with_entropy = True\n",
    "optimise_scaling_param_separately = False\n",
    "\n",
    "use_chow_liu = False\n",
    "use_marginals = True\n",
    "\n",
    "assert use_chow_liu != use_marginals"
   ]
  },
  {
   "cell_type": "markdown",
   "metadata": {},
   "source": [
    "# Data, Model & Optimiser definition"
   ]
  },
  {
   "cell_type": "markdown",
   "metadata": {},
   "source": [
    "#### sample a synthetic dataset"
   ]
  },
  {
   "cell_type": "code",
   "execution_count": 8,
   "metadata": {},
   "outputs": [
    {
     "name": "stdout",
     "output_type": "stream",
     "text": [
      "CPU times: user 1.86 s, sys: 113 ms, total: 1.97 s\n",
      "Wall time: 1.95 s\n"
     ]
    }
   ],
   "source": [
    "%%time\n",
    "true_data_dist = RestrictedBoltzmannMachine(true_W)\n",
    "X, Z = true_data_dist.sample(n, num_iter=num_gibbs_steps_for_synthetic_data)"
   ]
  },
  {
   "cell_type": "code",
   "execution_count": 9,
   "metadata": {},
   "outputs": [],
   "source": [
    "# initialise visible biases as recommended by Hinton\n",
    "X_mean = np.mean(X, axis=0)\n",
    "if init_visible_biases_with_entropy:\n",
    "    theta0[1:, 0] = np.log(X_mean / ((1 - X_mean) + 1e-15))\n",
    "    theta0[0, 0] = -m*np.log(2) + np.sum(np.log(1 - X_mean + 1e-15))"
   ]
  },
  {
   "cell_type": "markdown",
   "metadata": {},
   "source": [
    "#### initialise three models for comparison"
   ]
  },
  {
   "cell_type": "code",
   "execution_count": 10,
   "metadata": {},
   "outputs": [],
   "source": [
    "model = RestrictedBoltzmannMachine(theta0)\n",
    "cd_model = RestrictedBoltzmannMachine(theta0)\n",
    "random_init_model = RestrictedBoltzmannMachine(theta0)"
   ]
  },
  {
   "cell_type": "markdown",
   "metadata": {},
   "source": [
    "#### specify noise distribution"
   ]
  },
  {
   "cell_type": "code",
   "execution_count": 11,
   "metadata": {},
   "outputs": [],
   "source": [
    "if use_chow_liu:\n",
    "    noise = ChowLiuTree(X)\n",
    "if use_marginals:\n",
    "    noise = MultivariateBernoulliNoise(X_mean)"
   ]
  },
  {
   "cell_type": "code",
   "execution_count": 12,
   "metadata": {},
   "outputs": [
    {
     "name": "stdout",
     "output_type": "stream",
     "text": [
      "log likelihood of chow liu-tree noise: -5.645989985435555\n",
      "log likelihood of marginal noise: -5.725301945676982\n",
      "average prob of data under chow liu-tree noise: 0.013124731204975273\n",
      "average prob of data under marginal noise: 0.01245410173381271\n"
     ]
    }
   ],
   "source": [
    "marginal_noise = MultivariateBernoulliNoise(X_mean)\n",
    "chow_liu_noise = ChowLiuTree(X)\n",
    "print('log likelihood of chow liu-tree noise: {}'.format(np.mean(np.log(chow_liu_noise(X)))))\n",
    "print('log likelihood of marginal noise: {}'.format(np.mean(np.log(marginal_noise(X)))))\n",
    "print('average prob of data under chow liu-tree noise: {}'.format(np.mean(chow_liu_noise(X))))\n",
    "print('average prob of data under marginal noise: {}'.format(np.mean(marginal_noise(X))))"
   ]
  },
  {
   "cell_type": "markdown",
   "metadata": {},
   "source": [
    "#### specify exact posterior distribution"
   ]
  },
  {
   "cell_type": "code",
   "execution_count": 13,
   "metadata": {},
   "outputs": [],
   "source": [
    "var_dist = RBMLatentPosterior(theta0)  # true posterior, which has an analytic expression"
   ]
  },
  {
   "cell_type": "markdown",
   "metadata": {},
   "source": [
    "#### construct optimiser"
   ]
  },
  {
   "cell_type": "code",
   "execution_count": 14,
   "metadata": {
    "scrolled": false
   },
   "outputs": [
    {
     "name": "stdout",
     "output_type": "stream",
     "text": [
      "CPU times: user 1.77 ms, sys: 983 µs, total: 2.75 ms\n",
      "Wall time: 2.1 ms\n"
     ]
    }
   ],
   "source": [
    "%%time\n",
    "optimiser = LatentNCEOptimiser(model, noise, var_dist, n, nu=nu, latent_samples_per_datapoint=nz)\n",
    "cd_optimiser = CDOptimiser(cd_model)"
   ]
  },
  {
   "cell_type": "markdown",
   "metadata": {},
   "source": [
    "#### log of true normalisation constant"
   ]
  },
  {
   "cell_type": "code",
   "execution_count": 15,
   "metadata": {
    "scrolled": true
   },
   "outputs": [
    {
     "name": "stdout",
     "output_type": "stream",
     "text": [
      "-44.0575\n"
     ]
    }
   ],
   "source": [
    "true_data_dist.reset_norm_const()\n",
    "true_norm_const = true_data_dist.norm_const\n",
    "true_W[0, 0] = -np.log(true_norm_const)\n",
    "print('{:.4f}'.format(-np.log(true_norm_const)))"
   ]
  },
  {
   "cell_type": "markdown",
   "metadata": {},
   "source": [
    "#### log of normalising constant for random initialisation"
   ]
  },
  {
   "cell_type": "code",
   "execution_count": 16,
   "metadata": {},
   "outputs": [
    {
     "name": "stdout",
     "output_type": "stream",
     "text": [
      "should be reasonably close to 1: 4.4257\n"
     ]
    }
   ],
   "source": [
    "random_init_model.reset_norm_const()\n",
    "rnd_norm_const = random_init_model.norm_const\n",
    "print('should be reasonably close to 1: {:.4f}'.format(rnd_norm_const))"
   ]
  },
  {
   "cell_type": "markdown",
   "metadata": {},
   "source": [
    "#### starting value of scaling parameter"
   ]
  },
  {
   "cell_type": "code",
   "execution_count": 17,
   "metadata": {},
   "outputs": [
    {
     "name": "stdout",
     "output_type": "stream",
     "text": [
      "-39.26916448119543\n"
     ]
    }
   ],
   "source": [
    "print(theta0[0,0])"
   ]
  },
  {
   "cell_type": "markdown",
   "metadata": {},
   "source": [
    "# Optimisation"
   ]
  },
  {
   "cell_type": "code",
   "execution_count": 18,
   "metadata": {},
   "outputs": [],
   "source": [
    "scaling_param_ind = np.array([0])\n",
    "other_param_inds = np.arange(1, len(model.theta))\n",
    "all_inds = np.arange(len(model.theta))"
   ]
  },
  {
   "cell_type": "markdown",
   "metadata": {},
   "source": [
    "#### optimise with respect to scaling parameter, if switch is on"
   ]
  },
  {
   "cell_type": "code",
   "execution_count": 19,
   "metadata": {},
   "outputs": [
    {
     "name": "stdout",
     "output_type": "stream",
     "text": [
      "CPU times: user 2 µs, sys: 0 ns, total: 2 µs\n",
      "Wall time: 6.68 µs\n"
     ]
    }
   ],
   "source": [
    "%%time\n",
    "if optimise_scaling_param_separately:\n",
    "    thetas_after_em_step_scale_param, J1s_scale, nce_times_scale = optimiser.fit_using_analytic_q(X, scaling_param_ind, \n",
    "                                                                                 theta0=theta0.reshape(-1),\n",
    "                                                                                  ftol=ftol, plot=False, disp=True)"
   ]
  },
  {
   "cell_type": "code",
   "execution_count": 20,
   "metadata": {},
   "outputs": [],
   "source": [
    "if optimise_scaling_param_separately:\n",
    "    fig = optimiser.plot_loss_curve(J1s_scale, true_theta = true_W.reshape(-1), X=X)"
   ]
  },
  {
   "cell_type": "markdown",
   "metadata": {},
   "source": [
    "#### optimise with respect to all parameters"
   ]
  },
  {
   "cell_type": "code",
   "execution_count": 21,
   "metadata": {
    "scrolled": false
   },
   "outputs": [
    {
     "name": "stderr",
     "output_type": "stream",
     "text": [
      "/afs/inf.ed.ac.uk/user/s17/s1771906/masters-project/ben-rhodes-masters-project/proposal/code/latent_nce_optimiser.py:299: OptimizeWarning: Unknown solver options: ftol\n",
      "  callback=callback, options={'ftol': ftol, 'maxiter': maxiter, 'disp': disp})\n"
     ]
    },
    {
     "name": "stdout",
     "output_type": "stream",
     "text": [
      "Warning: Maximum number of iterations has been exceeded.\n",
      "         Current function value: 1.400350\n",
      "         Iterations: 10\n",
      "         Function evaluations: 20\n",
      "         Gradient evaluations: 20\n",
      "1 EM step: J1 = -1.3929641919415066\n",
      "Warning: Maximum number of iterations has been exceeded.\n",
      "         Current function value: 1.381346\n",
      "         Iterations: 10\n",
      "         Function evaluations: 20\n",
      "         Gradient evaluations: 20\n",
      "2 EM step: J1 = -1.3840825816567137\n",
      "Warning: Maximum number of iterations has been exceeded.\n",
      "         Current function value: 1.372146\n",
      "         Iterations: 10\n",
      "         Function evaluations: 19\n",
      "         Gradient evaluations: 19\n",
      "3 EM step: J1 = -1.3727290662992762\n",
      "Warning: Maximum number of iterations has been exceeded.\n",
      "         Current function value: 1.358460\n",
      "         Iterations: 10\n",
      "         Function evaluations: 20\n",
      "         Gradient evaluations: 20\n",
      "4 EM step: J1 = -1.360337302274945\n",
      "Warning: Maximum number of iterations has been exceeded.\n",
      "         Current function value: 1.346557\n",
      "         Iterations: 10\n",
      "         Function evaluations: 22\n",
      "         Gradient evaluations: 22\n",
      "5 EM step: J1 = -1.351029340172297\n",
      "Warning: Maximum number of iterations has been exceeded.\n",
      "         Current function value: 1.338821\n",
      "         Iterations: 10\n",
      "         Function evaluations: 22\n",
      "         Gradient evaluations: 22\n",
      "6 EM step: J1 = -1.3409855032318108\n",
      "Warning: Maximum number of iterations has been exceeded.\n",
      "         Current function value: 1.330898\n",
      "         Iterations: 10\n",
      "         Function evaluations: 21\n",
      "         Gradient evaluations: 21\n",
      "7 EM step: J1 = -1.3343544158049814\n",
      "Warning: Maximum number of iterations has been exceeded.\n",
      "         Current function value: 1.324940\n",
      "         Iterations: 10\n",
      "         Function evaluations: 23\n",
      "         Gradient evaluations: 23\n",
      "8 EM step: J1 = -1.3306996046859711\n",
      "Warning: Maximum number of iterations has been exceeded.\n",
      "         Current function value: 1.324292\n",
      "         Iterations: 10\n",
      "         Function evaluations: 18\n",
      "         Gradient evaluations: 18\n",
      "9 EM step: J1 = -1.3289958665481758\n",
      "Warning: Maximum number of iterations has been exceeded.\n",
      "         Current function value: 1.320487\n",
      "         Iterations: 10\n",
      "         Function evaluations: 21\n",
      "         Gradient evaluations: 21\n",
      "10 EM step: J1 = -1.3264411169169121\n",
      "Warning: Maximum number of iterations has been exceeded.\n",
      "         Current function value: 1.319073\n",
      "         Iterations: 10\n",
      "         Function evaluations: 23\n",
      "         Gradient evaluations: 23\n",
      "11 EM step: J1 = -1.3247799645920568\n",
      "Warning: Maximum number of iterations has been exceeded.\n",
      "         Current function value: 1.319888\n",
      "         Iterations: 10\n",
      "         Function evaluations: 21\n",
      "         Gradient evaluations: 21\n",
      "12 EM step: J1 = -1.3241305175225886\n",
      "Warning: Maximum number of iterations has been exceeded.\n",
      "         Current function value: 1.317675\n",
      "         Iterations: 10\n",
      "         Function evaluations: 21\n",
      "         Gradient evaluations: 21\n",
      "13 EM step: J1 = -1.3229670200567252\n",
      "Warning: Maximum number of iterations has been exceeded.\n",
      "         Current function value: 1.318692\n",
      "         Iterations: 10\n",
      "         Function evaluations: 22\n",
      "         Gradient evaluations: 22\n",
      "14 EM step: J1 = -1.3223687236106438\n",
      "Warning: Maximum number of iterations has been exceeded.\n",
      "         Current function value: 1.316015\n",
      "         Iterations: 10\n",
      "         Function evaluations: 21\n",
      "         Gradient evaluations: 21\n",
      "15 EM step: J1 = -1.3216552980580345\n",
      "Warning: Maximum number of iterations has been exceeded.\n",
      "         Current function value: 1.317117\n",
      "         Iterations: 10\n",
      "         Function evaluations: 22\n",
      "         Gradient evaluations: 22\n",
      "16 EM step: J1 = -1.3213432767509588\n",
      "Warning: Maximum number of iterations has been exceeded.\n",
      "         Current function value: 1.316553\n",
      "         Iterations: 10\n",
      "         Function evaluations: 21\n",
      "         Gradient evaluations: 21\n",
      "17 EM step: J1 = -1.3210349041661589\n",
      "Warning: Maximum number of iterations has been exceeded.\n",
      "         Current function value: 1.316988\n",
      "         Iterations: 10\n",
      "         Function evaluations: 18\n",
      "         Gradient evaluations: 18\n",
      "18 EM step: J1 = -1.320733262579909\n",
      "Warning: Maximum number of iterations has been exceeded.\n",
      "         Current function value: 1.316697\n",
      "         Iterations: 10\n",
      "         Function evaluations: 18\n",
      "         Gradient evaluations: 18\n",
      "19 EM step: J1 = -1.3203496239193226\n",
      "Warning: Maximum number of iterations has been exceeded.\n",
      "         Current function value: 1.314515\n",
      "         Iterations: 10\n",
      "         Function evaluations: 17\n",
      "         Gradient evaluations: 17\n",
      "20 EM step: J1 = -1.3207873286655323\n",
      "Warning: Maximum number of iterations has been exceeded.\n",
      "         Current function value: 1.314461\n",
      "         Iterations: 10\n",
      "         Function evaluations: 20\n",
      "         Gradient evaluations: 20\n",
      "21 EM step: J1 = -1.3203587405226753\n",
      "Warning: Maximum number of iterations has been exceeded.\n",
      "         Current function value: 1.314998\n",
      "         Iterations: 10\n",
      "         Function evaluations: 21\n",
      "         Gradient evaluations: 21\n",
      "22 EM step: J1 = -1.319479403608614\n",
      "Warning: Maximum number of iterations has been exceeded.\n",
      "         Current function value: 1.312124\n",
      "         Iterations: 10\n",
      "         Function evaluations: 22\n",
      "         Gradient evaluations: 22\n",
      "23 EM step: J1 = -1.3191530121453838\n",
      "Warning: Maximum number of iterations has been exceeded.\n",
      "         Current function value: 1.311802\n",
      "         Iterations: 10\n",
      "         Function evaluations: 24\n",
      "         Gradient evaluations: 24\n",
      "24 EM step: J1 = -1.3189338565786861\n",
      "Warning: Maximum number of iterations has been exceeded.\n",
      "         Current function value: 1.312586\n",
      "         Iterations: 10\n",
      "         Function evaluations: 19\n",
      "         Gradient evaluations: 19\n",
      "25 EM step: J1 = -1.3186858005062476\n",
      "CPU times: user 48.2 s, sys: 13.3 s, total: 1min 1s\n",
      "Wall time: 1min 1s\n"
     ]
    }
   ],
   "source": [
    "%%time\n",
    "thetas_after_em_step, J1s, nce_times = optimiser.fit_using_analytic_q(X, theta0=model.theta, \n",
    "                                                                      disp=True, plot=False, \n",
    "                                                                      ftol=ftol, maxiter=maxiter,\n",
    "                                                                      stop_threshold=stop_threshold,\n",
    "                                                                      max_num_em_steps=max_num_em_steps)\n",
    "latent_nce_estimate = model.theta"
   ]
  },
  {
   "cell_type": "code",
   "execution_count": 22,
   "metadata": {
    "scrolled": false
   },
   "outputs": [
    {
     "data": {
      "image/png": "[encoded data removed]",
      "text/plain": [
       "<matplotlib.figure.Figure at 0x7fc54a5577f0>"
      ]
     },
     "metadata": {},
     "output_type": "display_data"
    }
   ],
   "source": [
    "fig = optimiser.plot_loss_curve(end=None, true_theta = true_W.reshape(-1), X=X)"
   ]
  },
  {
   "cell_type": "markdown",
   "metadata": {},
   "source": [
    "#### learn parameters using contrastive divergence"
   ]
  },
  {
   "cell_type": "code",
   "execution_count": 23,
   "metadata": {},
   "outputs": [
    {
     "name": "stdout",
     "output_type": "stream",
     "text": [
      "CPU times: user 18.4 s, sys: 108 ms, total: 18.5 s\n",
      "Wall time: 18.5 s\n"
     ]
    }
   ],
   "source": [
    "%%time\n",
    "thetas_after_each_minibatch, cd_times = cd_optimiser.fit(X, theta0=theta0.reshape(-1), \n",
    "                                                         num_gibbs_steps=cd_num_steps,\n",
    "                                                         learning_rate=cd_learn_rate, \n",
    "                                                         batch_size=cd_batch_size, \n",
    "                                                         num_epochs=cd_num_epochs)\n",
    "cd_estimate =  cd_model.theta"
   ]
  },
  {
   "cell_type": "markdown",
   "metadata": {},
   "source": [
    "# Results"
   ]
  },
  {
   "cell_type": "markdown",
   "metadata": {},
   "source": [
    "## Log-likelihood on training set"
   ]
  },
  {
   "cell_type": "markdown",
   "metadata": {},
   "source": [
    "### $ \\mathbb{E}_{x \\sim P_{data}} \\log(P_{data}(x)) \\ \\ \\text{and} \\ \\ \\mathbb{E}_{x \\sim P_{data}} \\log(P_{lnce}(x)) \\ \\ \\text{and} \\ \\ \\mathbb{E}_{x \\sim P_{data}} \\log(P_{cd}(x))  $"
   ]
  },
  {
   "cell_type": "code",
   "execution_count": 24,
   "metadata": {
    "scrolled": true
   },
   "outputs": [
    {
     "name": "stdout",
     "output_type": "stream",
     "text": [
      "True:       -5.5718 \n",
      "Latent NCE: -5.5875 \n",
      "CD:         -5.5820\n",
      "Random init:-6.3157 \n",
      "Noise:      -5.7253\n",
      "CPU times: user 22.7 s, sys: 4.69 s, total: 27.4 s\n",
      "Wall time: 27.4 s\n"
     ]
    }
   ],
   "source": [
    "%%time\n",
    "true_dist_probs_of_true_data, _ = true_data_dist.normalised_and_marginalised_over_z(X)\n",
    "latent_nce_probs_of_true_data, _ = model.normalised_and_marginalised_over_z(X)\n",
    "cd_probs_of_true_data, _ = cd_model.normalised_and_marginalised_over_z(X)\n",
    "random_probs_of_true_data, _ = random_init_model.normalised_and_marginalised_over_z(X)\n",
    "print('True:       {:.4f} \\nLatent NCE: {:.4f} \\nCD:         {:.4f}\\nRandom init:{:.4f} \\nNoise:      {:.4f}'.format(\n",
    "    np.mean(np.log(true_dist_probs_of_true_data)), \n",
    "    np.mean(np.log(latent_nce_probs_of_true_data)),\n",
    "    np.mean(np.log(cd_probs_of_true_data)),\n",
    "    np.mean(np.log(random_probs_of_true_data)),\n",
    "    np.mean(np.log(noise(X)))\n",
    "))"
   ]
  },
  {
   "cell_type": "code",
   "execution_count": 25,
   "metadata": {
    "scrolled": false
   },
   "outputs": [],
   "source": [
    "# fig = plot_rbm_log_likelihood_training_curves(X, optimiser, cd_optimiser, true_data_dist, random_init_model)"
   ]
  },
  {
   "cell_type": "markdown",
   "metadata": {},
   "source": [
    "### Scaling parameter"
   ]
  },
  {
   "cell_type": "code",
   "execution_count": 26,
   "metadata": {
    "scrolled": false
   },
   "outputs": [
    {
     "name": "stdout",
     "output_type": "stream",
     "text": [
      "Learnt Scaling param is:              -39.6132\n",
      "log of norm const of data distribution is:   -44.0575\n"
     ]
    }
   ],
   "source": [
    "print('Learnt Scaling param is:              {:.4f}'.format(latent_nce_estimate[0]))\n",
    "print('log of norm const of data distribution is:   {:.4f}'.format(-np.log(true_norm_const)))"
   ]
  },
  {
   "cell_type": "code",
   "execution_count": 27,
   "metadata": {},
   "outputs": [
    {
     "name": "stdout",
     "output_type": "stream",
     "text": [
      "We hope that the normalisation constant of the learnt model is 1. In reality it is: 0.9897848276010222 \n"
     ]
    }
   ],
   "source": [
    "model.reset_norm_const()\n",
    "print('We hope that the normalisation constant of the learnt model is 1. In reality it is: {} '.format(\n",
    "    model.norm_const))"
   ]
  },
  {
   "cell_type": "markdown",
   "metadata": {},
   "source": [
    "## Visualisations of parameters"
   ]
  },
  {
   "cell_type": "code",
   "execution_count": 28,
   "metadata": {},
   "outputs": [],
   "source": [
    "params = [true_data_dist.theta, model.theta, cd_model.theta, random_init_model.theta]\n",
    "titles = ['True parameters', 'Latent NCE parameters',  \n",
    "          'Contrastive divergence parameters', 'Randomly initialised parameters']"
   ]
  },
  {
   "cell_type": "code",
   "execution_count": 29,
   "metadata": {
    "scrolled": false
   },
   "outputs": [
    {
     "data": {
      "image/png": "[encoded data removed]",
      "text/plain": [
       "<matplotlib.figure.Figure at 0x7fc54a53de48>"
      ]
     },
     "metadata": {},
     "output_type": "display_data"
    }
   ],
   "source": [
    "fig = plot_rbm_parameters(params, titles, d, m, with_bias=False, figsize=(10, 15))"
   ]
  },
  {
   "cell_type": "markdown",
   "metadata": {},
   "source": [
    "## Frobenius norm of true parameters minus model parameters"
   ]
  },
  {
   "cell_type": "code",
   "execution_count": 30,
   "metadata": {},
   "outputs": [
    {
     "name": "stdout",
     "output_type": "stream",
     "text": [
      "true vs latent nce:   22.0187\n",
      "true vs cd:           22.2852\n",
      "true vs random init:  21.0243\n",
      "nce vs cd:            4.2400\n"
     ]
    }
   ],
   "source": [
    "# NOTE: we exclude the scaling parameter in all comparisons\n",
    "\n",
    "nce_true_param_diff = (true_W - latent_nce_estimate.reshape(d+1, m+1)).reshape(-1)[1:]\n",
    "sq_diff_nce_true = np.dot(nce_true_param_diff, nce_true_param_diff)**0.5\n",
    "\n",
    "cd_true_param_diff = (true_W - cd_estimate.reshape(d+1, m+1)).reshape(-1)[1:]\n",
    "sq_diff_cd_true = np.dot(cd_true_param_diff, cd_true_param_diff)**0.5\n",
    "\n",
    "random_true_param_diff = (true_W - theta0).reshape(-1)[1:]\n",
    "sq_diff_rand_true = np.dot(random_true_param_diff, random_true_param_diff)**0.5\n",
    "\n",
    "nce_cd_param_diff = (latent_nce_estimate - cd_estimate)[1:]\n",
    "sq_diff_nce_cd = np.dot(nce_cd_param_diff, nce_cd_param_diff)**0.5\n",
    "\n",
    "print('true vs latent nce:   {:.4f}'.format(sq_diff_nce_true))\n",
    "print('true vs cd:           {:.4f}'.format(sq_diff_cd_true))\n",
    "print('true vs random init:  {:.4f}'.format(sq_diff_rand_true))\n",
    "print('nce vs cd:            {:.4f}'.format(sq_diff_nce_cd))"
   ]
  },
  {
   "cell_type": "markdown",
   "metadata": {},
   "source": [
    "## Histograms of posterior distribution during learning"
   ]
  },
  {
   "cell_type": "code",
   "execution_count": 31,
   "metadata": {},
   "outputs": [],
   "source": [
    "thetas = list(thetas_after_em_step)\n",
    "thetas.append(true_W.reshape(-1))\n",
    "num_thetas = len(thetas)"
   ]
  },
  {
   "cell_type": "code",
   "execution_count": 32,
   "metadata": {},
   "outputs": [],
   "source": [
    "if m <= 5:    \n",
    "    all_latents = model.get_all_binary_vectors(m)\n",
    "    all_latents_tiled = np.repeat(all_latents, len(X)).reshape(len(all_latents), len(X), m)\n",
    "    fig, axs = plt.subplots(int(np.ceil(num_thetas/4)), 4, figsize=(15, 7))\n",
    "    axs = axs.ravel()\n",
    "    for i, ax in enumerate(axs):\n",
    "        if i == num_thetas:\n",
    "            break\n",
    "        theta_i = thetas[i]\n",
    "        var_dist.alpha = theta_i.reshape(-1)\n",
    "        var_dist_probs = var_dist(all_latents_tiled, X)\n",
    "        ax.hist(var_dist_probs.reshape(-1), bins=int(0.1*var_dist_probs.size**0.5))\n",
    "        ax.set_yticks([])"
   ]
  },
  {
   "cell_type": "markdown",
   "metadata": {},
   "source": [
    "## L1 norm between model joint & true joint"
   ]
  },
  {
   "cell_type": "markdown",
   "metadata": {},
   "source": [
    "$$ \\| \\phi - p_{data} \\|_1 = \\sum_{\\textbf{v} \\in \\{0,1\\}^{d}} \\sum_{\\textbf{h} \\in \\{0,1\\}^{m}} |\\phi(\\textbf{v}, \\textbf{h}) - p_{data}(\\textbf{v}, \\textbf{h}) | $$"
   ]
  },
  {
   "cell_type": "code",
   "execution_count": 33,
   "metadata": {
    "scrolled": true
   },
   "outputs": [
    {
     "ename": "AssertionError",
     "evalue": "Evaluating over the whole domain has O(2**(m+d)) cost. Assertion raised since m+d is equal to 31, which exceeds the current limit of 20",
     "output_type": "error",
     "traceback": [
      "\u001b[0;31m---------------------------------------------------------------------------\u001b[0m",
      "\u001b[0;31mAssertionError\u001b[0m                            Traceback (most recent call last)",
      "\u001b[0;32m<ipython-input-33-fc91a6f3092e>\u001b[0m in \u001b[0;36m<module>\u001b[0;34m()\u001b[0m\n\u001b[0;32m----> 1\u001b[0;31m \u001b[0mtrue_model_vals\u001b[0m \u001b[0;34m=\u001b[0m \u001b[0mtrue_data_dist\u001b[0m\u001b[0;34m.\u001b[0m\u001b[0mevaluate_on_entire_domain\u001b[0m\u001b[0;34m(\u001b[0m\u001b[0mnormalise\u001b[0m\u001b[0;34m=\u001b[0m\u001b[0;32mTrue\u001b[0m\u001b[0;34m)\u001b[0m\u001b[0;34m\u001b[0m\u001b[0m\n\u001b[0m\u001b[1;32m      2\u001b[0m \u001b[0mlatent_nce_vals\u001b[0m \u001b[0;34m=\u001b[0m \u001b[0mmodel\u001b[0m\u001b[0;34m.\u001b[0m\u001b[0mevaluate_on_entire_domain\u001b[0m\u001b[0;34m(\u001b[0m\u001b[0mnormalise\u001b[0m\u001b[0;34m=\u001b[0m\u001b[0;32mFalse\u001b[0m\u001b[0;34m)\u001b[0m\u001b[0;34m\u001b[0m\u001b[0m\n\u001b[1;32m      3\u001b[0m \u001b[0mcd_vals\u001b[0m \u001b[0;34m=\u001b[0m \u001b[0mcd_model\u001b[0m\u001b[0;34m.\u001b[0m\u001b[0mevaluate_on_entire_domain\u001b[0m\u001b[0;34m(\u001b[0m\u001b[0mnormalise\u001b[0m\u001b[0;34m=\u001b[0m\u001b[0;32mTrue\u001b[0m\u001b[0;34m)\u001b[0m\u001b[0;34m\u001b[0m\u001b[0m\n\u001b[1;32m      4\u001b[0m \u001b[0mrnd_init_vals\u001b[0m \u001b[0;34m=\u001b[0m \u001b[0mrandom_init_model\u001b[0m\u001b[0;34m.\u001b[0m\u001b[0mevaluate_on_entire_domain\u001b[0m\u001b[0;34m(\u001b[0m\u001b[0mnormalise\u001b[0m\u001b[0;34m=\u001b[0m\u001b[0;32mTrue\u001b[0m\u001b[0;34m)\u001b[0m\u001b[0;34m\u001b[0m\u001b[0m\n\u001b[1;32m      5\u001b[0m \u001b[0;34m\u001b[0m\u001b[0m\n",
      "\u001b[0;32m~/masters-project/ben-rhodes-masters-project/proposal/code/latent_variable_model.py\u001b[0m in \u001b[0;36mevaluate_on_entire_domain\u001b[0;34m(self, normalise, reset_norm_const)\u001b[0m\n\u001b[1;32m    697\u001b[0m         \u001b[0;32massert\u001b[0m \u001b[0md\u001b[0m \u001b[0;34m+\u001b[0m \u001b[0mm\u001b[0m \u001b[0;34m<=\u001b[0m \u001b[0;36m20\u001b[0m\u001b[0;34m,\u001b[0m \u001b[0;34m\"Evaluating over the whole domain \"\u001b[0m\u001b[0;31m \u001b[0m\u001b[0;31m\\\u001b[0m\u001b[0;34m\u001b[0m\u001b[0m\n\u001b[1;32m    698\u001b[0m             \u001b[0;34m\"has O(2**(m+d)) cost. Assertion raised since m+d is \"\u001b[0m\u001b[0;31m \u001b[0m\u001b[0;31m\\\u001b[0m\u001b[0;34m\u001b[0m\u001b[0m\n\u001b[0;32m--> 699\u001b[0;31m             \u001b[0;34m\"equal to {}, which exceeds the current limit of 20\"\u001b[0m\u001b[0;34m.\u001b[0m\u001b[0mformat\u001b[0m\u001b[0;34m(\u001b[0m\u001b[0md\u001b[0m\u001b[0;34m+\u001b[0m\u001b[0mm\u001b[0m\u001b[0;34m)\u001b[0m\u001b[0;34m\u001b[0m\u001b[0m\n\u001b[0m\u001b[1;32m    700\u001b[0m \u001b[0;34m\u001b[0m\u001b[0m\n\u001b[1;32m    701\u001b[0m         \u001b[0mU\u001b[0m \u001b[0;34m=\u001b[0m \u001b[0mself\u001b[0m\u001b[0;34m.\u001b[0m\u001b[0mget_all_binary_vectors\u001b[0m\u001b[0;34m(\u001b[0m\u001b[0md\u001b[0m\u001b[0;34m)\u001b[0m  \u001b[0;31m# (2**d, d)\u001b[0m\u001b[0;34m\u001b[0m\u001b[0m\n",
      "\u001b[0;31mAssertionError\u001b[0m: Evaluating over the whole domain has O(2**(m+d)) cost. Assertion raised since m+d is equal to 31, which exceeds the current limit of 20"
     ]
    }
   ],
   "source": [
    "true_model_vals = true_data_dist.evaluate_on_entire_domain(normalise=True)\n",
    "latent_nce_vals = model.evaluate_on_entire_domain(normalise=False)\n",
    "cd_vals = cd_model.evaluate_on_entire_domain(normalise=True)\n",
    "rnd_init_vals = random_init_model.evaluate_on_entire_domain(normalise=True)\n",
    "\n",
    "l1_norm_diff_true_nce = np.sum(np.abs(true_model_vals - latent_nce_vals))\n",
    "l1_norm_diff_true_cd = np.sum(np.abs(true_model_vals - cd_vals))\n",
    "l1_norm_diff_true_rnd_init = np.sum(np.abs(true_model_vals - rnd_init_vals))\n",
    "\n",
    "print('||true - latent nce||:   {:.4f}'.format(l1_norm_diff_true_nce))\n",
    "print('||true - cd||:           {:.4f}'.format(l1_norm_diff_true_cd))\n",
    "print('||true - random init||:  {:.4f}'.format(l1_norm_diff_true_rnd_init))"
   ]
  },
  {
   "cell_type": "markdown",
   "metadata": {},
   "source": [
    "### log-likelihood assigned to noise"
   ]
  },
  {
   "cell_type": "code",
   "execution_count": null,
   "metadata": {},
   "outputs": [],
   "source": [
    "print(\n",
    "'Under noise dist:   {} '\n",
    "'\\nUnder true dist:    {} '\n",
    "'\\nUnder learnt model: {}'.format(\n",
    "    np.mean(np.log(noise(optimiser.Y))), \n",
    "    np.mean(np.log(true_data_dist.normalised_and_marginalised_over_z(optimiser.Y)[0])),\n",
    "    np.mean(np.log(model.normalised_and_marginalised_over_z(optimiser.Y)[0]))                  \n",
    "    )\n",
    ")"
   ]
  },
  {
   "cell_type": "markdown",
   "metadata": {},
   "source": [
    "# Validation of synthetic dataset"
   ]
  },
  {
   "cell_type": "code",
   "execution_count": null,
   "metadata": {},
   "outputs": [],
   "source": [
    "\"\"\"all_visibles = true_data_dist.get_all_binary_vectors(d)\n",
    "visible_probs, true_dist_norm_const = true_data_dist.normalised_and_marginalised_over_z(all_visibles)\n",
    "print('Sum over all visible probabilities should equal 1. We got: {}'.format(sum(visible_probs)))\n",
    "\n",
    "print('-------------------------Visible probability checks--------------------------------------')\n",
    "for i in range(2**d):\n",
    "    freq = np.sum(np.product((X == all_visibles[i]), axis=-1))/ len(X)\n",
    "    print('{}:  Empirical frequency is {}. True probability is {}'.format(all_visibles[i], \n",
    "                                                                         freq, visible_probs[i]))\n",
    "print('normalisation constant is: {}'.format(true_dist_norm_const))\n",
    "\n",
    "all_hiddens = true_data_dist.get_all_binary_vectors(m)\n",
    "hidden_probs, _ = true_data_dist.normalised_and_marginalised_over_u(all_hiddens)\n",
    "\n",
    "print('Sum over all hidden probabilities should equal 1. We got: {}'.format(sum(hidden_probs)))\n",
    "\n",
    "var_dist.alpha = true_W.reshape(-1)\n",
    "Z_from_posterior_class = var_dist.sample(1000, X)\n",
    "\n",
    "print('-------------------------Hidden probability checks--------------------------------------')\n",
    "for i in range(2**m):\n",
    "    freq = np.mean(np.product((Z_from_posterior_class == all_hiddens[i]), axis=(-1)))\n",
    "    print('{}:  Empirical frequency is {}. True probability is {}'.format(all_hiddens[i], \n",
    "                                                                         freq, hidden_probs[i]))\"\"\""
   ]
  }
 ],
 "metadata": {
  "kernelspec": {
   "display_name": "Python 3",
   "language": "python",
   "name": "python3"
  },
  "language_info": {
   "codemirror_mode": {
    "name": "ipython",
    "version": 3
   },
   "file_extension": ".py",
   "mimetype": "text/x-python",
   "name": "python",
   "nbconvert_exporter": "python",
   "pygments_lexer": "ipython3",
   "version": "3.6.4"
  }
 },
 "nbformat": 4,
 "nbformat_minor": 2
}
