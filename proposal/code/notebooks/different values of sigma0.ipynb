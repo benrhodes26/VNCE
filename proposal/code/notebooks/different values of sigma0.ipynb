{
 "cells": [
  {
   "cell_type": "code",
   "execution_count": 1,
   "metadata": {},
   "outputs": [],
   "source": [
    "import os\n",
    "import sys\n",
    "nb_dir = os.path.split(os.getcwd())[0]\n",
    "if nb_dir not in sys.path:\n",
    "    sys.path.append(nb_dir)"
   ]
  },
  {
   "cell_type": "code",
   "execution_count": 2,
   "metadata": {},
   "outputs": [],
   "source": [
    "import numpy as np\n",
    "import pdb\n",
    "\n",
    "# my code\n",
    "from distribution import PolynomialSigmoidBernoulli, GaussianNoise\n",
    "from gaussian_mixture_analytic_expectations import *\n",
    "from fully_observed_models import SumOfTwoUnnormalisedGaussians\n",
    "from latent_nce_optimiser import LatentNCEOptimiserWithAnalyticExpectations, LatentNCEOptimiser, NCEOptimiser\n",
    "from latent_variable_model import MixtureOfTwoUnnormalisedGaussians\n",
    "from utils import mean_square_error\n",
    "\n",
    "from itertools import product\n",
    "from matplotlib import pyplot as plt\n",
    "from matplotlib import rc\n",
    "from numpy import random as rnd\n",
    "\n",
    "%matplotlib inline\n",
    "rc('lines', linewidth=3)\n",
    "rc('font', size=18)\n",
    "rc('legend', fontsize=18)"
   ]
  },
  {
   "cell_type": "code",
   "execution_count": 3,
   "metadata": {},
   "outputs": [],
   "source": [
    "# E(r(x, z))\n",
    "E1 = E_r\n",
    "# E(log(psi_1(x, z)))\n",
    "E2 = E_log_psi_1\n",
    "# E((psi_1(x, z) - 1) / psi_1(x, z))\n",
    "E3 = E_psi_1_ratio_times_grad_log_theta\n",
    "# E(grad_theta(log(phi(u,z)) r(u, z))\n",
    "E4 = E_r_times_grad_log_theta\n",
    "# gradient_alpha(E(log(psi_1(x, z)))\n",
    "E5 = grad_wrt_alpha_of_E_log_psi_1"
   ]
  },
  {
   "cell_type": "code",
   "execution_count": 4,
   "metadata": {},
   "outputs": [],
   "source": [
    "# mixing proportions: 0.5 and 0.5\n",
    "# mean0 = mean1 = 0\n",
    "sigma1 = 4.7\n",
    "nz = 1  # number of latent samples per datapoint\n",
    "nu = 1 # nu is the ratio of noise to data samples in NCE\n",
    "\n",
    "# number of data points\n",
    "n = 20000\n",
    "\n",
    "# number of random inits of data and theta\n",
    "num_random_initialisations = 100"
   ]
  },
  {
   "cell_type": "code",
   "execution_count": 5,
   "metadata": {},
   "outputs": [],
   "source": [
    "model = MixtureOfTwoUnnormalisedGaussians(np.array([0, 0]), sigma1=sigma1)\n",
    "no_latent_var_model = SumOfTwoUnnormalisedGaussians(np.array([0, 0]), sigma1=sigma1)  # for comparison\n",
    "var_dist = PolynomialSigmoidBernoulli(alpha=np.array([0,0,0]))"
   ]
  },
  {
   "cell_type": "code",
   "execution_count": null,
   "metadata": {},
   "outputs": [],
   "source": [
    "sigma0_vals = np.arange(1, 10, 0.5)\n",
    "n_sigma0_vals = len(sigma0_vals)\n",
    "\n",
    "true_thetas = np.zeros((n_sigma0_vals, 2))\n",
    "nce_theta_estimates = np.zeros((n_sigma0_vals, num_random_initialisations, 2))\n",
    "latent_nce_theta_estimates = np.zeros((n_sigma0_vals, num_random_initialisations, 2))"
   ]
  },
  {
   "cell_type": "markdown",
   "metadata": {},
   "source": [
    "The following should take (up to) 20 hours:"
   ]
  },
  {
   "cell_type": "code",
   "execution_count": null,
   "metadata": {},
   "outputs": [],
   "source": [
    "for i in range(n_sigma0_vals):\n",
    "    for j in range(num_random_initialisations):\n",
    "        \n",
    "        # true value of parameters\n",
    "        sigma0 = sigma0_vals[i]\n",
    "        true_c = 0.5*np.log(2*np.pi) + np.log(sigma1 + sigma0) \n",
    "        true_theta = np.array([true_c, np.log(sigma0)])\n",
    "        true_thetas[i] = true_theta\n",
    "\n",
    "        # random initial values for optimisation\n",
    "        theta0 = np.array([0, np.log(rnd.uniform(1, 9))])\n",
    "        alpha0 = np.array([0, 0, 0])\n",
    "\n",
    "        # generate data\n",
    "        true_data_dist = MixtureOfTwoUnnormalisedGaussians(theta=true_theta, sigma1=sigma1)\n",
    "        X = true_data_dist.sample(n)\n",
    "\n",
    "        # noise dist\n",
    "        noise = GaussianNoise(mean=0, std = sigma0)\n",
    "\n",
    "        nce_optimiser = NCEOptimiser(no_latent_var_model, noise, n, nu=nu, eps = 10**-20)\n",
    "        optimiser = LatentNCEOptimiserWithAnalyticExpectations(model, noise, var_dist, n,\n",
    "                                                           E1, E2, E3, E4, E5, \n",
    "                                                           nu=nu, latent_samples_per_datapoint=nz, eps = 10**-20)\n",
    "        nce_optimiser.fit(X, theta0=theta0, disp=False, plot=False)\n",
    "        nce_theta_estimates[i, j] = no_latent_var_model.theta\n",
    "        \n",
    "        optimiser.fit(X, theta0=theta0, alpha0=alpha0, disp=False, plot=False)\n",
    "        latent_nce_theta_estimates[i, j] = model.theta"
   ]
  },
  {
   "cell_type": "code",
   "execution_count": null,
   "metadata": {},
   "outputs": [],
   "source": [
    "nce_mses = []\n",
    "latent_nce_mses = []\n",
    "for i in range(n_sigma0_vals):\n",
    "    nce_mses.append(mean_square_error(nce_theta_estimates[i, :, :], true_thetas[i], plot=False))\n",
    "    latent_nce_mses.append(mean_square_error(latent_nce_theta_estimates[i, :, :], true_thetas[i], plot=False))"
   ]
  },
  {
   "cell_type": "code",
   "execution_count": null,
   "metadata": {},
   "outputs": [],
   "source": [
    "fig, ax = plt.subplots(1,1, figsize=(10,7))\n",
    "ax.scatter(sigma0_vals, nce_mses, marker='x', color='r', label='NCE', s=50)\n",
    "ax.scatter(sigma0_vals, latent_nce_mses, marker='o', color='b', label='latent NCE', s=20)\n",
    "ax.set_title('mean square error of latent NCE estimator')\n",
    "ax.set_xlabel('sigma0')\n",
    "ax.set_ylabel('mse')\n",
    "_ = ax.legend(loc='best')"
   ]
  },
  {
   "cell_type": "code",
   "execution_count": null,
   "metadata": {},
   "outputs": [],
   "source": []
  },
  {
   "cell_type": "code",
   "execution_count": null,
   "metadata": {},
   "outputs": [],
   "source": []
  },
  {
   "cell_type": "code",
   "execution_count": null,
   "metadata": {},
   "outputs": [],
   "source": []
  },
  {
   "cell_type": "code",
   "execution_count": null,
   "metadata": {},
   "outputs": [],
   "source": []
  },
  {
   "cell_type": "code",
   "execution_count": null,
   "metadata": {},
   "outputs": [],
   "source": []
  },
  {
   "cell_type": "code",
   "execution_count": null,
   "metadata": {},
   "outputs": [],
   "source": []
  },
  {
   "cell_type": "code",
   "execution_count": null,
   "metadata": {},
   "outputs": [],
   "source": []
  },
  {
   "cell_type": "code",
   "execution_count": null,
   "metadata": {},
   "outputs": [],
   "source": []
  },
  {
   "cell_type": "code",
   "execution_count": null,
   "metadata": {},
   "outputs": [],
   "source": []
  }
 ],
 "metadata": {
  "kernelspec": {
   "display_name": "Python 3",
   "language": "python",
   "name": "python3"
  },
  "language_info": {
   "codemirror_mode": {
    "name": "ipython",
    "version": 3
   },
   "file_extension": ".py",
   "mimetype": "text/x-python",
   "name": "python",
   "nbconvert_exporter": "python",
   "pygments_lexer": "ipython3",
   "version": "3.6.4"
  }
 },
 "nbformat": 4,
 "nbformat_minor": 2
}
