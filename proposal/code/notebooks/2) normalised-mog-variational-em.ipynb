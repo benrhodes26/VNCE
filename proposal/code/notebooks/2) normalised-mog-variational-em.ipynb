{
 "cells": [
  {
   "cell_type": "markdown",
   "metadata": {},
   "source": [
    "# Using variational EM-type procedure to maximize J1"
   ]
  },
  {
   "cell_type": "markdown",
   "metadata": {},
   "source": [
    "## $\\nabla_{w}J_1(w)$ - general case"
   ]
  },
  {
   "cell_type": "markdown",
   "metadata": {},
   "source": [
    "In the normalised-MOG notebook, we considered an EM-type algorithm where we update a variational distribution to be equal to the posterior over latent variables given the data and current value of $\\theta$. Now let's pretend (as is generally true) that the posterior is intracable. In this setting, we parameterise our variational distribution with parameters $w$, and optimise them in conjuction with theta (using co-oordinate ascent). \n",
    "\n",
    "To optimise our objective function w.r.t to $\\textbf{w}$, we need to find the gradient of:\n",
    "\n",
    "\\begin{align}\n",
    "J_1^k(\\textbf{w}) = \\color{red}{ - \\mathbb{E}_{x} \\mathbb{E}_{z \\sim q(z \\ | \\ u; \\textbf{w})} \\left[ \\log(1 + \\frac{\\nu}{r(x, z; \\textbf{w})}) \\right]} - \\color{blue}{ \\nu \\mathbb{E}_{y}  \\left[ \\log(1 + \\frac{1}{\\nu} \\mathbb{E}_{z \\sim q(z \\ | \\ u; \\textbf{w})}[r(y, z; \\textbf{w})] ) \\right]}\n",
    "\\end{align}\n",
    "\n",
    "where \n",
    "\n",
    "$$ r(u,z, \\textbf{w}) = \\frac{\\phi(u, z; \\theta_k)}{q_k(z \\ | \\ u; \\textbf{w}) p_y(u)}$$\n",
    "\n",
    "Note that this is a *stochastic* optimisation problem, since we are differentiating w.r.t to parameters of q, but there is an expectation over q. This complicates the situation.\n",
    "\n",
    "For simple q distributions, we might be able to analytically evaluate these expectations, and then take derivatives. For more complex distributions, we will need to use something else: perhaps a pathwise derivative estimator (http://blog.shakirm.com/2015/10/machine-learning-trick-of-the-day-4-reparameterisation-tricks/) or score function estimator (http://blog.shakirm.com/2015/11/machine-learning-trick-of-the-day-5-log-derivative-trick/)."
   ]
  },
  {
   "cell_type": "markdown",
   "metadata": {},
   "source": [
    "## $\\nabla_{w}J_1(w)$ - Mixture Model"
   ]
  },
  {
   "cell_type": "markdown",
   "metadata": {},
   "source": [
    "For our gaussian mixture model, the binary latent variable must have a bernouilli distribution, and so we can analytically evaluate expectations with respect to it. \n",
    "\n",
    "We will consider a bernoulli distribution where the probability of $z = 0$ is given by a quadratic sigmoid. This functional form matches that of the true posterior, and so by optimising the parameters $w$, we hope to recover the true posterior.\n",
    "\n",
    "$$ q(z=0 \\ | \\ u; \\textbf{w}) = \\sigma(\\textbf{w}^T \\tilde{\\textbf{u}}) = \\sigma(w_0 + w_1u + w_2u^2) $$\n",
    "\n",
    "where $\\sigma$ is the sigmoid function,  $\\textbf{w}$ are the variational parameters and $\\tilde{\\textbf{u}} := (1, u, u^2)^T$. We recover the true posterior by setting:\n",
    "$$ \\textbf{w} = \\left[-\\log(\\theta), \\ 0, \\ \\frac{1}{2}(1 - \\theta^{-2}) \\right] $$\n",
    "We will then alternate optimisation of $\\theta$ and $\\textbf{w}$ (i.e apply a form of coordinate ascent)."
   ]
  },
  {
   "cell_type": "markdown",
   "metadata": {},
   "source": [
    "To calculate $\\nabla_{\\textbf{w}} J_1^k(\\textbf{w})$, we first analytically evaluate the expectations. Doing this, we see that the blue term will no longer depend on q (since q was only introduced in the blue term for importance sampling, which we now undo). Hence, we only have to evaluate:\n",
    "\n",
    "\\begin{align}\n",
    "\\nabla_{\\textbf{w}} J_1^k(\\textbf{w}) & = \\color{red}{\\nabla_{\\textbf{w}} \\left[ -\\mathbb{E}_x \\sum_{i=1}^2 q(i \\ | \\ x; \\textbf{w}) \\log \\left( 1 + \\nu\\frac{ q(i \\ | \\ x; \\textbf{w}) p_y(x)}{\\phi(x, i, \\theta_k)} \\right) \\right]}\n",
    "\\end{align}\n",
    "\n",
    "The gradient of a term inside the summation has the form:\n",
    "\n",
    "\\begin{align}\n",
    "\\nabla_{\\textbf{w}} \\left[ q_i(\\textbf{w}) \\log( 1 + a_iq_i(\\textbf{w})) \\right] = \\left( \\log( 1 + a_iq_i(\\textbf{w})) + \\frac{a_i q_i(\\textbf{w})}{1 + a_i q_i(\\textbf{w})} \\right) \\nabla_{\\textbf{w}} q_i(\\textbf{w})\n",
    "\\end{align}\n",
    "\n",
    "Where we have simplified notation by setting: $q_i(\\textbf{w}) = q(i \\ | \\ x; \\textbf{w})$ and $ a_i = \\nu \\frac{p_y(x)}{\\phi(x, i, \\theta_k)}$.\n",
    "\n",
    "Observe that \n",
    "\n",
    "$$\\nabla_{\\textbf{w}} q_1(\\textbf{w}) =  \\nabla_{\\textbf{w}} \\left[ 1 - q_0(\\textbf{w}) \\right] = - \\nabla_{\\textbf{w}} q_0(\\textbf{w}) $$\n",
    "\n",
    "and so our original gradient becomes:\n",
    "\n",
    "\\begin{align}\n",
    "\\nabla_{\\textbf{w}} J_1^k(\\textbf{w}) \n",
    "    & = \\color{red}{ \\mathbb{E}_x  \\left( \\log \\left( \\frac{ 1 + a_0q_0(\\textbf{w})}{1 + a_1q_1(\\textbf{w})} \\right) \n",
    "        +\\frac{a_0 q_0(\\textbf{w})}{1 + a_0 q_0(\\textbf{w})} \n",
    "        -\\frac{a_1 q_1(\\textbf{w})}{1 + a_1 q_1(\\textbf{w})}  \\right) \n",
    "          \\nabla_{\\textbf{w}} q_1(\\textbf{w})}\n",
    "\\end{align}\n",
    "\n",
    "where, using the definition of $q$, we have:\n",
    "\n",
    "\\begin{align} \n",
    "\\nabla_{\\textbf{w}} q_0(\\textbf{w}) & = \\nabla_{\\textbf{w}} q(z=0 \\ | \\ x; \\textbf{w}) \\\\\n",
    "& = \\nabla_{\\textbf{w}} \\left[ \\sigma(\\textbf{w}^T \\tilde{\\textbf{x}}) \\right] \\\\\n",
    "& = \\sigma(\\textbf{w}^T \\tilde{\\textbf{x}}) (1 - \\sigma(\\textbf{w}^T \\tilde{\\textbf{x}})) \\tilde{\\textbf{x}}\n",
    "\\end{align}\n",
    "\n",
    "Note that the above derivation actually applies to **any binary latent variable model**."
   ]
  },
  {
   "cell_type": "code",
   "execution_count": 1,
   "metadata": {},
   "outputs": [],
   "source": [
    "import os\n",
    "import sys\n",
    "nb_dir = os.path.split(os.getcwd())[0]\n",
    "if nb_dir not in sys.path:\n",
    "    sys.path.append(nb_dir)"
   ]
  },
  {
   "cell_type": "code",
   "execution_count": 2,
   "metadata": {},
   "outputs": [],
   "source": [
    "import numpy as np\n",
    "import pdb\n",
    "\n",
    "# my code\n",
    "from distribution import PolynomialSigmoidBernoulli, GaussianNoise\n",
    "from gaussian_mixture_analytic_expectations import *\n",
    "from vnce_optimisers import VNCEOptimiserWithAnalyticExpectations\n",
    "from latent_variable_model import MixtureOfTwoGaussians\n",
    "\n",
    "from matplotlib import pyplot as plt\n",
    "from matplotlib import rc\n",
    "from numpy import random as rnd\n",
    "\n",
    "%matplotlib inline\n",
    "rc('lines', linewidth=1)\n",
    "rc('font', size=18)\n",
    "rc('legend', fontsize=18)"
   ]
  },
  {
   "cell_type": "code",
   "execution_count": 3,
   "metadata": {},
   "outputs": [],
   "source": [
    "# For reproducibility\n",
    "rng = rnd.RandomState(1083463236)"
   ]
  },
  {
   "cell_type": "code",
   "execution_count": 4,
   "metadata": {},
   "outputs": [],
   "source": [
    "# mixing proportions: 0.5 and 0.5\n",
    "# mean0 = mean1 = 0\n",
    "sigma1 = 1\n",
    "sigma0 = 4  # (parameter of interest)\n",
    "\n",
    "n = 10000 # number of data points\n",
    "nz = 1  # number of latent samples per datapoint\n",
    "nu = 1 # nu is the ratio of noise to data samples in NCE\n",
    "\n",
    "theta0 = 0.5  # initial theta"
   ]
  },
  {
   "cell_type": "code",
   "execution_count": 5,
   "metadata": {},
   "outputs": [],
   "source": [
    "true_data_dist = MixtureOfTwoGaussians(theta=np.log(sigma0), sigma1=sigma1)\n",
    "X = true_data_dist.sample(n) # generate data"
   ]
  },
  {
   "cell_type": "code",
   "execution_count": 6,
   "metadata": {},
   "outputs": [],
   "source": [
    "noise = GaussianNoise(mean=0, cov = sigma0**2)\n",
    "Y = noise.sample(n*nu)"
   ]
  },
  {
   "cell_type": "code",
   "execution_count": 7,
   "metadata": {},
   "outputs": [],
   "source": [
    "model = MixtureOfTwoGaussians(theta0, sigma1=sigma1)\n",
    "var_dist = PolynomialSigmoidBernoulli(alpha=np.array([0,0,0]))"
   ]
  },
  {
   "cell_type": "code",
   "execution_count": 8,
   "metadata": {},
   "outputs": [],
   "source": [
    "# E(r(x, z))\n",
    "E1 = E_r\n",
    "# E(log(psi_1(x, z)))\n",
    "E2 = E_log_psi_1\n",
    "# E((psi_1(x, z) - 1) / psi_1(x, z))\n",
    "E3 = E_psi_1_ratio_times_grad_log_theta\n",
    "# E(grad_theta(log(phi(u,z)) r(u, z))\n",
    "E4 = E_r_times_grad_log_theta\n",
    "# gradient_alpha(E(log(psi_1(x, z)))\n",
    "E5 = grad_wrt_alpha_of_E_log_psi_1"
   ]
  },
  {
   "cell_type": "code",
   "execution_count": 9,
   "metadata": {},
   "outputs": [],
   "source": [
    "optimiser = VNCEOptimiserWithAnalyticExpectations(model, noise, Y, var_dist, E1, E2, E3, E4, E5, nu=nu)"
   ]
  },
  {
   "cell_type": "markdown",
   "metadata": {},
   "source": [
    "## Variational EM-type optimisation"
   ]
  },
  {
   "cell_type": "code",
   "execution_count": 10,
   "metadata": {
    "scrolled": false
   },
   "outputs": [],
   "source": [
    "thetas_per_em, alphas_per_em, J1s, times = optimiser.fit(X, \n",
    "                                                         theta0=np.log(4), \n",
    "                                                         alpha0=np.array([0, 0, 0]), \n",
    "                                                         maxiter=1000, \n",
    "                                                         disp=False, \n",
    "                                                         stop_threshold=10**-4)"
   ]
  },
  {
   "cell_type": "code",
   "execution_count": 11,
   "metadata": {
    "scrolled": false
   },
   "outputs": [
    {
     "data": {
      "image/png": "[encoded data removed]",
      "text/plain": [
       "<matplotlib.figure.Figure at 0x7f93e01deb38>"
      ]
     },
     "metadata": {},
     "output_type": "display_data"
    }
   ],
   "source": [
    "_ = optimiser.plot_loss_curve()"
   ]
  },
  {
   "cell_type": "markdown",
   "metadata": {},
   "source": [
    "## Coordinate ascent visualisation"
   ]
  },
  {
   "cell_type": "code",
   "execution_count": null,
   "metadata": {},
   "outputs": [],
   "source": [
    "thetas = np.arange(0.01, 8, 0.1).reshape(-1, 1)\n",
    "n_theta = len(thetas)"
   ]
  },
  {
   "cell_type": "code",
   "execution_count": null,
   "metadata": {},
   "outputs": [],
   "source": [
    "def h(u):\n",
    "    return np.log(model.marginalised_over_z(u)) - np.log(noise(u))\n",
    "\n",
    "J = np.zeros(n_theta)\n",
    "for k in range(n_theta):\n",
    "    model.theta = np.log(thetas[k])\n",
    "\n",
    "    a0 = 1 + nu*np.exp(-h(X))\n",
    "    a1 = 1 + (1/nu)*np.exp(h(Y))\n",
    "    \n",
    "    J[k] = -np.mean(np.log(a0)) - nu*np.mean(np.log(a1))"
   ]
  },
  {
   "cell_type": "code",
   "execution_count": null,
   "metadata": {},
   "outputs": [],
   "source": [
    "num_m_steps = len(thetas_per_em)  # includes initialisation\n",
    "num_e_steps = len(alpha_per_em)  # includes intialisation\n",
    "lower_bounds = [np.zeros(n_theta) for i in range(num_e_steps)]\n",
    "for i in range(num_e_steps):\n",
    "    var_dist.alpha = alpha_per_em[i]\n",
    "    for j in range(n_theta):\n",
    "        model.theta = np.log(thetas[j])\n",
    "        lower_bounds[i][j] = optimiser.compute_J1(X)"
   ]
  },
  {
   "cell_type": "code",
   "execution_count": null,
   "metadata": {},
   "outputs": [],
   "source": [
    "%matplotlib inline\n",
    "rc('lines', linewidth=2)\n",
    "rc('font', size=12)\n",
    "rc('legend', fontsize=8)"
   ]
  },
  {
   "cell_type": "code",
   "execution_count": null,
   "metadata": {
    "scrolled": false
   },
   "outputs": [],
   "source": [
    "# this code does not currently produce the correct figure because we are updating thetas_per_em and alphas_per_em\n",
    "# during every iteration of scipy.minimize. If we switched to updating only at end of each E or M step, it would work.\n",
    "\"\"\"num_em_steps = num_e_steps + num_m_steps - 1  # minus 1 for double counting intialisation\n",
    "fig, axs = plt.subplots(num_em_steps, 1, figsize=(10, 18))\n",
    "axs = axs.ravel()\n",
    "for i in range(num_em_steps):\n",
    "    # plot NCE objective and its maximum\n",
    "    axs[i].plot(thetas, J, label=r'NCE objective $J(\\theta)$')\n",
    "    J_index = np.argmax(J)\n",
    "    axs[i].plot(thetas[J_index],J[J_index], marker='o', markersize=10, fillstyle='none', \n",
    "         markeredgewidth=1.5, c='b', linestyle='none', label=r'maximum of $J(\\theta)$')\n",
    "    \n",
    "    E_step_id = int(i/2)\n",
    "    M_step_id = int(np.ceil(i/2))\n",
    "    \n",
    "    # plot current lower bound J1\n",
    "    lb = lower_bounds[E_step_id]\n",
    "    axs[i].plot(thetas, lb, label=r'lower bound $J^1_{\\theta_{%d}}(\\theta)$' % int(i/2))\n",
    "   \n",
    "    # maximiser of lower bound\n",
    "    lb_index = np.argmax(lb)\n",
    "    axs[i].plot(thetas[lb_index], lb[lb_index], 'rs', markersize=10, fillstyle='none', \n",
    "             markeredgewidth=1.5, linestyle='none', label=r'maximum of $J^1_{\\theta_{%d}}(\\theta)$' % int(i/2))\n",
    "    \n",
    "    # current theta value\n",
    "    axs[i].plot(np.exp(thetas_per_em[M_step_id]) * np.array([1,1]),\n",
    "                plt.get(axs[i],'ylim'), 'g--', label=r'$\\theta_{}$'.format(int(np.ceil(i/2))))\n",
    "    # true param value\n",
    "    axs[i].plot(sigma0 * np.array([1,1]), plt.get(axs[i],'ylim'), 'k--', label='true parameter value')\n",
    "\n",
    "    axs[i].set_xlabel(r'${\\theta}$', fontsize=12)\n",
    "    axs[i].set_ylabel('objective', fontsize=12)\n",
    "    axs[i].legend(loc='lower right', numpoints=1, fontsize=12)\n",
    "    axs[i].grid()\n",
    "fig.tight_layout()\n",
    "fig.savefig('../../figs/variational-em.pdf')\"\"\""
   ]
  },
  {
   "cell_type": "code",
   "execution_count": null,
   "metadata": {},
   "outputs": [],
   "source": []
  },
  {
   "cell_type": "code",
   "execution_count": null,
   "metadata": {},
   "outputs": [],
   "source": []
  }
 ],
 "metadata": {
  "kernelspec": {
   "display_name": "Python 3",
   "language": "python",
   "name": "python3"
  },
  "language_info": {
   "codemirror_mode": {
    "name": "ipython",
    "version": 3
   },
   "file_extension": ".py",
   "mimetype": "text/x-python",
   "name": "python",
   "nbconvert_exporter": "python",
   "pygments_lexer": "ipython3",
   "version": "3.6.4"
  }
 },
 "nbformat": 4,
 "nbformat_minor": 2
}
