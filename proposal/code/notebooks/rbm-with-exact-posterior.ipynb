{
 "cells": [
  {
   "cell_type": "code",
   "execution_count": 1,
   "metadata": {},
   "outputs": [],
   "source": [
    "import os\n",
    "import sys\n",
    "nb_dir = os.path.split(os.getcwd())[0]\n",
    "pybn_dir = '/afs/inf.ed.ac.uk/user/s17/s1771906/masters-project/pyBN-master'\n",
    "if nb_dir not in sys.path:\n",
    "    sys.path.append(nb_dir)\n",
    "if pybn_dir not in sys.path:\n",
    "    sys.path.append(pybn_dir)"
   ]
  },
  {
   "cell_type": "code",
   "execution_count": 2,
   "metadata": {},
   "outputs": [],
   "source": [
    "import numpy as np\n",
    "import pdb\n",
    "\n",
    "# my code\n",
    "from distribution import RBMLatentPosterior, MultivariateBernoulliNoise, ChowLiuTree\n",
    "from latent_nce_optimiser import LatentNCEOptimiser, CDOptimiser\n",
    "from latent_variable_model import RestrictedBoltzmannMachine\n",
    "\n",
    "from matplotlib import pyplot as plt\n",
    "from matplotlib import rc\n",
    "from numpy import random as rnd\n",
    "\n",
    "%matplotlib inline\n",
    "rc('lines', linewidth=3)\n",
    "rc('font', size=18)\n",
    "rc('legend', fontsize=18)\n",
    "\n",
    "# For reproducibility\n",
    "rng = rnd.RandomState(1083463236)"
   ]
  },
  {
   "cell_type": "markdown",
   "metadata": {},
   "source": [
    "# Setup"
   ]
  },
  {
   "cell_type": "code",
   "execution_count": 3,
   "metadata": {},
   "outputs": [],
   "source": [
    "n = 10000 # number of datapoints\n",
    "nz = 1  # number latent samples per datapoint\n",
    "nu = 1  # ratio of noise to data samples for NCE\n",
    "num_gibbs_steps_for_synthetic_data = 200\n",
    "d = 10  # visible dimension\n",
    "m = 5  # latent dimension\n",
    "true_W = np.zeros((d+1, m+1))\n",
    "for i in range(m):\n",
    "    true_W[:, i] = rnd.uniform(-1/(i+1), 1/(i+1), d+1)  # true setting of the weights, that we are trying to learn\n",
    "theta0 = rnd.randn(d+1, m+1)*0.01  # random initialisation of weights\n",
    "#theta0 = true_W"
   ]
  },
  {
   "cell_type": "code",
   "execution_count": 4,
   "metadata": {},
   "outputs": [],
   "source": [
    "# tolerances used to determine when iterations stop in scipy minimize (used in LatentNCEOptimiser)\n",
    "gtol = 1e-5\n",
    "ftol = 1e-5\n",
    "# threshold for stopping EM outer loop of optimisation in LatentNCEOptimiser\n",
    "stop_threshold =  1e-03\n",
    "# maximum number of EM steps\n",
    "max_num_em_steps = 20\n",
    "\n",
    "# hyperparameters used in CDOptimiser (contrastive divergence optimiser)\n",
    "cd_num_steps = 1\n",
    "cd_learn_rate = 0.001\n",
    "cd_batch_size = 10"
   ]
  },
  {
   "cell_type": "markdown",
   "metadata": {},
   "source": [
    "#### Switches"
   ]
  },
  {
   "cell_type": "code",
   "execution_count": 5,
   "metadata": {},
   "outputs": [],
   "source": [
    "init_scaling_param_at_data_dist_scale = False\n",
    "init_scaling_param_at_rnd_init_scale = True\n",
    "init_visible_biases_with_entropy = False"
   ]
  },
  {
   "cell_type": "markdown",
   "metadata": {},
   "source": [
    "# Data, Model & Optimiser definition"
   ]
  },
  {
   "cell_type": "markdown",
   "metadata": {},
   "source": [
    "#### sample a synthetic dataset"
   ]
  },
  {
   "cell_type": "code",
   "execution_count": 6,
   "metadata": {},
   "outputs": [
    {
     "name": "stdout",
     "output_type": "stream",
     "text": [
      "CPU times: user 935 ms, sys: 46.3 ms, total: 981 ms\n",
      "Wall time: 970 ms\n"
     ]
    }
   ],
   "source": [
    "%%time\n",
    "true_data_dist = RestrictedBoltzmannMachine(true_W)\n",
    "X, Z = true_data_dist.sample(n, num_iter=num_gibbs_steps_for_synthetic_data)"
   ]
  },
  {
   "cell_type": "code",
   "execution_count": 7,
   "metadata": {},
   "outputs": [],
   "source": [
    "# initialise visible biases as recommended by Hinton\n",
    "X_mean = np.mean(X, axis=0)\n",
    "if init_visible_biases_with_entropy:\n",
    "    theta0[1:, 0] = np.log(X_mean / (1 - X_mean))"
   ]
  },
  {
   "cell_type": "markdown",
   "metadata": {},
   "source": [
    "#### compute the true normalisation constant"
   ]
  },
  {
   "cell_type": "code",
   "execution_count": 8,
   "metadata": {},
   "outputs": [
    {
     "name": "stdout",
     "output_type": "stream",
     "text": [
      "-10.156997136783668\n",
      "CPU times: user 927 µs, sys: 0 ns, total: 927 µs\n",
      "Wall time: 665 µs\n"
     ]
    }
   ],
   "source": [
    "%%time\n",
    "true_data_dist.reset_norm_const()\n",
    "true_norm_const = true_data_dist.norm_const\n",
    "true_W[0, 0] = -np.log(true_norm_const)\n",
    "print(-np.log(true_norm_const))"
   ]
  },
  {
   "cell_type": "code",
   "execution_count": 9,
   "metadata": {},
   "outputs": [],
   "source": [
    "# initialise three models for comparison\n",
    "model = RestrictedBoltzmannMachine(theta0)\n",
    "cd_model = RestrictedBoltzmannMachine(theta0)\n",
    "random_init_model = RestrictedBoltzmannMachine(theta0)"
   ]
  },
  {
   "cell_type": "code",
   "execution_count": 10,
   "metadata": {},
   "outputs": [
    {
     "name": "stdout",
     "output_type": "stream",
     "text": [
      "-10.389940258788892\n"
     ]
    }
   ],
   "source": [
    "random_init_model.reset_norm_const()\n",
    "rnd_norm_const = random_init_model.norm_const\n",
    "print(-np.log(rnd_norm_const))"
   ]
  },
  {
   "cell_type": "code",
   "execution_count": 11,
   "metadata": {},
   "outputs": [],
   "source": [
    "noise = MultivariateBernoulliNoise(X_mean)\n",
    "var_dist = RBMLatentPosterior(theta0)  # true posterior, which has an analytic expression"
   ]
  },
  {
   "cell_type": "code",
   "execution_count": 12,
   "metadata": {},
   "outputs": [
    {
     "name": "stdout",
     "output_type": "stream",
     "text": [
      "CPU times: user 1.17 ms, sys: 35 µs, total: 1.21 ms\n",
      "Wall time: 1.02 ms\n"
     ]
    }
   ],
   "source": [
    "%%time\n",
    "optimiser = LatentNCEOptimiser(model, noise, var_dist, n, nu=nu, latent_samples_per_datapoint=nz)\n",
    "cd_optimiser = CDOptimiser(cd_model)"
   ]
  },
  {
   "cell_type": "markdown",
   "metadata": {},
   "source": [
    "# Optimisation"
   ]
  },
  {
   "cell_type": "code",
   "execution_count": 13,
   "metadata": {},
   "outputs": [],
   "source": [
    "if init_scaling_param_at_data_dist_scale:\n",
    "    theta0[0, 0] = -np.log(true_norm_const)\n",
    "if init_scaling_param_at_rnd_init_scale:\n",
    "    theta0[0, 0] = -np.log(rnd_norm_const)"
   ]
  },
  {
   "cell_type": "code",
   "execution_count": 14,
   "metadata": {},
   "outputs": [],
   "source": [
    "all_inds = np.arange(len(model.theta))"
   ]
  },
  {
   "cell_type": "code",
   "execution_count": 15,
   "metadata": {
    "scrolled": false
   },
   "outputs": [
    {
     "name": "stdout",
     "output_type": "stream",
     "text": [
      "CPU times: user 1.56 s, sys: 242 ms, total: 1.81 s\n",
      "Wall time: 1.79 s\n"
     ]
    }
   ],
   "source": [
    "%%time\n",
    "thetas_after_EM_step, J1s, J1_grads = optimiser.fit_using_analytic_q(all_inds, X, theta0=theta0.reshape(-1), \n",
    "                                                                     stop_threshold=stop_threshold, \n",
    "                                                                     max_num_em_steps=max_num_em_steps,\n",
    "                                                                     gtol=gtol, ftol=ftol, plot=False, \n",
    "                                                                     disp=True)\n",
    "latent_nce_estimate = model.theta"
   ]
  },
  {
   "cell_type": "code",
   "execution_count": 16,
   "metadata": {
    "scrolled": false
   },
   "outputs": [
    {
     "data": {
      "image/png": "[encoded data removed]",
      "text/plain": [
       "<matplotlib.figure.Figure at 0x7f1bba392080>"
      ]
     },
     "metadata": {},
     "output_type": "display_data"
    }
   ],
   "source": [
    "fig, ax = optimiser.plot_loss_curve(J1s, plot_reset_points=True, endpoints=None, \n",
    "                                    true_theta = true_W.reshape(-1), X=X)"
   ]
  },
  {
   "cell_type": "code",
   "execution_count": 17,
   "metadata": {},
   "outputs": [],
   "source": [
    "J1_len = sum([len(i) for i in J1s])\n",
    "# fig, ax = optimiser.plot_loss_curve(J1s, endpoints=(5, J1_len), true_theta = true_W.reshape(-1), X=X)"
   ]
  },
  {
   "cell_type": "code",
   "execution_count": 18,
   "metadata": {},
   "outputs": [
    {
     "name": "stdout",
     "output_type": "stream",
     "text": [
      "CPU times: user 172 ms, sys: 18.3 ms, total: 190 ms\n",
      "Wall time: 172 ms\n"
     ]
    }
   ],
   "source": [
    "%%time\n",
    "thetas_after_each_minibatch = cd_optimiser.fit(X, theta0=theta0.reshape(-1), num_gibbs_steps=cd_num_steps,\n",
    "                                               learning_rate=cd_learn_rate, batch_size=cd_batch_size)\n",
    "cd_estimate =  cd_model.theta"
   ]
  },
  {
   "cell_type": "markdown",
   "metadata": {},
   "source": [
    "# Results"
   ]
  },
  {
   "cell_type": "markdown",
   "metadata": {},
   "source": [
    "## Log-likelihood on training set"
   ]
  },
  {
   "cell_type": "markdown",
   "metadata": {},
   "source": [
    "### $ \\mathbb{E}_{x \\sim P_{data}} \\log(P_{data}(x)) \\ \\ \\text{and} \\ \\ \\mathbb{E}_{x \\sim P_{data}} \\log(P_{lnce}(x)) \\ \\ \\text{and} \\ \\ \\mathbb{E}_{x \\sim P_{data}} \\log(P_{cd}(x))  $"
   ]
  },
  {
   "cell_type": "code",
   "execution_count": 19,
   "metadata": {
    "scrolled": false
   },
   "outputs": [
    {
     "name": "stdout",
     "output_type": "stream",
     "text": [
      "True:       -6.611525557901425 \n",
      "Latent NCE: -6.613125246993808 \n",
      "CD:         -6.726130318457977\n",
      "Random init:-6.935411110451212 \n"
     ]
    }
   ],
   "source": [
    "true_dist_probs_of_true_data, _ = true_data_dist.normalised_and_marginalised_over_z(X)\n",
    "latent_nce_probs_of_true_data, _ = model.normalised_and_marginalised_over_z(X)\n",
    "cd_probs_of_true_data, _ = cd_model.normalised_and_marginalised_over_z(X)\n",
    "random_probs_of_true_data, _ = random_init_model.normalised_and_marginalised_over_z(X)\n",
    "print('True:       {} \\nLatent NCE: {} \\nCD:         {}\\nRandom init:{} '.format(\n",
    "    np.mean(np.log(true_dist_probs_of_true_data)), \n",
    "    np.mean(np.log(latent_nce_probs_of_true_data)),\n",
    "    np.mean(np.log(cd_probs_of_true_data)),\n",
    "    np.mean(np.log(random_probs_of_true_data))\n",
    "))"
   ]
  },
  {
   "cell_type": "markdown",
   "metadata": {},
   "source": [
    "## L1 norm between model joint & true joint"
   ]
  },
  {
   "cell_type": "markdown",
   "metadata": {},
   "source": [
    "$$ \\| \\phi - p_{data} \\|_1 = \\sum_{\\textbf{v} \\in \\{0,1\\}^{d}} \\sum_{\\textbf{h} \\in \\{0,1\\}^{m}} |\\phi(\\textbf{v}, \\textbf{h}) - p_{data}(\\textbf{v}, \\textbf{h}) | $$"
   ]
  },
  {
   "cell_type": "code",
   "execution_count": 20,
   "metadata": {
    "scrolled": true
   },
   "outputs": [
    {
     "name": "stdout",
     "output_type": "stream",
     "text": [
      "true vs latent nce:   0.3310052719566911\n",
      "true vs cd:           0.47005882653260944\n",
      "true vs random init:  0.6899335798070042\n"
     ]
    }
   ],
   "source": [
    "true_model_vals = true_data_dist.evaluate_on_entire_domain(normalise=True)\n",
    "latent_nce_vals = model.evaluate_on_entire_domain(normalise=False)\n",
    "cd_vals = cd_model.evaluate_on_entire_domain(normalise=True)\n",
    "rnd_init_vals = random_init_model.evaluate_on_entire_domain(normalise=True)\n",
    "\n",
    "l1_norm_diff_true_nce = np.sum(np.abs(true_model_vals - latent_nce_vals))\n",
    "l1_norm_diff_true_cd = np.sum(np.abs(true_model_vals - cd_vals))\n",
    "l1_norm_diff_true_rnd_init = np.sum(np.abs(true_model_vals - rnd_init_vals))\n",
    "\n",
    "print('true vs latent nce:   {}'.format(l1_norm_diff_true_nce))\n",
    "print('true vs cd:           {}'.format(l1_norm_diff_true_cd))\n",
    "print('true vs random init:  {}'.format(l1_norm_diff_true_rnd_init))"
   ]
  },
  {
   "cell_type": "markdown",
   "metadata": {},
   "source": [
    "## Frobenius norm of true parameters minus model parameters"
   ]
  },
  {
   "cell_type": "code",
   "execution_count": 21,
   "metadata": {},
   "outputs": [
    {
     "name": "stdout",
     "output_type": "stream",
     "text": [
      "true vs latent nce:   1.8322448549534538\n",
      "true vs cd:           1.9848679842358856\n",
      "true vs random init:  2.1758098525109983\n"
     ]
    }
   ],
   "source": [
    "# NOTE: we exclude the scaling parameter in all comparisons\n",
    "\n",
    "random_true_param_diff = (true_W - theta0).reshape(-1)[1:]\n",
    "sq_diff_rand_true = np.dot(random_true_param_diff, random_true_param_diff)**0.5\n",
    "nce_true_param_diff = (true_W - latent_nce_estimate.reshape(d+1, m+1)).reshape(-1)[1:]\n",
    "sq_diff_nce_true = np.dot(nce_true_param_diff, nce_true_param_diff)**0.5\n",
    "cd_true_param_diff = (true_W - cd_estimate.reshape(d+1, m+1)).reshape(-1)[1:]\n",
    "sq_diff_cd_true = np.dot(cd_true_param_diff, cd_true_param_diff)**0.5\n",
    "print('true vs latent nce:   {}'.format(sq_diff_nce_true))\n",
    "print('true vs cd:           {}'.format(sq_diff_cd_true))\n",
    "print('true vs random init:  {}'.format(sq_diff_rand_true))"
   ]
  },
  {
   "cell_type": "markdown",
   "metadata": {},
   "source": [
    "### Scaling parameter"
   ]
  },
  {
   "cell_type": "code",
   "execution_count": 22,
   "metadata": {
    "scrolled": false
   },
   "outputs": [
    {
     "name": "stdout",
     "output_type": "stream",
     "text": [
      "Learnt Scaling param is:              -10.166332513728705\n",
      "Norm const of data distribution is:   -10.156997136783668\n"
     ]
    }
   ],
   "source": [
    "print('Learnt Scaling param is:              {}'.format(latent_nce_estimate[0]))\n",
    "print('Norm const of data distribution is:   {}'.format(-np.log(true_norm_const)))"
   ]
  },
  {
   "cell_type": "markdown",
   "metadata": {},
   "source": [
    "## Visualisations of parameters"
   ]
  },
  {
   "cell_type": "code",
   "execution_count": 23,
   "metadata": {},
   "outputs": [
    {
     "data": {
      "image/png": "[encoded data removed]",
      "text/plain": [
       "<matplotlib.figure.Figure at 0x7f1bb1e3cb00>"
      ]
     },
     "metadata": {},
     "output_type": "display_data"
    }
   ],
   "source": [
    "true_params = np.array(true_data_dist.theta.reshape(d+1, m+1).T)\n",
    "true_params[0,0] = 0\n",
    "fig, axs = plt.subplots(1, 2, figsize=(12, 5))\n",
    "axs = axs.ravel()\n",
    "axs[0].imshow(true_params, cmap='gray')\n",
    "axs[1].imshow(true_params[1:, 1:], cmap='gray')\n",
    "axs[0].set_title('with biases', fontsize=16)\n",
    "axs[1].set_title('without biases', fontsize=16)\n",
    "#fig.suptitle('True parameters', fontsize=20)\n",
    "plt.tight_layout()"
   ]
  },
  {
   "cell_type": "code",
   "execution_count": 24,
   "metadata": {
    "scrolled": false
   },
   "outputs": [
    {
     "data": {
      "image/png": "[encoded data removed]",
      "text/plain": [
       "<matplotlib.figure.Figure at 0x7f1bb1d40240>"
      ]
     },
     "metadata": {},
     "output_type": "display_data"
    }
   ],
   "source": [
    "nce_params = np.array(model.theta.reshape(d+1, m+1).T)\n",
    "nce_params[0,0] = 0\n",
    "fig, axs = plt.subplots(1, 2, figsize=(12, 5))\n",
    "axs = axs.ravel()\n",
    "axs[0].imshow(nce_params, cmap='gray')\n",
    "axs[1].imshow(nce_params[1:, 1:], cmap='gray')\n",
    "axs[0].set_title('with biases', fontsize=16)\n",
    "axs[1].set_title('without biases', fontsize=16)\n",
    "# fig.suptitle('Latent NCE parameters', fontsize=20)\n",
    "plt.tight_layout()"
   ]
  },
  {
   "cell_type": "code",
   "execution_count": 25,
   "metadata": {},
   "outputs": [
    {
     "data": {
      "image/png": "[encoded data removed]",
      "text/plain": [
       "<matplotlib.figure.Figure at 0x7f1bb1c4de48>"
      ]
     },
     "metadata": {},
     "output_type": "display_data"
    }
   ],
   "source": [
    "cd_params = np.array(cd_model.theta.reshape(d+1, m+1).T)\n",
    "cd_params[0,0] = 0\n",
    "fig, axs = plt.subplots(1, 2, figsize=(12, 5))\n",
    "axs = axs.ravel()\n",
    "axs[0].imshow(cd_params, cmap='gray')\n",
    "axs[1].imshow(cd_params[1:, 1:], cmap='gray')\n",
    "axs[0].set_title('with biases', fontsize=16)\n",
    "axs[1].set_title('without biases', fontsize=16)\n",
    "#fig.suptitle('Contrastive Divergence parameters', fontsize=20)\n",
    "plt.tight_layout()"
   ]
  },
  {
   "cell_type": "code",
   "execution_count": 26,
   "metadata": {},
   "outputs": [
    {
     "data": {
      "image/png": "[encoded data removed]",
      "text/plain": [
       "<matplotlib.figure.Figure at 0x7f1bb1b9b4e0>"
      ]
     },
     "metadata": {},
     "output_type": "display_data"
    }
   ],
   "source": [
    "rnd_params = np.array(random_init_model.theta.reshape(d+1, m+1).T)\n",
    "rnd_params[0,0] = 0\n",
    "fig, axs = plt.subplots(1, 2, figsize=(12, 5))\n",
    "axs = axs.ravel()\n",
    "axs[0].imshow(rnd_params, cmap='gray')\n",
    "axs[1].imshow(rnd_params[1:, 1:], cmap='gray')\n",
    "axs[0].set_title('with biases', fontsize=16)\n",
    "axs[1].set_title('without biases', fontsize=16)\n",
    "#fig.suptitle('Initial parameters', fontsize=20)\n",
    "plt.tight_layout()"
   ]
  },
  {
   "cell_type": "code",
   "execution_count": 27,
   "metadata": {},
   "outputs": [
    {
     "name": "stdout",
     "output_type": "stream",
     "text": [
      "[0.06274288 0.06987307 0.06862031 0.06342647 0.0700054 ]\n"
     ]
    }
   ],
   "source": [
    "print(nce_params[1:, 0])"
   ]
  },
  {
   "cell_type": "code",
   "execution_count": 28,
   "metadata": {},
   "outputs": [
    {
     "name": "stdout",
     "output_type": "stream",
     "text": [
      "[-0.53150885  0.04691063  0.19117813 -0.0110435  -0.04451136 -0.11982384\n",
      "  0.49790737 -0.32747862  0.00866052 -0.23231738]\n"
     ]
    }
   ],
   "source": [
    "print(nce_params[0,1:])"
   ]
  },
  {
   "cell_type": "code",
   "execution_count": 29,
   "metadata": {},
   "outputs": [
    {
     "name": "stdout",
     "output_type": "stream",
     "text": [
      "[[-0.22449274  0.00214572  0.04154021 -0.00841099 -0.0535937  -0.06885205\n",
      "   0.19337867 -0.18850617  0.00615013 -0.08786307]\n",
      " [-0.2411339   0.01124369  0.04724959 -0.0512699  -0.0685568  -0.0795782\n",
      "   0.17692978 -0.14555446 -0.00792703 -0.09941982]\n",
      " [-0.22813533 -0.01786047  0.05112319 -0.0076399  -0.02410843 -0.08298615\n",
      "   0.18604338 -0.12498563 -0.02100036 -0.09534768]\n",
      " [-0.22530772  0.00548371  0.05461546 -0.00535484 -0.00849135 -0.05559256\n",
      "   0.16044167 -0.1066625  -0.02753767 -0.12347905]\n",
      " [-0.23505753 -0.02907163  0.05333313 -0.00945585 -0.03298068 -0.07293082\n",
      "   0.14221211 -0.14772424 -0.03103603 -0.12660504]]\n"
     ]
    }
   ],
   "source": [
    "print(nce_params[1:,1:])"
   ]
  },
  {
   "cell_type": "code",
   "execution_count": 30,
   "metadata": {
    "scrolled": true
   },
   "outputs": [
    {
     "name": "stdout",
     "output_type": "stream",
     "text": [
      "-0.38850400553840864\n",
      "-0.45801705226510364\n",
      "-0.3648973848017519\n",
      "-0.3318848437558656\n",
      "-0.48931657853520305\n"
     ]
    }
   ],
   "source": [
    "for i in range(1,6):\n",
    "    print(np.sum(nce_params[i, 1:]))"
   ]
  },
  {
   "cell_type": "code",
   "execution_count": 31,
   "metadata": {},
   "outputs": [
    {
     "data": {
      "text/plain": [
       "array([-1.07370044,  0.04280654,  0.30228087, -0.05521402, -0.11653169,\n",
       "       -0.30432722,  0.87844556, -0.64906619, -0.05801627, -0.4976206 ])"
      ]
     },
     "execution_count": 31,
     "metadata": {},
     "output_type": "execute_result"
    }
   ],
   "source": [
    "np.log(X_mean/(1-X_mean))"
   ]
  },
  {
   "cell_type": "markdown",
   "metadata": {},
   "source": [
    "# Validation of synthetic dataset"
   ]
  },
  {
   "cell_type": "code",
   "execution_count": 32,
   "metadata": {},
   "outputs": [
    {
     "data": {
      "text/plain": [
       "\"all_visibles = true_data_dist.get_all_binary_vectors(d)\\nvisible_probs, true_dist_norm_const = true_data_dist.normalised_and_marginalised_over_z(all_visibles)\\nprint('Sum over all visible probabilities should equal 1. We got: {}'.format(sum(visible_probs)))\\n\\nprint('-------------------------Visible probability checks--------------------------------------')\\nfor i in range(2**d):\\n    freq = np.sum(np.product((X == all_visibles[i]), axis=-1))/ len(X)\\n    print('{}:  Empirical frequency is {}. True probability is {}'.format(all_visibles[i], \\n                                                                         freq, visible_probs[i]))\\nprint('normalisation constant is: {}'.format(true_dist_norm_const))\\n\\nall_hiddens = true_data_dist.get_all_binary_vectors(m)\\nhidden_probs, _ = true_data_dist.normalised_and_marginalised_over_u(all_hiddens)\\n\\nprint('Sum over all hidden probabilities should equal 1. We got: {}'.format(sum(hidden_probs)))\\n\\nvar_dist.alpha = true_W.reshape(-1)\\nZ_from_posterior_class = var_dist.sample(1000, X)\\n\\nprint('-------------------------Hidden probability checks--------------------------------------')\\nfor i in range(2**m):\\n    freq = np.mean(np.product((Z_from_posterior_class == all_hiddens[i]), axis=(-1)))\\n    print('{}:  Empirical frequency is {}. True probability is {}'.format(all_hiddens[i], \\n                                                                         freq, hidden_probs[i]))\""
      ]
     },
     "execution_count": 32,
     "metadata": {},
     "output_type": "execute_result"
    }
   ],
   "source": [
    "\"\"\"all_visibles = true_data_dist.get_all_binary_vectors(d)\n",
    "visible_probs, true_dist_norm_const = true_data_dist.normalised_and_marginalised_over_z(all_visibles)\n",
    "print('Sum over all visible probabilities should equal 1. We got: {}'.format(sum(visible_probs)))\n",
    "\n",
    "print('-------------------------Visible probability checks--------------------------------------')\n",
    "for i in range(2**d):\n",
    "    freq = np.sum(np.product((X == all_visibles[i]), axis=-1))/ len(X)\n",
    "    print('{}:  Empirical frequency is {}. True probability is {}'.format(all_visibles[i], \n",
    "                                                                         freq, visible_probs[i]))\n",
    "print('normalisation constant is: {}'.format(true_dist_norm_const))\n",
    "\n",
    "all_hiddens = true_data_dist.get_all_binary_vectors(m)\n",
    "hidden_probs, _ = true_data_dist.normalised_and_marginalised_over_u(all_hiddens)\n",
    "\n",
    "print('Sum over all hidden probabilities should equal 1. We got: {}'.format(sum(hidden_probs)))\n",
    "\n",
    "var_dist.alpha = true_W.reshape(-1)\n",
    "Z_from_posterior_class = var_dist.sample(1000, X)\n",
    "\n",
    "print('-------------------------Hidden probability checks--------------------------------------')\n",
    "for i in range(2**m):\n",
    "    freq = np.mean(np.product((Z_from_posterior_class == all_hiddens[i]), axis=(-1)))\n",
    "    print('{}:  Empirical frequency is {}. True probability is {}'.format(all_hiddens[i], \n",
    "                                                                         freq, hidden_probs[i]))\"\"\""
   ]
  }
 ],
 "metadata": {
  "kernelspec": {
   "display_name": "Python 3",
   "language": "python",
   "name": "python3"
  },
  "language_info": {
   "codemirror_mode": {
    "name": "ipython",
    "version": 3
   },
   "file_extension": ".py",
   "mimetype": "text/x-python",
   "name": "python",
   "nbconvert_exporter": "python",
   "pygments_lexer": "ipython3",
   "version": "3.6.4"
  }
 },
 "nbformat": 4,
 "nbformat_minor": 2
}
