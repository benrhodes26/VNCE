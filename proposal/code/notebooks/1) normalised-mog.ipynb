{
 "cells": [
  {
   "cell_type": "markdown",
   "metadata": {
    "toc": true
   },
   "source": [
    "<h1>Table of Contents<span class=\"tocSkip\"></span></h1>\n",
    "<div class=\"toc\"><ul class=\"toc-item\"><li><span><a href=\"#Using-EM-type-procedure-to-maximize-J1\" data-toc-modified-id=\"Using-EM-type-procedure-to-maximize-J1-1\"><span class=\"toc-item-num\">1&nbsp;&nbsp;</span>Using EM-type procedure to maximize J1</a></span><ul class=\"toc-item\"><li><span><a href=\"#Gradient-of-J1($\\theta$)---general-case\" data-toc-modified-id=\"Gradient-of-J1($\\theta$)---general-case-1.1\"><span class=\"toc-item-num\">1.1&nbsp;&nbsp;</span>Gradient of J1($\\theta$) - general case</a></span><ul class=\"toc-item\"><li><span><a href=\"#Derivation-of-gradient\" data-toc-modified-id=\"Derivation-of-gradient-1.1.1\"><span class=\"toc-item-num\">1.1.1&nbsp;&nbsp;</span>Derivation of gradient</a></span></li><li><span><a href=\"#FINAL-EXPRESSION-FOR-DERIVATIVE-OF-J1-W.R.T-THETA\" data-toc-modified-id=\"FINAL-EXPRESSION-FOR-DERIVATIVE-OF-J1-W.R.T-THETA-1.1.2\"><span class=\"toc-item-num\">1.1.2&nbsp;&nbsp;</span>FINAL EXPRESSION FOR DERIVATIVE OF J1 W.R.T THETA</a></span></li></ul></li><li><span><a href=\"#Gradient-of-J1($\\theta$)-for-our-Mixture-of-Gaussian-model\" data-toc-modified-id=\"Gradient-of-J1($\\theta$)-for-our-Mixture-of-Gaussian-model-1.2\"><span class=\"toc-item-num\">1.2&nbsp;&nbsp;</span>Gradient of J1($\\theta$) for our Mixture of Gaussian model</a></span></li><li><span><a href=\"#Choice-of-q-distribution---the-posterior-p(z|x)\" data-toc-modified-id=\"Choice-of-q-distribution---the-posterior-p(z|x)-1.3\"><span class=\"toc-item-num\">1.3&nbsp;&nbsp;</span>Choice of q distribution - the posterior p(z|x)</a></span></li></ul></li><li><span><a href=\"#Comparison-of-true-NCE-objective-function-with-J1\" data-toc-modified-id=\"Comparison-of-true-NCE-objective-function-with-J1-2\"><span class=\"toc-item-num\">2&nbsp;&nbsp;</span>Comparison of true NCE objective function with J1</a></span></li><li><span><a href=\"#EM-type-optimisation\" data-toc-modified-id=\"EM-type-optimisation-3\"><span class=\"toc-item-num\">3&nbsp;&nbsp;</span>EM-type optimisation</a></span></li></ul></div>"
   ]
  },
  {
   "cell_type": "markdown",
   "metadata": {},
   "source": [
    "# Using EM-type procedure to maximize J1"
   ]
  },
  {
   "cell_type": "markdown",
   "metadata": {},
   "source": [
    "## Gradient of J1($\\theta$) - general case"
   ]
  },
  {
   "cell_type": "markdown",
   "metadata": {},
   "source": [
    "Optimising $\\theta$ involves maximising the lower bound on the NCE objective:\n",
    "\n",
    "\\begin{align}\n",
    "J_1^k(\\theta) = \\color{red}{- \\mathbb{E}_{x} \\mathbb{E}_{z \\sim q_k} \\left[ \\log(1 + \\frac{\\nu}{r(x, z; \\theta)}) \\right]} - \n",
    "\\color{blue}{ \\nu \\mathbb{E}_{y}  \\left[ \\log(1 + \\frac{1}{\\nu} \\mathbb{E}_{z \\sim q_k}[r(y, z; \\theta)] ) \\right]}\n",
    "\\end{align}\n",
    "\n",
    "where \n",
    "\n",
    "$$ r(u,z, \\theta) = \\frac{\\phi(u, z; \\theta)}{q_k(z \\ | \\ u) p_y(u)}$$\n",
    "\n",
    "\n",
    "Note that q here is *not* a function of theta."
   ]
  },
  {
   "cell_type": "markdown",
   "metadata": {},
   "source": [
    "### Derivation of gradient"
   ]
  },
  {
   "cell_type": "markdown",
   "metadata": {},
   "source": [
    "To find the argmax of $J_1^K(\\theta)$, we need to differentiate it. To do so, let us first further reduce the notational burden, by writing:\n",
    "\n",
    "\\begin{align}\n",
    "J_1^k(\\theta) & =  \n",
    "              \\color{red}{ - \\mathbb{E}_{x} \\mathbb{E}_{z \\sim q_k} \\left[ \\log(\\psi_1(x, z; \\theta)) \\right]} -        \\color{blue}{ \\nu \\mathbb{E}_{y}  \\left[  \\log(\\psi_2(y; \\theta)) \\right]} \\\\\n",
    "\\end{align}\n",
    "\n",
    "Where the terms of the same colour are equivalent to each other.\n",
    "\n",
    "Now, let us take derivative with respect to $\\theta$:\n",
    "\n",
    "\\begin{align}\n",
    "\\color{red}{ \\nabla_{\\theta} \\log(\\psi_1(x, z; \\theta))} \n",
    "           & = \\frac{1}{\\psi_1(x, z; \\theta)} \\nabla_{\\theta} \\psi_1(x, z; \\theta) \\\\\n",
    "           & = \\frac{1}{\\psi_1(x, z; \\theta)} \\frac{-\\nu}{r(x, z; \\theta)^2} \\nabla_{\\theta} r(x, z; \\theta) \\\\\n",
    "           & = \\frac{1}{\\psi_1(x, z; \\theta)} \\frac{-\\nu}{r(x, z; \\theta)^2} \\frac{\\nabla_{\\theta} \\phi(x, z; \\theta)}{q_k(z \\ | \\ x)p_y(x)}\n",
    "\\end{align}\n",
    "\n",
    "Hence, we need:\n",
    "\n",
    "\\begin{align}\n",
    "\\nabla_{\\theta} \\phi(x, z; \\theta) & = \\nabla_{\\theta} \\exp ( \\log ( \\phi(x, z; \\theta) ) ) \\\\\n",
    "          & = \\left[ \\nabla_{\\theta} \\log(\\phi(x, z; \\theta)) \\right] \\exp ( \\log ( \\phi(x, z; \\theta) ) )\\\\\n",
    "          & = \\left[ \\nabla_{\\theta} \\log(\\phi(x, z; \\theta)) \\right] \\phi(x, z; \\theta) \n",
    "\\end{align}\n",
    "\n",
    "Plugging this back in, we get:\n",
    "\n",
    "\\begin{align}\n",
    "\\color{red}{ \\nabla_{\\theta} \\log(\\psi_1(x, z; \\theta))} \n",
    "    & = \\frac{1}{\\psi_1(x, z; \\theta)} \n",
    "        \\frac{-\\nu}{r(x, z; \\theta)^2} \n",
    "        \\frac{\\left[ \\nabla_{\\theta} \\log(\\phi(x, z; \\theta)) \\right] \\phi(x, z; \\theta)}{q_k(z \\ | \\ x)p_y(x)} \\\\\n",
    "    & = \\frac{1}{\\psi_1(x, z; \\theta)} \n",
    "        \\frac{-\\nu}{r(x, z; \\theta)} \n",
    "        \\left[ \\nabla_{\\theta} \\log(\\phi(x, z; \\theta)) \\right] \\\\\n",
    "    & = \\color{red}{- \\frac{\\psi_1(x, z; \\theta) - 1}{\\psi_1(x, z; \\theta)} \n",
    "        \\left[ \\nabla_{\\theta} \\log(\\phi(x, z; \\theta)) \\right]} \\\\\n",
    "\\end{align}\n",
    "\n",
    "Where in the final line we used the fact that $\\color{red}{\\psi_1(x, z; \\theta) - 1 = \\frac{\\nu}{r(x, z; \\theta)}}$.\n",
    "\n",
    "Now we find the derivative of the second (blue) term of $J_1^K(\\theta)$. Recalling that $\\color{blue}{\\psi_2(y; \\theta) = 1 + \\frac{1}{\\nu} \\mathbb{E}_{z \\sim q_k}[r(y, z; \\theta)]}$, we have:\n",
    "\n",
    "\\begin{align}\n",
    "\\color{blue}{\\nabla_{\\theta} \\log(\\psi_2(y; \\theta))}\n",
    "    & = \\frac{1}{\\psi_2(y; \\theta)} \\nabla_{\\theta} \\psi_2(y; \\theta) \\\\\n",
    "    & = \\frac{1}{\\psi_2(y; \\theta)} \n",
    "        \\frac{1}{\\nu} \\mathbb{E}_{z \\sim q_k} \n",
    "        \\left[ \\frac{\\nabla_{\\theta} \\phi(y, z; \\theta)}{q_k(z \\ | \\ y)p_y(y)} \\right] \\\\  \n",
    "    & = \\color{blue}{\\frac{1}{\\nu} \n",
    "        \\frac{1}{\\psi_2(y; \\theta)} \n",
    "        \\mathbb{E}_{z \\sim q_k} \\left[ r(y, z; \\theta) \\left[ \\nabla_{\\theta} \\log(\\phi(y, z; \\theta)) \\right] \\right]} \\\\\n",
    "\\end{align}"
   ]
  },
  {
   "cell_type": "markdown",
   "metadata": {},
   "source": [
    "### FINAL EXPRESSION FOR DERIVATIVE OF J1 W.R.T THETA"
   ]
  },
  {
   "cell_type": "markdown",
   "metadata": {},
   "source": [
    "Putting this all together, we arrive at: \n",
    "\n",
    "\\begin{align}\n",
    "\\nabla_{\\theta}(J_1^k(\\theta)) & =  \n",
    "    \\color{red}{ \\mathbb{E}_{x} \\mathbb{E}_{z \\sim q_k} \\frac{\\psi_1(x, z; \\theta) - 1}{\\psi_1(x, z; \\theta)} \n",
    "                \\left[ \\nabla_{\\theta} \\log(\\phi(x, z; \\theta)) \\right]} \n",
    "    \\color{blue}{ - \\mathbb{E}_y\n",
    "                 \\frac{1}{\\psi_2(y; \\theta)} \n",
    "                \\mathbb{E}_{z \\sim q_k} \\left[ r(y, z; \\theta) \\left[ \\nabla_{\\theta} \\log(\\phi(y, z; \\theta)) \\right] \\right]} \\\\\n",
    "\\end{align}\n",
    "\n",
    "Where (to remind oursevles yet again): \n",
    "\\begin{align}\n",
    "\\color{red}{\\psi_1(x, z; \\theta) = 1 + \\frac{\\nu}{r(x, z; \\theta)}} \\\\\n",
    "\\color{blue}{\\psi_2(y; \\theta) = 1 + \\frac{1}{\\nu} \\mathbb{E}_{z \\sim q_k}[r(y, z; \\theta)]}\n",
    "\\end{align}"
   ]
  },
  {
   "cell_type": "markdown",
   "metadata": {},
   "source": [
    "## Gradient of J1($\\theta$) for our Mixture of Gaussian model"
   ]
  },
  {
   "cell_type": "markdown",
   "metadata": {},
   "source": [
    "We simply need to plug in the gradient of the log model into the above equation. This is given by:\n",
    "\\begin{align}\n",
    "\\color{red}{\\nabla_{\\theta} \\log(\\phi(x, z; \\theta))}\n",
    "    & = \\nabla_{\\theta} \\log \\left( \\frac{1}{2} (1 - z) \\mathcal{N}_{\\theta} + \\frac{1}{2} z \\mathcal{N}_{\\sigma_1} \\right) \\\\\n",
    "    & = \\frac{\\frac{1}{2} (1 - z) \\nabla_{\\theta}\\mathcal{N}_{\\theta}}{ \\frac{1}{2} (1 - z) \\mathcal{N}_{\\theta} + \\frac{1}{2} z \\mathcal{N}_{\\sigma_1}} \\\\\n",
    "    & = \\frac{(1 - z) \\mathcal{N}_{\\theta}}{(1 - z) \\mathcal{N}_{\\theta} + z \\mathcal{N}_{\\sigma_1}} \n",
    "        \\left[ \\frac{x^2}{\\theta^3} - \\frac{1}{\\theta} \\right] \\\\\n",
    "    & = \\color{red}{(1 - z)  \\left[ \\frac{x^2}{\\theta^3} - \\frac{1}{\\theta} \\right] }\n",
    "\\end{align}\n",
    "\n",
    "Similarly,\n",
    "\n",
    "\\begin{align}\n",
    "\\color{blue}{\\nabla_{\\theta} \\log(\\phi(y, z; \\theta))}\n",
    "    & = \\color{blue}{(1 - z)\n",
    "        \\left[ \\frac{y^2}{\\theta^3} - \\frac{1}{\\theta} \\right] }\n",
    "\\end{align}"
   ]
  },
  {
   "cell_type": "markdown",
   "metadata": {},
   "source": [
    "## Choice of q distribution - the posterior p(z|x)"
   ]
  },
  {
   "cell_type": "markdown",
   "metadata": {},
   "source": [
    "For a simple initial experiment, we will iterate between optimising $\\theta$ (for a fixed q) to obtain $\\theta_k$, and then resetting q to be:\n",
    "\n",
    "$$ q_k := p(z=0 \\ | \\ u; \\theta_k) = \\left(  1 + \\frac{\\theta_k}{\\sigma_1} \\exp \\left(\\frac{- u^2}{2} \\left( \\frac{1}{\\sigma_1^2} - \\frac{1}{\\theta_k^2} \\right) \\right) \\right)^{-1} $$"
   ]
  },
  {
   "cell_type": "code",
   "execution_count": 1,
   "metadata": {},
   "outputs": [],
   "source": [
    "import os\n",
    "import sys\n",
    "nb_dir = os.path.split(os.getcwd())[0]\n",
    "if nb_dir not in sys.path:\n",
    "    sys.path.append(nb_dir)"
   ]
  },
  {
   "cell_type": "code",
   "execution_count": 2,
   "metadata": {},
   "outputs": [],
   "source": [
    "import numpy as np\n",
    "import pdb\n",
    "\n",
    "# my code\n",
    "from distribution import MixtureOfTwoGaussianBernoulliPosterior, GaussianNoise\n",
    "from vnce_optimisers import VNCEOptimiser\n",
    "from latent_variable_model import MixtureOfTwoGaussians\n",
    "\n",
    "from matplotlib import pyplot as plt\n",
    "from matplotlib import rc\n",
    "from numpy import random as rnd\n",
    "from scipy.optimize import minimize\n",
    "from scipy.stats import norm, multivariate_normal\n",
    "from sklearn.neighbors import KernelDensity as kd\n",
    "\n",
    "%matplotlib inline\n",
    "rc('lines', linewidth=3)\n",
    "rc('font', size=18)\n",
    "rc('legend', fontsize=16)\n",
    "rc('text', usetex=True)"
   ]
  },
  {
   "cell_type": "code",
   "execution_count": 3,
   "metadata": {},
   "outputs": [],
   "source": [
    "# For reproducibility\n",
    "rng = rnd.RandomState(1083463236)"
   ]
  },
  {
   "cell_type": "code",
   "execution_count": 4,
   "metadata": {},
   "outputs": [],
   "source": [
    "# mixing proportions: 0.5 and 0.5\n",
    "# mean0 = mean1 = 0\n",
    "sigma1 = 1\n",
    "sigma0 = 4  # (parameter of interest)\n",
    "\n",
    "n = 10000 # number of data points\n",
    "nz = 1  # number of latent samples per datapoint\n",
    "nu = 1  # nu is the ratio of noise to data samples in NCE\n",
    "\n",
    "true_theta = np.array([np.log(sigma0)])\n",
    "theta0 = np.array([np.log(1.5)])  # initial value of theta is log(0.8) = -0.2 (approx)"
   ]
  },
  {
   "cell_type": "code",
   "execution_count": 5,
   "metadata": {},
   "outputs": [],
   "source": [
    "true_data_dist = MixtureOfTwoGaussians(theta=np.log(sigma0), sigma1=sigma1)\n",
    "X = true_data_dist.sample(n) # generate data"
   ]
  },
  {
   "cell_type": "code",
   "execution_count": 6,
   "metadata": {},
   "outputs": [],
   "source": [
    "noise = GaussianNoise(mean=0, cov=sigma0**2)\n",
    "Y = noise.sample(n * nu)"
   ]
  },
  {
   "cell_type": "code",
   "execution_count": 7,
   "metadata": {},
   "outputs": [
    {
     "data": {
      "image/png": "[encoded data removed]",
      "text/plain": [
       "<matplotlib.figure.Figure at 0x7fde00b92278>"
      ]
     },
     "metadata": {},
     "output_type": "display_data"
    }
   ],
   "source": [
    "true_data_dist.plot_sample_density_against_true_density(X)"
   ]
  },
  {
   "cell_type": "code",
   "execution_count": 8,
   "metadata": {},
   "outputs": [],
   "source": [
    "model = MixtureOfTwoGaussians(theta0, sigma1=sigma1)\n",
    "var_dist = MixtureOfTwoGaussianBernoulliPosterior(alpha=theta0, sigma1=sigma1)"
   ]
  },
  {
   "cell_type": "code",
   "execution_count": 9,
   "metadata": {},
   "outputs": [],
   "source": [
    "optimiser = VNCEOptimiser(model, noise, var_dist, noise_samples=Y, nu=nu, latent_samples_per_datapoint=nz)"
   ]
  },
  {
   "cell_type": "markdown",
   "metadata": {},
   "source": [
    "# Comparison of true NCE objective function with J1"
   ]
  },
  {
   "cell_type": "code",
   "execution_count": 10,
   "metadata": {
    "scrolled": true
   },
   "outputs": [],
   "source": [
    "thetas = np.arange(0.01, 8, 0.1).reshape(-1, 1)\n",
    "n_theta = len(thetas)\n",
    "\n",
    "def h(u):\n",
    "    return np.log(model.marginalised_over_z(u)) - np.log(noise(u))"
   ]
  },
  {
   "cell_type": "code",
   "execution_count": 11,
   "metadata": {},
   "outputs": [],
   "source": [
    "J = np.zeros(n_theta)\n",
    "for k in range(n_theta):\n",
    "    model.theta = np.log(thetas[k])\n",
    "\n",
    "    a0 = 1 + nu*np.exp(-h(X))\n",
    "    a1 = 1 + (1/nu)*np.exp(h(Y))\n",
    "    \n",
    "    J[k] = -np.mean(np.log(a0)) - nu*np.mean(np.log(a1))"
   ]
  },
  {
   "cell_type": "code",
   "execution_count": 12,
   "metadata": {},
   "outputs": [
    {
     "name": "stderr",
     "output_type": "stream",
     "text": [
      "/afs/inf.ed.ac.uk/user/s17/s1771906/masters-project/ben-rhodes-masters-project/proposal/code/vnce_optimisers.py:101: RuntimeWarning: divide by zero encountered in log\n",
      "  val = np.log(phi) - np.log((q * self.pn(U) + self.eps))\n",
      "/afs/inf.ed.ac.uk/user/s17/s1771906/masters-project/ben-rhodes-masters-project/proposal/code/vnce_optimisers.py:129: RuntimeWarning: overflow encountered in exp\n",
      "  a = nu * np.exp(-r_x)  # (nz, n)\n"
     ]
    }
   ],
   "source": [
    "# Let's compute values of objective for fixed variation q, with alpha=sigma0\n",
    "var_dist.alpha = np.array([sigma0])\n",
    "J1_sigma0 = np.zeros(n_theta)  \n",
    "\n",
    "# Generate noise samples\n",
    "ZX, ZY = var_dist.sample(nz, X), var_dist.sample(nz, Y)\n",
    "\n",
    "for k in range(n_theta):\n",
    "    model.theta = np.log(thetas[k])\n",
    "    J1_sigma0[k] = optimiser.compute_J1(X, ZX, ZY)"
   ]
  },
  {
   "cell_type": "code",
   "execution_count": 13,
   "metadata": {},
   "outputs": [
    {
     "data": {
      "image/png": "[encoded data removed]",
      "text/plain": [
       "<matplotlib.figure.Figure at 0x7fddca7053c8>"
      ]
     },
     "metadata": {},
     "output_type": "display_data"
    }
   ],
   "source": [
    "fig = plt.figure(figsize=(10, 7))\n",
    "plt.plot(thetas, J, label='NCE objective')\n",
    "plt.plot(thetas, J1_sigma0, 'g', label='Lower bound')\n",
    "\n",
    "# true param value\n",
    "plt.plot(sigma0 * np.array([1,1]), plt.get(fig.gca(),'ylim'), 'k--', label='true parameter value')\n",
    "\n",
    "# maximiser of NCE obj\n",
    "index = np.argmax(J)\n",
    "plt.plot(thetas[index],J[index], marker='o', markersize=15, fillstyle='none', \n",
    "         markeredgewidth=2, c='b', linestyle='none', label='maximum of NCE obj')\n",
    "\n",
    "# maximiser of lower bound\n",
    "index2 = np.argmax(J1_sigma0)\n",
    "plt.plot(thetas[index2], J1_sigma0[index2], '^', markersize=15, fillstyle='none', \n",
    "         markeredgewidth=2, c='g', linestyle='none', label='maximum of lower bound')\n",
    "\n",
    "plt.xlabel('parameter', fontsize=16)\n",
    "plt.ylabel('objective', fontsize=16)\n",
    "plt.legend(loc='lower right', numpoints=1)\n",
    "plt.grid()"
   ]
  },
  {
   "cell_type": "code",
   "execution_count": 14,
   "metadata": {},
   "outputs": [
    {
     "name": "stdout",
     "output_type": "stream",
     "text": [
      "J1 minus 1e-5 is a lower bound for 100.0% of the parameters\n",
      "J1 minus 1e-4 is a lower bound for 100.0% of the parameters\n",
      "J1 minus 1e-3 is a lower bound for 100.0% of the parameters\n",
      "J1 minus 1e-2 is a lower bound for 100.0% of the parameters\n",
      "J1 minus 1e-1 is a lower bound for 100.0% of the parameters\n"
     ]
    }
   ],
   "source": [
    "for i in range(5, 0, -1):    \n",
    "    print('J1 minus 1e-{0} is a lower bound for {1}% of '\n",
    "          'the parameters'.format(i, 100* np.sum(J1_sigma0 - 10**-i < J) / J.size))"
   ]
  },
  {
   "cell_type": "markdown",
   "metadata": {},
   "source": [
    "# EM-type optimisation"
   ]
  },
  {
   "cell_type": "code",
   "execution_count": 15,
   "metadata": {},
   "outputs": [],
   "source": [
    "all_inds = np.arange(len(model.theta))"
   ]
  },
  {
   "cell_type": "code",
   "execution_count": 17,
   "metadata": {
    "scrolled": false
   },
   "outputs": [
    {
     "data": {
      "image/png": "[encoded data removed]",
      "text/plain": [
       "<matplotlib.figure.Figure at 0x7fddca679358>"
      ]
     },
     "metadata": {},
     "output_type": "display_data"
    }
   ],
   "source": [
    "thetas_after_EM_step, J1s, timings = optimiser.fit(X, theta0=theta0, max_num_em_steps=5)"
   ]
  },
  {
   "cell_type": "code",
   "execution_count": 19,
   "metadata": {
    "scrolled": false
   },
   "outputs": [
    {
     "data": {
      "text/plain": [
       "Text(0,0.5,'Value of objective function $J_1(\\\\theta)$')"
      ]
     },
     "execution_count": 19,
     "metadata": {},
     "output_type": "execute_result"
    },
    {
     "data": {
      "image/png": "[encoded data removed]",
      "text/plain": [
       "<matplotlib.figure.Figure at 0x7fddca6795c0>"
      ]
     },
     "metadata": {},
     "output_type": "display_data"
    }
   ],
   "source": [
    "fig = optimiser.plot_loss_curve()\n",
    "ax = fig.gca()\n",
    "ax.plot()\n",
    "ax.set_xlabel('Function evaluation of BFGS optimiser', fontsize=16)\n",
    "ax.set_ylabel(r'Value of objective function $J_1(\\theta)$', fontsize=16)\n",
    "#fig.savefig('../../figs/em-loss-curve-mog.pdf')"
   ]
  },
  {
   "cell_type": "code",
   "execution_count": 20,
   "metadata": {},
   "outputs": [
    {
     "name": "stderr",
     "output_type": "stream",
     "text": [
      "/afs/inf.ed.ac.uk/user/s17/s1771906/masters-project/ben-rhodes-masters-project/proposal/code/vnce_optimisers.py:101: RuntimeWarning: divide by zero encountered in log\n",
      "  val = np.log(phi) - np.log((q * self.pn(U) + self.eps))\n",
      "/afs/inf.ed.ac.uk/user/s17/s1771906/masters-project/ben-rhodes-masters-project/proposal/code/vnce_optimisers.py:129: RuntimeWarning: overflow encountered in exp\n",
      "  a = nu * np.exp(-r_x)  # (nz, n)\n"
     ]
    },
    {
     "ename": "KeyboardInterrupt",
     "evalue": "",
     "output_type": "error",
     "traceback": [
      "\u001b[0;31m---------------------------------------------------------------------------\u001b[0m",
      "\u001b[0;31mKeyboardInterrupt\u001b[0m                         Traceback (most recent call last)",
      "\u001b[0;32m<ipython-input-20-da60d607f3a5>\u001b[0m in \u001b[0;36m<module>\u001b[0;34m()\u001b[0m\n\u001b[1;32m     14\u001b[0m         \u001b[0mmodel\u001b[0m\u001b[0;34m.\u001b[0m\u001b[0mtheta\u001b[0m \u001b[0;34m=\u001b[0m \u001b[0mnp\u001b[0m\u001b[0;34m.\u001b[0m\u001b[0mlog\u001b[0m\u001b[0;34m(\u001b[0m\u001b[0mthetas\u001b[0m\u001b[0;34m[\u001b[0m\u001b[0mj\u001b[0m\u001b[0;34m]\u001b[0m\u001b[0;34m)\u001b[0m\u001b[0;34m\u001b[0m\u001b[0m\n\u001b[1;32m     15\u001b[0m         \u001b[0;31m# compute lower bound\u001b[0m\u001b[0;34m\u001b[0m\u001b[0;34m\u001b[0m\u001b[0m\n\u001b[0;32m---> 16\u001b[0;31m         \u001b[0mlower_bounds\u001b[0m\u001b[0;34m[\u001b[0m\u001b[0mi\u001b[0m\u001b[0;34m]\u001b[0m\u001b[0;34m[\u001b[0m\u001b[0mj\u001b[0m\u001b[0;34m]\u001b[0m \u001b[0;34m=\u001b[0m \u001b[0moptimiser\u001b[0m\u001b[0;34m.\u001b[0m\u001b[0mcompute_J1\u001b[0m\u001b[0;34m(\u001b[0m\u001b[0mX\u001b[0m\u001b[0;34m,\u001b[0m \u001b[0mZX\u001b[0m\u001b[0;34m,\u001b[0m \u001b[0mZY\u001b[0m\u001b[0;34m)\u001b[0m\u001b[0;34m\u001b[0m\u001b[0m\n\u001b[0m",
      "\u001b[0;32m~/masters-project/ben-rhodes-masters-project/proposal/code/vnce_optimisers.py\u001b[0m in \u001b[0;36mcompute_J1\u001b[0;34m(self, X, ZX, ZY, Y, separate_terms, save_J1)\u001b[0m\n\u001b[1;32m    131\u001b[0m         \u001b[0mfirst_term\u001b[0m \u001b[0;34m=\u001b[0m \u001b[0;34m-\u001b[0m\u001b[0mnp\u001b[0m\u001b[0;34m.\u001b[0m\u001b[0mmean\u001b[0m\u001b[0;34m(\u001b[0m\u001b[0mnp\u001b[0m\u001b[0;34m.\u001b[0m\u001b[0mlog\u001b[0m\u001b[0;34m(\u001b[0m\u001b[0;36m1\u001b[0m \u001b[0;34m+\u001b[0m \u001b[0ma\u001b[0m\u001b[0;34m)\u001b[0m\u001b[0;34m)\u001b[0m\u001b[0;34m\u001b[0m\u001b[0m\n\u001b[1;32m    132\u001b[0m \u001b[0;34m\u001b[0m\u001b[0m\n\u001b[0;32m--> 133\u001b[0;31m         \u001b[0mr_y\u001b[0m \u001b[0;34m=\u001b[0m \u001b[0mself\u001b[0m\u001b[0;34m.\u001b[0m\u001b[0mr\u001b[0m\u001b[0;34m(\u001b[0m\u001b[0mY\u001b[0m\u001b[0;34m,\u001b[0m \u001b[0mZY\u001b[0m\u001b[0;34m)\u001b[0m\u001b[0;34m\u001b[0m\u001b[0m\n\u001b[0m\u001b[1;32m    134\u001b[0m         \u001b[0;31m# b = (1 / nu) * np.mean(np.exp(r_y), axis=0)  # (n*nu, )\u001b[0m\u001b[0;34m\u001b[0m\u001b[0;34m\u001b[0m\u001b[0m\n\u001b[1;32m    135\u001b[0m         \u001b[0mexpectation\u001b[0m \u001b[0;34m=\u001b[0m \u001b[0mnp\u001b[0m\u001b[0;34m.\u001b[0m\u001b[0mmean\u001b[0m\u001b[0;34m(\u001b[0m\u001b[0mnp\u001b[0m\u001b[0;34m.\u001b[0m\u001b[0mexp\u001b[0m\u001b[0;34m(\u001b[0m\u001b[0mr_y\u001b[0m\u001b[0;34m)\u001b[0m\u001b[0;34m,\u001b[0m \u001b[0maxis\u001b[0m\u001b[0;34m=\u001b[0m\u001b[0;36m0\u001b[0m\u001b[0;34m)\u001b[0m\u001b[0;34m\u001b[0m\u001b[0m\n",
      "\u001b[0;32m~/masters-project/ben-rhodes-masters-project/proposal/code/vnce_optimisers.py\u001b[0m in \u001b[0;36mr\u001b[0;34m(self, U, Z)\u001b[0m\n\u001b[1;32m     99\u001b[0m         \u001b[0mq\u001b[0m \u001b[0;34m=\u001b[0m \u001b[0mself\u001b[0m\u001b[0;34m.\u001b[0m\u001b[0mq\u001b[0m\u001b[0;34m(\u001b[0m\u001b[0mZ\u001b[0m\u001b[0;34m,\u001b[0m \u001b[0mU\u001b[0m\u001b[0;34m)\u001b[0m\u001b[0;34m\u001b[0m\u001b[0m\n\u001b[1;32m    100\u001b[0m         \u001b[0;31m# val = phi / (q*self.pn(U) + self.eps)\u001b[0m\u001b[0;34m\u001b[0m\u001b[0;34m\u001b[0m\u001b[0m\n\u001b[0;32m--> 101\u001b[0;31m         \u001b[0mval\u001b[0m \u001b[0;34m=\u001b[0m \u001b[0mnp\u001b[0m\u001b[0;34m.\u001b[0m\u001b[0mlog\u001b[0m\u001b[0;34m(\u001b[0m\u001b[0mphi\u001b[0m\u001b[0;34m)\u001b[0m \u001b[0;34m-\u001b[0m \u001b[0mnp\u001b[0m\u001b[0;34m.\u001b[0m\u001b[0mlog\u001b[0m\u001b[0;34m(\u001b[0m\u001b[0;34m(\u001b[0m\u001b[0mq\u001b[0m \u001b[0;34m*\u001b[0m \u001b[0mself\u001b[0m\u001b[0;34m.\u001b[0m\u001b[0mpn\u001b[0m\u001b[0;34m(\u001b[0m\u001b[0mU\u001b[0m\u001b[0;34m)\u001b[0m \u001b[0;34m+\u001b[0m \u001b[0mself\u001b[0m\u001b[0;34m.\u001b[0m\u001b[0meps\u001b[0m\u001b[0;34m)\u001b[0m\u001b[0;34m)\u001b[0m\u001b[0;34m\u001b[0m\u001b[0m\n\u001b[0m\u001b[1;32m    102\u001b[0m         \u001b[0mvalidate_shape\u001b[0m\u001b[0;34m(\u001b[0m\u001b[0mval\u001b[0m\u001b[0;34m.\u001b[0m\u001b[0mshape\u001b[0m\u001b[0;34m,\u001b[0m \u001b[0;34m(\u001b[0m\u001b[0mZ\u001b[0m\u001b[0;34m.\u001b[0m\u001b[0mshape\u001b[0m\u001b[0;34m[\u001b[0m\u001b[0;36m0\u001b[0m\u001b[0;34m]\u001b[0m\u001b[0;34m,\u001b[0m \u001b[0mZ\u001b[0m\u001b[0;34m.\u001b[0m\u001b[0mshape\u001b[0m\u001b[0;34m[\u001b[0m\u001b[0;36m1\u001b[0m\u001b[0;34m]\u001b[0m\u001b[0;34m)\u001b[0m\u001b[0;34m)\u001b[0m\u001b[0;34m\u001b[0m\u001b[0m\n\u001b[1;32m    103\u001b[0m \u001b[0;34m\u001b[0m\u001b[0m\n",
      "\u001b[0;31mKeyboardInterrupt\u001b[0m: "
     ]
    }
   ],
   "source": [
    "lower_bounds = [np.zeros(n_theta) for i in range(len(thetas_after_EM_step))]\n",
    "for i in range(len(lower_bounds)):\n",
    "    # final theta after one EM step\n",
    "    theta_i = thetas_after_EM_step[i]\n",
    "    \n",
    "    # update q\n",
    "    var_dist.alpha = theta_i\n",
    "    \n",
    "    # generate 'missing data' using q defined by theta_k\n",
    "    ZX, ZY = var_dist.sample(nz, X), var_dist.sample(nz, Y)\n",
    "\n",
    "    # plot J1 as a function of theta\n",
    "    for j in range(n_theta):\n",
    "        model.theta = np.log(thetas[j])\n",
    "        # compute lower bound\n",
    "        lower_bounds[i][j] = optimiser.compute_J1(X, ZX, ZY)"
   ]
  },
  {
   "cell_type": "code",
   "execution_count": null,
   "metadata": {},
   "outputs": [],
   "source": [
    "fig, axs = plt.subplots(len(lower_bounds) - 1 -1, 1, figsize=(10, 15))\n",
    "axs = axs.ravel()\n",
    "fig.tight_layout()\n",
    "for i in range(len(lower_bounds) -1 -1):\n",
    "    \n",
    "    # plot NCE objective and its maximum\n",
    "    axs[i].plot(thetas, J, label=r'NCE objective $J(\\theta)$')\n",
    "    axs[i].plot(thetas[index],J[index], marker='o', markersize=15, fillstyle='none', \n",
    "         markeredgewidth=2, c='b', linestyle='none', label=r'maximum of $J(\\theta)$')\n",
    "    \n",
    "    lb = lower_bounds[i]\n",
    "    axs[i].plot(thetas, lb, label=r'lower bound $J^1_{\\theta_{%d}}(\\theta)$' % i)\n",
    "    \n",
    "    # current value of theta\n",
    "    axs[i].plot(np.exp(thetas_after_EM_step[i+1]) * np.array([1,1]),\n",
    "    plt.get(axs[i],'ylim'), 'g--', label=r'$\\theta_{}$'.format(i+1))\n",
    "   \n",
    "    # maximiser of lower bound\n",
    "    lb_index = np.argmax(lb)\n",
    "    axs[i].plot(thetas[lb_index], lb[lb_index], 'rs', markersize=15, fillstyle='none', \n",
    "             markeredgewidth=2, linestyle='none', label=r'maximum of $J^1_{\\theta_{%d}}(\\theta)$' % i)\n",
    "    \n",
    "    # true param value\n",
    "    axs[i].plot(sigma0 * np.array([1,1]), plt.get(axs[i],'ylim'), 'k--', label='true parameter value')\n",
    "\n",
    "    axs[i].set_xlabel(r'${\\theta}$', fontsize=18)\n",
    "    axs[i].set_ylabel('Objective', fontsize=18)\n",
    "    axs[i].legend(loc='lower right', numpoints=1, fontsize=16)\n",
    "    axs[i].grid()"
   ]
  },
  {
   "cell_type": "code",
   "execution_count": null,
   "metadata": {},
   "outputs": [],
   "source": [
    "var_dist.alpha"
   ]
  },
  {
   "cell_type": "code",
   "execution_count": null,
   "metadata": {},
   "outputs": [],
   "source": []
  }
 ],
 "metadata": {
  "kernelspec": {
   "display_name": "Python 3",
   "language": "python",
   "name": "python3"
  },
  "language_info": {
   "codemirror_mode": {
    "name": "ipython",
    "version": 3
   },
   "file_extension": ".py",
   "mimetype": "text/x-python",
   "name": "python",
   "nbconvert_exporter": "python",
   "pygments_lexer": "ipython3",
   "version": "3.6.4"
  },
  "toc": {
   "nav_menu": {},
   "number_sections": true,
   "sideBar": true,
   "skip_h1_title": false,
   "title_cell": "Table of Contents",
   "title_sidebar": "Contents",
   "toc_cell": true,
   "toc_position": {},
   "toc_section_display": true,
   "toc_window_display": false
  }
 },
 "nbformat": 4,
 "nbformat_minor": 1
}
