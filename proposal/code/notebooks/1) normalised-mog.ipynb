{
 "cells": [
  {
   "cell_type": "markdown",
   "metadata": {},
   "source": [
    "<h1>Table of Contents<span class=\"tocSkip\"></span></h1>\n",
    "<div class=\"toc\"><ul class=\"toc-item\"><li><span><a href=\"#Using-EM-type-procedure-to-maximize-J1\" data-toc-modified-id=\"Using-EM-type-procedure-to-maximize-J1-1\"><span class=\"toc-item-num\">1&nbsp;&nbsp;</span>Using EM-type procedure to maximize J1</a></span><ul class=\"toc-item\"><li><span><a href=\"#Gradient-of-J1($\\theta$)---general-case\" data-toc-modified-id=\"Gradient-of-J1($\\theta$)---general-case-1.1\"><span class=\"toc-item-num\">1.1&nbsp;&nbsp;</span>Gradient of J1($\\theta$) - general case</a></span><ul class=\"toc-item\"><li><span><a href=\"#Derivation-of-gradient\" data-toc-modified-id=\"Derivation-of-gradient-1.1.1\"><span class=\"toc-item-num\">1.1.1&nbsp;&nbsp;</span>Derivation of gradient</a></span></li><li><span><a href=\"#FINAL-EXPRESSION-FOR-DERIVATIVE-OF-J1-W.R.T-THETA\" data-toc-modified-id=\"FINAL-EXPRESSION-FOR-DERIVATIVE-OF-J1-W.R.T-THETA-1.1.2\"><span class=\"toc-item-num\">1.1.2&nbsp;&nbsp;</span>FINAL EXPRESSION FOR DERIVATIVE OF J1 W.R.T THETA</a></span></li></ul></li><li><span><a href=\"#Gradient-of-J1($\\theta$)-for-our-Mixture-of-Gaussian-model\" data-toc-modified-id=\"Gradient-of-J1($\\theta$)-for-our-Mixture-of-Gaussian-model-1.2\"><span class=\"toc-item-num\">1.2&nbsp;&nbsp;</span>Gradient of J1($\\theta$) for our Mixture of Gaussian model</a></span></li><li><span><a href=\"#Choice-of-q-distribution---the-posterior-p(z|x)\" data-toc-modified-id=\"Choice-of-q-distribution---the-posterior-p(z|x)-1.3\"><span class=\"toc-item-num\">1.3&nbsp;&nbsp;</span>Choice of q distribution - the posterior p(z|x)</a></span></li></ul></li><li><span><a href=\"#Comparison-of-true-NCE-objective-function-with-J1\" data-toc-modified-id=\"Comparison-of-true-NCE-objective-function-with-J1-2\"><span class=\"toc-item-num\">2&nbsp;&nbsp;</span>Comparison of true NCE objective function with J1</a></span></li><li><span><a href=\"#EM-type-optimisation\" data-toc-modified-id=\"EM-type-optimisation-3\"><span class=\"toc-item-num\">3&nbsp;&nbsp;</span>EM-type optimisation</a></span></li></ul></div>"
   ]
  },
  {
   "cell_type": "markdown",
   "metadata": {},
   "source": [
    "# Using EM-type procedure to maximize J1"
   ]
  },
  {
   "cell_type": "markdown",
   "metadata": {},
   "source": [
    "## Gradient of J1($\\theta$) - general case"
   ]
  },
  {
   "cell_type": "markdown",
   "metadata": {},
   "source": [
    "Optimising $\\theta$ involves maximising the lower bound on the NCE objective:\n",
    "\n",
    "\\begin{align}\n",
    "J_1^k(\\theta) = \\color{red}{- \\mathbb{E}_{x} \\mathbb{E}_{z \\sim q_k} \\left[ \\log(1 + \\frac{\\nu}{r(x, z; \\theta)}) \\right]} - \n",
    "\\color{blue}{ \\nu \\mathbb{E}_{y}  \\left[ \\log(1 + \\frac{1}{\\nu} \\mathbb{E}_{z \\sim q_k}[r(y, z; \\theta)] ) \\right]}\n",
    "\\end{align}\n",
    "\n",
    "where \n",
    "\n",
    "$$ r(u,z, \\theta) = \\frac{\\phi(u, z; \\theta)}{q_k(z \\ | \\ u) p_y(u)}$$\n",
    "\n",
    "\n",
    "Note that q here is *not* a function of theta."
   ]
  },
  {
   "cell_type": "markdown",
   "metadata": {},
   "source": [
    "### Derivation of gradient"
   ]
  },
  {
   "cell_type": "markdown",
   "metadata": {},
   "source": [
    "To find the argmax of $J_1^K(\\theta)$, we need to differentiate it. To do so, let us first further reduce the notational burden, by writing:\n",
    "\n",
    "\\begin{align}\n",
    "J_1^k(\\theta) & =  \n",
    "              \\color{red}{ - \\mathbb{E}_{x} \\mathbb{E}_{z \\sim q_k} \\left[ \\log(\\psi_1(x, z; \\theta)) \\right]} -        \\color{blue}{ \\nu \\mathbb{E}_{y}  \\left[  \\log(\\psi_2(y; \\theta)) \\right]} \\\\\n",
    "\\end{align}\n",
    "\n",
    "Where the terms of the same colour are equivalent to each other.\n",
    "\n",
    "Now, let us take derivative with respect to $\\theta$:\n",
    "\n",
    "\\begin{align}\n",
    "\\color{red}{ \\nabla_{\\theta} \\log(\\psi_1(x, z; \\theta))} \n",
    "           & = \\frac{1}{\\psi_1(x, z; \\theta)} \\nabla_{\\theta} \\psi_1(x, z; \\theta) \\\\\n",
    "           & = \\frac{1}{\\psi_1(x, z; \\theta)} \\frac{-\\nu}{r(x, z; \\theta)^2} \\nabla_{\\theta} r(x, z; \\theta) \\\\\n",
    "           & = \\frac{1}{\\psi_1(x, z; \\theta)} \\frac{-\\nu}{r(x, z; \\theta)^2} \\frac{\\nabla_{\\theta} \\phi(x, z; \\theta)}{q_k(z \\ | \\ x)p_y(x)}\n",
    "\\end{align}\n",
    "\n",
    "Hence, we need:\n",
    "\n",
    "\\begin{align}\n",
    "\\nabla_{\\theta} \\phi(x, z; \\theta) & = \\nabla_{\\theta} \\exp ( \\log ( \\phi(x, z; \\theta) ) ) \\\\\n",
    "          & = \\left[ \\nabla_{\\theta} \\log(\\phi(x, z; \\theta)) \\right] \\exp ( \\log ( \\phi(x, z; \\theta) ) )\\\\\n",
    "          & = \\left[ \\nabla_{\\theta} \\log(\\phi(x, z; \\theta)) \\right] \\phi(x, z; \\theta) \n",
    "\\end{align}\n",
    "\n",
    "Plugging this back in, we get:\n",
    "\n",
    "\\begin{align}\n",
    "\\color{red}{ \\nabla_{\\theta} \\log(\\psi_1(x, z; \\theta))} \n",
    "    & = \\frac{1}{\\psi_1(x, z; \\theta)} \n",
    "        \\frac{-\\nu}{r(x, z; \\theta)^2} \n",
    "        \\frac{\\left[ \\nabla_{\\theta} \\log(\\phi(x, z; \\theta)) \\right] \\phi(x, z; \\theta)}{q_k(z \\ | \\ x)p_y(x)} \\\\\n",
    "    & = \\frac{1}{\\psi_1(x, z; \\theta)} \n",
    "        \\frac{-\\nu}{r(x, z; \\theta)} \n",
    "        \\left[ \\nabla_{\\theta} \\log(\\phi(x, z; \\theta)) \\right] \\\\\n",
    "    & = \\color{red}{- \\frac{\\psi_1(x, z; \\theta) - 1}{\\psi_1(x, z; \\theta)} \n",
    "        \\left[ \\nabla_{\\theta} \\log(\\phi(x, z; \\theta)) \\right]} \\\\\n",
    "\\end{align}\n",
    "\n",
    "Where in the final line we used the fact that $\\color{red}{\\psi_1(x, z; \\theta) - 1 = \\frac{\\nu}{r(x, z; \\theta)}}$.\n",
    "\n",
    "Now we find the derivative of the second (blue) term of $J_1^K(\\theta)$. Recalling that $\\color{blue}{\\psi_2(y; \\theta) = 1 + \\frac{1}{\\nu} \\mathbb{E}_{z \\sim q_k}[r(y, z; \\theta)]}$, we have:\n",
    "\n",
    "\\begin{align}\n",
    "\\color{blue}{\\nabla_{\\theta} \\log(\\psi_2(y; \\theta))}\n",
    "    & = \\frac{1}{\\psi_2(y; \\theta)} \\nabla_{\\theta} \\psi_2(y; \\theta) \\\\\n",
    "    & = \\frac{1}{\\psi_2(y; \\theta)} \n",
    "        \\frac{1}{\\nu} \\mathbb{E}_{z \\sim q_k} \n",
    "        \\left[ \\frac{\\nabla_{\\theta} \\phi(y, z; \\theta)}{q_k(z \\ | \\ y)p_y(y)} \\right] \\\\  \n",
    "    & = \\color{blue}{\\frac{1}{\\nu} \n",
    "        \\frac{1}{\\psi_2(y; \\theta)} \n",
    "        \\mathbb{E}_{z \\sim q_k} \\left[ r(y, z; \\theta) \\left[ \\nabla_{\\theta} \\log(\\phi(y, z; \\theta)) \\right] \\right]} \\\\\n",
    "\\end{align}"
   ]
  },
  {
   "cell_type": "markdown",
   "metadata": {},
   "source": [
    "### FINAL EXPRESSION FOR DERIVATIVE OF J1 W.R.T THETA"
   ]
  },
  {
   "cell_type": "markdown",
   "metadata": {},
   "source": [
    "Putting this all together, we arrive at: \n",
    "\n",
    "\\begin{align}\n",
    "\\nabla_{\\theta}(J_1^k(\\theta)) & =  \n",
    "    \\color{red}{ \\mathbb{E}_{x} \\mathbb{E}_{z \\sim q_k} \\frac{\\psi_1(x, z; \\theta) - 1}{\\psi_1(x, z; \\theta)} \n",
    "                \\left[ \\nabla_{\\theta} \\log(\\phi(x, z; \\theta)) \\right]} \n",
    "    \\color{blue}{ - \\mathbb{E}_y\n",
    "                 \\frac{1}{\\psi_2(y; \\theta)} \n",
    "                \\mathbb{E}_{z \\sim q_k} \\left[ r(y, z; \\theta) \\left[ \\nabla_{\\theta} \\log(\\phi(y, z; \\theta)) \\right] \\right]} \\\\\n",
    "\\end{align}\n",
    "\n",
    "Where (to remind oursevles yet again): \n",
    "\\begin{align}\n",
    "\\color{red}{\\psi_1(x, z; \\theta) = 1 + \\frac{\\nu}{r(x, z; \\theta)}} \\\\\n",
    "\\color{blue}{\\psi_2(y; \\theta) = 1 + \\frac{1}{\\nu} \\mathbb{E}_{z \\sim q_k}[r(y, z; \\theta)]}\n",
    "\\end{align}"
   ]
  },
  {
   "cell_type": "markdown",
   "metadata": {},
   "source": [
    "## Gradient of J1($\\theta$) for our Mixture of Gaussian model"
   ]
  },
  {
   "cell_type": "markdown",
   "metadata": {},
   "source": [
    "We simply need to plug in the gradient of the log model into the above equation. This is given by:\n",
    "\\begin{align}\n",
    "\\color{red}{\\nabla_{\\theta} \\log(\\phi(x, z; \\theta))}\n",
    "    & = \\nabla_{\\theta} \\log \\left( \\frac{1}{2} (1 - z) \\mathcal{N}_{\\theta} + \\frac{1}{2} z \\mathcal{N}_{\\sigma_1} \\right) \\\\\n",
    "    & = \\frac{\\frac{1}{2} (1 - z) \\nabla_{\\theta}\\mathcal{N}_{\\theta}}{ \\frac{1}{2} (1 - z) \\mathcal{N}_{\\theta} + \\frac{1}{2} z \\mathcal{N}_{\\sigma_1}} \\\\\n",
    "    & = \\frac{(1 - z) \\mathcal{N}_{\\theta}}{(1 - z) \\mathcal{N}_{\\theta} + z \\mathcal{N}_{\\sigma_1}} \n",
    "        \\left[ \\frac{x^2}{\\theta^3} - \\frac{1}{\\theta} \\right] \\\\\n",
    "    & = \\color{red}{(1 - z)  \\left[ \\frac{x^2}{\\theta^3} - \\frac{1}{\\theta} \\right] }\n",
    "\\end{align}\n",
    "\n",
    "Similarly,\n",
    "\n",
    "\\begin{align}\n",
    "\\color{blue}{\\nabla_{\\theta} \\log(\\phi(y, z; \\theta))}\n",
    "    & = \\color{blue}{(1 - z)\n",
    "        \\left[ \\frac{y^2}{\\theta^3} - \\frac{1}{\\theta} \\right] }\n",
    "\\end{align}"
   ]
  },
  {
   "cell_type": "markdown",
   "metadata": {},
   "source": [
    "## Choice of q distribution - the posterior p(z|x)"
   ]
  },
  {
   "cell_type": "markdown",
   "metadata": {},
   "source": [
    "For a simple initial experiment, we will iterate between optimising $\\theta$ (for a fixed q) to obtain $\\theta_k$, and then resetting q to be:\n",
    "\n",
    "$$ q_k := p(z=0 \\ | \\ u; \\theta_k) = \\left(  1 + \\frac{\\theta_k}{\\sigma_1} \\exp \\left(\\frac{- u^2}{2} \\left( \\frac{1}{\\sigma_1^2} - \\frac{1}{\\theta_k^2} \\right) \\right) \\right)^{-1} $$"
   ]
  },
  {
   "cell_type": "code",
   "execution_count": 1,
   "metadata": {},
   "outputs": [],
   "source": [
    "import os\n",
    "import sys\n",
    "nb_dir = os.path.split(os.getcwd())[0]\n",
    "if nb_dir not in sys.path:\n",
    "    sys.path.append(nb_dir)"
   ]
  },
  {
   "cell_type": "code",
   "execution_count": 2,
   "metadata": {},
   "outputs": [],
   "source": [
    "import numpy as np\n",
    "import seaborn as sns\n",
    "\n",
    "# my code\n",
    "from distribution import MixtureOfTwoGaussianBernoulliPosterior, GaussianNoise\n",
    "from fully_observed_models import MixtureOfTwoGaussians\n",
    "from latent_variable_model import LatentMixtureOfTwoGaussians\n",
    "from nce_optimiser import NCEOptimiser\n",
    "from plot import save_fig\n",
    "from utils import evaluate_loss_at_param\n",
    "from vnce_optimiser import VemOptimiser, ScipyMinimiseEmStep, ExactEStep, MonteCarloVnceLoss\n",
    "\n",
    "from matplotlib import pyplot as plt\n",
    "from matplotlib import rc\n",
    "from numpy import random as rnd\n",
    "from scipy.optimize import minimize\n",
    "from scipy.stats import norm, multivariate_normal\n",
    "from sklearn.neighbors import KernelDensity as kd\n",
    "\n",
    "%matplotlib inline\n",
    "rc('lines', linewidth=1)\n",
    "rc('font', size=8)\n",
    "rc('legend', fontsize=8)\n",
    "rc('text', usetex=True)\n",
    "sns.set_style('darkgrid')"
   ]
  },
  {
   "cell_type": "code",
   "execution_count": 3,
   "metadata": {},
   "outputs": [],
   "source": [
    "# For reproducibility\n",
    "rng = rnd.RandomState(1083463236)\n",
    "save_dir = '/afs/inf.ed.ac.uk/user/s17/s1771906/masters-project-non-code/figs'\n",
    "os.makedirs(save_dir, exist_ok=True)"
   ]
  },
  {
   "cell_type": "code",
   "execution_count": 4,
   "metadata": {},
   "outputs": [],
   "source": [
    "# overwrite existing figures saved on disk\n",
    "new_figs = True"
   ]
  },
  {
   "cell_type": "code",
   "execution_count": 5,
   "metadata": {},
   "outputs": [],
   "source": [
    "# mixing proportions: 0.5 and 0.5\n",
    "# mean0 = mean1 = 0\n",
    "sigma1 = 1\n",
    "sigma0 = 4  # (parameter of interest)\n",
    "\n",
    "n = 10000 # number of data points\n",
    "nz = 1  # number of latent samples per datapoint\n",
    "nu = 1  # nu is the ratio of noise to data samples in NCE\n",
    "\n",
    "# use theta = exp(param) as parameter in model, to enforce positivity\n",
    "true_theta = np.array([np.log(sigma0)])\n",
    "theta0 = np.array([np.log(0.8)])  # initial value of theta is log(0.8) = -0.2 (approx)\n",
    "alpha0 = theta0"
   ]
  },
  {
   "cell_type": "code",
   "execution_count": 6,
   "metadata": {},
   "outputs": [],
   "source": [
    "true_data_dist = LatentMixtureOfTwoGaussians(theta=np.log(sigma0), sigma1=sigma1)\n",
    "X = true_data_dist.sample(n) # generate data"
   ]
  },
  {
   "cell_type": "code",
   "execution_count": 7,
   "metadata": {},
   "outputs": [],
   "source": [
    "noise = GaussianNoise(mean=0, cov=sigma0**2)\n",
    "Y = noise.sample(n * nu)"
   ]
  },
  {
   "cell_type": "code",
   "execution_count": 8,
   "metadata": {},
   "outputs": [
    {
     "data": {
      "image/png": "[encoded data removed]",
      "text/plain": [
       "<matplotlib.figure.Figure at 0x7f3ba1ed2208>"
      ]
     },
     "metadata": {},
     "output_type": "display_data"
    }
   ],
   "source": [
    "true_data_dist.plot_sample_density_against_true_density(X)"
   ]
  },
  {
   "cell_type": "code",
   "execution_count": 9,
   "metadata": {},
   "outputs": [],
   "source": [
    "model = LatentMixtureOfTwoGaussians(theta0, sigma1=sigma1)\n",
    "nce_model = MixtureOfTwoGaussians(theta0, sigma1=sigma1)\n",
    "var_dist = MixtureOfTwoGaussianBernoulliPosterior(alpha=alpha0, sigma1=sigma1)"
   ]
  },
  {
   "cell_type": "code",
   "execution_count": 10,
   "metadata": {},
   "outputs": [],
   "source": [
    "loss_function = MonteCarloVnceLoss(model=model,\n",
    "                                   train_data=X,\n",
    "                                   val_data=X,\n",
    "                                   noise=noise,\n",
    "                                   noise_samples=Y,\n",
    "                                   variational_noise=var_dist,\n",
    "                                   noise_to_data_ratio=nu,\n",
    "                                   num_latent_per_data=nz)\n",
    "m_step = ScipyMinimiseEmStep(do_m_step=True, optimisation_method='BFGS')\n",
    "e_step = ExactEStep(track_loss=True)\n",
    "optimiser = VemOptimiser(m_step=m_step, e_step=e_step)"
   ]
  },
  {
   "cell_type": "code",
   "execution_count": 11,
   "metadata": {},
   "outputs": [],
   "source": [
    "nce_optimiser = NCEOptimiser(model=nce_model, noise=noise, noise_samples=Y, nu=nu)"
   ]
  },
  {
   "cell_type": "markdown",
   "metadata": {},
   "source": [
    "# Comparison of true NCE objective function with J1"
   ]
  },
  {
   "cell_type": "code",
   "execution_count": 12,
   "metadata": {},
   "outputs": [],
   "source": [
    "thetas = np.arange(0.5, 8, 0.1)\n",
    "n_theta = len(thetas)"
   ]
  },
  {
   "cell_type": "code",
   "execution_count": 13,
   "metadata": {},
   "outputs": [],
   "source": [
    "J = np.zeros(n_theta)\n",
    "for k, theta_k in enumerate(thetas):\n",
    "    log_theta_k = np.log(theta_k)\n",
    "    J[k] = nce_optimiser.evaluate_J_at_param(theta=log_theta_k, X=X)"
   ]
  },
  {
   "cell_type": "code",
   "execution_count": 14,
   "metadata": {},
   "outputs": [
    {
     "ename": "TypeError",
     "evalue": "sample() takes from 3 to 4 positional arguments but 5 were given",
     "output_type": "error",
     "traceback": [
      "\u001b[0;31m---------------------------------------------------------------------------\u001b[0m",
      "\u001b[0;31mTypeError\u001b[0m                                 Traceback (most recent call last)",
      "\u001b[0;32m<ipython-input-14-2edbd6b98415>\u001b[0m in \u001b[0;36m<module>\u001b[0;34m()\u001b[0m\n\u001b[1;32m      5\u001b[0m \u001b[0;32mfor\u001b[0m \u001b[0mk\u001b[0m\u001b[0;34m,\u001b[0m \u001b[0mtheta_k\u001b[0m \u001b[0;32min\u001b[0m \u001b[0menumerate\u001b[0m\u001b[0;34m(\u001b[0m\u001b[0mthetas\u001b[0m\u001b[0;34m)\u001b[0m\u001b[0;34m:\u001b[0m\u001b[0;34m\u001b[0m\u001b[0m\n\u001b[1;32m      6\u001b[0m     \u001b[0mlog_theta_k\u001b[0m \u001b[0;34m=\u001b[0m \u001b[0mnp\u001b[0m\u001b[0;34m.\u001b[0m\u001b[0mlog\u001b[0m\u001b[0;34m(\u001b[0m\u001b[0mtheta_k\u001b[0m\u001b[0;34m)\u001b[0m\u001b[0;34m\u001b[0m\u001b[0m\n\u001b[0;32m----> 7\u001b[0;31m     \u001b[0mJ1_sigma0\u001b[0m\u001b[0;34m[\u001b[0m\u001b[0mk\u001b[0m\u001b[0;34m]\u001b[0m \u001b[0;34m=\u001b[0m \u001b[0mevaluate_loss_at_param\u001b[0m\u001b[0;34m(\u001b[0m\u001b[0mloss_function\u001b[0m\u001b[0;34m=\u001b[0m\u001b[0mloss_function\u001b[0m\u001b[0;34m,\u001b[0m \u001b[0mtheta\u001b[0m\u001b[0;34m=\u001b[0m\u001b[0mlog_theta_k\u001b[0m\u001b[0;34m)\u001b[0m\u001b[0;34m\u001b[0m\u001b[0m\n\u001b[0m",
      "\u001b[0;32m~/masters-project/ben-rhodes-masters-project/proposal/code/utils.py\u001b[0m in \u001b[0;36mevaluate_loss_at_param\u001b[0;34m(loss_function, theta, alpha)\u001b[0m\n\u001b[1;32m     89\u001b[0m \u001b[0;34m\u001b[0m\u001b[0m\n\u001b[1;32m     90\u001b[0m     \u001b[0;31m# compute loss\u001b[0m\u001b[0;34m\u001b[0m\u001b[0;34m\u001b[0m\u001b[0m\n\u001b[0;32m---> 91\u001b[0;31m     \u001b[0mloss\u001b[0m \u001b[0;34m=\u001b[0m \u001b[0mloss_function\u001b[0m\u001b[0;34m(\u001b[0m\u001b[0;34m)\u001b[0m\u001b[0;34m\u001b[0m\u001b[0m\n\u001b[0m\u001b[1;32m     92\u001b[0m     \u001b[0mloss\u001b[0m \u001b[0;34m=\u001b[0m \u001b[0mnp\u001b[0m\u001b[0;34m.\u001b[0m\u001b[0msum\u001b[0m\u001b[0;34m(\u001b[0m\u001b[0mloss\u001b[0m\u001b[0;34m)\u001b[0m \u001b[0;32mif\u001b[0m \u001b[0mloss_function\u001b[0m\u001b[0;34m.\u001b[0m\u001b[0mseparate_terms\u001b[0m \u001b[0;32melse\u001b[0m \u001b[0mloss\u001b[0m\u001b[0;34m\u001b[0m\u001b[0m\n\u001b[1;32m     93\u001b[0m \u001b[0;34m\u001b[0m\u001b[0m\n",
      "\u001b[0;32m~/masters-project/ben-rhodes-masters-project/proposal/code/vnce_optimiser.py\u001b[0m in \u001b[0;36m__call__\u001b[0;34m(self, next_minibatch)\u001b[0m\n\u001b[1;32m    475\u001b[0m         \u001b[0;32mif\u001b[0m \u001b[0mnext_minibatch\u001b[0m \u001b[0;32mand\u001b[0m \u001b[0mself\u001b[0m\u001b[0;34m.\u001b[0m\u001b[0muse_minibatches\u001b[0m\u001b[0;34m:\u001b[0m\u001b[0;34m\u001b[0m\u001b[0m\n\u001b[1;32m    476\u001b[0m             \u001b[0mself\u001b[0m\u001b[0;34m.\u001b[0m\u001b[0mnext_minibatch\u001b[0m\u001b[0;34m(\u001b[0m\u001b[0;34m)\u001b[0m\u001b[0;34m\u001b[0m\u001b[0m\n\u001b[0;32m--> 477\u001b[0;31m         \u001b[0mself\u001b[0m\u001b[0;34m.\u001b[0m\u001b[0mresample_latents_if_necessary\u001b[0m\u001b[0;34m(\u001b[0m\u001b[0;34m)\u001b[0m\u001b[0;34m\u001b[0m\u001b[0m\n\u001b[0m\u001b[1;32m    478\u001b[0m \u001b[0;34m\u001b[0m\u001b[0m\n\u001b[1;32m    479\u001b[0m         \u001b[0mfirst_term\u001b[0m \u001b[0;34m=\u001b[0m \u001b[0mself\u001b[0m\u001b[0;34m.\u001b[0m\u001b[0mfirst_term_of_loss\u001b[0m\u001b[0;34m(\u001b[0m\u001b[0;34m)\u001b[0m\u001b[0;34m\u001b[0m\u001b[0m\n",
      "\u001b[0;32m~/masters-project/ben-rhodes-masters-project/proposal/code/vnce_optimiser.py\u001b[0m in \u001b[0;36mresample_latents_if_necessary\u001b[0;34m(self)\u001b[0m\n\u001b[1;32m    790\u001b[0m                 \u001b[0mself\u001b[0m\u001b[0;34m.\u001b[0m\u001b[0mZX\u001b[0m \u001b[0;34m=\u001b[0m \u001b[0mself\u001b[0m\u001b[0;34m.\u001b[0m\u001b[0mvariational_noise\u001b[0m\u001b[0;34m.\u001b[0m\u001b[0mget_Z_samples_from_E\u001b[0m\u001b[0;34m(\u001b[0m\u001b[0mself\u001b[0m\u001b[0;34m.\u001b[0m\u001b[0mnz\u001b[0m\u001b[0;34m,\u001b[0m \u001b[0mself\u001b[0m\u001b[0;34m.\u001b[0m\u001b[0mE_ZX\u001b[0m\u001b[0;34m,\u001b[0m \u001b[0mself\u001b[0m\u001b[0;34m.\u001b[0m\u001b[0mX\u001b[0m\u001b[0;34m,\u001b[0m \u001b[0mself\u001b[0m\u001b[0;34m.\u001b[0m\u001b[0mcur_X_mask\u001b[0m\u001b[0;34m,\u001b[0m \u001b[0mX_nn_outputs\u001b[0m\u001b[0;34m)\u001b[0m\u001b[0;34m\u001b[0m\u001b[0m\n\u001b[1;32m    791\u001b[0m             \u001b[0;32melse\u001b[0m\u001b[0;34m:\u001b[0m\u001b[0;34m\u001b[0m\u001b[0m\n\u001b[0;32m--> 792\u001b[0;31m                 \u001b[0mself\u001b[0m\u001b[0;34m.\u001b[0m\u001b[0mZX\u001b[0m \u001b[0;34m=\u001b[0m \u001b[0mself\u001b[0m\u001b[0;34m.\u001b[0m\u001b[0mvariational_noise\u001b[0m\u001b[0;34m.\u001b[0m\u001b[0msample\u001b[0m\u001b[0;34m(\u001b[0m\u001b[0mself\u001b[0m\u001b[0;34m.\u001b[0m\u001b[0mnz\u001b[0m\u001b[0;34m,\u001b[0m \u001b[0mself\u001b[0m\u001b[0;34m.\u001b[0m\u001b[0mX\u001b[0m\u001b[0;34m,\u001b[0m \u001b[0mself\u001b[0m\u001b[0;34m.\u001b[0m\u001b[0mcur_X_mask\u001b[0m\u001b[0;34m,\u001b[0m \u001b[0mX_nn_outputs\u001b[0m\u001b[0;34m)\u001b[0m\u001b[0;34m\u001b[0m\u001b[0m\n\u001b[0m\u001b[1;32m    793\u001b[0m             \u001b[0mself\u001b[0m\u001b[0;34m.\u001b[0m\u001b[0mZY\u001b[0m \u001b[0;34m=\u001b[0m \u001b[0mself\u001b[0m\u001b[0;34m.\u001b[0m\u001b[0mvariational_noise\u001b[0m\u001b[0;34m.\u001b[0m\u001b[0msample\u001b[0m\u001b[0;34m(\u001b[0m\u001b[0mself\u001b[0m\u001b[0;34m.\u001b[0m\u001b[0mnz\u001b[0m\u001b[0;34m,\u001b[0m \u001b[0mself\u001b[0m\u001b[0;34m.\u001b[0m\u001b[0mY\u001b[0m\u001b[0;34m,\u001b[0m \u001b[0mself\u001b[0m\u001b[0;34m.\u001b[0m\u001b[0mcur_Y_mask\u001b[0m\u001b[0;34m,\u001b[0m \u001b[0mY_nn_outputs\u001b[0m\u001b[0;34m)\u001b[0m\u001b[0;34m\u001b[0m\u001b[0m\n\u001b[1;32m    794\u001b[0m             \u001b[0mself\u001b[0m\u001b[0;34m.\u001b[0m\u001b[0mresample_from_variational_noise\u001b[0m \u001b[0;34m=\u001b[0m \u001b[0;32mFalse\u001b[0m\u001b[0;34m\u001b[0m\u001b[0m\n",
      "\u001b[0;31mTypeError\u001b[0m: sample() takes from 3 to 4 positional arguments but 5 were given"
     ]
    }
   ],
   "source": [
    "# Let's compute values of objective for fixed variation q, with alpha=sigma0\n",
    "var_dist.alpha = np.array([sigma0])\n",
    "J1_sigma0 = np.zeros(n_theta)  \n",
    "\n",
    "for k, theta_k in enumerate(thetas):\n",
    "    log_theta_k = np.log(theta_k)\n",
    "    J1_sigma0[k] = evaluate_loss_at_param(loss_function=loss_function, theta=log_theta_k)"
   ]
  },
  {
   "cell_type": "code",
   "execution_count": null,
   "metadata": {},
   "outputs": [],
   "source": [
    "fig = plt.figure(figsize=(10, 7))\n",
    "plt.plot(thetas, J, label='NCE objective')\n",
    "plt.plot(thetas, J1_sigma0, 'g', label='Lower bound')\n",
    "\n",
    "# true param value\n",
    "plt.plot(sigma0 * np.array([1,1]), plt.get(fig.gca(),'ylim'), 'k--', label='true parameter value')\n",
    "\n",
    "# maximiser of NCE obj\n",
    "index = np.argmax(J)\n",
    "plt.plot(thetas[index],J[index], marker='o', markersize=15, fillstyle='none', \n",
    "         markeredgewidth=2, c='b', linestyle='none', label='maximum of NCE obj')\n",
    "\n",
    "# maximiser of lower bound\n",
    "index2 = np.argmax(J1_sigma0)\n",
    "plt.plot(thetas[index2], J1_sigma0[index2], '^', markersize=15, fillstyle='none', \n",
    "         markeredgewidth=2, c='g', linestyle='none', label='maximum of lower bound')\n",
    "\n",
    "plt.xlabel('parameter', fontsize=16)\n",
    "plt.ylabel('objective', fontsize=16)\n",
    "plt.legend(loc='lower right', numpoints=1)\n",
    "plt.grid()"
   ]
  },
  {
   "cell_type": "code",
   "execution_count": null,
   "metadata": {},
   "outputs": [],
   "source": [
    "np.sum(J1_sigma0 < J) / J.size"
   ]
  },
  {
   "cell_type": "markdown",
   "metadata": {},
   "source": [
    "# EM-type optimisation"
   ]
  },
  {
   "cell_type": "code",
   "execution_count": null,
   "metadata": {},
   "outputs": [],
   "source": [
    "optimiser.fit(loss_function=loss_function, theta0=theta0, alpha0=alpha0, stop_threshold=1e-4)"
   ]
  },
  {
   "cell_type": "code",
   "execution_count": null,
   "metadata": {},
   "outputs": [],
   "source": [
    "fig = optimiser.plot_loss_curve()\n",
    "ax = fig.gca()\n",
    "ax.plot()\n",
    "ax.set_ylabel(r'Value of objective function $J_1(\\theta)$', fontsize=16)\n",
    "\n",
    "if new_figs:\n",
    "    fig.savefig('../../figs/em-loss-curve-mog.pdf')"
   ]
  },
  {
   "cell_type": "code",
   "execution_count": null,
   "metadata": {},
   "outputs": [],
   "source": [
    "optimiser_thetas, optimiser_alphas, losses, times = optimiser.get_flattened_result_arrays()\n",
    "_, _, m_start_ids, e_start_ids = optimiser.get_m_and_e_step_ids()\n",
    "num_e_and_m_steps = len(e_start_ids + m_start_ids)\n",
    "num_e_steps = len(e_start_ids)"
   ]
  },
  {
   "cell_type": "code",
   "execution_count": null,
   "metadata": {},
   "outputs": [],
   "source": [
    "thetas = np.arange(0.5, 8, 0.1)\n",
    "n_theta = len(thetas)"
   ]
  },
  {
   "cell_type": "code",
   "execution_count": null,
   "metadata": {},
   "outputs": [],
   "source": [
    "# plot J1 as a function of theta for each variational lower bound\n",
    "lower_bounds = [np.zeros(n_theta) for i in range(num_e_steps)]\n",
    "for i in range(len(lower_bounds)):\n",
    "    \n",
    "    # update alpha to the value at end of ith E step\n",
    "    alpha_i = optimiser.alphas[i][-1]\n",
    "    loss_function.set_alpha(alpha_i)\n",
    "    \n",
    "    for j in range(n_theta):\n",
    "        log_theta_k = np.log(thetas[j])\n",
    "        lower_bounds[i][j] = evaluate_loss_at_param(loss_function=loss_function, theta=log_theta_k)"
   ]
  },
  {
   "cell_type": "code",
   "execution_count": null,
   "metadata": {},
   "outputs": [],
   "source": [
    "def plot_nce_objective(ax):\n",
    "    ax.plot(thetas, J, label=r'NCE objective $J_{\\text{NCE}}(\\theta)$')\n",
    "    ax.plot(thetas[index],J[index], marker='o', markersize=12, fillstyle='none', \n",
    "         markeredgewidth=2, c='b', linestyle='none', label=r'maximum of $J(\\theta)$')\n",
    "\n",
    "def plot_lower_bound(ax, lb):\n",
    "    lb_argmax = np.argmax(lb)\n",
    "    ax.plot(thetas, lb, label=r'lower bound $J_{\\text{VNCE}}(\\theta)$', c='r')\n",
    "    ax.plot(thetas[lb_argmax], lb[lb_argmax], 'rs', markersize=12, fillstyle='none', \n",
    "             markeredgewidth=2, linestyle='none', label=r'maximum of $J_1(\\theta)$')\n",
    "\n",
    "def plot_ground_truth(ax):\n",
    "    ax.plot(sigma0 * np.array([1,1]), plt.get(ax,'ylim'), 'k--', label='true parameter value')\n",
    "    \n",
    "# def label_graph(ax):\n",
    "#     #ax.set_xlabel(r'${\\theta}$', fontsize=18)\n",
    "#     #ax.set_ylabel('Objective', fontsize=18)\n",
    "#     ax.legend(loc='lower right', numpoints=1, fontsize=16)"
   ]
  },
  {
   "cell_type": "code",
   "execution_count": null,
   "metadata": {},
   "outputs": [],
   "source": [
    "fig, axes = plt.subplots(num_e_steps-1, 2, figsize=(5.7, 10))\n",
    "axs = axes.ravel()\n",
    "fig.tight_layout()\n",
    "\n",
    "ax_id = -1\n",
    "for i in range(num_e_steps-1):\n",
    "    # current parameters\n",
    "    theta_i = np.exp(optimiser.thetas[i][-1])\n",
    "    theta_i_plus_one = np.exp(optimiser.thetas[i+1][-1])\n",
    "    alpha_i = np.exp(optimiser.alphas[i][-1])\n",
    "    lower_Bound_i = lower_bounds[i]\n",
    "    \n",
    "    # E-step\n",
    "    ax_id += 1\n",
    "    plot_nce_objective(axs[ax_id])\n",
    "    plot_lower_bound(axs[ax_id], lower_Bound_i)\n",
    "    plot_ground_truth(axs[ax_id])\n",
    "    axs[ax_id].plot(theta_i * np.array([1,1]), \n",
    "                    plt.get(axs[ax_id],'ylim'), 'k--', alpha=0.5, label=r'$\\theta_t$')\n",
    "    axs[ax_id].grid(True)\n",
    "    #label_graph(axs[ax_id])\n",
    "    \n",
    "    # M-step\n",
    "    ax_id += 1\n",
    "    plot_nce_objective(axs[ax_id])\n",
    "    plot_lower_bound(axs[ax_id], lower_Bound_i)\n",
    "    plot_ground_truth(axs[ax_id])\n",
    "    axs[ax_id].plot(theta_i_plus_one * np.array([1,1]), \n",
    "                    plt.get(axs[ax_id],'ylim'), 'k--', alpha=0.5, label=r'$\\theta_t$')\n",
    "    axs[ax_id].grid(True)\n",
    "    \n",
    "axs[ax_id].legend(loc='lower right', numpoints=1, fontsize=8)\n",
    "cols = ['E step', 'M step']\n",
    "rows = ['t={}'.format(row) for row in range(num_e_steps-1)]\n",
    "\n",
    "for ax, col in zip(axes[0], cols):\n",
    "    ax.set_title(col, fontsize=18, weight='bold')\n",
    "for ax, row in zip(axes[:,0], rows):\n",
    "    ax.set_ylabel(row, rotation=0, fontsize=18, weight='bold')\n",
    "    \n",
    "if new_figs:\n",
    "    save_fig(fig, save_dir, 'normalised-mog-em-obj-func')"
   ]
  },
  {
   "cell_type": "code",
   "execution_count": null,
   "metadata": {},
   "outputs": [],
   "source": []
  },
  {
   "cell_type": "code",
   "execution_count": null,
   "metadata": {},
   "outputs": [],
   "source": []
  }
 ],
 "metadata": {
  "kernelspec": {
   "display_name": "Python 3",
   "language": "python",
   "name": "python3"
  },
  "language_info": {
   "codemirror_mode": {
    "name": "ipython",
    "version": 3
   },
   "file_extension": ".py",
   "mimetype": "text/x-python",
   "name": "python",
   "nbconvert_exporter": "python",
   "pygments_lexer": "ipython3",
   "version": "3.6.4"
  },
  "toc": {
   "nav_menu": {},
   "number_sections": true,
   "sideBar": true,
   "skip_h1_title": false,
   "title_cell": "Table of Contents",
   "title_sidebar": "Contents",
   "toc_cell": true,
   "toc_position": {},
   "toc_section_display": true,
   "toc_window_display": false
  }
 },
 "nbformat": 4,
 "nbformat_minor": 1
}
