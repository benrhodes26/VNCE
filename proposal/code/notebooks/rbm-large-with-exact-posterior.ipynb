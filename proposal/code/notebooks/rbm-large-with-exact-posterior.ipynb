{
 "cells": [
  {
   "cell_type": "code",
   "execution_count": 1,
   "metadata": {},
   "outputs": [],
   "source": [
    "import os\n",
    "import sys\n",
    "nb_dir = os.path.split(os.getcwd())[0]\n",
    "pybn_dir = '/afs/inf.ed.ac.uk/user/s17/s1771906/masters-project/pyBN-master'\n",
    "if nb_dir not in sys.path:\n",
    "    sys.path.append(nb_dir)\n",
    "if pybn_dir not in sys.path:\n",
    "    sys.path.append(pybn_dir)"
   ]
  },
  {
   "cell_type": "code",
   "execution_count": 2,
   "metadata": {},
   "outputs": [],
   "source": [
    "import numpy as np\n",
    "import pdb\n",
    "\n",
    "# my code\n",
    "from distribution import RBMLatentPosterior, MultivariateBernoulliNoise\n",
    "from latent_nce_optimiser import LatentNCEOptimiser, CDOptimiser\n",
    "from latent_variable_model import RestrictedBoltzmannMachine\n",
    "\n",
    "from matplotlib import pyplot as plt\n",
    "from matplotlib import rc\n",
    "from numpy import random as rnd\n",
    "\n",
    "%matplotlib inline\n",
    "rc('lines', linewidth=3)\n",
    "rc('font', size=18)\n",
    "rc('legend', fontsize=18)\n",
    "\n",
    "# For reproducibility\n",
    "rng = rnd.RandomState(1083463236)"
   ]
  },
  {
   "cell_type": "markdown",
   "metadata": {},
   "source": [
    "# Experimental setup"
   ]
  },
  {
   "cell_type": "code",
   "execution_count": 3,
   "metadata": {},
   "outputs": [],
   "source": [
    "n = 10000 # number of datapoints\n",
    "nz = 1  # number latent samples per datapoint\n",
    "nu = 1  # ratio of noise to data samples for NCE\n",
    "num_gibbs_steps_for_synthetic_data = 200\n",
    "d = 50  # visible dimension\n",
    "m = 5  # latent dimension\n",
    "true_W = np.zeros((d+1, m+1))\n",
    "for i in range(m + 1):\n",
    "    true_W[:, i] = rnd.uniform(-1/(i+1), 1/(i+1), d+1)  # true setting of the weights, that we are trying to learn\n",
    "theta0 = rnd.randn(d+1, m+1)*0.01  # random initialisation of weights\n",
    "#theta0 = true_W"
   ]
  },
  {
   "cell_type": "markdown",
   "metadata": {},
   "source": [
    "#### Optimisation hyperparameters"
   ]
  },
  {
   "cell_type": "code",
   "execution_count": 4,
   "metadata": {},
   "outputs": [],
   "source": [
    "# tolerances used to determine when iterations stop in scipy minimize (used in LatentNCEOptimiser)\n",
    "gtol = 1e-4\n",
    "ftol = 1e-4\n",
    "# threshold for stopping EM outer loop of optimisation in LatentNCEOptimiser\n",
    "stop_threshold =  1e-02\n",
    "# maximum number of EM steps\n",
    "max_num_em_steps = 20\n",
    "\n",
    "# hyperparameters used in CDOptimiser (contrastive divergence optimiser)\n",
    "cd_num_steps = 1\n",
    "cd_learn_rate = 0.001\n",
    "cd_batch_size = 10"
   ]
  },
  {
   "cell_type": "markdown",
   "metadata": {},
   "source": [
    "#### Switches"
   ]
  },
  {
   "cell_type": "code",
   "execution_count": 5,
   "metadata": {},
   "outputs": [],
   "source": [
    "init_scaling_param_at_data_dist_scale = False\n",
    "init_scaling_param_at_rnd_init_scale = False\n",
    "init_visible_biases_with_entropy = False\n",
    "optimise_scaling_param_separately = True"
   ]
  },
  {
   "cell_type": "markdown",
   "metadata": {},
   "source": [
    "# Data, Model & Optimiser definition"
   ]
  },
  {
   "cell_type": "markdown",
   "metadata": {},
   "source": [
    "#### sample a synthetic dataset"
   ]
  },
  {
   "cell_type": "code",
   "execution_count": 6,
   "metadata": {},
   "outputs": [
    {
     "name": "stdout",
     "output_type": "stream",
     "text": [
      "CPU times: user 3.48 s, sys: 265 ms, total: 3.74 s\n",
      "Wall time: 3.73 s\n"
     ]
    }
   ],
   "source": [
    "%%time\n",
    "true_data_dist = RestrictedBoltzmannMachine(true_W)\n",
    "X, Z = true_data_dist.sample(n, num_iter=num_gibbs_steps_for_synthetic_data)"
   ]
  },
  {
   "cell_type": "code",
   "execution_count": 7,
   "metadata": {},
   "outputs": [],
   "source": [
    "# initialise visible biases as recommended by Hinton\n",
    "X_mean = np.mean(X, axis=0)\n",
    "if init_visible_biases_with_entropy:\n",
    "    theta0[1:, 0] = np.log(X_mean / (1 - X_mean))"
   ]
  },
  {
   "cell_type": "code",
   "execution_count": 8,
   "metadata": {},
   "outputs": [],
   "source": [
    "# initialise three models for comparison\n",
    "model = RestrictedBoltzmannMachine(theta0)\n",
    "cd_model = RestrictedBoltzmannMachine(theta0)\n",
    "random_init_model = RestrictedBoltzmannMachine(theta0)"
   ]
  },
  {
   "cell_type": "code",
   "execution_count": 9,
   "metadata": {},
   "outputs": [],
   "source": [
    "noise = MultivariateBernoulliNoise(X_mean)    # treats visibles as independent, matching the data marginals\n",
    "var_dist = RBMLatentPosterior(theta0)  # true posterior, which has an analytic expression"
   ]
  },
  {
   "cell_type": "code",
   "execution_count": 10,
   "metadata": {},
   "outputs": [],
   "source": [
    "optimiser = LatentNCEOptimiser(model, noise, var_dist, n, nu=nu, latent_samples_per_datapoint=nz)\n",
    "cd_optimiser = CDOptimiser(cd_model)"
   ]
  },
  {
   "cell_type": "code",
   "execution_count": 11,
   "metadata": {},
   "outputs": [
    {
     "name": "stdout",
     "output_type": "stream",
     "text": [
      "-39.61904651217381\n",
      "CPU times: user 452 µs, sys: 74 µs, total: 526 µs\n",
      "Wall time: 324 µs\n"
     ]
    }
   ],
   "source": [
    "%%time\n",
    "true_data_dist.reset_norm_const()\n",
    "true_norm_const = true_data_dist.norm_const\n",
    "true_W[0, 0] = -np.log(true_norm_const)\n",
    "print(-np.log(true_norm_const))"
   ]
  },
  {
   "cell_type": "code",
   "execution_count": 12,
   "metadata": {},
   "outputs": [
    {
     "name": "stdout",
     "output_type": "stream",
     "text": [
      "-38.14451935875903\n",
      "CPU times: user 637 µs, sys: 0 ns, total: 637 µs\n",
      "Wall time: 406 µs\n"
     ]
    }
   ],
   "source": [
    "%%time\n",
    "random_init_model.reset_norm_const()\n",
    "rnd_norm_const = random_init_model.norm_const\n",
    "print(-np.log(rnd_norm_const))"
   ]
  },
  {
   "cell_type": "markdown",
   "metadata": {},
   "source": [
    "# Optimisation"
   ]
  },
  {
   "cell_type": "code",
   "execution_count": 13,
   "metadata": {},
   "outputs": [],
   "source": [
    "if init_scaling_param_at_data_dist_scale:\n",
    "    theta0[0, 0] = -np.log(true_norm_const)\n",
    "if init_scaling_param_at_rnd_init_scale:\n",
    "    theta0[0, 0] = -np.log(rnd_norm_const)"
   ]
  },
  {
   "cell_type": "code",
   "execution_count": 14,
   "metadata": {},
   "outputs": [],
   "source": [
    "scaling_param_ind = np.array([0])\n",
    "other_param_inds = np.arange(1, len(model.theta))\n",
    "all_inds = np.arange(len(model.theta))"
   ]
  },
  {
   "cell_type": "code",
   "execution_count": 15,
   "metadata": {
    "scrolled": false
   },
   "outputs": [
    {
     "name": "stdout",
     "output_type": "stream",
     "text": [
      "CPU times: user 1.97 s, sys: 616 ms, total: 2.58 s\n",
      "Wall time: 2.57 s\n"
     ]
    }
   ],
   "source": [
    "%%time\n",
    "if optimise_scaling_param_separately:\n",
    "    thetas_after_EM_step, J1s_scale, J1_grads_scale = optimiser.fit_using_analytic_q(scaling_param_ind, \n",
    "                                                                         X, \n",
    "                                                                         theta0=theta0.reshape(-1), \n",
    "                                                                         stop_threshold=stop_threshold, \n",
    "                                                                         max_num_em_steps=max_num_em_steps,\n",
    "                                                                         gtol=gtol, \n",
    "                                                                         ftol=ftol, \n",
    "                                                                         plot=False, \n",
    "                                                                         disp=True)"
   ]
  },
  {
   "cell_type": "code",
   "execution_count": 16,
   "metadata": {
    "scrolled": false
   },
   "outputs": [
    {
     "data": {
      "image/png": "[encoded data removed]",
      "text/plain": [
       "<matplotlib.figure.Figure at 0x7f34a45420b8>"
      ]
     },
     "metadata": {},
     "output_type": "display_data"
    }
   ],
   "source": [
    "if optimise_scaling_param_separately:\n",
    "    fig, ax = optimiser.plot_loss_curve(J1s_scale, true_theta = true_W.reshape(-1), X=X)"
   ]
  },
  {
   "cell_type": "code",
   "execution_count": 17,
   "metadata": {},
   "outputs": [
    {
     "name": "stdout",
     "output_type": "stream",
     "text": [
      "CPU times: user 2.24 s, sys: 661 ms, total: 2.9 s\n",
      "Wall time: 2.89 s\n"
     ]
    }
   ],
   "source": [
    "%%time\n",
    "if optimise_scaling_param_separately:\n",
    "    thetas_after_EM_step, J1s, J1_grads = optimiser.fit_using_analytic_q(other_param_inds, \n",
    "                                                                     X, \n",
    "                                                                     theta0=model.theta,\n",
    "                                                                      disp=True,\n",
    "                                                                     stop_threshold=stop_threshold, \n",
    "                                                                     max_num_em_steps=max_num_em_steps,\n",
    "                                                                     gtol=gtol, \n",
    "                                                                     ftol=ftol, \n",
    "                                                                     plot=False)\n",
    "    latent_nce_estimate = model.theta"
   ]
  },
  {
   "cell_type": "code",
   "execution_count": 18,
   "metadata": {},
   "outputs": [
    {
     "name": "stdout",
     "output_type": "stream",
     "text": [
      "CPU times: user 3 µs, sys: 1 µs, total: 4 µs\n",
      "Wall time: 12.4 µs\n"
     ]
    }
   ],
   "source": [
    "%%time\n",
    "if not optimise_scaling_param_separately:\n",
    "    thetas_after_EM_step, J1s, J1_grads = optimiser.fit_using_analytic_q(all_inds, \n",
    "                                                                         X, \n",
    "                                                                         theta0=theta0.reshape(-1),\n",
    "                                                                          disp=True,\n",
    "                                                                         stop_threshold=stop_threshold, \n",
    "                                                                         max_num_em_steps=max_num_em_steps,\n",
    "                                                                         gtol=gtol, \n",
    "                                                                         ftol=ftol, \n",
    "                                                                         plot=False)\n",
    "    latent_nce_estimate = model.theta"
   ]
  },
  {
   "cell_type": "code",
   "execution_count": 19,
   "metadata": {
    "scrolled": false
   },
   "outputs": [
    {
     "data": {
      "image/png": "[encoded data removed]",
      "text/plain": [
       "<matplotlib.figure.Figure at 0x7f34a440d240>"
      ]
     },
     "metadata": {},
     "output_type": "display_data"
    }
   ],
   "source": [
    "fig, ax = optimiser.plot_loss_curve(J1s, true_theta = true_W.reshape(-1), X=X)"
   ]
  },
  {
   "cell_type": "code",
   "execution_count": 20,
   "metadata": {},
   "outputs": [],
   "source": [
    "J1_len = sum([len(i) for i in J1s])\n",
    "#fig, ax = optimiser.plot_loss_curve(J1s, endpoints=(5, J1_len), true_theta = true_W.reshape(-1), X=X)"
   ]
  },
  {
   "cell_type": "code",
   "execution_count": 21,
   "metadata": {},
   "outputs": [
    {
     "name": "stdout",
     "output_type": "stream",
     "text": [
      "CPU times: user 202 ms, sys: 16 ms, total: 218 ms\n",
      "Wall time: 202 ms\n"
     ]
    }
   ],
   "source": [
    "%%time\n",
    "thetas_after_each_minibatch = cd_optimiser.fit(X, theta0=theta0.reshape(-1), num_gibbs_steps=cd_num_steps,\n",
    "                                               learning_rate=cd_learn_rate, batch_size=cd_batch_size)\n",
    "cd_estimate =  cd_model.theta"
   ]
  },
  {
   "cell_type": "markdown",
   "metadata": {},
   "source": [
    "# Results"
   ]
  },
  {
   "cell_type": "markdown",
   "metadata": {},
   "source": [
    "## Log-likelihood on training set"
   ]
  },
  {
   "cell_type": "markdown",
   "metadata": {},
   "source": [
    "### $ \\mathbb{E}_{x \\sim P_{data}} \\log(P_{data}(x)) \\ \\ \\text{and} \\ \\ \\mathbb{E}_{x \\sim P_{data}} \\log(P_{lnce}(x)) \\ \\ \\text{and} \\ \\ \\mathbb{E}_{x \\sim P_{data}} \\log(P_{cd}(x))  $"
   ]
  },
  {
   "cell_type": "code",
   "execution_count": 22,
   "metadata": {
    "scrolled": false
   },
   "outputs": [
    {
     "name": "stdout",
     "output_type": "stream",
     "text": [
      "True:       -32.18388900322356 \n",
      "Latent NCE: -33.45047727844393 \n",
      "CD:         -32.830279769640605\n",
      "Random init:-34.66618610749807 \n"
     ]
    }
   ],
   "source": [
    "true_dist_probs_of_true_data, _ = true_data_dist.normalised_and_marginalised_over_z(X)\n",
    "latent_nce_probs_of_true_data, _ = model.normalised_and_marginalised_over_z(X)\n",
    "cd_probs_of_true_data, _ = cd_model.normalised_and_marginalised_over_z(X)\n",
    "random_probs_of_true_data, _ = random_init_model.normalised_and_marginalised_over_z(X)\n",
    "print('True:       {} \\nLatent NCE: {} \\nCD:         {}\\nRandom init:{} '.format(\n",
    "    np.mean(np.log(true_dist_probs_of_true_data)), \n",
    "    np.mean(np.log(latent_nce_probs_of_true_data)),\n",
    "    np.mean(np.log(cd_probs_of_true_data)),\n",
    "    np.mean(np.log(random_probs_of_true_data))\n",
    "))"
   ]
  },
  {
   "cell_type": "markdown",
   "metadata": {},
   "source": [
    "## Frobenius norm of true parameters minus model parameters"
   ]
  },
  {
   "cell_type": "code",
   "execution_count": 23,
   "metadata": {},
   "outputs": [
    {
     "name": "stdout",
     "output_type": "stream",
     "text": [
      "true vs latent nce:   4.613596174909166\n",
      "true vs cd:           4.497789953239701\n",
      "true vs random init:  5.10340497633291\n",
      "nce vs cd:            0.6083060421695993\n"
     ]
    }
   ],
   "source": [
    "# NOTE: we exclude the scaling parameter in all comparisons\n",
    "\n",
    "random_true_param_diff = (true_W - theta0).reshape(-1)[1:]\n",
    "sq_diff_rand_true = np.dot(random_true_param_diff, random_true_param_diff)**0.5\n",
    "nce_true_param_diff = (true_W.reshape(-1) - latent_nce_estimate)[1:]\n",
    "sq_diff_nce_true = np.dot(nce_true_param_diff, nce_true_param_diff)**0.5\n",
    "cd_true_param_diff = (true_W.reshape(-1) - cd_estimate)[1:]\n",
    "sq_diff_cd_true = np.dot(cd_true_param_diff, cd_true_param_diff)**0.5\n",
    "nce_cd_param_diff = (latent_nce_estimate - cd_estimate)[1:]\n",
    "sq_diff_nce_cd = np.dot(nce_cd_param_diff, nce_cd_param_diff)**0.5\n",
    "print('true vs latent nce:   {}'.format(sq_diff_nce_true))\n",
    "print('true vs cd:           {}'.format(sq_diff_cd_true))\n",
    "print('true vs random init:  {}'.format(sq_diff_rand_true))\n",
    "print('nce vs cd:            {}'.format(sq_diff_nce_cd))"
   ]
  },
  {
   "cell_type": "markdown",
   "metadata": {},
   "source": [
    "### Scaling parameter"
   ]
  },
  {
   "cell_type": "code",
   "execution_count": 24,
   "metadata": {
    "scrolled": false
   },
   "outputs": [
    {
     "name": "stdout",
     "output_type": "stream",
     "text": [
      "Learnt Scaling param is:              -33.98491559641065\n",
      "Norm const of data distribution is:   -39.61904651217381\n"
     ]
    }
   ],
   "source": [
    "print('Learnt Scaling param is:              {}'.format(latent_nce_estimate[0]))\n",
    "print('Norm const of data distribution is:   {}'.format(-np.log(true_norm_const)))"
   ]
  },
  {
   "cell_type": "code",
   "execution_count": 25,
   "metadata": {},
   "outputs": [
    {
     "name": "stdout",
     "output_type": "stream",
     "text": [
      "We hope that the normalisation constant of the learnt model is 1. In reality it is: 2.985612383706314 \n"
     ]
    }
   ],
   "source": [
    "model.reset_norm_const()\n",
    "print('We hope that the normalisation constant of the learnt model is 1. In reality it is: {} '.format(\n",
    "    np.log(model.norm_const)))"
   ]
  },
  {
   "cell_type": "markdown",
   "metadata": {},
   "source": [
    "## Visualisations of parameters"
   ]
  },
  {
   "cell_type": "code",
   "execution_count": 26,
   "metadata": {},
   "outputs": [
    {
     "data": {
      "image/png": "[encoded data removed]",
      "text/plain": [
       "<matplotlib.figure.Figure at 0x7f34a44992e8>"
      ]
     },
     "metadata": {},
     "output_type": "display_data"
    }
   ],
   "source": [
    "true_params = np.array(true_data_dist.theta.reshape(d+1, m+1).T)\n",
    "true_params[0,0] = 0\n",
    "fig, axs = plt.subplots(2, 1, figsize=(12, 5))\n",
    "axs = axs.ravel()\n",
    "axs[0].imshow(true_params, cmap='gray')\n",
    "axs[1].imshow(true_params[1:, 1:], cmap='gray')\n",
    "axs[0].set_title('with biases', fontsize=16)\n",
    "axs[1].set_title('without biases', fontsize=16)\n",
    "#fig.suptitle('True parameters', fontsize=20)\n",
    "plt.tight_layout()"
   ]
  },
  {
   "cell_type": "code",
   "execution_count": 27,
   "metadata": {
    "scrolled": true
   },
   "outputs": [
    {
     "data": {
      "image/png": "[encoded data removed]",
      "text/plain": [
       "<matplotlib.figure.Figure at 0x7f34a44f1f60>"
      ]
     },
     "metadata": {},
     "output_type": "display_data"
    }
   ],
   "source": [
    "nce_params = np.array(model.theta.reshape(d+1, m+1).T)\n",
    "nce_params[0,0] = 0\n",
    "fig, axs = plt.subplots(2, 1, figsize=(12, 5))\n",
    "axs = axs.ravel()\n",
    "axs[0].imshow(nce_params, cmap='gray')\n",
    "axs[1].imshow(nce_params[1:, 1:], cmap='gray')\n",
    "axs[0].set_title('with biases', fontsize=16)\n",
    "axs[1].set_title('without biases', fontsize=16)\n",
    "#fig.suptitle('True parameters', fontsize=20)\n",
    "plt.tight_layout()"
   ]
  },
  {
   "cell_type": "code",
   "execution_count": 28,
   "metadata": {},
   "outputs": [
    {
     "data": {
      "image/png": "[encoded data removed]",
      "text/plain": [
       "<matplotlib.figure.Figure at 0x7f34a427ab70>"
      ]
     },
     "metadata": {},
     "output_type": "display_data"
    }
   ],
   "source": [
    "cd_params = np.array(cd_model.theta.reshape(d+1, m+1).T)\n",
    "cd_params[0,0] = 0\n",
    "fig, axs = plt.subplots(2, 1, figsize=(12, 5))\n",
    "axs = axs.ravel()\n",
    "axs[0].imshow(cd_params, cmap='gray')\n",
    "axs[1].imshow(cd_params[1:, 1:], cmap='gray')\n",
    "axs[0].set_title('with biases', fontsize=16)\n",
    "axs[1].set_title('without biases', fontsize=16)\n",
    "#fig.suptitle('True parameters', fontsize=20)\n",
    "plt.tight_layout()"
   ]
  },
  {
   "cell_type": "code",
   "execution_count": 29,
   "metadata": {
    "scrolled": true
   },
   "outputs": [
    {
     "data": {
      "image/png": "[encoded data removed]",
      "text/plain": [
       "<matplotlib.figure.Figure at 0x7f34a4321fd0>"
      ]
     },
     "metadata": {},
     "output_type": "display_data"
    }
   ],
   "source": [
    "rnd_params = np.array(theta0.reshape(d+1, m+1).T)\n",
    "rnd_params[0,0] = 0\n",
    "fig, axs = plt.subplots(2, 1, figsize=(12, 5))\n",
    "axs = axs.ravel()\n",
    "axs[0].imshow(rnd_params, cmap='gray')\n",
    "axs[1].imshow(rnd_params[1:, 1:], cmap='gray')\n",
    "axs[0].set_title('with biases', fontsize=16)\n",
    "axs[1].set_title('without biases', fontsize=16)\n",
    "#fig.suptitle('True parameters', fontsize=20)\n",
    "plt.tight_layout()"
   ]
  },
  {
   "cell_type": "code",
   "execution_count": 30,
   "metadata": {
    "scrolled": true
   },
   "outputs": [
    {
     "name": "stdout",
     "output_type": "stream",
     "text": [
      "true hidden bias: [ 0.         -0.03628776  0.21595202 -0.1605034  -0.05665968  0.06777425] \n",
      "nce hidden bias:  [ 0.         -0.00118909 -0.02025479 -0.02840111 -0.02647846 -0.00812945] \n",
      "cd_hidden bias:   [0.         0.06422142 0.04676908 0.02909969 0.03656332 0.04318716]\n"
     ]
    }
   ],
   "source": [
    "# hidden biases\n",
    "print('true hidden bias: {} \\nnce hidden bias:  {} \\ncd_hidden bias:   {}'.format(\n",
    "    true_params[:,0], nce_params[:, 0], cd_params[:, 0]))"
   ]
  },
  {
   "cell_type": "code",
   "execution_count": 31,
   "metadata": {},
   "outputs": [
    {
     "name": "stdout",
     "output_type": "stream",
     "text": [
      "[ 0.         -0.11838309 -0.07031706  0.09866757  0.36340497 -0.45138586\n",
      " -0.67399315  0.01445815 -0.56595157  0.61460289 -0.41843453  0.60853602\n",
      "  0.80121794  0.52458228 -0.43513443  0.06563973  0.69737168  0.1708743\n",
      " -0.68684468  0.16252861  0.86417805 -0.36914696  0.8202942  -0.19784082\n",
      " -0.13821737  0.15900381  0.1460301   0.71008889  0.54229369 -0.30023079\n",
      " -0.66419628  0.09709014  0.78135779  0.08898661 -0.73424705 -0.64068536\n",
      " -0.72950216 -0.35439206  0.82490967  0.44885788  0.26537738  0.59816876\n",
      " -0.17662855  0.03263282 -0.27949222 -0.57740807  0.30952494 -0.60622476\n",
      "  0.88833689  0.43754003  0.49519554]\n"
     ]
    }
   ],
   "source": [
    "# diff between nce & true visible biases\n",
    "print(nce_params[0,:] - true_params[0,:])"
   ]
  },
  {
   "cell_type": "code",
   "execution_count": 32,
   "metadata": {
    "scrolled": true
   },
   "outputs": [
    {
     "name": "stdout",
     "output_type": "stream",
     "text": [
      "[ 0.00000000e+00 -1.78628006e-02  1.04790379e-02 -1.83033142e-02\n",
      "  1.38453794e-02 -3.03242666e-02 -2.67507054e-02 -7.35864689e-03\n",
      " -3.54428040e-02 -1.07606473e-02 -2.34506706e-02 -3.30085185e-02\n",
      "  3.41358812e-02  3.41871165e-02 -2.08223589e-02 -1.75674542e-02\n",
      " -1.36379500e-02 -5.13520092e-02 -5.61512043e-02  1.10267950e-02\n",
      " -6.26524287e-03 -6.19894383e-02  3.23676599e-02 -1.75047557e-02\n",
      " -1.48731034e-02 -1.36406744e-02  8.07239032e-04  3.43870192e-02\n",
      " -1.27446088e-02 -3.81684279e-02 -8.56431205e-02 -1.03837686e-04\n",
      "  1.63188565e-02  1.13296048e-03 -1.11350063e-01 -9.10763299e-02\n",
      " -4.03797630e-02 -3.44581072e-02  4.59958840e-02  2.46696343e-02\n",
      " -9.23470042e-03 -9.87598955e-03 -2.30379443e-02  6.13870583e-03\n",
      " -2.24282554e-02 -1.28076411e-02 -7.08068251e-03 -5.35596403e-02\n",
      "  7.15057532e-03 -4.96698520e-03  2.29758847e-03]\n"
     ]
    }
   ],
   "source": [
    "# diff between nce & cd visible biases\n",
    "print(nce_params[0,:] - cd_params[0,:])"
   ]
  },
  {
   "cell_type": "markdown",
   "metadata": {},
   "source": [
    "# Validation of synthetic dataset"
   ]
  },
  {
   "cell_type": "code",
   "execution_count": 33,
   "metadata": {},
   "outputs": [
    {
     "data": {
      "text/plain": [
       "\"all_visibles = true_data_dist.get_all_binary_vectors(d)\\nvisible_probs, true_dist_norm_const = true_data_dist.normalised_and_marginalised_over_z(all_visibles)\\nprint('Sum over all visible probabilities should equal 1. We got: {}'.format(sum(visible_probs)))\\n\\nprint('-------------------------Visible probability checks--------------------------------------')\\nfor i in range(2**d):\\n    freq = np.sum(np.product((X == all_visibles[i]), axis=-1))/ len(X)\\n    print('{}:  Empirical frequency is {}. True probability is {}'.format(all_visibles[i], \\n                                                                         freq, visible_probs[i]))\\nprint('normalisation constant is: {}'.format(true_dist_norm_const))\\n\\nall_hiddens = true_data_dist.get_all_binary_vectors(m)\\nhidden_probs, _ = true_data_dist.normalised_and_marginalised_over_u(all_hiddens)\\n\\nprint('Sum over all hidden probabilities should equal 1. We got: {}'.format(sum(hidden_probs)))\\n\\nvar_dist.alpha = true_W.reshape(-1)\\nZ_from_posterior_class = var_dist.sample(1000, X)\\n\\nprint('-------------------------Hidden probability checks--------------------------------------')\\nfor i in range(2**m):\\n    freq = np.mean(np.product((Z_from_posterior_class == all_hiddens[i]), axis=(-1)))\\n    print('{}:  Empirical frequency is {}. True probability is {}'.format(all_hiddens[i], \\n                                                                         freq, hidden_probs[i]))\""
      ]
     },
     "execution_count": 33,
     "metadata": {},
     "output_type": "execute_result"
    }
   ],
   "source": [
    "\"\"\"all_visibles = true_data_dist.get_all_binary_vectors(d)\n",
    "visible_probs, true_dist_norm_const = true_data_dist.normalised_and_marginalised_over_z(all_visibles)\n",
    "print('Sum over all visible probabilities should equal 1. We got: {}'.format(sum(visible_probs)))\n",
    "\n",
    "print('-------------------------Visible probability checks--------------------------------------')\n",
    "for i in range(2**d):\n",
    "    freq = np.sum(np.product((X == all_visibles[i]), axis=-1))/ len(X)\n",
    "    print('{}:  Empirical frequency is {}. True probability is {}'.format(all_visibles[i], \n",
    "                                                                         freq, visible_probs[i]))\n",
    "print('normalisation constant is: {}'.format(true_dist_norm_const))\n",
    "\n",
    "all_hiddens = true_data_dist.get_all_binary_vectors(m)\n",
    "hidden_probs, _ = true_data_dist.normalised_and_marginalised_over_u(all_hiddens)\n",
    "\n",
    "print('Sum over all hidden probabilities should equal 1. We got: {}'.format(sum(hidden_probs)))\n",
    "\n",
    "var_dist.alpha = true_W.reshape(-1)\n",
    "Z_from_posterior_class = var_dist.sample(1000, X)\n",
    "\n",
    "print('-------------------------Hidden probability checks--------------------------------------')\n",
    "for i in range(2**m):\n",
    "    freq = np.mean(np.product((Z_from_posterior_class == all_hiddens[i]), axis=(-1)))\n",
    "    print('{}:  Empirical frequency is {}. True probability is {}'.format(all_hiddens[i], \n",
    "                                                                         freq, hidden_probs[i]))\"\"\""
   ]
  }
 ],
 "metadata": {
  "kernelspec": {
   "display_name": "Python 3",
   "language": "python",
   "name": "python3"
  },
  "language_info": {
   "codemirror_mode": {
    "name": "ipython",
    "version": 3
   },
   "file_extension": ".py",
   "mimetype": "text/x-python",
   "name": "python",
   "nbconvert_exporter": "python",
   "pygments_lexer": "ipython3",
   "version": "3.6.4"
  }
 },
 "nbformat": 4,
 "nbformat_minor": 2
}
