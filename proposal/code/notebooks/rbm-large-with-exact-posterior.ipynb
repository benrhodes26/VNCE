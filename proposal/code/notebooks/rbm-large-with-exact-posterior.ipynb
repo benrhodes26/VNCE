{
 "cells": [
  {
   "cell_type": "code",
   "execution_count": 1,
   "metadata": {},
   "outputs": [],
   "source": [
    "import os\n",
    "import sys\n",
    "nb_dir = os.path.split(os.getcwd())[0]\n",
    "if nb_dir not in sys.path:\n",
    "    sys.path.append(nb_dir)"
   ]
  },
  {
   "cell_type": "code",
   "execution_count": 2,
   "metadata": {},
   "outputs": [],
   "source": [
    "import numpy as np\n",
    "import pdb\n",
    "\n",
    "# my code\n",
    "from distribution import RBMLatentPosterior, MultivariateBernoulliNoise\n",
    "from latent_nce_optimiser import LatentNCEOptimiser\n",
    "from latent_variable_model import RestrictedBoltzmannMachine\n",
    "\n",
    "from matplotlib import pyplot as plt\n",
    "from matplotlib import rc\n",
    "from numpy import random as rnd\n",
    "\n",
    "%matplotlib inline\n",
    "rc('lines', linewidth=3)\n",
    "rc('font', size=18)\n",
    "rc('legend', fontsize=18)\n",
    "\n",
    "# For reproducibility\n",
    "rng = rnd.RandomState(1083463236)"
   ]
  },
  {
   "cell_type": "markdown",
   "metadata": {},
   "source": [
    "# Model definition"
   ]
  },
  {
   "cell_type": "code",
   "execution_count": 3,
   "metadata": {},
   "outputs": [],
   "source": [
    "n = 100000 # number of datapoints\n",
    "nz = 1  # number latent samples per datapoint\n",
    "nu = 1\n",
    "\n",
    "d = 10  # visible dimension\n",
    "m = 4  # latent dimension\n",
    "\n",
    "true_W = rnd.uniform(-0.5, 0.5, (d+1, m+1))\n",
    "theta0 = rnd.uniform(-0.5, 0.5, (d+1, m+1))"
   ]
  },
  {
   "cell_type": "code",
   "execution_count": 4,
   "metadata": {},
   "outputs": [],
   "source": [
    "true_data_dist = RestrictedBoltzmannMachine(true_W)\n",
    "X, Z = true_data_dist.sample(n, num_iter=1000)"
   ]
  },
  {
   "cell_type": "code",
   "execution_count": 5,
   "metadata": {},
   "outputs": [],
   "source": [
    "X_mean = np.mean(X, axis=0)\n",
    "# X_centred = X - X_mean\n",
    "# X_cov = (1/n)*np.dot(X_centred.T, X_centred)"
   ]
  },
  {
   "cell_type": "code",
   "execution_count": 6,
   "metadata": {},
   "outputs": [],
   "source": [
    "model = RestrictedBoltzmannMachine(theta0)"
   ]
  },
  {
   "cell_type": "code",
   "execution_count": 7,
   "metadata": {},
   "outputs": [],
   "source": [
    "noise = MultivariateBernoulliNoise(X_mean)  # uniform dist over binary vectors i.e p(u) = 2**-d\n",
    "var_dist = RBMLatentPosterior(theta0)"
   ]
  },
  {
   "cell_type": "code",
   "execution_count": 8,
   "metadata": {},
   "outputs": [],
   "source": [
    "optimiser = LatentNCEOptimiser(model, noise, var_dist, n, nu=nu, latent_samples_per_datapoint=nz)"
   ]
  },
  {
   "cell_type": "markdown",
   "metadata": {},
   "source": [
    "# Validation"
   ]
  },
  {
   "cell_type": "code",
   "execution_count": 9,
   "metadata": {},
   "outputs": [],
   "source": [
    "all_visibles = true_data_dist.get_all_binary_vectors(d)\n",
    "visible_probs, norm_const = true_data_dist.normalised_and_marginalised_over_z(all_visibles)"
   ]
  },
  {
   "cell_type": "code",
   "execution_count": 10,
   "metadata": {},
   "outputs": [
    {
     "name": "stdout",
     "output_type": "stream",
     "text": [
      "Sum over all visible probabilities should equal 1. We got: 1.0\n"
     ]
    }
   ],
   "source": [
    "print('Sum over all visible probabilities should equal 1. We got: {}'.format(sum(visible_probs)))"
   ]
  },
  {
   "cell_type": "code",
   "execution_count": 11,
   "metadata": {
    "scrolled": false
   },
   "outputs": [
    {
     "name": "stdout",
     "output_type": "stream",
     "text": [
      "-------------------------Visible probability spot-checks--------------------------------------\n",
      "[0 0 0 0 0 0 0 0 0 0]:  Empirical frequency is 0.00162. True frequency is 0.001885675608071886\n",
      "[0 0 0 0 1 1 0 0 1 0]:  Empirical frequency is 0.00139. True frequency is 0.0013936807275663396\n",
      "[0 0 0 1 1 0 0 1 0 0]:  Empirical frequency is 0.00137. True frequency is 0.0015329360905819798\n",
      "[0 0 1 0 0 1 0 1 1 0]:  Empirical frequency is 0.00127. True frequency is 0.0011498953897252407\n",
      "[0 0 1 1 0 0 1 0 0 0]:  Empirical frequency is 0.00059. True frequency is 0.0006380326386043064\n",
      "[0 0 1 1 1 1 1 0 1 0]:  Empirical frequency is 0.00052. True frequency is 0.0005220083574735652\n",
      "[0 1 0 0 1 0 1 1 0 0]:  Empirical frequency is 0.00042. True frequency is 0.0005094572793291571\n",
      "[0 1 0 1 0 1 1 1 1 0]:  Empirical frequency is 0.00168. True frequency is 0.0016493539237028899\n",
      "[0 1 1 0 0 1 0 0 0 0]:  Empirical frequency is 0.0015. True frequency is 0.0014531427967526878\n",
      "[0 1 1 1 0 0 0 0 1 0]:  Empirical frequency is 0.00057. True frequency is 0.0006973734412973853\n",
      "[0 1 1 1 1 1 0 1 0 0]:  Empirical frequency is 0.00123. True frequency is 0.0012018622709762824\n",
      "[1 0 0 0 1 0 0 1 1 0]:  Empirical frequency is 0.00073. True frequency is 0.0007287454265390044\n",
      "[1 0 0 1 0 1 1 0 0 0]:  Empirical frequency is 0.00296. True frequency is 0.002948397189789392\n",
      "[1 0 1 0 0 0 1 0 1 0]:  Empirical frequency is 0.0005. True frequency is 0.0003947985363708147\n",
      "[1 0 1 0 1 1 1 1 0 0]:  Empirical frequency is 0.00051. True frequency is 0.0005218900690720456\n",
      "[1 0 1 1 1 0 1 1 1 0]:  Empirical frequency is 0.00044. True frequency is 0.00027330738341834946\n",
      "[1 1 0 0 1 0 0 0 0 0]:  Empirical frequency is 0.00093. True frequency is 0.0009531526938349357\n",
      "[1 1 0 1 0 1 0 0 1 0]:  Empirical frequency is 0.00337. True frequency is 0.0031859996417638635\n",
      "[1 1 1 0 0 0 0 1 0 0]:  Empirical frequency is 0.00108. True frequency is 0.000744720797296579\n",
      "[1 1 1 0 1 1 0 1 1 0]:  Empirical frequency is 0.00059. True frequency is 0.0005477945731961129\n",
      "[1 1 1 1 1 0 1 0 0 0]:  Empirical frequency is 0.00039. True frequency is 0.00034551753231945847\n"
     ]
    }
   ],
   "source": [
    "print('-------------------------Visible probability spot-checks--------------------------------------')\n",
    "for i in range(0, 2**d, 50):\n",
    "    freq = np.sum(np.product((X == all_visibles[i]), axis=-1))/ len(X)\n",
    "    print('{}:  Empirical frequency is {}. True frequency is {}'.format(all_visibles[i], \n",
    "                                                                         freq, visible_probs[i]))"
   ]
  },
  {
   "cell_type": "code",
   "execution_count": 12,
   "metadata": {},
   "outputs": [
    {
     "name": "stdout",
     "output_type": "stream",
     "text": [
      "normalisation constant is: 13678.939785263532\n"
     ]
    }
   ],
   "source": [
    "print('normalisation constant is: {}'.format(norm_const))"
   ]
  },
  {
   "cell_type": "code",
   "execution_count": 13,
   "metadata": {},
   "outputs": [],
   "source": [
    "all_hiddens = true_data_dist.get_all_binary_vectors(m)\n",
    "hidden_probs, norm_const = true_data_dist.normalised_and_marginalised_over_u(all_hiddens)"
   ]
  },
  {
   "cell_type": "code",
   "execution_count": 14,
   "metadata": {},
   "outputs": [
    {
     "name": "stdout",
     "output_type": "stream",
     "text": [
      "Sum over all hidden probabilities should equal 1. We got: 1.0000000000000007\n"
     ]
    }
   ],
   "source": [
    "print('Sum over all hidden probabilities should equal 1. We got: {}'.format(sum(hidden_probs)))"
   ]
  },
  {
   "cell_type": "code",
   "execution_count": 15,
   "metadata": {},
   "outputs": [],
   "source": [
    "var_dist.alpha = true_W.reshape(-1)\n",
    "Z_from_posterior_class = var_dist.sample(1000, X)"
   ]
  },
  {
   "cell_type": "code",
   "execution_count": 16,
   "metadata": {},
   "outputs": [
    {
     "name": "stdout",
     "output_type": "stream",
     "text": [
      "-------------------------Hidden probability checks--------------------------------------\n",
      "[0 0 0 0]:  Empirical frequency is 0.05769053. True frequency is 0.057820732175212705\n",
      "[0 0 0 1]:  Empirical frequency is 0.0678314. True frequency is 0.06786730991309983\n",
      "[0 0 1 0]:  Empirical frequency is 0.07871614. True frequency is 0.0788700487647121\n",
      "[0 0 1 1]:  Empirical frequency is 0.09800198. True frequency is 0.09786744196619779\n",
      "[0 1 0 0]:  Empirical frequency is 0.03885326. True frequency is 0.038846631367799055\n",
      "[0 1 0 1]:  Empirical frequency is 0.04946379. True frequency is 0.049407213073337945\n",
      "[0 1 1 0]:  Empirical frequency is 0.05284396. True frequency is 0.052830249435116446\n",
      "[0 1 1 1]:  Empirical frequency is 0.07101883. True frequency is 0.07084574951117063\n",
      "[1 0 0 0]:  Empirical frequency is 0.05093324. True frequency is 0.05108159595740877\n",
      "[1 0 0 1]:  Empirical frequency is 0.06142073. True frequency is 0.06152991627924588\n",
      "[1 0 1 0]:  Empirical frequency is 0.07162391. True frequency is 0.07170346492198572\n",
      "[1 0 1 1]:  Empirical frequency is 0.09138474. True frequency is 0.09138324140626619\n",
      "[1 1 0 0]:  Empirical frequency is 0.03732865. True frequency is 0.03732763574805221\n",
      "[1 1 0 1]:  Empirical frequency is 0.0484255. True frequency is 0.04838818579251936\n",
      "[1 1 1 0]:  Empirical frequency is 0.05253454. True frequency is 0.052460174558551655\n",
      "[1 1 1 1]:  Empirical frequency is 0.0719288. True frequency is 0.07177040912932424\n"
     ]
    }
   ],
   "source": [
    "print('-------------------------Hidden probability checks--------------------------------------')\n",
    "for i in range(2**m):\n",
    "    freq = np.mean(np.product((Z_from_posterior_class == all_hiddens[i]), axis=(-1)))\n",
    "    print('{}:  Empirical frequency is {}. True frequency is {}'.format(all_hiddens[i], \n",
    "                                                                         freq, hidden_probs[i]))"
   ]
  },
  {
   "cell_type": "code",
   "execution_count": 17,
   "metadata": {},
   "outputs": [
    {
     "name": "stdout",
     "output_type": "stream",
     "text": [
      "normalisation constant is: 13678.939785263532\n"
     ]
    }
   ],
   "source": [
    "print('normalisation constant is: {}'.format(norm_const))"
   ]
  },
  {
   "cell_type": "markdown",
   "metadata": {},
   "source": [
    "# Optimisation"
   ]
  },
  {
   "cell_type": "code",
   "execution_count": 18,
   "metadata": {
    "scrolled": false
   },
   "outputs": [
    {
     "name": "stdout",
     "output_type": "stream",
     "text": [
      "Optimization terminated successfully.\n",
      "         Current function value: 1.386969\n",
      "         Iterations: 68\n",
      "         Function evaluations: 71\n",
      "         Gradient evaluations: 71\n",
      "Optimization terminated successfully.\n",
      "         Current function value: 1.386538\n",
      "         Iterations: 50\n",
      "         Function evaluations: 51\n",
      "         Gradient evaluations: 51\n",
      "Optimization terminated successfully.\n",
      "         Current function value: 1.386312\n",
      "         Iterations: 50\n",
      "         Function evaluations: 51\n",
      "         Gradient evaluations: 51\n",
      "Optimization terminated successfully.\n",
      "         Current function value: 1.386249\n",
      "         Iterations: 50\n",
      "         Function evaluations: 51\n",
      "         Gradient evaluations: 51\n",
      "Optimization terminated successfully.\n",
      "         Current function value: 1.386074\n",
      "         Iterations: 51\n",
      "         Function evaluations: 52\n",
      "         Gradient evaluations: 52\n",
      "Optimization terminated successfully.\n",
      "         Current function value: 1.386054\n",
      "         Iterations: 51\n",
      "         Function evaluations: 52\n",
      "         Gradient evaluations: 52\n",
      "Optimization terminated successfully.\n",
      "         Current function value: 1.385982\n",
      "         Iterations: 49\n",
      "         Function evaluations: 50\n",
      "         Gradient evaluations: 50\n",
      "Optimization terminated successfully.\n",
      "         Current function value: 1.385958\n",
      "         Iterations: 40\n",
      "         Function evaluations: 41\n",
      "         Gradient evaluations: 41\n",
      "Optimization terminated successfully.\n",
      "         Current function value: 1.385802\n",
      "         Iterations: 50\n",
      "         Function evaluations: 51\n",
      "         Gradient evaluations: 51\n",
      "Optimization terminated successfully.\n",
      "         Current function value: 1.385749\n",
      "         Iterations: 49\n",
      "         Function evaluations: 50\n",
      "         Gradient evaluations: 50\n",
      "Optimization terminated successfully.\n",
      "         Current function value: 1.385690\n",
      "         Iterations: 50\n",
      "         Function evaluations: 51\n",
      "         Gradient evaluations: 51\n",
      "Optimization terminated successfully.\n",
      "         Current function value: 1.385475\n",
      "         Iterations: 56\n",
      "         Function evaluations: 57\n",
      "         Gradient evaluations: 57\n",
      "Optimization terminated successfully.\n",
      "         Current function value: 1.385471\n",
      "         Iterations: 41\n",
      "         Function evaluations: 42\n",
      "         Gradient evaluations: 42\n",
      "Optimization terminated successfully.\n",
      "         Current function value: 1.385475\n",
      "         Iterations: 51\n",
      "         Function evaluations: 52\n",
      "         Gradient evaluations: 52\n",
      "Optimization terminated successfully.\n",
      "         Current function value: 1.385355\n",
      "         Iterations: 50\n",
      "         Function evaluations: 51\n",
      "         Gradient evaluations: 51\n",
      "Optimization terminated successfully.\n",
      "         Current function value: 1.385184\n",
      "         Iterations: 53\n",
      "         Function evaluations: 54\n",
      "         Gradient evaluations: 54\n",
      "Optimization terminated successfully.\n",
      "         Current function value: 1.385303\n",
      "         Iterations: 50\n",
      "         Function evaluations: 51\n",
      "         Gradient evaluations: 51\n",
      "Optimization terminated successfully.\n",
      "         Current function value: 1.385217\n",
      "         Iterations: 50\n",
      "         Function evaluations: 51\n",
      "         Gradient evaluations: 51\n",
      "Optimization terminated successfully.\n",
      "         Current function value: 1.385164\n",
      "         Iterations: 50\n",
      "         Function evaluations: 51\n",
      "         Gradient evaluations: 51\n",
      "Optimization terminated successfully.\n",
      "         Current function value: 1.385161\n",
      "         Iterations: 50\n",
      "         Function evaluations: 51\n",
      "         Gradient evaluations: 51\n"
     ]
    },
    {
     "data": {
      "image/png": "[encoded data removed]",
      "text/plain": [
       "<matplotlib.figure.Figure at 0x7f5e26cf4470>"
      ]
     },
     "metadata": {},
     "output_type": "display_data"
    }
   ],
   "source": [
    "thetas_after_EM_step, J1s, J1_grads = optimiser.fit_using_analytic_q(X, theta0=theta0.reshape(-1), stop_threshold=1e-06)"
   ]
  },
  {
   "cell_type": "code",
   "execution_count": 42,
   "metadata": {},
   "outputs": [
    {
     "data": {
      "text/plain": [
       "[<matplotlib.lines.Line2D at 0x7f5e23876710>]"
      ]
     },
     "execution_count": 42,
     "metadata": {},
     "output_type": "execute_result"
    },
    {
     "data": {
      "image/png": "[encoded data removed]",
      "text/plain": [
       "<matplotlib.figure.Figure at 0x7f5e239cc630>"
      ]
     },
     "metadata": {},
     "output_type": "display_data"
    }
   ],
   "source": [
    "trunc_J1s = J1s[35:]\n",
    "plt.plot(np.arange(len(trunc_J1s)), trunc_J1s)"
   ]
  },
  {
   "cell_type": "markdown",
   "metadata": {},
   "source": [
    "# Learnt parameters compared with true parameters"
   ]
  },
  {
   "cell_type": "code",
   "execution_count": 19,
   "metadata": {
    "scrolled": false
   },
   "outputs": [
    {
     "name": "stdout",
     "output_type": "stream",
     "text": [
      "Parameters learnt by the model.\n",
      "First element of matrix (scaling param) should equal -9.52361268709595\n"
     ]
    },
    {
     "data": {
      "text/plain": [
       "array([[-8.68674280e+00, -3.93378442e-01, -4.60403354e-01,\n",
       "        -9.26989452e-02,  1.16184402e-01],\n",
       "       [-5.15248499e-01, -1.04522076e-01,  2.01940949e-01,\n",
       "         3.80776795e-01,  5.74065025e-01],\n",
       "       [ 1.89761552e-01, -3.24784850e-01,  1.14845725e-01,\n",
       "        -6.00849076e-01,  6.10897345e-02],\n",
       "       [-7.64821943e-01, -5.18835489e-01, -5.48236570e-03,\n",
       "         3.90179142e-01, -1.35723275e-01],\n",
       "       [ 2.55029094e-01,  4.24482616e-01, -2.41737774e-01,\n",
       "        -2.19230250e-01,  2.62572337e-01],\n",
       "       [-3.78617363e-01, -1.49875452e-01,  3.69347011e-02,\n",
       "         1.22409918e-01, -4.32134674e-01],\n",
       "       [ 1.08619908e+00,  1.44930131e-01, -3.73134508e-01,\n",
       "        -3.87597620e-01, -2.25224773e-01],\n",
       "       [-7.09368148e-01,  5.31377990e-02,  3.46905624e-01,\n",
       "         3.39050498e-01, -4.62718518e-01],\n",
       "       [ 7.78599685e-02, -1.20220853e-01, -5.89074171e-02,\n",
       "         1.02777807e-01, -1.29455576e-01],\n",
       "       [-7.48432289e-01, -4.01378034e-04,  4.68054090e-01,\n",
       "         3.30346037e-01, -7.50272009e-02],\n",
       "       [-5.01341903e-01,  1.38959760e-01, -1.55866245e-01,\n",
       "        -9.70082343e-02,  1.22743815e-01]])"
      ]
     },
     "execution_count": 19,
     "metadata": {},
     "output_type": "execute_result"
    }
   ],
   "source": [
    "print('Parameters learnt by the model.')\n",
    "print('First element of matrix (scaling param) should equal {}'.format(-np.log(norm_const)))\n",
    "model.theta.reshape(d+1, m+1)"
   ]
  },
  {
   "cell_type": "code",
   "execution_count": 20,
   "metadata": {
    "scrolled": true
   },
   "outputs": [
    {
     "name": "stdout",
     "output_type": "stream",
     "text": [
      "True parameters.\n"
     ]
    },
    {
     "data": {
      "text/plain": [
       "array([[ 0.24471147, -0.1453449 , -0.08095538,  0.40586965,  0.22560258],\n",
       "       [ 0.19593739, -0.48417044,  0.30131685, -0.31905409,  0.13473746],\n",
       "       [-0.21833975,  0.18097323,  0.10085184,  0.08853293, -0.18378551],\n",
       "       [-0.2610768 , -0.43405964, -0.45576656,  0.05401238, -0.39358665],\n",
       "       [ 0.07241113,  0.42426321,  0.47370787, -0.23292722,  0.05520852],\n",
       "       [-0.0256197 ,  0.18956544, -0.44063932, -0.33810831, -0.4894737 ],\n",
       "       [ 0.21170892,  0.4001016 ,  0.04555838,  0.33759814,  0.08919853],\n",
       "       [-0.40621052, -0.22403459, -0.37635593,  0.11981132, -0.04722346],\n",
       "       [-0.41482625, -0.05405121, -0.10910549,  0.44043495,  0.38781973],\n",
       "       [ 0.09853296, -0.44766414, -0.34231198, -0.2068521 , -0.10228093],\n",
       "       [-0.44476718,  0.17866915, -0.37416819, -0.20907343,  0.28225528]])"
      ]
     },
     "execution_count": 20,
     "metadata": {},
     "output_type": "execute_result"
    }
   ],
   "source": [
    "print('True parameters.')\n",
    "true_W"
   ]
  },
  {
   "cell_type": "markdown",
   "metadata": {},
   "source": [
    "# Visible marginal of model"
   ]
  },
  {
   "cell_type": "code",
   "execution_count": 21,
   "metadata": {},
   "outputs": [],
   "source": [
    "all_visibles = model.get_all_binary_vectors(d)\n",
    "model_visible_probs, model_norm_const = model.normalised_and_marginalised_over_z(all_visibles)"
   ]
  },
  {
   "cell_type": "code",
   "execution_count": 22,
   "metadata": {},
   "outputs": [
    {
     "name": "stdout",
     "output_type": "stream",
     "text": [
      "Sum over all visible probabilities should equal 1. We got: 0.9999999999999999\n"
     ]
    }
   ],
   "source": [
    "print('Sum over all visible probabilities should equal 1. We got: {}'.format(sum(model_visible_probs)))"
   ]
  },
  {
   "cell_type": "code",
   "execution_count": 23,
   "metadata": {
    "scrolled": false
   },
   "outputs": [
    {
     "name": "stdout",
     "output_type": "stream",
     "text": [
      "-------------------------Visible probability spot-checks--------------------------------------\n",
      "[0 0 0 0 0 0 0 0 0 0]:  Data frequency is 0.00162. Model frequency is 0.001869683724226777\n",
      "[0 0 0 0 1 1 0 0 1 0]:  Data frequency is 0.00139. Model frequency is 0.0014138457322432029\n",
      "[0 0 0 1 1 0 0 1 0 0]:  Data frequency is 0.00137. Model frequency is 0.001502300288435611\n",
      "[0 0 1 0 0 1 0 1 1 0]:  Data frequency is 0.00127. Model frequency is 0.0010936428161114299\n",
      "[0 0 1 1 0 0 1 0 0 0]:  Data frequency is 0.00059. Model frequency is 0.0006324825915154884\n",
      "[0 0 1 1 1 1 1 0 1 0]:  Data frequency is 0.00052. Model frequency is 0.0005127696297008055\n",
      "[0 1 0 0 1 0 1 1 0 0]:  Data frequency is 0.00042. Model frequency is 0.0005493991541643729\n",
      "[0 1 0 1 0 1 1 1 1 0]:  Data frequency is 0.00168. Model frequency is 0.0016718558205621485\n",
      "[0 1 1 0 0 1 0 0 0 0]:  Data frequency is 0.0015. Model frequency is 0.0015333990477160381\n",
      "[0 1 1 1 0 0 0 0 1 0]:  Data frequency is 0.00057. Model frequency is 0.0006487790734684657\n",
      "[0 1 1 1 1 1 0 1 0 0]:  Data frequency is 0.00123. Model frequency is 0.0012476561245502575\n",
      "[1 0 0 0 1 0 0 1 1 0]:  Data frequency is 0.00073. Model frequency is 0.0007785804236849638\n",
      "[1 0 0 1 0 1 1 0 0 0]:  Data frequency is 0.00296. Model frequency is 0.002992079038169706\n",
      "[1 0 1 0 0 0 1 0 1 0]:  Data frequency is 0.0005. Model frequency is 0.00040318426387863255\n",
      "[1 0 1 0 1 1 1 1 0 0]:  Data frequency is 0.00051. Model frequency is 0.0005883623407169782\n",
      "[1 0 1 1 1 0 1 1 1 0]:  Data frequency is 0.00044. Model frequency is 0.00030029985416088847\n",
      "[1 1 0 0 1 0 0 0 0 0]:  Data frequency is 0.00093. Model frequency is 0.0009472843002135318\n",
      "[1 1 0 1 0 1 0 0 1 0]:  Data frequency is 0.00337. Model frequency is 0.0032342743199782085\n",
      "[1 1 1 0 0 0 0 1 0 0]:  Data frequency is 0.00108. Model frequency is 0.0007893520211870325\n",
      "[1 1 1 0 1 1 0 1 1 0]:  Data frequency is 0.00059. Model frequency is 0.0005660889318989452\n",
      "[1 1 1 1 1 0 1 0 0 0]:  Data frequency is 0.00039. Model frequency is 0.000315556004630477\n"
     ]
    }
   ],
   "source": [
    "print('-------------------------Visible probability spot-checks--------------------------------------')\n",
    "for i in range(0, 2**d, 50):\n",
    "    freq = np.sum(np.product((X == all_visibles[i]), axis=-1))/ len(X)\n",
    "    print('{}:  Data frequency is {}. Model frequency is {}'.format(all_visibles[i], \n",
    "                                                                    freq, model_visible_probs[i]))"
   ]
  },
  {
   "cell_type": "code",
   "execution_count": 24,
   "metadata": {},
   "outputs": [
    {
     "name": "stdout",
     "output_type": "stream",
     "text": [
      "normalisation constant is: 1.0009298488272997.\n"
     ]
    }
   ],
   "source": [
    "print('normalisation constant is: {}.'.format(model_norm_const))"
   ]
  },
  {
   "cell_type": "markdown",
   "metadata": {},
   "source": [
    "# Latent marginal of model"
   ]
  },
  {
   "cell_type": "code",
   "execution_count": 25,
   "metadata": {},
   "outputs": [],
   "source": [
    "all_hiddens = true_data_dist.get_all_binary_vectors(m)\n",
    "model_hidden_probs, model_norm_const = model.normalised_and_marginalised_over_u(all_hiddens)"
   ]
  },
  {
   "cell_type": "code",
   "execution_count": 26,
   "metadata": {},
   "outputs": [
    {
     "name": "stdout",
     "output_type": "stream",
     "text": [
      "Sum over all hidden probabilities should equal 1. We got: 1.0\n"
     ]
    }
   ],
   "source": [
    "print('Sum over all hidden probabilities should equal 1. We got: {}'.format(sum(model_hidden_probs)))"
   ]
  },
  {
   "cell_type": "code",
   "execution_count": 27,
   "metadata": {},
   "outputs": [
    {
     "name": "stdout",
     "output_type": "stream",
     "text": [
      "-------------------------Hidden probability checks--------------------------------------\n",
      "[0 0 0 0]:  Data frequency is 0.05769053. Model frequency is 0.0979423881234491\n",
      "[0 0 0 1]:  Data frequency is 0.0678314. Model frequency is 0.10110157288679746\n",
      "[0 0 1 0]:  Data frequency is 0.07871614. Model frequency is 0.08397590282422811\n",
      "[0 0 1 1]:  Data frequency is 0.09800198. Model frequency is 0.0849609865407377\n",
      "[0 1 0 0]:  Data frequency is 0.03885326. Model frequency is 0.06068137846282424\n",
      "[0 1 0 1]:  Data frequency is 0.04946379. Model frequency is 0.06164656607285757\n",
      "[0 1 1 0]:  Data frequency is 0.05284396. Model frequency is 0.05837019851730664\n",
      "[0 1 1 1]:  Data frequency is 0.07101883. Model frequency is 0.057973788756851545\n",
      "[1 0 0 0]:  Data frequency is 0.05093324. Model frequency is 0.06507666318771262\n",
      "[1 0 0 1]:  Data frequency is 0.06142073. Model frequency is 0.06923977291628959\n",
      "[1 0 1 0]:  Data frequency is 0.07162391. Model frequency is 0.0533479658994322\n",
      "[1 0 1 1]:  Data frequency is 0.09138474. Model frequency is 0.055772427604388476\n",
      "[1 1 0 0]:  Data frequency is 0.03732865. Model frequency is 0.038366993141517584\n",
      "[1 1 0 1]:  Data frequency is 0.0484255. Model frequency is 0.04015681090208412\n",
      "[1 1 1 0]:  Data frequency is 0.05253454. Model frequency is 0.035231744183907496\n",
      "[1 1 1 1]:  Data frequency is 0.0719288. Model frequency is 0.036154839979615494\n"
     ]
    }
   ],
   "source": [
    "print('-------------------------Hidden probability checks--------------------------------------')\n",
    "for i in range(2**m):\n",
    "    freq = np.mean(np.product((Z_from_posterior_class == all_hiddens[i]), axis=(-1)))\n",
    "    print('{}:  Data frequency is {}. Model frequency is {}'.format(all_hiddens[i], \n",
    "                                                                    freq, model_hidden_probs[i]))"
   ]
  },
  {
   "cell_type": "code",
   "execution_count": 28,
   "metadata": {},
   "outputs": [
    {
     "name": "stdout",
     "output_type": "stream",
     "text": [
      "normalisation constant is: 1.000929848827301\n"
     ]
    }
   ],
   "source": [
    "print('normalisation constant is: {}'.format(model_norm_const))"
   ]
  },
  {
   "cell_type": "markdown",
   "metadata": {},
   "source": [
    "# Average log probabilities"
   ]
  },
  {
   "cell_type": "markdown",
   "metadata": {},
   "source": [
    "$ \\mathbb{E}_{x, z \\sim P_{data}} \\log(P_{model}(x, z)) \\ \\ \\ \\ \\text{and} \\ \\ \\ \\ \\mathbb{E}_{x, z \\sim P_{model}} \\log(P_{model}(x, z))$"
   ]
  },
  {
   "cell_type": "code",
   "execution_count": 29,
   "metadata": {
    "scrolled": true
   },
   "outputs": [
    {
     "name": "stdout",
     "output_type": "stream",
     "text": [
      "average log probability of P_model on true data: -9.519125335821938 \n",
      "average log probability of P_model on model data: -9.262429859426332\n"
     ]
    }
   ],
   "source": [
    "model_X, model_Z = model.sample(n, num_iter=1000)\n",
    "print('average log probability of P_model on true data: {} \\n'\n",
    "'average log probability of P_model on model data: {}'.format(\n",
    "      np.mean(np.log(model(X, Z.reshape(1, n, -1)))), \n",
    "      np.mean(np.log(model(model_X, model_Z.reshape(1, n, -1))))))"
   ]
  },
  {
   "cell_type": "markdown",
   "metadata": {},
   "source": [
    "$ \\mathbb{E}_{x, z \\sim P_{data}} \\log(P_{data}(x, z)) \\ \\ \\ \\ \\text{and} \\ \\ \\ \\ \\mathbb{E}_{x, z \\sim P_{model}} \\log(P_{data}(x, z))$"
   ]
  },
  {
   "cell_type": "code",
   "execution_count": 30,
   "metadata": {},
   "outputs": [
    {
     "name": "stdout",
     "output_type": "stream",
     "text": [
      "average log probability of P_data on true data: -9.274480877674872 \n",
      "average log probability of P_data on model data: -9.505078398566454\n"
     ]
    }
   ],
   "source": [
    "print('average log probability of P_data on true data: {} \\n'\n",
    "'average log probability of P_data on model data: {}'.format(\n",
    "      np.mean(np.log(true_data_dist(X, Z.reshape(1, n, -1))/norm_const)), \n",
    "      np.mean(np.log(true_data_dist(model_X, model_Z.reshape(1, n, -1))/norm_const))))"
   ]
  },
  {
   "cell_type": "markdown",
   "metadata": {},
   "source": [
    "$ \\mathbb{E}_{x \\sim P_{data}} \\log(P_{model}(x)) \\ \\ \\ \\ \\text{and} \\ \\ \\ \\ \\mathbb{E}_{x \\sim P_{model}} \\log(P_{model}(x))$"
   ]
  },
  {
   "cell_type": "code",
   "execution_count": 31,
   "metadata": {},
   "outputs": [
    {
     "name": "stdout",
     "output_type": "stream",
     "text": [
      "average log probability of P_model x-marginal on true data: -6.641842405239333 \n",
      "average log probability of P_model x-marginal on model data: -6.633070520591581\n"
     ]
    }
   ],
   "source": [
    "model_probs_of_true_data, norm_const = model.normalised_and_marginalised_over_z(X)\n",
    "model_probs_of_model_data, _ = model.normalised_and_marginalised_over_z(model_X)\n",
    "print('average log probability of P_model x-marginal on true data: {} \\n'\n",
    "'average log probability of P_model x-marginal on model data: {}'.format(\n",
    "      np.mean(np.log(model_probs_of_true_data)), \n",
    "      np.mean(np.log(model_probs_of_model_data))))"
   ]
  },
  {
   "cell_type": "markdown",
   "metadata": {},
   "source": [
    "$ \\mathbb{E}_{x \\sim P_{data}} \\log(P_{data}(x)) \\ \\ \\ \\ \\text{and} \\ \\ \\ \\ \\mathbb{E}_{x \\sim P_{model}} \\log(P_{data}(x))$"
   ]
  },
  {
   "cell_type": "code",
   "execution_count": 32,
   "metadata": {},
   "outputs": [
    {
     "name": "stdout",
     "output_type": "stream",
     "text": [
      "average log probability of P_data x-marginal on true data: -6.641035264120727 \n",
      "average log probability of P_data x-marginal on model data: -6.633995112287161\n"
     ]
    }
   ],
   "source": [
    "true_dist_probs_of_true_data, norm_const = true_data_dist.normalised_and_marginalised_over_z(X)\n",
    "true_dist_probs_of_model_data, _ = true_data_dist.normalised_and_marginalised_over_z(model_X)\n",
    "print('average log probability of P_data x-marginal on true data: {} \\n'\n",
    "'average log probability of P_data x-marginal on model data: {}'.format(\n",
    "      np.mean(np.log(true_dist_probs_of_true_data)), \n",
    "      np.mean(np.log(true_dist_probs_of_model_data))))"
   ]
  },
  {
   "cell_type": "code",
   "execution_count": null,
   "metadata": {},
   "outputs": [],
   "source": []
  }
 ],
 "metadata": {
  "kernelspec": {
   "display_name": "Python 3",
   "language": "python",
   "name": "python3"
  },
  "language_info": {
   "codemirror_mode": {
    "name": "ipython",
    "version": 3
   },
   "file_extension": ".py",
   "mimetype": "text/x-python",
   "name": "python",
   "nbconvert_exporter": "python",
   "pygments_lexer": "ipython3",
   "version": "3.6.4"
  }
 },
 "nbformat": 4,
 "nbformat_minor": 2
}
