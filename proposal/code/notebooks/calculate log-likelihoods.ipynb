{
 "cells": [
  {
   "cell_type": "code",
   "execution_count": 16,
   "metadata": {},
   "outputs": [],
   "source": [
    "import os\n",
    "import sys\n",
    "code_dir = os.path.split(os.getcwd())[0]\n",
    "if code_dir not in sys.path:\n",
    "    sys.path.append(code_dir)"
   ]
  },
  {
   "cell_type": "code",
   "execution_count": 17,
   "metadata": {},
   "outputs": [],
   "source": [
    "import numpy as np\n",
    "import pickle\n",
    "\n",
    "# my code\n",
    "from contrastive_divergence_optimiser import CDOptimiser\n",
    "from distribution import RBMLatentPosterior, MultivariateBernoulliNoise, ChowLiuTree\n",
    "from latent_nce_optimiser import LatentNCEOptimiser\n",
    "from latent_variable_model import RestrictedBoltzmannMachine\n",
    "from utils import plot_log_likelihood_training_curves, average_log_likelihood\n",
    "\n",
    "from copy import deepcopy\n",
    "from itertools import product\n",
    "from matplotlib import pyplot as plt\n",
    "from matplotlib import rc\n",
    "from numpy import random as rnd\n",
    "from pandas import DataFrame\n",
    "from pomegranate import BayesianNetwork\n",
    "\n",
    "%matplotlib inline\n",
    "rc('lines', linewidth=1)\n",
    "rc('font', size=18)\n",
    "rc('legend', fontsize=16)\n",
    "rc('text', usetex=True)\n",
    "\n",
    "# For reproducibility\n",
    "rng = rnd.RandomState(1083463236)"
   ]
  },
  {
   "cell_type": "code",
   "execution_count": 18,
   "metadata": {},
   "outputs": [],
   "source": [
    "exp_name = 'partial-m-step-with-cg-nz=10'  # CHANGE ME\n",
    "\n",
    "exp_res_dir = '/afs/inf.ed.ac.uk/user/s17/s1771906/masters-project/ben-rhodes-masters-project/experimental-results/'\n",
    "save_res_dir = '/afs/inf.ed.ac.uk/user/s17/s1771906/masters-project/ben-rhodes-masters-project/proposal/experiments/'\n",
    "exp_dir = os.path.join(exp_res_dir, exp_name)\n",
    "save_dir = os.path.join(save_res_dir, exp_name)"
   ]
  },
  {
   "cell_type": "markdown",
   "metadata": {},
   "source": [
    "## calculate log-likes"
   ]
  },
  {
   "cell_type": "code",
   "execution_count": 19,
   "metadata": {},
   "outputs": [
    {
     "ename": "FileNotFoundError",
     "evalue": "[Errno 2] No such file or directory: '/afs/inf.ed.ac.uk/user/s17/s1771906/masters-project/ben-rhodes-masters-project/experimental-results/partial-m-step-with-cg-nz=10/1/lnce_optimiser.p'",
     "output_type": "error",
     "traceback": [
      "\u001b[0;31m---------------------------------------------------------------------------\u001b[0m",
      "\u001b[0;31mFileNotFoundError\u001b[0m                         Traceback (most recent call last)",
      "\u001b[0;32m<ipython-input-19-941f91a5c9a0>\u001b[0m in \u001b[0;36m<module>\u001b[0;34m()\u001b[0m\n\u001b[1;32m      2\u001b[0m     \u001b[0mexp\u001b[0m \u001b[0;34m=\u001b[0m \u001b[0mos\u001b[0m\u001b[0;34m.\u001b[0m\u001b[0mpath\u001b[0m\u001b[0;34m.\u001b[0m\u001b[0mjoin\u001b[0m\u001b[0;34m(\u001b[0m\u001b[0mexp_dir\u001b[0m\u001b[0;34m,\u001b[0m \u001b[0mfile\u001b[0m\u001b[0;34m)\u001b[0m\u001b[0;34m\u001b[0m\u001b[0m\n\u001b[1;32m      3\u001b[0m \u001b[0;34m\u001b[0m\u001b[0m\n\u001b[0;32m----> 4\u001b[0;31m     \u001b[0moptimiser\u001b[0m \u001b[0;34m=\u001b[0m \u001b[0mpickle\u001b[0m\u001b[0;34m.\u001b[0m\u001b[0mload\u001b[0m\u001b[0;34m(\u001b[0m\u001b[0mopen\u001b[0m\u001b[0;34m(\u001b[0m\u001b[0mos\u001b[0m\u001b[0;34m.\u001b[0m\u001b[0mpath\u001b[0m\u001b[0;34m.\u001b[0m\u001b[0mjoin\u001b[0m\u001b[0;34m(\u001b[0m\u001b[0mexp\u001b[0m\u001b[0;34m,\u001b[0m \u001b[0;34m'lnce_optimiser.p'\u001b[0m\u001b[0;34m)\u001b[0m\u001b[0;34m,\u001b[0m \u001b[0;34m'rb'\u001b[0m\u001b[0;34m)\u001b[0m\u001b[0;34m)\u001b[0m\u001b[0;34m\u001b[0m\u001b[0m\n\u001b[0m\u001b[1;32m      5\u001b[0m     \u001b[0mcd_optimiser\u001b[0m \u001b[0;34m=\u001b[0m \u001b[0mpickle\u001b[0m\u001b[0;34m.\u001b[0m\u001b[0mload\u001b[0m\u001b[0;34m(\u001b[0m\u001b[0mopen\u001b[0m\u001b[0;34m(\u001b[0m\u001b[0mos\u001b[0m\u001b[0;34m.\u001b[0m\u001b[0mpath\u001b[0m\u001b[0;34m.\u001b[0m\u001b[0mjoin\u001b[0m\u001b[0;34m(\u001b[0m\u001b[0mexp\u001b[0m\u001b[0;34m,\u001b[0m \u001b[0;34m'cd_optimiser.p'\u001b[0m\u001b[0;34m)\u001b[0m\u001b[0;34m,\u001b[0m \u001b[0;34m'rb'\u001b[0m\u001b[0;34m)\u001b[0m\u001b[0;34m)\u001b[0m\u001b[0;34m\u001b[0m\u001b[0m\n\u001b[1;32m      6\u001b[0m     \u001b[0mnce_optimiser\u001b[0m \u001b[0;34m=\u001b[0m \u001b[0mpickle\u001b[0m\u001b[0;34m.\u001b[0m\u001b[0mload\u001b[0m\u001b[0;34m(\u001b[0m\u001b[0mopen\u001b[0m\u001b[0;34m(\u001b[0m\u001b[0mos\u001b[0m\u001b[0;34m.\u001b[0m\u001b[0mpath\u001b[0m\u001b[0;34m.\u001b[0m\u001b[0mjoin\u001b[0m\u001b[0;34m(\u001b[0m\u001b[0mexp\u001b[0m\u001b[0;34m,\u001b[0m \u001b[0;34m'nce_optimiser.p'\u001b[0m\u001b[0;34m)\u001b[0m\u001b[0;34m,\u001b[0m \u001b[0;34m'rb'\u001b[0m\u001b[0;34m)\u001b[0m\u001b[0;34m)\u001b[0m\u001b[0;34m\u001b[0m\u001b[0m\n",
      "\u001b[0;31mFileNotFoundError\u001b[0m: [Errno 2] No such file or directory: '/afs/inf.ed.ac.uk/user/s17/s1771906/masters-project/ben-rhodes-masters-project/experimental-results/partial-m-step-with-cg-nz=10/1/lnce_optimiser.p'"
     ]
    }
   ],
   "source": [
    "for i, file in enumerate(os.listdir(exp_dir)):\n",
    "    exp = os.path.join(exp_dir, file)\n",
    "    \n",
    "    optimiser = pickle.load(open(os.path.join(exp, 'lnce_optimiser.p'), 'rb'))\n",
    "    cd_optimiser = pickle.load(open(os.path.join(exp, 'cd_optimiser.p'), 'rb'))\n",
    "    nce_optimiser = pickle.load(open(os.path.join(exp, 'nce_optimiser.p'), 'rb'))\n",
    "    \n",
    "    loaded_data = np.load(os.path.join(exp, 'data.npz'))\n",
    "    loaded_truth = np.load(os.path.join(exp, 'true_weights_and_likelihood.npz'))\n",
    "    loaded_init = np.load(os.path.join(exp, 'init_theta_and_likelihood.npz'))\n",
    "    loaded_lnce = np.load(os.path.join(exp, 'lnce_results.npz'))\n",
    "    loaded_cd = np.load(os.path.join(exp, 'cd_results.npz'))\n",
    "    loaded_nce = np.load(os.path.join(exp, 'nce_results.npz'))\n",
    "    loaded_true = np.load(os.path.join(exp, 'true_weights_and_likelihood.npz'))\n",
    "    \n",
    "    X = loaded_data['X']\n",
    "    Y = loaded_data['Y']\n",
    "\n",
    "    true_theta = loaded_truth['true_theta']\n",
    "    true_log_like = loaded_truth['ll']\n",
    "    \n",
    "    theta0 = loaded_init['theta0']\n",
    "    init_log_like = loaded_init['ll']\n",
    "    \n",
    "    lnce_thetas = loaded_lnce['params']\n",
    "    J1s = loaded_lnce['J1s']\n",
    "    lnce_times = loaded_lnce['times']\n",
    "    av_log_like_lnce = loaded_lnce['ll']\n",
    "    \n",
    "    cd_thetas = loaded_cd['params']\n",
    "    cd_times = loaded_cd['times']\n",
    "    av_log_like_cd = loaded_cd['ll']\n",
    "    \n",
    "    nce_thetas = loaded_nce['params']\n",
    "    Js = loaded_nce['Js']\n",
    "    nce_times = loaded_nce['times']\n",
    "    av_log_like_nce = loaded_nce['ll']\n",
    "    Js_for_lnce_thetas = loaded_nce['Js_for_lnce_thetas']\n",
    "\n",
    "    ####### COMPUTE LOG-LIKELIHOODS ###########\n",
    "    lnce_time_ids = np.array(sorted(list(set(np.exp(np.linspace(0, np.log(len(optimiser.times)))).astype(int)))))\n",
    "    optimiser.times = optimiser.times[lnce_time_ids]\n",
    "    optimiser.thetas = optimiser.thetas[lnce_time_ids]\n",
    "    optimiser.J1s = optimiser.J1s[lnce_time_ids]\n",
    "    av_log_like_lnce = optimiser.av_log_like_for_each_iter(X)\n",
    "    \n",
    "    # av_log_like_cd = cd_optimiser.av_log_like_for_each_iter(X)\n",
    "    \n",
    "    nce_time_ids = np.array(sorted(list(set(np.exp(np.linspace(0, np.log(len(nce_optimiser.times)))).astype(int)))))\n",
    "    nce_optimiser.times = nce_optimiser.times[nce_time_ids]\n",
    "    nce_optimiser.thetas = nce_optimiser.thetas[nce_time_ids]\n",
    "    nce_optimiser.Js = nce_optimiser.Js[nce_time_ids]\n",
    "    av_log_like_nce = nce_optimiser.av_log_like_for_each_iter(X)\n",
    "\n",
    "    true_log_like = average_log_likelihood(true_data_dist, X)\n",
    "    init_log_like = average_log_likelihood(init_model, X)\n",
    "    \n",
    "    X_mean = np.mean(X, axis=0)\n",
    "    noise_dist = MultivariateBernoulliNoise(X_mean)\n",
    "    noise_log_like = np.mean(np.log(noise_dist(X)))\n",
    "    \n",
    "    np.savez(os.path.join(exp, \"data\"), X=X, Y=optimiser.Y)\n",
    "    np.savez(os.path.join(exp, \"true_weights_and_likelihood\"), true_theta=true_theta, ll=true_log_like)\n",
    "    np.savez(os.path.join(exp, \"init_theta_and_likelihood\"), theta0=theta0, ll=init_log_like)\n",
    "    np.savez(os.path.join(exp, \"lnce_results\"), params=optimiser.thetas, J1s=optimiser.J1s,\n",
    "             times=optimiser.times, ll=av_log_like_lnce)\n",
    "    np.savez(os.path.join(exp, \"cd_results\"), params=cd_optimiser.thetas, times=cd_optimiser.times, ll=av_log_like_cd)\n",
    "    np.savez(os.path.join(exp, \"nce_results\"), params=nce_optimiser.thetas, times=nce_optimiser.times,\n",
    "             Js=nce_optimiser.Js, Js_for_lnce_thetas=Js_for_lnce_thetas, ll=av_log_like_nce)"
   ]
  },
  {
   "cell_type": "code",
   "execution_count": null,
   "metadata": {},
   "outputs": [],
   "source": []
  },
  {
   "cell_type": "code",
   "execution_count": null,
   "metadata": {},
   "outputs": [],
   "source": []
  },
  {
   "cell_type": "code",
   "execution_count": null,
   "metadata": {},
   "outputs": [],
   "source": []
  },
  {
   "cell_type": "code",
   "execution_count": null,
   "metadata": {},
   "outputs": [],
   "source": []
  },
  {
   "cell_type": "code",
   "execution_count": null,
   "metadata": {},
   "outputs": [],
   "source": []
  },
  {
   "cell_type": "code",
   "execution_count": null,
   "metadata": {},
   "outputs": [],
   "source": []
  }
 ],
 "metadata": {
  "kernelspec": {
   "display_name": "Python 3",
   "language": "python",
   "name": "python3"
  },
  "language_info": {
   "codemirror_mode": {
    "name": "ipython",
    "version": 3
   },
   "file_extension": ".py",
   "mimetype": "text/x-python",
   "name": "python",
   "nbconvert_exporter": "python",
   "pygments_lexer": "ipython3",
   "version": "3.6.4"
  }
 },
 "nbformat": 4,
 "nbformat_minor": 2
}
