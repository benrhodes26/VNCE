{
 "cells": [
  {
   "cell_type": "code",
   "execution_count": 1,
   "metadata": {
    "collapsed": true
   },
   "outputs": [],
   "source": [
    "import os\n",
    "import sys\n",
    "code_dir = '/afs/inf.ed.ac.uk/user/s17/s1771906/masters-project/ben-rhodes-masters-project/proposal/code'\n",
    "code_dir_2 = '/home/ben/ben-rhodes-masters-project/proposal/code'\n",
    "code_dir_3 = '/afs/inf.ed.ac.uk/user/s17/s1771906/masters-project/ben-rhodes-masters-project/proposal/code/neural_network'\n",
    "code_dir_4 = '/home/ben/ben-rhodes-masters-project/proposal/code/neural_network'\n",
    "code_dirs = [code_dir, code_dir_2, code_dir_3, code_dir_4]\n",
    "for code_dir in code_dirs:\n",
    "    if code_dir not in sys.path:\n",
    "        sys.path.append(code_dir)"
   ]
  },
  {
   "cell_type": "code",
   "execution_count": 2,
   "metadata": {
    "collapsed": true
   },
   "outputs": [],
   "source": [
    "import numpy as np\n",
    "import pickle\n",
    "\n",
    "# my code\n",
    "from distribution import MissingDataProductOfTruncNormsPosterior, MissingDataProductOfTruncNormNoise\n",
    "from fully_observed_models import MixtureOfTwoGaussians\n",
    "from latent_variable_model import MissingDataUnnormalisedTruncNorm\n",
    "from nce_optimiser import NCEOptimiser\n",
    "from plot import *\n",
    "from utils import *\n",
    "from vnce_optimiser import VemOptimiser, SgdEmStep, MonteCarloVnceLoss\n",
    "\n",
    "from copy import deepcopy\n",
    "from matplotlib import pyplot as plt\n",
    "from matplotlib import rc\n",
    "from numpy import random as rnd\n",
    "from scipy.optimize import newton_krylov\n",
    "from scipy.stats import norm, multivariate_normal\n",
    "from sklearn.neighbors import KernelDensity as kd\n",
    "\n",
    "%matplotlib inline\n",
    "rc('lines', linewidth=1)\n",
    "rc('font', size=10)\n",
    "rc('legend', fontsize=10)"
   ]
  },
  {
   "cell_type": "code",
   "execution_count": 3,
   "metadata": {
    "collapsed": true
   },
   "outputs": [],
   "source": [
    "# load_path = '/home/ben/ben-rhodes-masters-project/experimental_results/trunc_norm/test/test/'\n",
    "load_path = '/disk/scratch/ben-rhodes-masters-project/experimental-results/trunc_norm/test/d=2-frac=0.1/'"
   ]
  },
  {
   "cell_type": "code",
   "execution_count": 4,
   "metadata": {},
   "outputs": [
    {
     "ename": "FileNotFoundError",
     "evalue": "[Errno 2] No such file or directory: '/disk/scratch/ben-rhodes-masters-project/experimental-results/trunc_norm/test/d=2-frac=0.1/data_dist.p'",
     "output_type": "error",
     "traceback": [
      "\u001b[0;31m---------------------------------------------------------------------------\u001b[0m",
      "\u001b[0;31mFileNotFoundError\u001b[0m                         Traceback (most recent call last)",
      "\u001b[0;32m<ipython-input-4-e92fdc5079e0>\u001b[0m in \u001b[0;36m<module>\u001b[0;34m()\u001b[0m\n\u001b[0;32m----> 1\u001b[0;31m \u001b[0mdata_dist\u001b[0m \u001b[0;34m=\u001b[0m \u001b[0mpickle\u001b[0m\u001b[0;34m.\u001b[0m\u001b[0mload\u001b[0m\u001b[0;34m(\u001b[0m\u001b[0mopen\u001b[0m\u001b[0;34m(\u001b[0m\u001b[0mos\u001b[0m\u001b[0;34m.\u001b[0m\u001b[0mpath\u001b[0m\u001b[0;34m.\u001b[0m\u001b[0mjoin\u001b[0m\u001b[0;34m(\u001b[0m\u001b[0mload_path\u001b[0m\u001b[0;34m,\u001b[0m \u001b[0;34m'data_dist.p'\u001b[0m\u001b[0;34m)\u001b[0m\u001b[0;34m,\u001b[0m \u001b[0;34m'rb'\u001b[0m\u001b[0;34m)\u001b[0m\u001b[0;34m)\u001b[0m\u001b[0;34m\u001b[0m\u001b[0m\n\u001b[0m",
      "\u001b[0;31mFileNotFoundError\u001b[0m: [Errno 2] No such file or directory: '/disk/scratch/ben-rhodes-masters-project/experimental-results/trunc_norm/test/d=2-frac=0.1/data_dist.p'"
     ]
    }
   ],
   "source": [
    "data_dist = pickle.load(open(os.path.join(load_path, 'data_dist.p'), 'rb'))"
   ]
  },
  {
   "cell_type": "code",
   "execution_count": null,
   "metadata": {
    "collapsed": true,
    "scrolled": true
   },
   "outputs": [],
   "source": [
    "vnce_model = pickle.load(open(os.path.join(load_path, 'vnce_model.p'), 'rb'))"
   ]
  },
  {
   "cell_type": "code",
   "execution_count": null,
   "metadata": {
    "collapsed": true
   },
   "outputs": [],
   "source": [
    "nce_model = pickle.load(open(os.path.join(load_path, 'nce_model.p'), 'rb'))"
   ]
  },
  {
   "cell_type": "code",
   "execution_count": null,
   "metadata": {
    "collapsed": true,
    "scrolled": true
   },
   "outputs": [],
   "source": [
    "var_dist = pickle.load(open(os.path.join(load_path, 'var_dist.p'), 'rb'))"
   ]
  },
  {
   "cell_type": "code",
   "execution_count": null,
   "metadata": {
    "collapsed": true
   },
   "outputs": [],
   "source": [
    "noise = pickle.load(open(os.path.join(load_path, 'noise.p'), 'rb'))"
   ]
  },
  {
   "cell_type": "code",
   "execution_count": null,
   "metadata": {
    "collapsed": true
   },
   "outputs": [],
   "source": [
    "globals().update(np.load(os.path.join(load_path, 'data.npz')))\n",
    "globals().update(np.load(os.path.join(load_path, 'theta0_and_theta_true.npz')))"
   ]
  },
  {
   "cell_type": "code",
   "execution_count": null,
   "metadata": {
    "collapsed": true
   },
   "outputs": [],
   "source": [
    "# contour plot of q(z|x)p_y(x) next to cplot of model \n",
    "# do this for two cases: z is first dimension, and z is second dimension\n",
    "def get_visible_and_latents(U, latent_dim=1):\n",
    "    visible_dim = int(~latent_dim)\n",
    "    x = np.zeros_like(U)\n",
    "    z = np.zeros((1, ) + U.shape)\n",
    "    \n",
    "    x[:, visible_dim] = U[:, visible_dim]\n",
    "    z[0, :, latent_dim] = U[:, latent_dim]\n",
    "    return x, z\n",
    "\n",
    "def joint_noise(U):\n",
    "    x, z = get_visible_and_latents(U)\n",
    "    return var_dist(z, x) * noise(x)\n",
    "\n",
    "def joint_noise_rev(U):\n",
    "    x, z = get_visible_and_latents(U, latent_dim=0)\n",
    "    return var_dist(z, x) * noise(x)\n",
    "\n",
    "def eval_vnce_model(U):\n",
    "    x, z = get_visible_and_latents(U)\n",
    "    return vnce_model(x, z)\n",
    "\n",
    "def eval_data_dist(U):\n",
    "    x, z = get_visible_and_latents(U)\n",
    "    return data_dist(x, z)\n",
    "    \n",
    "def eval_nce_model(U):\n",
    "    return nce_model(U)"
   ]
  },
  {
   "cell_type": "code",
   "execution_count": null,
   "metadata": {
    "scrolled": true
   },
   "outputs": [],
   "source": [
    "fig, axs = plt.subplots(1, 5, figsize=(25, 5))\n",
    "axs = axs.ravel()\n",
    "x_low, x_high, y_low, y_high= -2, 10, -2, 10\n",
    "plot_2d_density(axs[0], joint_noise, plt.cm.YlOrRd_r, low_x_lim=x_low, up_x_lim=x_high, low_y_lim=y_low, up_y_lim=y_high)\n",
    "plot_2d_density(axs[1], joint_noise_rev, plt.cm.YlOrRd_r, low_x_lim=x_low, up_x_lim=x_high, low_y_lim=y_low, up_y_lim=y_high)\n",
    "plot_2d_density(axs[2], eval_vnce_model, plt.cm.YlOrRd_r, low_x_lim=x_low, up_x_lim=x_high, low_y_lim=y_low, up_y_lim=y_high)\n",
    "plot_2d_density(axs[3], nce_model, plt.cm.YlGn_r, low_x_lim=x_low, up_x_lim=x_high, low_y_lim=y_low, up_y_lim=y_high)\n",
    "plot_2d_density(axs[4], eval_data_dist, plt.cm.GnBu_r, low_x_lim=x_low, up_x_lim=x_high, low_y_lim=y_low, up_y_lim=y_high)"
   ]
  },
  {
   "cell_type": "code",
   "execution_count": null,
   "metadata": {
    "scrolled": true
   },
   "outputs": [],
   "source": [
    "noise.alpha"
   ]
  },
  {
   "cell_type": "code",
   "execution_count": null,
   "metadata": {
    "scrolled": false
   },
   "outputs": [],
   "source": [
    "var_dist.nn.params"
   ]
  },
  {
   "cell_type": "code",
   "execution_count": null,
   "metadata": {},
   "outputs": [],
   "source": [
    "vnce_model.theta"
   ]
  },
  {
   "cell_type": "code",
   "execution_count": null,
   "metadata": {},
   "outputs": [],
   "source": [
    "nce_model.theta"
   ]
  },
  {
   "cell_type": "code",
   "execution_count": null,
   "metadata": {
    "collapsed": true
   },
   "outputs": [],
   "source": [
    "# old -  0.76872111\n",
    "# noise.alpha[-2] = 0.7687211"
   ]
  },
  {
   "cell_type": "code",
   "execution_count": 11,
   "metadata": {
    "collapsed": true
   },
   "outputs": [],
   "source": [
    "a = np.diag(np.ones(5))\n",
    "b = np.diag(np.ones(4), 1) * 0.4\n",
    "c = np.diag(np.ones(4), -1) * 0.4"
   ]
  },
  {
   "cell_type": "code",
   "execution_count": 12,
   "metadata": {},
   "outputs": [
    {
     "data": {
      "text/plain": [
       "array([[ 1. ,  0.4,  0. ,  0. ,  0.4],\n",
       "       [ 0.4,  1. ,  0.4,  0. ,  0. ],\n",
       "       [ 0. ,  0.4,  1. ,  0.4,  0. ],\n",
       "       [ 0. ,  0. ,  0.4,  1. ,  0.4],\n",
       "       [ 0.4,  0. ,  0. ,  0.4,  1. ]])"
      ]
     },
     "execution_count": 12,
     "metadata": {},
     "output_type": "execute_result"
    }
   ],
   "source": [
    "d = a + b + c\n",
    "d[0, -1] = 0.4\n",
    "d[-1, 0] = 0.4\n",
    "d"
   ]
  },
  {
   "cell_type": "code",
   "execution_count": 14,
   "metadata": {},
   "outputs": [],
   "source": [
    "L = np.linalg.cholesky(d)"
   ]
  },
  {
   "cell_type": "code",
   "execution_count": 16,
   "metadata": {},
   "outputs": [
    {
     "data": {
      "text/plain": [
       "array([[ 1. ,  0.4,  0. ,  0. ,  0.4],\n",
       "       [ 0.4,  1. ,  0.4,  0. ,  0. ],\n",
       "       [ 0. ,  0.4,  1. ,  0.4,  0. ],\n",
       "       [ 0. ,  0. ,  0.4,  1. ,  0.4],\n",
       "       [ 0.4,  0. ,  0. ,  0.4,  1. ]])"
      ]
     },
     "execution_count": 16,
     "metadata": {},
     "output_type": "execute_result"
    }
   ],
   "source": [
    "np.dot(L, L.T)"
   ]
  },
  {
   "cell_type": "code",
   "execution_count": 17,
   "metadata": {},
   "outputs": [
    {
     "data": {
      "text/plain": [
       "array([[ 1.56565657, -0.70707071,  0.2020202 ,  0.2020202 , -0.70707071],\n",
       "       [-0.70707071,  1.56565657, -0.70707071,  0.2020202 ,  0.2020202 ],\n",
       "       [ 0.2020202 , -0.70707071,  1.56565657, -0.70707071,  0.2020202 ],\n",
       "       [ 0.2020202 ,  0.2020202 , -0.70707071,  1.56565657, -0.70707071],\n",
       "       [-0.70707071,  0.2020202 ,  0.2020202 , -0.70707071,  1.56565657]])"
      ]
     },
     "execution_count": 17,
     "metadata": {},
     "output_type": "execute_result"
    }
   ],
   "source": [
    "np.linalg.inv(d)"
   ]
  },
  {
   "cell_type": "code",
   "execution_count": null,
   "metadata": {
    "collapsed": true
   },
   "outputs": [],
   "source": []
  }
 ],
 "metadata": {
  "kernelspec": {
   "display_name": "Python 3",
   "language": "python",
   "name": "python3"
  },
  "language_info": {
   "codemirror_mode": {
    "name": "ipython",
    "version": 3
   },
   "file_extension": ".py",
   "mimetype": "text/x-python",
   "name": "python",
   "nbconvert_exporter": "python",
   "pygments_lexer": "ipython3",
   "version": "3.6.3"
  }
 },
 "nbformat": 4,
 "nbformat_minor": 2
}
