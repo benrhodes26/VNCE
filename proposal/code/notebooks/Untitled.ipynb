{
 "cells": [
  {
   "cell_type": "code",
   "execution_count": 93,
   "metadata": {},
   "outputs": [],
   "source": [
    "import numpy as np\n",
    "from numpy import random as rnd"
   ]
  },
  {
   "cell_type": "code",
   "execution_count": 96,
   "metadata": {},
   "outputs": [],
   "source": [
    "a = np.arange(3*3*2).reshape(3, 3, 2)\n",
    "b = np.arange(3*3*2).reshape(3, 3, 2)"
   ]
  },
  {
   "cell_type": "code",
   "execution_count": 97,
   "metadata": {},
   "outputs": [
    {
     "data": {
      "text/plain": [
       "array([[[ 0,  1],\n",
       "        [ 2,  3],\n",
       "        [ 4,  5]],\n",
       "\n",
       "       [[ 6,  7],\n",
       "        [ 8,  9],\n",
       "        [10, 11]],\n",
       "\n",
       "       [[12, 13],\n",
       "        [14, 15],\n",
       "        [16, 17]]])"
      ]
     },
     "execution_count": 97,
     "metadata": {},
     "output_type": "execute_result"
    }
   ],
   "source": [
    "a"
   ]
  },
  {
   "cell_type": "code",
   "execution_count": 99,
   "metadata": {},
   "outputs": [],
   "source": [
    "V2 = np.einsum('hij,hik->hijk', a, b)  # outer product. (nz, k, k)"
   ]
  },
  {
   "cell_type": "code",
   "execution_count": 100,
   "metadata": {},
   "outputs": [
    {
     "data": {
      "text/plain": [
       "array([[[[  0,   0],\n",
       "         [  0,   1]],\n",
       "\n",
       "        [[  4,   6],\n",
       "         [  6,   9]],\n",
       "\n",
       "        [[ 16,  20],\n",
       "         [ 20,  25]]],\n",
       "\n",
       "\n",
       "       [[[ 36,  42],\n",
       "         [ 42,  49]],\n",
       "\n",
       "        [[ 64,  72],\n",
       "         [ 72,  81]],\n",
       "\n",
       "        [[100, 110],\n",
       "         [110, 121]]],\n",
       "\n",
       "\n",
       "       [[[144, 156],\n",
       "         [156, 169]],\n",
       "\n",
       "        [[196, 210],\n",
       "         [210, 225]],\n",
       "\n",
       "        [[256, 272],\n",
       "         [272, 289]]]])"
      ]
     },
     "execution_count": 100,
     "metadata": {},
     "output_type": "execute_result"
    }
   ],
   "source": [
    "V2"
   ]
  },
  {
   "cell_type": "code",
   "execution_count": null,
   "metadata": {},
   "outputs": [],
   "source": []
  }
 ],
 "metadata": {
  "kernelspec": {
   "display_name": "Python 2",
   "language": "python",
   "name": "python2"
  },
  "language_info": {
   "codemirror_mode": {
    "name": "ipython",
    "version": 2
   },
   "file_extension": ".py",
   "mimetype": "text/x-python",
   "name": "python",
   "nbconvert_exporter": "python",
   "pygments_lexer": "ipython2",
   "version": "2.7.5"
  }
 },
 "nbformat": 4,
 "nbformat_minor": 2
}
