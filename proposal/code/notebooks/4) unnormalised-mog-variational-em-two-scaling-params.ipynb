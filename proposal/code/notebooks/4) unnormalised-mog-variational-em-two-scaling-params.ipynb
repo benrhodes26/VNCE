{
 "cells": [
  {
   "cell_type": "code",
   "execution_count": 1,
   "metadata": {},
   "outputs": [],
   "source": [
    "import os\n",
    "import sys\n",
    "nb_dir = os.path.split(os.getcwd())[0]\n",
    "if nb_dir not in sys.path:\n",
    "    sys.path.append(nb_dir)"
   ]
  },
  {
   "cell_type": "code",
   "execution_count": 2,
   "metadata": {},
   "outputs": [],
   "source": [
    "import numpy as np\n",
    "import pdb\n",
    "\n",
    "# my code\n",
    "from distribution import PolynomialSigmoidBernoulli, GaussianNoise\n",
    "from gaussian_mixture_analytic_expectations import *\n",
    "from fully_observed_models import MixtureOfTwoGaussians, SumOfTwoUnnormalisedGaussians2\n",
    "from latent_variable_model import LatentMixtureOfTwoUnnormalisedGaussians2\n",
    "from nce_optimiser import NCEOptimiser\n",
    "from mle_optimiser import MLEOptimiser\n",
    "from utils import evaluate_loss_at_param\n",
    "from vnce_optimiser import VemOptimiser, ScipyMinimiseEmStep, ExactEStep, VnceLossWithAnalyticExpectations\n",
    "\n",
    "from matplotlib import pyplot as plt\n",
    "from matplotlib import rc\n",
    "from numpy import random as rnd\n",
    "\n",
    "%matplotlib inline\n",
    "rc('lines', linewidth=3)\n",
    "rc('font', size=18)\n",
    "rc('legend', fontsize=18)"
   ]
  },
  {
   "cell_type": "code",
   "execution_count": 3,
   "metadata": {},
   "outputs": [],
   "source": [
    "# For reproducibility\n",
    "rng = rnd.RandomState(1083463236)\n",
    "save_dir = '/afs/inf.ed.ac.uk/user/s17/s1771906/masters-project/ben-rhodes-masters-project/proposal/experiments/mog/unnormalised_variationalem'\n",
    "os.makedirs(save_dir, exist_ok=True)"
   ]
  },
  {
   "cell_type": "code",
   "execution_count": 4,
   "metadata": {},
   "outputs": [],
   "source": [
    "# mixing proportions: 0.5 and 0.5\n",
    "# mean0 = mean1 = 0\n",
    "sigma1 = 1\n",
    "sigma0 = 4  # (parameter of interest)\n",
    "\n",
    "n = 10000 # number of data points\n",
    "nz = 1  # number of latent samples per datapoint\n",
    "nu = 1 # nu is the ratio of noise to data samples in NCE\n",
    "c0 = np.log(2) + 0.5*np.log(2*np.pi) + np.log(sigma0)   # true value of 1st scaling parameter\n",
    "c1 = np.log(2) + 0.5*np.log(2*np.pi) + np.log(sigma1)   # true value of 2nd scaling parameter\n",
    "\n",
    "true_theta = np.array([c0, c1, np.log(sigma0)])\n",
    "true_alpha = np.array([c1 - c0, 0, (1 / (2*sigma1**2)) - (1 / (2*sigma0**2))])\n",
    "\n",
    "theta0 = np.array([0, 0.1, 1])  # initial theta\n",
    "# theta0 = true_theta\n",
    "alpha0 = np.array([0, -0.1, 0.1]) # initial alpha"
   ]
  },
  {
   "cell_type": "code",
   "execution_count": 5,
   "metadata": {},
   "outputs": [],
   "source": [
    "# true dist is 0.5*N(u; 0, sigma0) + 0.5*N(u; 0, sigma1)\n",
    "true_data_dist = MixtureOfTwoGaussians(theta=np.log(sigma0), sigma1=sigma1, rng=rng)\n",
    "X = true_data_dist.sample(n) # generate data"
   ]
  },
  {
   "cell_type": "code",
   "execution_count": 6,
   "metadata": {},
   "outputs": [],
   "source": [
    "noise = GaussianNoise(mean=0, cov=sigma0**2)\n",
    "Y = noise.sample(int(n*nu))"
   ]
  },
  {
   "cell_type": "code",
   "execution_count": 7,
   "metadata": {},
   "outputs": [],
   "source": [
    "model = LatentMixtureOfTwoUnnormalisedGaussians2(theta0, sigma1=sigma1)\n",
    "nce_model = SumOfTwoUnnormalisedGaussians2(theta0, sigma1=sigma1)  # for comparison\n",
    "# mle_model = SumOfTwoNormalisedGaussians(np.array([0]), sigma1 = sigma1)  # for comparison"
   ]
  },
  {
   "cell_type": "code",
   "execution_count": 8,
   "metadata": {},
   "outputs": [],
   "source": [
    "var_dist = PolynomialSigmoidBernoulli(alpha=alpha0)"
   ]
  },
  {
   "cell_type": "code",
   "execution_count": 9,
   "metadata": {},
   "outputs": [],
   "source": [
    "# E(r(x, z))\n",
    "E1 = E_r\n",
    "# E(log(psi_1(x, z)))\n",
    "E2 = E_log_psi_1\n",
    "# E((psi_1(x, z) - 1) / psi_1(x, z))\n",
    "E3 = E_psi_1_ratio_times_grad_log_theta\n",
    "# E(grad_theta(log(phi(u,z)) r(u, z))\n",
    "E4 = E_r_times_grad_log_theta\n",
    "# gradient_alpha(E(log(psi_1(x, z)))\n",
    "E5 = grad_wrt_alpha_of_E_log_psi_1"
   ]
  },
  {
   "cell_type": "code",
   "execution_count": 19,
   "metadata": {},
   "outputs": [],
   "source": [
    "nce_optimiser = NCEOptimiser(model=nce_model, noise=noise, noise_samples=Y, nu=nu, eps=10**-20)\n",
    "# mle_optimiser = MLEOptimiser(model=mle_model)"
   ]
  },
  {
   "cell_type": "code",
   "execution_count": 20,
   "metadata": {},
   "outputs": [],
   "source": [
    "loss_function = VnceLossWithAnalyticExpectations(model=model,\n",
    "                                                 data=X,\n",
    "                                                 noise=noise,\n",
    "                                                 noise_samples=Y,\n",
    "                                                 variational_noise=var_dist,\n",
    "                                                 E1=E1, \n",
    "                                                 E2=E2, \n",
    "                                                 E3=E3, \n",
    "                                                 E4=E4, \n",
    "                                                 E5=E5,\n",
    "                                                 noise_to_data_ratio=nu)\n",
    "m_step = ScipyMinimiseEmStep(do_m_step=True, optimisation_method='BFGS')  # Nelder-Mead\n",
    "e_step = ScipyMinimiseEmStep(do_m_step=False, optimisation_method='BFGS')\n",
    "optimiser = VemOptimiser(m_step=m_step, e_step=e_step)"
   ]
  },
  {
   "cell_type": "code",
   "execution_count": 21,
   "metadata": {
    "scrolled": false
   },
   "outputs": [
    {
     "name": "stdout",
     "output_type": "stream",
     "text": [
      "Warning: Desired error not necessarily achieved due to precision loss.\n",
      "         Current function value: 1.426608\n",
      "         Iterations: 12\n",
      "         Function evaluations: 76\n",
      "         Gradient evaluations: 64\n",
      "Optimization terminated successfully.\n",
      "         Current function value: 1.291137\n",
      "         Iterations: 15\n",
      "         Function evaluations: 17\n",
      "         Gradient evaluations: 17\n",
      "Optimization terminated successfully.\n",
      "         Current function value: 1.288876\n",
      "         Iterations: 8\n",
      "         Function evaluations: 9\n",
      "         Gradient evaluations: 9\n",
      "Optimization terminated successfully.\n",
      "         Current function value: 1.288346\n",
      "         Iterations: 11\n",
      "         Function evaluations: 12\n",
      "         Gradient evaluations: 12\n",
      "Optimization terminated successfully.\n",
      "         Current function value: 1.287919\n",
      "         Iterations: 8\n",
      "         Function evaluations: 9\n",
      "         Gradient evaluations: 9\n",
      "Optimization terminated successfully.\n",
      "         Current function value: 1.287576\n",
      "         Iterations: 11\n",
      "         Function evaluations: 12\n",
      "         Gradient evaluations: 12\n",
      "Optimization terminated successfully.\n",
      "         Current function value: 1.287304\n",
      "         Iterations: 8\n",
      "         Function evaluations: 9\n",
      "         Gradient evaluations: 9\n",
      "Optimization terminated successfully.\n",
      "         Current function value: 1.287089\n",
      "         Iterations: 9\n",
      "         Function evaluations: 10\n",
      "         Gradient evaluations: 10\n",
      "Optimization terminated successfully.\n",
      "         Current function value: 1.286921\n",
      "         Iterations: 8\n",
      "         Function evaluations: 9\n",
      "         Gradient evaluations: 9\n",
      "Optimization terminated successfully.\n",
      "         Current function value: 1.286791\n",
      "         Iterations: 8\n",
      "         Function evaluations: 9\n",
      "         Gradient evaluations: 9\n",
      "Optimization terminated successfully.\n",
      "         Current function value: 1.286689\n",
      "         Iterations: 8\n",
      "         Function evaluations: 9\n",
      "         Gradient evaluations: 9\n",
      "Optimization terminated successfully.\n",
      "         Current function value: 1.286612\n",
      "         Iterations: 8\n",
      "         Function evaluations: 9\n",
      "         Gradient evaluations: 9\n",
      "Optimization terminated successfully.\n",
      "         Current function value: 1.286553\n",
      "         Iterations: 8\n",
      "         Function evaluations: 9\n",
      "         Gradient evaluations: 9\n",
      "Optimization terminated successfully.\n",
      "         Current function value: 1.286507\n",
      "         Iterations: 8\n",
      "         Function evaluations: 9\n",
      "         Gradient evaluations: 9\n",
      "Optimization terminated successfully.\n",
      "         Current function value: 1.286473\n",
      "         Iterations: 8\n",
      "         Function evaluations: 9\n",
      "         Gradient evaluations: 9\n",
      "Optimization terminated successfully.\n",
      "         Current function value: 1.286447\n",
      "         Iterations: 8\n",
      "         Function evaluations: 9\n",
      "         Gradient evaluations: 9\n",
      "Optimization terminated successfully.\n",
      "         Current function value: 1.286428\n",
      "         Iterations: 8\n",
      "         Function evaluations: 9\n",
      "         Gradient evaluations: 9\n",
      "Optimization terminated successfully.\n",
      "         Current function value: 1.286413\n",
      "         Iterations: 8\n",
      "         Function evaluations: 9\n",
      "         Gradient evaluations: 9\n",
      "Optimization terminated successfully.\n",
      "         Current function value: 1.286402\n",
      "         Iterations: 8\n",
      "         Function evaluations: 9\n",
      "         Gradient evaluations: 9\n",
      "Optimization terminated successfully.\n",
      "         Current function value: 1.286394\n",
      "         Iterations: 8\n",
      "         Function evaluations: 9\n",
      "         Gradient evaluations: 9\n",
      "Optimization terminated successfully.\n",
      "         Current function value: 1.286388\n",
      "         Iterations: 7\n",
      "         Function evaluations: 8\n",
      "         Gradient evaluations: 8\n",
      "Optimization terminated successfully.\n",
      "         Current function value: 1.286383\n",
      "         Iterations: 8\n",
      "         Function evaluations: 9\n",
      "         Gradient evaluations: 9\n",
      "Optimization terminated successfully.\n",
      "         Current function value: 1.286379\n",
      "         Iterations: 7\n",
      "         Function evaluations: 8\n",
      "         Gradient evaluations: 8\n",
      "Optimization terminated successfully.\n",
      "         Current function value: 1.286377\n",
      "         Iterations: 8\n",
      "         Function evaluations: 9\n",
      "         Gradient evaluations: 9\n"
     ]
    }
   ],
   "source": [
    "optimiser.fit(loss_function=loss_function, theta0=theta0, alpha0=alpha0, stop_threshold=1e-5)"
   ]
  },
  {
   "cell_type": "code",
   "execution_count": 22,
   "metadata": {},
   "outputs": [
    {
     "data": {
      "image/png": "[encoded data removed]",
      "text/plain": [
       "<matplotlib.figure.Figure at 0x7f52e6b0b2e8>"
      ]
     },
     "execution_count": 22,
     "metadata": {},
     "output_type": "execute_result"
    },
    {
     "data": {
      "image/png": "[encoded data removed]",
      "text/plain": [
       "<matplotlib.figure.Figure at 0x7f52e6b0b2e8>"
      ]
     },
     "metadata": {},
     "output_type": "display_data"
    }
   ],
   "source": [
    "optimiser.plot_loss_curve()"
   ]
  },
  {
   "cell_type": "code",
   "execution_count": 23,
   "metadata": {},
   "outputs": [],
   "source": [
    "_ = nce_optimiser.fit(X, theta0=theta0, opt_method='L-BFGS-B')"
   ]
  },
  {
   "cell_type": "code",
   "execution_count": 24,
   "metadata": {
    "scrolled": false
   },
   "outputs": [
    {
     "name": "stdout",
     "output_type": "stream",
     "text": [
      "vnce parameter estimates are: \n",
      "scaling parameter 1: 2.9838820278436877 \n",
      "scaling parameter 2: 1.6316061105811306 \n",
      "standard deviation: 1.3755101860420214\n"
     ]
    }
   ],
   "source": [
    "print('vnce parameter estimates are: \\n'\n",
    "      'scaling parameter 1: {} \\n'\n",
    "      'scaling parameter 2: {} \\n'\n",
    "      'standard deviation: {}'.format(optimiser.thetas[-1][-1][0], \n",
    "                                      optimiser.thetas[-1][-1][1],\n",
    "                                      optimiser.thetas[-1][-1][2]))"
   ]
  },
  {
   "cell_type": "code",
   "execution_count": 25,
   "metadata": {},
   "outputs": [
    {
     "name": "stdout",
     "output_type": "stream",
     "text": [
      "nce parameter estimates are: \n",
      "scaling parameter 1: 2.995036330243762 \n",
      "scaling parameter 2: 1.6207011077211884 \n",
      "standard deviation: 1.3788768973751884\n"
     ]
    }
   ],
   "source": [
    "print('nce parameter estimates are: \\n'\n",
    "      'scaling parameter 1: {} \\n'\n",
    "      'scaling parameter 2: {} \\n'\n",
    "      'standard deviation: {}'.format(nce_model.theta[0], \n",
    "                                      nce_model.theta[1], \n",
    "                                      nce_model.theta[2]))"
   ]
  },
  {
   "cell_type": "code",
   "execution_count": 26,
   "metadata": {},
   "outputs": [
    {
     "name": "stdout",
     "output_type": "stream",
     "text": [
      "True parameters are: \n",
      "scaling parameter 1: 2.9983800748845084 \n",
      "scaling parameter 2: 1.612085713764618 \n",
      "standard deviation: 1.3862943611198906\n"
     ]
    }
   ],
   "source": [
    "print('True parameters are: \\n'\n",
    "      'scaling parameter 1: {} \\n'\n",
    "      'scaling parameter 2: {} \\n'\n",
    "      'standard deviation: {}'.format(true_theta[0], true_theta[1], true_theta[2]))"
   ]
  },
  {
   "cell_type": "code",
   "execution_count": null,
   "metadata": {},
   "outputs": [],
   "source": []
  },
  {
   "cell_type": "code",
   "execution_count": null,
   "metadata": {},
   "outputs": [],
   "source": []
  }
 ],
 "metadata": {
  "kernelspec": {
   "display_name": "Python 3",
   "language": "python",
   "name": "python3"
  },
  "language_info": {
   "codemirror_mode": {
    "name": "ipython",
    "version": 3
   },
   "file_extension": ".py",
   "mimetype": "text/x-python",
   "name": "python",
   "nbconvert_exporter": "python",
   "pygments_lexer": "ipython3",
   "version": "3.6.4"
  },
  "toc": {
   "nav_menu": {},
   "number_sections": true,
   "sideBar": true,
   "skip_h1_title": false,
   "title_cell": "Table of Contents",
   "title_sidebar": "Contents",
   "toc_cell": true,
   "toc_position": {},
   "toc_section_display": true,
   "toc_window_display": false
  }
 },
 "nbformat": 4,
 "nbformat_minor": 1
}
