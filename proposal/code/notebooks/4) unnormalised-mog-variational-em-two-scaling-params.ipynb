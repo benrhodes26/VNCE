{
 "cells": [
  {
   "cell_type": "code",
   "execution_count": 1,
   "metadata": {},
   "outputs": [],
   "source": [
    "import os\n",
    "import sys\n",
    "nb_dir = os.path.split(os.getcwd())[0]\n",
    "if nb_dir not in sys.path:\n",
    "    sys.path.append(nb_dir)"
   ]
  },
  {
   "cell_type": "code",
   "execution_count": 2,
   "metadata": {},
   "outputs": [],
   "source": [
    "import numpy as np\n",
    "import pdb\n",
    "\n",
    "# my code\n",
    "from distribution import PolynomialSigmoidBernoulli, GaussianNoise\n",
    "from gaussian_mixture_analytic_expectations import *\n",
    "from fully_observed_models import MixtureOfTwoGaussians, SumOfTwoUnnormalisedGaussians2\n",
    "from latent_variable_model import LatentMixtureOfTwoUnnormalisedGaussians2\n",
    "from nce_optimiser import NCEOptimiser\n",
    "from mle_optimiser import MLEOptimiser\n",
    "from utils import evaluate_loss_at_param\n",
    "from vnce_optimiser import VemOptimiser, ScipyMinimiseEmStep, ExactEStep, VnceLossWithAnalyticExpectations\n",
    "\n",
    "from matplotlib import pyplot as plt\n",
    "from matplotlib import rc\n",
    "from numpy import random as rnd\n",
    "\n",
    "%matplotlib inline\n",
    "rc('lines', linewidth=3)\n",
    "rc('font', size=18)\n",
    "rc('legend', fontsize=18)"
   ]
  },
  {
   "cell_type": "code",
   "execution_count": 3,
   "metadata": {},
   "outputs": [],
   "source": [
    "# For reproducibility\n",
    "rng = rnd.RandomState(1083463236)\n",
    "save_dir = '/afs/inf.ed.ac.uk/user/s17/s1771906/masters-project/ben-rhodes-masters-project/proposal/experiments/mog/unnormalised_variationalem'\n",
    "os.makedirs(save_dir, exist_ok=True)"
   ]
  },
  {
   "cell_type": "code",
   "execution_count": 4,
   "metadata": {},
   "outputs": [],
   "source": [
    "# mixing proportions: 0.5 and 0.5\n",
    "# mean0 = mean1 = 0\n",
    "sigma1 = 1\n",
    "sigma0 = 4  # (parameter of interest)\n",
    "\n",
    "n = 10000 # number of data points\n",
    "nz = 1  # number of latent samples per datapoint\n",
    "nu = 1 # nu is the ratio of noise to data samples in NCE\n",
    "c0 = np.log(2) + 0.5*np.log(2*np.pi) + np.log(sigma0)   # true value of 1st scaling parameter\n",
    "c1 = np.log(2) + 0.5*np.log(2*np.pi) + np.log(sigma1)   # true value of 2nd scaling parameter\n",
    "\n",
    "true_theta = np.array([c0, c1, np.log(sigma0)])\n",
    "true_alpha = np.array([c1 - c0, 0, (1 / (2*sigma1**2)) - (1 / (2*sigma0**2))])\n",
    "\n",
    "theta0 = np.array([0, 0.1, 1])  # initial theta\n",
    "# theta0 = true_theta\n",
    "alpha0 = np.array([0, -0.1, 0.1]) # initial alpha"
   ]
  },
  {
   "cell_type": "code",
   "execution_count": 5,
   "metadata": {},
   "outputs": [],
   "source": [
    "# true dist is 0.5*N(u; 0, sigma0) + 0.5*N(u; 0, sigma1)\n",
    "true_data_dist = MixtureOfTwoGaussians(theta=np.log(sigma0), sigma1=sigma1, rng=rng)\n",
    "X = true_data_dist.sample(n) # generate data"
   ]
  },
  {
   "cell_type": "code",
   "execution_count": 6,
   "metadata": {},
   "outputs": [],
   "source": [
    "noise = GaussianNoise(mean=0, cov=sigma0**2)\n",
    "Y = noise.sample(int(n*nu))"
   ]
  },
  {
   "cell_type": "code",
   "execution_count": 7,
   "metadata": {},
   "outputs": [],
   "source": [
    "model = LatentMixtureOfTwoUnnormalisedGaussians2(theta0, sigma1=sigma1)\n",
    "nce_model = SumOfTwoUnnormalisedGaussians2(theta0, sigma1=sigma1)  # for comparison\n",
    "# mle_model = SumOfTwoNormalisedGaussians(np.array([0]), sigma1 = sigma1)  # for comparison"
   ]
  },
  {
   "cell_type": "code",
   "execution_count": 8,
   "metadata": {},
   "outputs": [],
   "source": [
    "var_dist = PolynomialSigmoidBernoulli(alpha=alpha0)"
   ]
  },
  {
   "cell_type": "code",
   "execution_count": 9,
   "metadata": {},
   "outputs": [],
   "source": [
    "# E(r(x, z))\n",
    "E1 = E_r\n",
    "# E(log(psi_1(x, z)))\n",
    "E2 = E_log_psi_1\n",
    "# E((psi_1(x, z) - 1) / psi_1(x, z))\n",
    "E3 = E_psi_1_ratio_times_grad_log_theta\n",
    "# E(grad_theta(log(phi(u,z)) r(u, z))\n",
    "E4 = E_r_times_grad_log_theta\n",
    "# gradient_alpha(E(log(psi_1(x, z)))\n",
    "E5 = grad_wrt_alpha_of_E_log_psi_1"
   ]
  },
  {
   "cell_type": "code",
   "execution_count": 10,
   "metadata": {},
   "outputs": [],
   "source": [
    "nce_optimiser = NCEOptimiser(model=nce_model, noise=noise, noise_samples=Y, nu=nu, eps=10**-20)\n",
    "# mle_optimiser = MLEOptimiser(model=mle_model)"
   ]
  },
  {
   "cell_type": "code",
   "execution_count": 11,
   "metadata": {},
   "outputs": [],
   "source": [
    "loss_function = VnceLossWithAnalyticExpectations(model=model, \n",
    "                                                 noise=noise,\n",
    "                                                 variational_q=var_dist,\n",
    "                                                 E1=E1, \n",
    "                                                 E2=E2, \n",
    "                                                 E3=E3, \n",
    "                                                 E4=E4, \n",
    "                                                 E5=E5,\n",
    "                                                 noise_to_data_ratio=nu)\n",
    "m_step = ScipyMinimiseEmStep(do_m_step=True, optimisation_method='BFGS')  # Nelder-Mead\n",
    "e_step = ScipyMinimiseEmStep(do_m_step=False, optimisation_method='BFGS')\n",
    "optimiser = VemOptimiser(loss_function=loss_function, m_step=m_step, e_step=e_step)"
   ]
  },
  {
   "cell_type": "code",
   "execution_count": 12,
   "metadata": {
    "scrolled": false
   },
   "outputs": [
    {
     "name": "stdout",
     "output_type": "stream",
     "text": [
      "Warning: Desired error not necessarily achieved due to precision loss.\n",
      "         Current function value: 1.422530\n",
      "         Iterations: 12\n",
      "         Function evaluations: 89\n",
      "         Gradient evaluations: 77\n",
      "Optimization terminated successfully.\n",
      "         Current function value: 1.293450\n",
      "         Iterations: 14\n",
      "         Function evaluations: 16\n",
      "         Gradient evaluations: 16\n",
      "Optimization terminated successfully.\n",
      "         Current function value: 1.291317\n",
      "         Iterations: 8\n",
      "         Function evaluations: 9\n",
      "         Gradient evaluations: 9\n",
      "Optimization terminated successfully.\n",
      "         Current function value: 1.290901\n",
      "         Iterations: 11\n",
      "         Function evaluations: 12\n",
      "         Gradient evaluations: 12\n",
      "Optimization terminated successfully.\n",
      "         Current function value: 1.290568\n",
      "         Iterations: 8\n",
      "         Function evaluations: 9\n",
      "         Gradient evaluations: 9\n",
      "Optimization terminated successfully.\n",
      "         Current function value: 1.290301\n",
      "         Iterations: 11\n",
      "         Function evaluations: 12\n",
      "         Gradient evaluations: 12\n",
      "Optimization terminated successfully.\n",
      "         Current function value: 1.290088\n",
      "         Iterations: 6\n",
      "         Function evaluations: 10\n",
      "         Gradient evaluations: 10\n",
      "Optimization terminated successfully.\n",
      "         Current function value: 1.289920\n",
      "         Iterations: 11\n",
      "         Function evaluations: 12\n",
      "         Gradient evaluations: 12\n",
      "Optimization terminated successfully.\n",
      "         Current function value: 1.289788\n",
      "         Iterations: 8\n",
      "         Function evaluations: 9\n",
      "         Gradient evaluations: 9\n",
      "Optimization terminated successfully.\n",
      "         Current function value: 1.289685\n",
      "         Iterations: 11\n",
      "         Function evaluations: 12\n",
      "         Gradient evaluations: 12\n",
      "Optimization terminated successfully.\n",
      "         Current function value: 1.289605\n",
      "         Iterations: 8\n",
      "         Function evaluations: 9\n",
      "         Gradient evaluations: 9\n",
      "Optimization terminated successfully.\n",
      "         Current function value: 1.289543\n",
      "         Iterations: 11\n",
      "         Function evaluations: 12\n",
      "         Gradient evaluations: 12\n",
      "Optimization terminated successfully.\n",
      "         Current function value: 1.289495\n",
      "         Iterations: 8\n",
      "         Function evaluations: 9\n",
      "         Gradient evaluations: 9\n",
      "Optimization terminated successfully.\n",
      "         Current function value: 1.289459\n",
      "         Iterations: 10\n",
      "         Function evaluations: 11\n",
      "         Gradient evaluations: 11\n",
      "Optimization terminated successfully.\n",
      "         Current function value: 1.289431\n",
      "         Iterations: 8\n",
      "         Function evaluations: 9\n",
      "         Gradient evaluations: 9\n",
      "Optimization terminated successfully.\n",
      "         Current function value: 1.289409\n",
      "         Iterations: 10\n",
      "         Function evaluations: 11\n",
      "         Gradient evaluations: 11\n",
      "Optimization terminated successfully.\n",
      "         Current function value: 1.289393\n",
      "         Iterations: 8\n",
      "         Function evaluations: 9\n",
      "         Gradient evaluations: 9\n",
      "Optimization terminated successfully.\n",
      "         Current function value: 1.289381\n",
      "         Iterations: 10\n",
      "         Function evaluations: 11\n",
      "         Gradient evaluations: 11\n",
      "Optimization terminated successfully.\n",
      "         Current function value: 1.289372\n",
      "         Iterations: 7\n",
      "         Function evaluations: 8\n",
      "         Gradient evaluations: 8\n",
      "Optimization terminated successfully.\n",
      "         Current function value: 1.289365\n",
      "         Iterations: 8\n",
      "         Function evaluations: 9\n",
      "         Gradient evaluations: 9\n",
      "Optimization terminated successfully.\n",
      "         Current function value: 1.289359\n",
      "         Iterations: 7\n",
      "         Function evaluations: 8\n",
      "         Gradient evaluations: 8\n",
      "Optimization terminated successfully.\n",
      "         Current function value: 1.289355\n",
      "         Iterations: 8\n",
      "         Function evaluations: 9\n",
      "         Gradient evaluations: 9\n"
     ]
    }
   ],
   "source": [
    "optimiser.fit(X, Y, theta0=theta0, alpha0=alpha0, stop_threshold=1e-5)"
   ]
  },
  {
   "cell_type": "code",
   "execution_count": 13,
   "metadata": {},
   "outputs": [
    {
     "data": {
      "image/png": "[encoded data removed]",
      "text/plain": [
       "<matplotlib.figure.Figure at 0x7f0fb46545f8>"
      ]
     },
     "execution_count": 13,
     "metadata": {},
     "output_type": "execute_result"
    },
    {
     "data": {
      "image/png": "[encoded data removed]",
      "text/plain": [
       "<matplotlib.figure.Figure at 0x7f0fb46545f8>"
      ]
     },
     "metadata": {},
     "output_type": "display_data"
    }
   ],
   "source": [
    "optimiser.plot_loss_curve()"
   ]
  },
  {
   "cell_type": "code",
   "execution_count": 14,
   "metadata": {},
   "outputs": [
    {
     "data": {
      "text/plain": [
       "(array([[0.17775223, 0.13568765, 0.72326086],\n",
       "        [0.34002945, 0.1896845 , 0.70009551],\n",
       "        [1.68720567, 0.66747741, 0.78001442],\n",
       "        [2.89003006, 1.17579498, 1.0115306 ],\n",
       "        [3.04084366, 1.3230761 , 1.15395267],\n",
       "        [2.99521387, 1.43065269, 1.31057074],\n",
       "        [3.03078538, 1.50534118, 1.37432482],\n",
       "        [3.04716022, 1.54735062, 1.39843101],\n",
       "        [3.03977655, 1.56728741, 1.40069569],\n",
       "        [3.00817587, 1.61251256, 1.39268159],\n",
       "        [2.97400721, 1.64221386, 1.37328942],\n",
       "        [2.96266583, 1.6424979 , 1.36926739],\n",
       "        [2.96461606, 1.64223674, 1.36877103],\n",
       "        [2.96476686, 1.64164541, 1.36944929],\n",
       "        [2.9647067 , 1.64162175, 1.36941823]]),\n",
       " array([-2.01078364, -1.94980511, -1.57985705, -1.3893102 , -1.33013141,\n",
       "        -1.29421899, -1.29034686, -1.28984464, -1.28971629, -1.28947707,\n",
       "        -1.28935141, -1.28934601, -1.28934592, -1.2893457 , -1.2893457 ]),\n",
       " array([0.        , 0.01384377, 0.02728319, 0.03970242, 0.05250144,\n",
       "        0.06751156, 0.08176994, 0.09582877, 0.10962272, 0.12333083,\n",
       "        0.13703346, 0.15051556, 0.16445279, 0.17793059, 0.19157863]))"
      ]
     },
     "execution_count": 14,
     "metadata": {},
     "output_type": "execute_result"
    }
   ],
   "source": [
    "nce_optimiser.fit(X, theta0=theta0, opt_method='L-BFGS-B')"
   ]
  },
  {
   "cell_type": "code",
   "execution_count": 15,
   "metadata": {
    "scrolled": false
   },
   "outputs": [
    {
     "name": "stdout",
     "output_type": "stream",
     "text": [
      "vnce parameter estimates are: \n",
      "scaling parameter 1: 2.95048183568437 \n",
      "scaling parameter 2: 1.656016618575523 \n",
      "standard deviation: 1.365128803685785\n"
     ]
    }
   ],
   "source": [
    "print('vnce parameter estimates are: \\n'\n",
    "      'scaling parameter 1: {} \\n'\n",
    "      'scaling parameter 2: {} \\n'\n",
    "      'standard deviation: {}'.format(optimiser.thetas[-1][-1][0], \n",
    "                                      optimiser.thetas[-1][-1][1],\n",
    "                                      optimiser.thetas[-1][-1][2]))"
   ]
  },
  {
   "cell_type": "code",
   "execution_count": 16,
   "metadata": {},
   "outputs": [
    {
     "name": "stdout",
     "output_type": "stream",
     "text": [
      "nce parameter estimates are: \n",
      "scaling parameter 1: 2.964706702182818 \n",
      "scaling parameter 2: 1.6416217534528552 \n",
      "standard deviation: 1.3694182294646604\n"
     ]
    }
   ],
   "source": [
    "print('nce parameter estimates are: \\n'\n",
    "      'scaling parameter 1: {} \\n'\n",
    "      'scaling parameter 2: {} \\n'\n",
    "      'standard deviation: {}'.format(nce_model.theta[0], \n",
    "                                      nce_model.theta[1], \n",
    "                                      nce_model.theta[2]))"
   ]
  },
  {
   "cell_type": "code",
   "execution_count": 17,
   "metadata": {},
   "outputs": [
    {
     "name": "stdout",
     "output_type": "stream",
     "text": [
      "True parameters are: \n",
      "scaling parameter 1: 2.9983800748845084 \n",
      "scaling parameter 2: 1.612085713764618 \n",
      "standard deviation: 1.3862943611198906\n"
     ]
    }
   ],
   "source": [
    "print('True parameters are: \\n'\n",
    "      'scaling parameter 1: {} \\n'\n",
    "      'scaling parameter 2: {} \\n'\n",
    "      'standard deviation: {}'.format(true_theta[0], true_theta[1], true_theta[2]))"
   ]
  },
  {
   "cell_type": "code",
   "execution_count": null,
   "metadata": {},
   "outputs": [],
   "source": []
  },
  {
   "cell_type": "code",
   "execution_count": null,
   "metadata": {},
   "outputs": [],
   "source": []
  },
  {
   "cell_type": "code",
   "execution_count": null,
   "metadata": {},
   "outputs": [],
   "source": []
  }
 ],
 "metadata": {
  "kernelspec": {
   "display_name": "Python 3",
   "language": "python",
   "name": "python3"
  },
  "language_info": {
   "codemirror_mode": {
    "name": "ipython",
    "version": 3
   },
   "file_extension": ".py",
   "mimetype": "text/x-python",
   "name": "python",
   "nbconvert_exporter": "python",
   "pygments_lexer": "ipython3",
   "version": "3.6.4"
  },
  "toc": {
   "nav_menu": {},
   "number_sections": true,
   "sideBar": true,
   "skip_h1_title": false,
   "title_cell": "Table of Contents",
   "title_sidebar": "Contents",
   "toc_cell": true,
   "toc_position": {},
   "toc_section_display": true,
   "toc_window_display": false
  }
 },
 "nbformat": 4,
 "nbformat_minor": 1
}
