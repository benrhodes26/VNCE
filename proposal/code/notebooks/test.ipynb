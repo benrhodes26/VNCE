{
 "cells": [
  {
   "cell_type": "code",
   "execution_count": 1,
   "metadata": {
    "collapsed": true
   },
   "outputs": [],
   "source": [
    "import numpy as np"
   ]
  },
  {
   "cell_type": "code",
   "execution_count": 76,
   "metadata": {},
   "outputs": [
    {
     "data": {
      "text/plain": [
       "array([[[0, 1, 2],\n",
       "        [3, 4, 5]],\n",
       "\n",
       "       [[0, 1, 2],\n",
       "        [3, 4, 5]],\n",
       "\n",
       "       [[0, 1, 2],\n",
       "        [3, 4, 5]],\n",
       "\n",
       "       [[0, 1, 2],\n",
       "        [3, 4, 5]],\n",
       "\n",
       "       [[0, 1, 2],\n",
       "        [3, 4, 5]]])"
      ]
     },
     "execution_count": 76,
     "metadata": {},
     "output_type": "execute_result"
    }
   ],
   "source": [
    "Z = np.tile(np.arange(6).reshape(2,3), (5, 1)).reshape(5,2,3)\n",
    "Z"
   ]
  },
  {
   "cell_type": "code",
   "execution_count": 77,
   "metadata": {
    "collapsed": true
   },
   "outputs": [],
   "source": [
    "U = np.arange(8).reshape(2, 4)\n",
    "W = np.arange(12).reshape(4, 3)"
   ]
  },
  {
   "cell_type": "code",
   "execution_count": 78,
   "metadata": {},
   "outputs": [
    {
     "data": {
      "text/plain": [
       "(array([[[0, 1, 2],\n",
       "         [3, 4, 5]],\n",
       " \n",
       "        [[0, 1, 2],\n",
       "         [3, 4, 5]],\n",
       " \n",
       "        [[0, 1, 2],\n",
       "         [3, 4, 5]],\n",
       " \n",
       "        [[0, 1, 2],\n",
       "         [3, 4, 5]],\n",
       " \n",
       "        [[0, 1, 2],\n",
       "         [3, 4, 5]]]), array([[0, 1, 2, 3],\n",
       "        [4, 5, 6, 7]]), array([[ 0,  1,  2],\n",
       "        [ 3,  4,  5],\n",
       "        [ 6,  7,  8],\n",
       "        [ 9, 10, 11]]))"
      ]
     },
     "execution_count": 78,
     "metadata": {},
     "output_type": "execute_result"
    }
   ],
   "source": [
    "Z, U, W"
   ]
  },
  {
   "cell_type": "code",
   "execution_count": 79,
   "metadata": {},
   "outputs": [
    {
     "data": {
      "text/plain": [
       "((2, 3), (5, 2, 3))"
      ]
     },
     "execution_count": 79,
     "metadata": {},
     "output_type": "execute_result"
    }
   ],
   "source": [
    "uW = np.dot(U, W)\n",
    "uW.shape, Z.shape"
   ]
  },
  {
   "cell_type": "code",
   "execution_count": 80,
   "metadata": {},
   "outputs": [
    {
     "data": {
      "text/plain": [
       "array([[ 156, 1676],\n",
       "       [ 156, 1676],\n",
       "       [ 156, 1676],\n",
       "       [ 156, 1676],\n",
       "       [ 156, 1676]])"
      ]
     },
     "execution_count": 80,
     "metadata": {},
     "output_type": "execute_result"
    }
   ],
   "source": [
    "uWz = np.sum(Z * uW, axis=-1)\n",
    "uWz"
   ]
  },
  {
   "cell_type": "code",
   "execution_count": 92,
   "metadata": {},
   "outputs": [
    {
     "data": {
      "text/plain": [
       "array([[[0, 1, 2],\n",
       "        [3, 4, 5]],\n",
       "\n",
       "       [[0, 1, 2],\n",
       "        [3, 4, 5]],\n",
       "\n",
       "       [[0, 1, 2],\n",
       "        [3, 4, 5]],\n",
       "\n",
       "       [[0, 1, 2],\n",
       "        [3, 4, 5]],\n",
       "\n",
       "       [[0, 1, 2],\n",
       "        [3, 4, 5]]])"
      ]
     },
     "execution_count": 92,
     "metadata": {},
     "output_type": "execute_result"
    }
   ],
   "source": [
    "Z"
   ]
  },
  {
   "cell_type": "code",
   "execution_count": 90,
   "metadata": {},
   "outputs": [
    {
     "data": {
      "text/plain": [
       "array([[[0, 0, 1, 1, 2, 2],\n",
       "        [3, 3, 4, 4, 5, 5]],\n",
       "\n",
       "       [[0, 0, 1, 1, 2, 2],\n",
       "        [3, 3, 4, 4, 5, 5]],\n",
       "\n",
       "       [[0, 0, 1, 1, 2, 2],\n",
       "        [3, 3, 4, 4, 5, 5]],\n",
       "\n",
       "       [[0, 0, 1, 1, 2, 2],\n",
       "        [3, 3, 4, 4, 5, 5]],\n",
       "\n",
       "       [[0, 0, 1, 1, 2, 2],\n",
       "        [3, 3, 4, 4, 5, 5]]])"
      ]
     },
     "execution_count": 90,
     "metadata": {},
     "output_type": "execute_result"
    }
   ],
   "source": [
    "np.repeat(Z, 2, axis=-1)"
   ]
  },
  {
   "cell_type": "code",
   "execution_count": 91,
   "metadata": {},
   "outputs": [
    {
     "data": {
      "text/plain": [
       "array([[0, 1, 2, 3, 0, 1, 2, 3, 0, 1, 2, 3],\n",
       "       [4, 5, 6, 7, 4, 5, 6, 7, 4, 5, 6, 7]])"
      ]
     },
     "execution_count": 91,
     "metadata": {},
     "output_type": "execute_result"
    }
   ],
   "source": [
    "np.tile(U, 3)"
   ]
  },
  {
   "cell_type": "code",
   "execution_count": 99,
   "metadata": {},
   "outputs": [
    {
     "data": {
      "text/plain": [
       "array([[ 1.,  0.,  1.,  2.,  3.],\n",
       "       [ 1.,  4.,  5.,  6.,  7.]])"
      ]
     },
     "execution_count": 99,
     "metadata": {},
     "output_type": "execute_result"
    }
   ],
   "source": [
    "np.concatenate((np.ones(len(U)).reshape(-1, 1), U), axis=-1)"
   ]
  },
  {
   "cell_type": "code",
   "execution_count": 102,
   "metadata": {},
   "outputs": [
    {
     "data": {
      "text/plain": [
       "array([[[0, 1, 2],\n",
       "        [3, 4, 5]],\n",
       "\n",
       "       [[0, 1, 2],\n",
       "        [3, 4, 5]],\n",
       "\n",
       "       [[0, 1, 2],\n",
       "        [3, 4, 5]],\n",
       "\n",
       "       [[0, 1, 2],\n",
       "        [3, 4, 5]],\n",
       "\n",
       "       [[0, 1, 2],\n",
       "        [3, 4, 5]]])"
      ]
     },
     "execution_count": 102,
     "metadata": {},
     "output_type": "execute_result"
    }
   ],
   "source": [
    "Z"
   ]
  },
  {
   "cell_type": "code",
   "execution_count": 103,
   "metadata": {},
   "outputs": [
    {
     "data": {
      "text/plain": [
       "(5, 2, 3)"
      ]
     },
     "execution_count": 103,
     "metadata": {},
     "output_type": "execute_result"
    }
   ],
   "source": [
    "Z.shape"
   ]
  },
  {
   "cell_type": "code",
   "execution_count": 111,
   "metadata": {},
   "outputs": [],
   "source": [
    "Z_bias = np.ones((5, 2, 1))"
   ]
  },
  {
   "cell_type": "code",
   "execution_count": 110,
   "metadata": {},
   "outputs": [
    {
     "data": {
      "text/plain": [
       "array([[[ 1.,  0.,  1.,  2.],\n",
       "        [ 1.,  3.,  4.,  5.]],\n",
       "\n",
       "       [[ 1.,  0.,  1.,  2.],\n",
       "        [ 1.,  3.,  4.,  5.]],\n",
       "\n",
       "       [[ 1.,  0.,  1.,  2.],\n",
       "        [ 1.,  3.,  4.,  5.]],\n",
       "\n",
       "       [[ 1.,  0.,  1.,  2.],\n",
       "        [ 1.,  3.,  4.,  5.]],\n",
       "\n",
       "       [[ 1.,  0.,  1.,  2.],\n",
       "        [ 1.,  3.,  4.,  5.]]])"
      ]
     },
     "execution_count": 110,
     "metadata": {},
     "output_type": "execute_result"
    }
   ],
   "source": [
    "np.concatenate((Z_bias, Z), axis=-1)"
   ]
  },
  {
   "cell_type": "code",
   "execution_count": 124,
   "metadata": {},
   "outputs": [
    {
     "data": {
      "text/plain": [
       "array([[ 2.,  2.,  2.],\n",
       "       [ 2.,  2.,  2.]])"
      ]
     },
     "execution_count": 124,
     "metadata": {},
     "output_type": "execute_result"
    }
   ],
   "source": [
    "test = np.ones((2,3))*2\n",
    "test"
   ]
  },
  {
   "cell_type": "code",
   "execution_count": 125,
   "metadata": {},
   "outputs": [
    {
     "data": {
      "text/plain": [
       "array([[[ True,  True, False],\n",
       "        [False, False, False]],\n",
       "\n",
       "       [[ True,  True, False],\n",
       "        [False, False, False]],\n",
       "\n",
       "       [[ True,  True, False],\n",
       "        [False, False, False]],\n",
       "\n",
       "       [[ True,  True, False],\n",
       "        [False, False, False]],\n",
       "\n",
       "       [[ True,  True, False],\n",
       "        [False, False, False]]], dtype=bool)"
      ]
     },
     "execution_count": 125,
     "metadata": {},
     "output_type": "execute_result"
    }
   ],
   "source": [
    "Z < test"
   ]
  },
  {
   "cell_type": "code",
   "execution_count": 128,
   "metadata": {},
   "outputs": [
    {
     "data": {
      "text/plain": [
       "array([[[ 0.75330982,  0.10845862,  0.48558022],\n",
       "        [ 0.4013961 ,  0.10153155,  0.15025024]],\n",
       "\n",
       "       [[ 0.43944551,  0.76232988,  0.57580176],\n",
       "        [ 0.54444039,  0.53422049,  0.77605357]],\n",
       "\n",
       "       [[ 0.56186366,  0.61465676,  0.09793397],\n",
       "        [ 0.05545488,  0.88056486,  0.12806866]],\n",
       "\n",
       "       [[ 0.69185354,  0.01193194,  0.42784261],\n",
       "        [ 0.56488991,  0.33717078,  0.60638553]],\n",
       "\n",
       "       [[ 0.94371981,  0.04217471,  0.80079752],\n",
       "        [ 0.30434427,  0.97056413,  0.67302989]]])"
      ]
     },
     "execution_count": 128,
     "metadata": {},
     "output_type": "execute_result"
    }
   ],
   "source": [
    "np.random.uniform(0,1, (5, 2, 3))"
   ]
  },
  {
   "cell_type": "code",
   "execution_count": 129,
   "metadata": {},
   "outputs": [
    {
     "data": {
      "text/plain": [
       "array([False,  True, False, False,  True], dtype=bool)"
      ]
     },
     "execution_count": 129,
     "metadata": {},
     "output_type": "execute_result"
    }
   ],
   "source": [
    "np.random.uniform(0, 1, 5) < 0.5"
   ]
  },
  {
   "cell_type": "code",
   "execution_count": 136,
   "metadata": {},
   "outputs": [
    {
     "data": {
      "text/plain": [
       "(4, 1, 2)"
      ]
     },
     "execution_count": 136,
     "metadata": {},
     "output_type": "execute_result"
    }
   ],
   "source": [
    "i, j, k = np.array(Z.shape) -1 \n",
    "i, j, k"
   ]
  },
  {
   "cell_type": "code",
   "execution_count": null,
   "metadata": {
    "collapsed": true
   },
   "outputs": [],
   "source": []
  }
 ],
 "metadata": {
  "kernelspec": {
   "display_name": "Python 3",
   "language": "python",
   "name": "python3"
  },
  "language_info": {
   "codemirror_mode": {
    "name": "ipython",
    "version": 3
   },
   "file_extension": ".py",
   "mimetype": "text/x-python",
   "name": "python",
   "nbconvert_exporter": "python",
   "pygments_lexer": "ipython3",
   "version": "3.6.3"
  }
 },
 "nbformat": 4,
 "nbformat_minor": 2
}
